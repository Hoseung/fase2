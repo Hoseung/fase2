{
 "cells": [
  {
   "cell_type": "markdown",
   "id": "54ea9310",
   "metadata": {},
   "source": [
    "# 1. (SKlearn으로) RF 트레이닝"
   ]
  },
  {
   "cell_type": "code",
   "execution_count": 2,
   "id": "8108bb8d",
   "metadata": {},
   "outputs": [],
   "source": [
    "import numpy as np\n",
    "import pandas as pd\n",
    "import random\n",
    "import pickle\n",
    "from time import time\n",
    "from multiprocessing import Pool\n",
    "import matplotlib.pyplot as plt \n",
    "\n",
    "import sklearn\n",
    "from sklearn.preprocessing import LabelEncoder, StandardScaler\n",
    "from sklearn.ensemble import RandomForestClassifier\n",
    "\n",
    "\n",
    "import HEAAN as he"
   ]
  },
  {
   "cell_type": "markdown",
   "id": "cef97a45",
   "metadata": {},
   "source": [
    "Custom tree의 training 고민할 필요 없이, wine도 SKLearn으로 train하고 가져오는걸로. \n",
    "1. load_from_sklearn_tree 작성."
   ]
  },
  {
   "cell_type": "code",
   "execution_count": 3,
   "id": "ac369768",
   "metadata": {},
   "outputs": [],
   "source": [
    "sc = StandardScaler()"
   ]
  },
  {
   "cell_type": "code",
   "execution_count": 2,
   "id": "31015f48",
   "metadata": {},
   "outputs": [],
   "source": [
    "problem = [\"iris\", \"wine\", \"tumor\"][2]\n",
    "\n",
    "if problem == \"wine\":\n",
    "    df = pd.read_csv(\"./RF/winequality-red.csv\")\n",
    "    df[\"label\"] = df.quality\n",
    "    df = df.drop(\"quality\", axis=1)\n",
    "    label_map = {'good':0, 'bad':1}\n",
    "    cleanup_names(df)\n",
    "    wine_quality = df.label.value_counts(normalize=True)\n",
    "    wine_quality = wine_quality.sort_index()\n",
    "\n",
    "    def transform_label(value):\n",
    "        if value <= 5:\n",
    "            return \"bad\"\n",
    "        else:\n",
    "            return \"good\"\n",
    "\n",
    "    df[\"label\"] = df.label.apply(transform_label)\n",
    "    # Standardize\n",
    "    df.iloc[:,0:-1] = df.iloc[:,0:-1].apply(lambda x: 1. * (x-x.mean())/ x.std(), axis=0)\n",
    "\n",
    "if problem == \"tumor\":\n",
    "    data_dir = \"/home/hoseung/Dropbox/DeepInsight/1. Random Forest Tumor Classification/data/\"\n",
    "    tumor_preprocessing(data_dir)\n",
    "    X_train, X_test, Y_train, Y_test = sklearn.model_selection.train_test_split(data, data_label, test_size=0.33, stratify=data_label)\n",
    "else:\n",
    "    train_df, test_df = train_test_split(df, test_size=0.20)\n",
    "    "
   ]
  },
  {
   "cell_type": "code",
   "execution_count": null,
   "id": "6208cc5e",
   "metadata": {},
   "outputs": [],
   "source": []
  },
  {
   "cell_type": "code",
   "execution_count": 10,
   "id": "5a5acd53",
   "metadata": {},
   "outputs": [
    {
     "name": "stdout",
     "output_type": "stream",
     "text": [
      "정확도 :0.746\n"
     ]
    }
   ],
   "source": [
    "sc = StandardScaler()\n",
    "df = pd.read_csv(\"./RF/winequality-red.csv\")\n",
    "df[\"label\"] = df.quality\n",
    "df = df.drop(\"quality\", axis=1)\n",
    "label_map = {'good':0, 'bad':1}\n",
    "#cleanup_names(df)\n",
    "wine_quality = df.label.value_counts(normalize=True)\n",
    "wine_quality = wine_quality.sort_index()\n",
    "\n",
    "def transform_label(value):\n",
    "    if value <= 5:\n",
    "        return \"bad\"\n",
    "    else:\n",
    "        return \"good\"\n",
    "\n",
    "df[\"label\"] = df.label.apply(transform_label)\n",
    "\n",
    "data = df.copy()\n",
    "data_label = np.array(data['label'].tolist())\n",
    "del data['label']\n",
    "data = sc.fit_transform(data)\n",
    "\n",
    "X_train, X_test, Y_train, Y_test = sklearn.model_selection.train_test_split(data, data_label, test_size=0.33, stratify=data_label)\n",
    "\n",
    "random_forest = RandomForestClassifier(n_estimators=3, max_depth = 3)\n",
    "\n",
    "random_forest.fit(X_train, Y_train)\n",
    "\n",
    "from sklearn.metrics import accuracy_score\n",
    "pred = random_forest.predict(X_test)\n",
    "print(\"정확도 :{0:.3f}\".format(accuracy_score(Y_test, pred)))"
   ]
  },
  {
   "cell_type": "code",
   "execution_count": 7,
   "id": "e1f99c7d",
   "metadata": {},
   "outputs": [],
   "source": [
    "from RF.utils_pure import *"
   ]
  },
  {
   "cell_type": "code",
   "execution_count": 11,
   "id": "5c88bb01",
   "metadata": {},
   "outputs": [],
   "source": [
    "RF = [extract_sk_dt(dt) for dt in random_forest]\n",
    "\n",
    "dt = RF[0]"
   ]
  },
  {
   "cell_type": "code",
   "execution_count": 4,
   "id": "66e32491",
   "metadata": {},
   "outputs": [],
   "source": [
    "def fun(args):\n",
    "    \"\"\"\n",
    "    Only non-leaf nodes should be passed/.\n",
    "    각 노드에서 왼쪽으로 분기할 확률을 계산. \n",
    "    \"\"\"\n",
    "    threshold, ex_val = args\n",
    "    n_element = len(ex_val)\n",
    "    # Always generate an array of length Nslots.\n",
    "    # And make sure its zero-initialized.\n",
    "    v1 = np.zeros(nslots)\n",
    "    v2 = np.zeros(nslots)\n",
    "\n",
    "    v1[:n_element]=float(threshold)\n",
    "    v2[:n_element]=np.copy(ex_val)\n",
    "    assert v1.shape == v2.shape\n",
    "\n",
    "    return 1/(1+np.exp(-(v1 - v2)))        \n",
    "\n",
    "\n",
    "def gen_weight_forest(forest, example, ncpu=16):\n",
    "    \"\"\"\n",
    "    Calculate weights for all questions for all examples for all trees.\n",
    "    \n",
    "    \n",
    "    parameters\n",
    "    ----------\n",
    "    forest : group of trained trees\n",
    "    test_df : test dataset in dataframe\n",
    "    ncput : number of cores for multiprocessing\n",
    "    \"\"\"\n",
    "    rf_branching_probs = []\n",
    "    print(len(example))\n",
    "    for dt in forest:\n",
    "        #qlist=[]\n",
    "        good_nodes = np.where(dt['feature'] >= 0)[0]# leaf nodes have 'features' == -2\n",
    "        pool = Pool(min([len(good_nodes), ncpu]))\n",
    "        #print(dt['threshold'][inode], \"*******\")\n",
    "        branching_probs = pool.map(fun,\n",
    "                                   [(dt['threshold'][inode],\n",
    "                                     example[:,dt['feature'][inode]]) for inode in good_nodes])\n",
    "\n",
    "        rf_branching_probs.append(np.stack(branching_probs))\n",
    "    \n",
    "    return rf_branching_probs"
   ]
  },
  {
   "cell_type": "code",
   "execution_count": 19,
   "id": "9756fe23",
   "metadata": {},
   "outputs": [
    {
     "name": "stdout",
     "output_type": "stream",
     "text": [
      "4\n"
     ]
    }
   ],
   "source": [
    "i=0\n",
    "nslots = 4\n",
    "rf_branching_probs = gen_weight_forest(RF, X_test[i*nslots:(i+1)*nslots], ncpu=1)"
   ]
  },
  {
   "cell_type": "markdown",
   "id": "9734c1ac",
   "metadata": {},
   "source": [
    "Ciphertext SIMD 하면 하나에 N example씩 계산. "
   ]
  },
  {
   "cell_type": "code",
   "execution_count": 119,
   "id": "7ef67ad2",
   "metadata": {},
   "outputs": [],
   "source": [
    "def predict_tree(tree, weights):\n",
    "\n",
    "    ww = 1\n",
    "    answers =[]\n",
    "    def recurse(node, ww):\n",
    "        if tree['children_left'][node] >=0 or tree['children_right'][node] >= 0:\n",
    "            weight = weights[tree['branch']==node,:][0] # prb of this node for N example\n",
    "            #print(weight)\n",
    "            \n",
    "            w1 = ww * weight\n",
    "            w2 = ww * (1-weight)\n",
    "            \n",
    "            recurse(tree['children_left'][node], w1)\n",
    "            recurse(tree['children_right'][node], w2)\n",
    "        else:\n",
    "            # value == Number of examples that fell in each class during the training phase.\n",
    "            proba = tree['value'][node][0]\n",
    "            proba /= np.sum(proba)\n",
    "            #print(proba, proba[0])\n",
    "            #print(ww)\n",
    "            answers.append(ww)#\n",
    "            #[prb * ww for prb in proba]) # 1D * scalar인 상태 \n",
    "        \n",
    "    recurse(0, ww)\n",
    "    return answers"
   ]
  },
  {
   "cell_type": "code",
   "execution_count": 151,
   "id": "fa99b6bb",
   "metadata": {},
   "outputs": [],
   "source": [
    "i_ex_l = 0\n",
    "i_ex_r = 4\n",
    "\n",
    "n_ex = i_ex_r - i_ex_l\n",
    "n_class = 2\n",
    "\n",
    "ans_rf=np.zeros((n_ex, n_class))\n",
    "\n",
    "\n",
    "for itree, dt in enumerate(RF):\n",
    "    \n",
    "\n",
    "    prb_each_leaf = np.stack(predict_tree(dt, rf_branching_probs[itree][:,i_ex_l:i_ex_r]))\n",
    "\n",
    "    i_most_probable_leaf = np.argmax(prb_each_leaf, axis=0)\n",
    "    #print(i_most_probable_leaf)\n",
    "    \n",
    "    answer_from_leaf = dt['value'][dt['leaf'][i_most_probable_leaf]].squeeze()\n",
    "    ans_rf += answer_from_leaf"
   ]
  },
  {
   "cell_type": "code",
   "execution_count": 158,
   "id": "107a62c6",
   "metadata": {},
   "outputs": [
    {
     "data": {
      "text/plain": [
       "{'good': 0, 'bad': 1}"
      ]
     },
     "execution_count": 158,
     "metadata": {},
     "output_type": "execute_result"
    }
   ],
   "source": [
    "label_map"
   ]
  },
  {
   "cell_type": "code",
   "execution_count": 168,
   "id": "33aa143f",
   "metadata": {},
   "outputs": [
    {
     "name": "stdout",
     "output_type": "stream",
     "text": [
      "[0 1 0 1]\n"
     ]
    }
   ],
   "source": [
    "dt['classes'] = ['good', 'bad']\n",
    "\n",
    "i_class_exs = ans_rf.argmax(axis=1)\n",
    "print(i_class_exs)\n",
    "\n",
    "RF_answer = [dt['classes'][ii] for ii in i_class_exs]"
   ]
  },
  {
   "cell_type": "code",
   "execution_count": 169,
   "id": "9be360a4",
   "metadata": {},
   "outputs": [
    {
     "data": {
      "text/plain": [
       "['good', 'bad', 'good', 'bad']"
      ]
     },
     "execution_count": 169,
     "metadata": {},
     "output_type": "execute_result"
    }
   ],
   "source": [
    "RF_answer"
   ]
  },
  {
   "cell_type": "markdown",
   "id": "4ce04eb3",
   "metadata": {},
   "source": [
    "# 여기서부터 다시 시작\n",
    "이걸 이제... FHE로... 흐음..  \n",
    "일단 모든 계산을 vectorized로 하긴 했는데.  \n",
    "np.stack을 뭘로 바꿔야할지, 아님 SIMD로 자동으로 처리될지 의문   "
   ]
  },
  {
   "cell_type": "code",
   "execution_count": 1,
   "id": "82e540c2",
   "metadata": {},
   "outputs": [],
   "source": [
    "def predict_tree_fhe(tree, weights):\n",
    "\n",
    "    ww = 1\n",
    "    answers =[]\n",
    "    def recurse(node, ww):\n",
    "        if tree['children_left'][node] >=0 or tree['children_right'][node] >= 0:\n",
    "            weight = weights[tree['branch']==node,:][0] # prb of this node for N example\n",
    "            #print(weight)\n",
    "            \n",
    "            w1 = ww * weight\n",
    "            w2 = ww * (1-weight)\n",
    "            \n",
    "            recurse(tree['children_left'][node], w1)\n",
    "            recurse(tree['children_right'][node], w2)\n",
    "        else:\n",
    "            # value == Number of examples that fell in each class during the training phase.\n",
    "            proba = tree['value'][node][0]\n",
    "            proba /= np.sum(proba)\n",
    "            #print(proba, proba[0])\n",
    "            #print(ww)\n",
    "            answers.append(ww)#\n",
    "            #[prb * ww for prb in proba]) # 1D * scalar인 상태 \n",
    "        \n",
    "    recurse(0, ww)\n",
    "    return answers"
   ]
  },
  {
   "cell_type": "code",
   "execution_count": 1,
   "id": "fa645e82",
   "metadata": {},
   "outputs": [],
   "source": [
    "import importlib\n",
    "import numpy as np\n",
    "from core.parameter import Parameters\n",
    "import HEAAN as he"
   ]
  },
  {
   "cell_type": "code",
   "execution_count": 2,
   "id": "efb65324",
   "metadata": {},
   "outputs": [],
   "source": [
    "logp = 30 #\n",
    "logq = logp+120 # Number of quantized bits.  Larger logq consumes more memory\n",
    "logn = 2 # number of slots... 2^10 = 1024\n",
    "\n",
    "n = 1*2**logn\n",
    "nslots = n\n",
    "\n",
    "#parms = {'logn':logn, 'n':n, 'logp':logp, 'logq':logq} # for ciphertext constructor\n",
    "\n",
    "parms = Parameters(logn, 30, 40, logT=2)\n",
    "\n",
    "sch = core.scheme.Scheme(\"he\", parms)\n",
    "\n",
    "sch.parms.logQ = 800"
   ]
  },
  {
   "cell_type": "code",
   "execution_count": 5,
   "id": "2a0079ca",
   "metadata": {},
   "outputs": [],
   "source": [
    "def fun_fhe(args):\n",
    "    \"\"\"\n",
    "    Only non-leaf nodes should be passed/.\n",
    "    각 노드에서 왼쪽으로 분기할 확률을 계산. \n",
    "    \n",
    "    best if n_element == nslots.\n",
    "    \"\"\"\n",
    "    threshold, x_enc = args\n",
    "    # Always generate an array of length Nslots.\n",
    "    # And make sure its zero-initialized.\n",
    "    thres = np.zeros(nslots)\n",
    "    thres[:nslots]=float(threshold)\n",
    "    c_thres = sch.encrypt(thres)\n",
    "\n",
    "    sch.scheme.bootstrapAndEqual(c_thres, sch.parms.logq, sch.parms.logQ, sch.parms.logT, sch.parms.logI)\n",
    "\n",
    "    print(c_thres)\n",
    "    print(x_enc)\n",
    "    \n",
    "    sch.scheme.subAndEqual(c_thres, x_enc)\n",
    "\n",
    "    csig = he.Ciphertext()\n",
    "    sch.algo.function(csig, c_thres, \"Sigmoid\", logp, 4)\n",
    "        \n",
    "    del c_thres, x_enc\n",
    "    return csig\n",
    "\n",
    "\n",
    "def fun(args):\n",
    "    \"\"\"\n",
    "    \n",
    "    global parameter\n",
    "    ----------------\n",
    "    nslots = Number of ciphertext slots, 2**logn\n",
    "    \"\"\"\n",
    "    question, example = args\n",
    "    feature_name, _, value = question.split(\" \")\n",
    "\n",
    "    n_element = len(example)\n",
    "    # Always generate an array of length Nslots.\n",
    "    # And make sure its zero-initialized.\n",
    "    v1 = np.zeros(nslots)\n",
    "    v2 = np.zeros(nslots)\n",
    "    \n",
    "    v1[:n_element]=float(value)\n",
    "    v2[:n_element]=np.copy(example[feature_name])\n",
    "    assert v1.shape == v2.shape\n",
    "    \n",
    "    c_crit = he.Ciphertext()\n",
    "    sch.scheme.encrypt(c_crit, he.Double(v1), n, logp, logq)\n",
    "    c_val = he.Ciphertext()\n",
    "    sch.scheme.encrypt(c_val, he.Double(v2), n, logp, logq)\n",
    "\n",
    "    sch.scheme.subAndEqual(c_crit, c_val)\n",
    "    # No need to bcootstrap before Sigmoid. We have enough logq left\n",
    "    csig = he.Ciphertext()\n",
    "    algo.function(csig, c_crit, \"Sigmoid\", logp, 4)\n",
    "    del c_crit, c_val\n",
    "    return csig\n"
   ]
  },
  {
   "cell_type": "code",
   "execution_count": 21,
   "id": "e3bb07e0",
   "metadata": {},
   "outputs": [
    {
     "name": "stdout",
     "output_type": "stream",
     "text": [
      "4\n"
     ]
    }
   ],
   "source": [
    "def enc_and_boot(val):\n",
    "    val = np.zeros(nslots)\n",
    "    n_elements = nslots\n",
    "    val[:n_elements] = example[:,dt['feature'][inode]]\n",
    "    x_enc = sch.encrypt(val)\n",
    "    sch.scheme.bootstrapAndEqual(x_enc, sch.parms.logq, sch.parms.logQ, sch.parms.logT, sch.parms.logI)\n",
    "    return x_enc\n",
    "\n",
    "# one node per ctxt \n",
    "i=0\n",
    "example = X_test[i*nslots:(i+1)*nslots,:]\n",
    "\n",
    "###########################################\n",
    "rf_branching_probs = []\n",
    "print(len(example))\n",
    "#for dt in forest:\n",
    "dt = RF[0]\n",
    "##\n",
    "#qlist=[]\n",
    "#good_nodes = np.where(dt['feature'] >= 0)[0]# leaf nodes have 'features' == -2\n",
    "good_nodes = dt['branch']\n",
    "#inode = 0\n",
    "ncpu = 8\n",
    "pool = Pool(min([len(good_nodes), ncpu]))\n",
    "#print(dt['threshold'][inode], \"*******\")\n",
    "\n",
    "#####################################\n",
    "\n",
    "#thres = dt['threshold'][inode]\n",
    "#branching_probs = fun_fhe((thres, x_enc))\n",
    "\n",
    "#####################################\n",
    "branching_probs = pool.map(fun_fhe,\n",
    "                           [(dt['threshold'][inode],\n",
    "                             enc_and_boot(example[:,dt['feature'][inode]])) for inode in good_nodes])\n",
    "\n",
    "#rf_branching_probs.append(np.stack(branching_probs))\n",
    "\n",
    "\n",
    "#rf_branching_probs = gen_weight_forest(RF, x_enc, ncpu=1)"
   ]
  },
  {
   "cell_type": "code",
   "execution_count": 22,
   "id": "f08bb36b",
   "metadata": {},
   "outputs": [
    {
     "data": {
      "text/plain": [
       "[<class.Ciphertext logp: 30 logq: 160 n: 4>,\n",
       " <class.Ciphertext logp: 30 logq: 160 n: 4>,\n",
       " <class.Ciphertext logp: 30 logq: 160 n: 4>,\n",
       " <class.Ciphertext logp: 30 logq: 160 n: 4>,\n",
       " <class.Ciphertext logp: 30 logq: 160 n: 4>,\n",
       " <class.Ciphertext logp: 30 logq: 160 n: 4>,\n",
       " <class.Ciphertext logp: 30 logq: 160 n: 4>]"
      ]
     },
     "execution_count": 22,
     "metadata": {},
     "output_type": "execute_result"
    }
   ],
   "source": [
    "branching_probs"
   ]
  },
  {
   "cell_type": "code",
   "execution_count": 1,
   "id": "6578aea8",
   "metadata": {},
   "outputs": [],
   "source": [
    "def sig(x):\n",
    "    return 1/(1+np.exp(-x))"
   ]
  },
  {
   "cell_type": "markdown",
   "id": "f010d25d",
   "metadata": {},
   "source": [
    "정리"
   ]
  },
  {
   "cell_type": "code",
   "execution_count": 4,
   "id": "45165adc",
   "metadata": {},
   "outputs": [
    {
     "data": {
      "text/plain": [
       "array([0.77619316, 0.65228536, 0.78463355, 0.78462821])"
      ]
     },
     "execution_count": 4,
     "metadata": {},
     "output_type": "execute_result"
    }
   ],
   "source": [
    "val = np.array([-0.57920651,  0.06993741, -0.63821955, -0.63821956])\n",
    "threshold = 0.7\n",
    "\n",
    "x_enc = sch.encrypt(val)\n",
    "sch.scheme.bootstrapAndEqual(x_enc, sch.parms.logq, sch.parms.logQ, sch.parms.logT, sch.parms.logI)\n",
    "\n",
    "thres = np.zeros(nslots)\n",
    "thres[:nslots]=float(threshold)\n",
    "c_thres = sch.encrypt(thres)\n",
    "sch.scheme.bootstrapAndEqual(c_thres, sch.parms.logq, sch.parms.logQ, sch.parms.logT, sch.parms.logI)\n",
    "\n",
    "sch.scheme.subAndEqual(c_thres, x_enc)\n",
    "\n",
    "csig = he.Ciphertext()\n",
    "sch.algo.function(csig, c_thres, \"Sigmoid\", logp, 4)\n",
    "sch.decrypt(csig).real"
   ]
  },
  {
   "cell_type": "code",
   "execution_count": null,
   "id": "701ad17e",
   "metadata": {},
   "outputs": [],
   "source": []
  },
  {
   "cell_type": "code",
   "execution_count": 26,
   "id": "1c28bce6",
   "metadata": {},
   "outputs": [],
   "source": [
    "csig = fun_fhe((thres, x_enc))"
   ]
  },
  {
   "cell_type": "code",
   "execution_count": 27,
   "id": "8b94f166",
   "metadata": {
    "scrolled": true
   },
   "outputs": [
    {
     "data": {
      "text/plain": [
       "<class.Ciphertext logp: 30 logq: 60 n: 4>"
      ]
     },
     "execution_count": 27,
     "metadata": {},
     "output_type": "execute_result"
    }
   ],
   "source": [
    "csig"
   ]
  },
  {
   "cell_type": "code",
   "execution_count": 190,
   "id": "149b7d53",
   "metadata": {},
   "outputs": [
    {
     "data": {
      "text/plain": [
       "(528, 11)"
      ]
     },
     "execution_count": 190,
     "metadata": {},
     "output_type": "execute_result"
    }
   ],
   "source": [
    "X_test.shape"
   ]
  },
  {
   "cell_type": "code",
   "execution_count": 187,
   "id": "11c1af9c",
   "metadata": {},
   "outputs": [
    {
     "data": {
      "text/plain": [
       "(4,)"
      ]
     },
     "execution_count": 187,
     "metadata": {},
     "output_type": "execute_result"
    }
   ],
   "source": [
    "val.shape"
   ]
  },
  {
   "cell_type": "code",
   "execution_count": 145,
   "id": "fc7c6450",
   "metadata": {},
   "outputs": [
    {
     "data": {
      "text/plain": [
       "array([4, 6, 4, 2])"
      ]
     },
     "execution_count": 145,
     "metadata": {},
     "output_type": "execute_result"
    }
   ],
   "source": [
    "i_most_probable_leaf"
   ]
  },
  {
   "cell_type": "code",
   "execution_count": null,
   "id": "f5c518b5",
   "metadata": {},
   "outputs": [],
   "source": []
  },
  {
   "cell_type": "code",
   "execution_count": 126,
   "id": "22458973",
   "metadata": {},
   "outputs": [
    {
     "data": {
      "text/plain": [
       "array([[0.46641031, 0.24655373, 0.46718433, 0.19734758],\n",
       "       [0.04840474, 0.03685604, 0.06983696, 0.01706526],\n",
       "       [0.13896301, 0.28904562, 0.17464828, 0.45242545],\n",
       "       [0.07208145, 0.00798267, 0.02577502, 0.07060631],\n",
       "       [0.02782622, 0.10038687, 0.06535441, 0.01774331],\n",
       "       [0.02655041, 0.24488049, 0.05677091, 0.10074098],\n",
       "       [0.1203593 , 0.04605017, 0.0679773 , 0.06139677],\n",
       "       [0.09940456, 0.02824442, 0.07245278, 0.08267434]])"
      ]
     },
     "execution_count": 126,
     "metadata": {},
     "output_type": "execute_result"
    }
   ],
   "source": [
    "prb_each_leaf"
   ]
  },
  {
   "cell_type": "code",
   "execution_count": null,
   "id": "742f2791",
   "metadata": {},
   "outputs": [],
   "source": [
    "answer[:]"
   ]
  },
  {
   "cell_type": "code",
   "execution_count": 117,
   "id": "2b82e571",
   "metadata": {},
   "outputs": [
    {
     "data": {
      "text/plain": [
       "array([[[0.31369189, 0.16582375, 0.31421247, 0.13272935],\n",
       "        [0.15271842, 0.08072998, 0.15297186, 0.06461824]],\n",
       "\n",
       "       [[0.0468177 , 0.03564764, 0.06754723, 0.01650574],\n",
       "        [0.00158704, 0.00120839, 0.00228974, 0.00055952]],\n",
       "\n",
       "       [[0.03326528, 0.06919239, 0.0418077 , 0.10830262],\n",
       "        [0.10569773, 0.21985323, 0.13284058, 0.34412283]],\n",
       "\n",
       "       [[0.06449393, 0.00714239, 0.02306186, 0.06317407],\n",
       "        [0.00758752, 0.00084028, 0.00271316, 0.00743224]],\n",
       "\n",
       "       [[0.0113044 , 0.04078217, 0.02655023, 0.00720822],\n",
       "        [0.01652182, 0.0596047 , 0.03880418, 0.01053509]],\n",
       "\n",
       "       [[0.00235422, 0.02171354, 0.00503387, 0.0089327 ],\n",
       "        [0.02419619, 0.22316695, 0.05173704, 0.09180828]],\n",
       "\n",
       "       [[0.01851682, 0.00708464, 0.01045805, 0.00944566],\n",
       "        [0.10184249, 0.03896552, 0.05751925, 0.05195111]],\n",
       "\n",
       "       [[0.07144703, 0.02030067, 0.05207543, 0.05942219],\n",
       "        [0.02795753, 0.00794374, 0.02037734, 0.02325216]]])"
      ]
     },
     "execution_count": 117,
     "metadata": {},
     "output_type": "execute_result"
    }
   ],
   "source": [
    "np.stack(answer)"
   ]
  },
  {
   "cell_type": "code",
   "execution_count": 112,
   "id": "a7f07995",
   "metadata": {},
   "outputs": [
    {
     "name": "stdout",
     "output_type": "stream",
     "text": [
      "0.5618912617999676\n",
      "0.36768719039983516\n",
      "0.5407468405494037\n",
      "0.4057205323222125\n",
      "0.43810873820003227\n",
      "0.6323128096001649\n",
      "0.45925315945059636\n",
      "0.5942794676777874\n"
     ]
    }
   ],
   "source": [
    "i_leaf = 0\n",
    "nclass=2\n",
    "n_example = 4\n",
    "\n",
    "for i in range(nclass):\n",
    "    leaf_prb_this_example=np.stack([ans_leaf[i] for ans_leaf in answer])\n",
    "    for i_ex in range(n_example):\n",
    "        prb_class_from_this_leaf = np.sum(tree_tot_prb_a_class[:,i_ex])\n",
    "        print(prb_class_from_this_leaf)"
   ]
  },
  {
   "cell_type": "code",
   "execution_count": 113,
   "id": "5bd7c7d4",
   "metadata": {},
   "outputs": [
    {
     "data": {
      "text/plain": [
       "array([0.06461824, 0.00055952, 0.34412283, 0.00743224, 0.01053509,\n",
       "       0.09180828, 0.05195111, 0.02325216])"
      ]
     },
     "execution_count": 113,
     "metadata": {},
     "output_type": "execute_result"
    }
   ],
   "source": [
    "tree_tot_prb_a_class[:,j]"
   ]
  },
  {
   "cell_type": "code",
   "execution_count": 98,
   "id": "1f8492b0",
   "metadata": {},
   "outputs": [
    {
     "data": {
      "text/plain": [
       "[array([0.07144703, 0.02030067, 0.05207543, 0.05942219]),\n",
       " array([0.02795753, 0.00794374, 0.02037734, 0.02325216])]"
      ]
     },
     "execution_count": 98,
     "metadata": {},
     "output_type": "execute_result"
    }
   ],
   "source": [
    "answer[7]"
   ]
  },
  {
   "cell_type": "code",
   "execution_count": 110,
   "id": "f18f467f",
   "metadata": {},
   "outputs": [],
   "source": [
    "tmp = dt['value'][leaf_nodes][:,0,:]\n",
    "all_prbs = [t / np.sum(t) for t in tmp]"
   ]
  },
  {
   "cell_type": "code",
   "execution_count": 111,
   "id": "bd47ba33",
   "metadata": {},
   "outputs": [
    {
     "data": {
      "text/plain": [
       "[array([0.79487179, 0.20512821]),\n",
       " array([0.24912281, 0.75087719]),\n",
       " array([0.69798658, 0.30201342]),\n",
       " array([0.2455516, 0.7544484]),\n",
       " array([0.74390244, 0.25609756]),\n",
       " array([0.91891892, 0.08108108]),\n",
       " array([0.25, 0.75]),\n",
       " array([0., 1.])]"
      ]
     },
     "execution_count": 111,
     "metadata": {},
     "output_type": "execute_result"
    }
   ],
   "source": [
    "all_prbs"
   ]
  },
  {
   "cell_type": "code",
   "execution_count": 108,
   "id": "3b7b4f74",
   "metadata": {},
   "outputs": [
    {
     "ename": "ValueError",
     "evalue": "operands could not be broadcast together with shapes (8,2) (8,) ",
     "output_type": "error",
     "traceback": [
      "\u001b[0;31m---------------------------------------------------------------------------\u001b[0m",
      "\u001b[0;31mValueError\u001b[0m                                Traceback (most recent call last)",
      "\u001b[0;32m/tmp/ipykernel_186444/10860536.py\u001b[0m in \u001b[0;36m<module>\u001b[0;34m\u001b[0m\n\u001b[0;32m----> 1\u001b[0;31m \u001b[0mall_prbs\u001b[0m \u001b[0;34m/\u001b[0m \u001b[0mnp\u001b[0m\u001b[0;34m.\u001b[0m\u001b[0msum\u001b[0m\u001b[0;34m(\u001b[0m\u001b[0mall_prbs\u001b[0m\u001b[0;34m,\u001b[0m \u001b[0maxis\u001b[0m\u001b[0;34m=\u001b[0m\u001b[0;36m1\u001b[0m\u001b[0;34m)\u001b[0m\u001b[0;34m\u001b[0m\u001b[0;34m\u001b[0m\u001b[0m\n\u001b[0m",
      "\u001b[0;31mValueError\u001b[0m: operands could not be broadcast together with shapes (8,2) (8,) "
     ]
    }
   ],
   "source": [
    "all_prbs  np.sum(all_prbs, axis=1)"
   ]
  },
  {
   "cell_type": "code",
   "execution_count": 83,
   "id": "983ca6ff",
   "metadata": {},
   "outputs": [],
   "source": [
    "branch_nodes = np.where(dt['feature'] >= 0)[0]\n",
    "leaf_nodes = np.where(dt['feature'] < 0)[0]"
   ]
  },
  {
   "cell_type": "code",
   "execution_count": 85,
   "id": "3ea64dcf",
   "metadata": {},
   "outputs": [
    {
     "data": {
      "text/plain": [
       "8"
      ]
     },
     "execution_count": 85,
     "metadata": {},
     "output_type": "execute_result"
    }
   ],
   "source": [
    "len(leaf_nodes) = 2**tree_depth"
   ]
  },
  {
   "cell_type": "code",
   "execution_count": 82,
   "id": "d9895ead",
   "metadata": {},
   "outputs": [
    {
     "data": {
      "text/plain": [
       "15"
      ]
     },
     "execution_count": 82,
     "metadata": {},
     "output_type": "execute_result"
    }
   ],
   "source": [
    "len(dt['value'])"
   ]
  },
  {
   "cell_type": "code",
   "execution_count": 78,
   "id": "3c572952",
   "metadata": {},
   "outputs": [
    {
     "data": {
      "text/plain": [
       "0.7632796943667577"
      ]
     },
     "execution_count": 78,
     "metadata": {},
     "output_type": "execute_result"
    }
   ],
   "source": [
    "bp"
   ]
  },
  {
   "cell_type": "code",
   "execution_count": 35,
   "id": "f977a052",
   "metadata": {},
   "outputs": [
    {
     "data": {
      "text/plain": [
       "{'children_left': array([ 1,  2,  3, -1, -1,  6, -1, -1,  9, 10, -1, -1, 13, -1, -1],\n",
       "       dtype=int64),\n",
       " 'children_right': array([ 8,  5,  4, -1, -1,  7, -1, -1, 12, 11, -1, -1, 14, -1, -1],\n",
       "       dtype=int64),\n",
       " 'feature': array([ 6,  7, 10, -2, -2,  9, -2, -2, 10,  3, -2, -2,  0, -2, -2],\n",
       "       dtype=int64),\n",
       " 'threshold': array([ 1.06529325, -0.39840026, -0.5378435 , -2.        , -2.        ,\n",
       "        -0.07759537, -2.        , -2.        ,  0.77629802, -0.13395334,\n",
       "        -2.        , -2.        , -1.50506139, -2.        , -2.        ]),\n",
       " 'value': array([[[509., 562.]],\n",
       " \n",
       "        [[379., 524.]],\n",
       " \n",
       "        [[102., 222.]],\n",
       " \n",
       "        [[ 31.,   8.]],\n",
       " \n",
       "        [[ 71., 214.]],\n",
       " \n",
       "        [[277., 302.]],\n",
       " \n",
       "        [[208.,  90.]],\n",
       " \n",
       "        [[ 69., 212.]],\n",
       " \n",
       "        [[130.,  38.]],\n",
       " \n",
       "        [[129.,  27.]],\n",
       " \n",
       "        [[ 61.,  21.]],\n",
       " \n",
       "        [[ 68.,   6.]],\n",
       " \n",
       "        [[  1.,  11.]],\n",
       " \n",
       "        [[  1.,   3.]],\n",
       " \n",
       "        [[  0.,   8.]]]),\n",
       " 'classes': array([0., 1.])}"
      ]
     },
     "execution_count": 35,
     "metadata": {},
     "output_type": "execute_result"
    }
   ],
   "source": [
    "dt"
   ]
  },
  {
   "cell_type": "code",
   "execution_count": null,
   "id": "d109187e",
   "metadata": {},
   "outputs": [],
   "source": []
  },
  {
   "cell_type": "code",
   "execution_count": null,
   "id": "0bfb96b4",
   "metadata": {},
   "outputs": [],
   "source": []
  },
  {
   "cell_type": "markdown",
   "id": "d0314cb6",
   "metadata": {},
   "source": [
    "## Load tumor data"
   ]
  },
  {
   "cell_type": "code",
   "execution_count": 10,
   "id": "a48d3db9",
   "metadata": {},
   "outputs": [],
   "source": [
    "RF = pickle.load(open(\"./RF/trained_RF.pickle\", \"rb\"))\n",
    "X_test, Y_test = pickle.load(open(\"./RF/tumor_testset.pickle\", \"rb\"))"
   ]
  },
  {
   "cell_type": "code",
   "execution_count": 12,
   "id": "d427cb6b",
   "metadata": {},
   "outputs": [
    {
     "name": "stdout",
     "output_type": "stream",
     "text": [
      "Accuracy 0.611\n"
     ]
    }
   ],
   "source": [
    "acc = []\n",
    "for i in range(1000):\n",
    "    rf_answer = RF_predict(X_test[i], RF)\n",
    "    acc.append(rf_answer == int(Y_test[i]))\n",
    "    \n",
    "print(\"Accuracy\", np.mean(acc))"
   ]
  },
  {
   "cell_type": "code",
   "execution_count": 14,
   "id": "46cc936e",
   "metadata": {},
   "outputs": [
    {
     "data": {
      "text/plain": [
       "1024"
      ]
     },
     "execution_count": 14,
     "metadata": {},
     "output_type": "execute_result"
    }
   ],
   "source": [
    "np.power(2, 10)"
   ]
  },
  {
   "cell_type": "code",
   "execution_count": 16,
   "id": "f3328c4e",
   "metadata": {},
   "outputs": [],
   "source": [
    "import seal"
   ]
  },
  {
   "cell_type": "code",
   "execution_count": 17,
   "id": "372147af",
   "metadata": {},
   "outputs": [],
   "source": [
    "se = seal.EncryptionParameters(seal.scheme_type.ckks)"
   ]
  },
  {
   "cell_type": "code",
   "execution_count": 19,
   "id": "270b7b60",
   "metadata": {},
   "outputs": [],
   "source": [
    "poly_modulus_degree = 16384\n",
    "se.set_poly_modulus_degree(poly_modulus_degree)\n",
    "se.set_coeff_modulus(seal.CoeffModulus.Create(poly_modulus_degree,\n",
    "                                              [37, 28, 28, 28, 28, 28, 28, 28, 28, 28, 28, 28, 28, 28, 37]))\n"
   ]
  },
  {
   "cell_type": "code",
   "execution_count": 22,
   "id": "4cc3c142",
   "metadata": {},
   "outputs": [
    {
     "data": {
      "text/plain": [
       "<scheme_type.ckks: 2>"
      ]
     },
     "execution_count": 22,
     "metadata": {},
     "output_type": "execute_result"
    }
   ],
   "source": [
    "se.scheme()"
   ]
  },
  {
   "cell_type": "code",
   "execution_count": null,
   "id": "be9ae5b4",
   "metadata": {},
   "outputs": [],
   "source": []
  }
 ],
 "metadata": {
  "kernelspec": {
   "display_name": "Python 3 (ipykernel)",
   "language": "python",
   "name": "python3"
  },
  "language_info": {
   "codemirror_mode": {
    "name": "ipython",
    "version": 3
   },
   "file_extension": ".py",
   "mimetype": "text/x-python",
   "name": "python",
   "nbconvert_exporter": "python",
   "pygments_lexer": "ipython3",
   "version": "3.9.0"
  }
 },
 "nbformat": 4,
 "nbformat_minor": 5
}
