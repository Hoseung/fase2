{
 "cells": [
  {
   "cell_type": "code",
   "execution_count": 1,
   "id": "d17f7817",
   "metadata": {},
   "outputs": [],
   "source": [
    "%load_ext autoreload\n",
    "%autoreload 2"
   ]
  },
  {
   "cell_type": "code",
   "execution_count": 2,
   "id": "43d6db42",
   "metadata": {},
   "outputs": [
    {
     "ename": "ModuleNotFoundError",
     "evalue": "No module named 'fase'",
     "output_type": "error",
     "traceback": [
      "\u001b[0;31m---------------------------------------------------------------------------\u001b[0m",
      "\u001b[0;31mModuleNotFoundError\u001b[0m                       Traceback (most recent call last)",
      "Input \u001b[0;32mIn [2]\u001b[0m, in \u001b[0;36m<cell line: 14>\u001b[0;34m()\u001b[0m\n\u001b[1;32m     10\u001b[0m \u001b[38;5;28;01mfrom\u001b[39;00m \u001b[38;5;21;01mtorch\u001b[39;00m \u001b[38;5;28;01mimport\u001b[39;00m nn\n\u001b[1;32m     11\u001b[0m \u001b[38;5;28;01mimport\u001b[39;00m \u001b[38;5;21;01mtorch\u001b[39;00m\u001b[38;5;21;01m.\u001b[39;00m\u001b[38;5;21;01mnn\u001b[39;00m\u001b[38;5;21;01m.\u001b[39;00m\u001b[38;5;21;01mfunctional\u001b[39;00m \u001b[38;5;28;01mas\u001b[39;00m \u001b[38;5;21;01mF\u001b[39;00m\n\u001b[0;32m---> 14\u001b[0m \u001b[38;5;28;01mfrom\u001b[39;00m \u001b[38;5;21;01mfase\u001b[39;00m\u001b[38;5;21;01m.\u001b[39;00m\u001b[38;5;21;01mnn\u001b[39;00m\u001b[38;5;21;01m.\u001b[39;00m\u001b[38;5;21;01mconv\u001b[39;00m \u001b[38;5;28;01mimport\u001b[39;00m \u001b[38;5;241m*\u001b[39m\n\u001b[1;32m     16\u001b[0m \u001b[38;5;66;03m# check if CUDA is available\u001b[39;00m\n\u001b[1;32m     17\u001b[0m train_on_gpu \u001b[38;5;241m=\u001b[39m torch\u001b[38;5;241m.\u001b[39mcuda\u001b[38;5;241m.\u001b[39mis_available()\n",
      "\u001b[0;31mModuleNotFoundError\u001b[0m: No module named 'fase'"
     ]
    }
   ],
   "source": [
    "from time import time\n",
    "import numpy as np\n",
    "from PIL import Image\n",
    "import matplotlib.pyplot as plt \n",
    "import torch\n",
    "\n",
    "from torchvision import datasets\n",
    "import torchvision.transforms as transforms\n",
    "from torch.utils.data.sampler import SubsetRandomSampler\n",
    "from torch import nn\n",
    "import torch.nn.functional as F\n",
    "\n",
    "\n",
    "from fase.nn.conv import *\n",
    "\n",
    "# check if CUDA is available\n",
    "train_on_gpu = torch.cuda.is_available()\n",
    "\n",
    "if not train_on_gpu:\n",
    "    print('CUDA is not available.  Training on CPU ...')\n",
    "    device = \"cpu\"\n",
    "else:\n",
    "    print('CUDA is available!  Training on GPU ...')\n",
    "    device = \"cuda\""
   ]
  },
  {
   "cell_type": "code",
   "execution_count": null,
   "id": "476bdbe5",
   "metadata": {},
   "outputs": [],
   "source": [
    "num_workers = 0\n",
    "batch_size = 32\n",
    "valid_size = 0.2\n",
    "\n",
    "\n",
    "## Scale \n",
    "transform = transforms.Compose([\n",
    "     transforms.ToTensor(),\n",
    "     transforms.Normalize((0.5, 0.5, 0.5), (0.5, 0.5, 0.5))\n",
    "     ])\n",
    "\n",
    "train_data = datasets.CIFAR10('data', train=True,\n",
    "                              download=True,\n",
    "                              transform=transform\n",
    "                             )\n",
    "test_data = datasets.CIFAR10('data', train=False,\n",
    "                             download=True, \n",
    "                             transform=transform\n",
    "                            )\n",
    "\n",
    "num_train = len(train_data)\n",
    "indices = list(range(num_train))\n",
    "np.random.shuffle(indices)\n",
    "split = int(np.floor(valid_size * num_train))\n",
    "train_idx, valid_idx = indices[split:], indices[:split]\n",
    "\n",
    "train_sampler = SubsetRandomSampler(train_idx)\n",
    "valid_sampler = SubsetRandomSampler(valid_idx)\n",
    "\n",
    "# prepare data loaders (combine dataset and sampler)\n",
    "train_loader = torch.utils.data.DataLoader(train_data, batch_size=batch_size,\n",
    "    sampler=train_sampler, num_workers=num_workers)\n",
    "valid_loader = torch.utils.data.DataLoader(train_data, batch_size=batch_size, \n",
    "    sampler=valid_sampler, num_workers=num_workers)\n",
    "test_loader = torch.utils.data.DataLoader(test_data, batch_size=batch_size, \n",
    "    num_workers=num_workers)\n",
    "\n",
    "# specify the image classes\n",
    "classes = ['airplane', 'automobile', 'bird', 'cat', 'deer',\n",
    "           'dog', 'frog', 'horse', 'ship', 'truck']"
   ]
  },
  {
   "cell_type": "code",
   "execution_count": null,
   "id": "13516f48",
   "metadata": {},
   "outputs": [],
   "source": [
    "from approximate import approx_relu, approx_sign\n",
    "\n",
    "xfactor = 20\n",
    "\n",
    "activation = lambda x : xfactor * approx_relu(x/xfactor, degree = 5, repeat=3)\n",
    "\n",
    "from fase.nn.models import ConvNeuralNet\n",
    "\n",
    "org_model = ConvNeuralNet(num_classes=10, activation=F.relu) # F.relu가 아니고..??"
   ]
  },
  {
   "cell_type": "markdown",
   "id": "53220c9c",
   "metadata": {},
   "source": [
    "# FHE"
   ]
  },
  {
   "cell_type": "code",
   "execution_count": 3,
   "id": "9a2f0c4f",
   "metadata": {},
   "outputs": [
    {
     "ename": "ModuleNotFoundError",
     "evalue": "No module named 'fase'",
     "output_type": "error",
     "traceback": [
      "\u001b[0;31m---------------------------------------------------------------------------\u001b[0m",
      "\u001b[0;31mModuleNotFoundError\u001b[0m                       Traceback (most recent call last)",
      "Input \u001b[0;32mIn [3]\u001b[0m, in \u001b[0;36m<cell line: 2>\u001b[0;34m()\u001b[0m\n\u001b[1;32m      1\u001b[0m \u001b[38;5;66;03m#import fase\u001b[39;00m\n\u001b[0;32m----> 2\u001b[0m \u001b[38;5;28;01mfrom\u001b[39;00m \u001b[38;5;21;01mfase\u001b[39;00m\u001b[38;5;21;01m.\u001b[39;00m\u001b[38;5;21;01mcore\u001b[39;00m \u001b[38;5;28;01mimport\u001b[39;00m seal_ckks\n\u001b[1;32m      3\u001b[0m \u001b[38;5;28;01mfrom\u001b[39;00m \u001b[38;5;21;01mfase\u001b[39;00m\u001b[38;5;21;01m.\u001b[39;00m\u001b[38;5;21;01mcore\u001b[39;00m\u001b[38;5;21;01m.\u001b[39;00m\u001b[38;5;21;01mseal_ckks\u001b[39;00m \u001b[38;5;28;01mimport\u001b[39;00m SEALContext\n\u001b[1;32m      4\u001b[0m \u001b[38;5;28;01mfrom\u001b[39;00m \u001b[38;5;21;01mfase\u001b[39;00m\u001b[38;5;21;01m.\u001b[39;00m\u001b[38;5;21;01mseal\u001b[39;00m \u001b[38;5;28;01mimport\u001b[39;00m Ciphertext\n",
      "\u001b[0;31mModuleNotFoundError\u001b[0m: No module named 'fase'"
     ]
    }
   ],
   "source": [
    "#import fase\n",
    "from fase.core import seal_ckks\n",
    "from fase.core.seal_ckks import SEALContext\n",
    "from fase.seal import Ciphertext\n",
    "import fase.nn.utils as utils\n",
    "\n",
    "from fase.core import commonAlgo\n",
    "from fase.core.commonAlgo import CommonAlgorithms\n",
    "from numpy import polynomial as P"
   ]
  },
  {
   "cell_type": "code",
   "execution_count": null,
   "id": "cfc2f238",
   "metadata": {},
   "outputs": [],
   "source": []
  },
  {
   "cell_type": "markdown",
   "id": "ba805bd7",
   "metadata": {},
   "source": [
    "poly_modulus_degree = 16384\n",
    "coeff_moduli = [37, 28, 28, 28, 28, 28, 28, 28, 28, 28, 28, 28, 28, 28, 37]\n",
    "\n",
    "sec = SEALContext(poly_modulus_degree=poly_modulus_degree,\n",
    "                             coeff_moduli=coeff_moduli,\n",
    "                             scale_bit=28)"
   ]
  },
  {
   "cell_type": "markdown",
   "id": "ee310e5a",
   "metadata": {},
   "source": [
    "정확도를 높이려면 더 많은 bit가 필요함. [60, 40, ...., 60?]"
   ]
  },
  {
   "cell_type": "code",
   "execution_count": 4,
   "id": "b88550c9",
   "metadata": {},
   "outputs": [
    {
     "ename": "NameError",
     "evalue": "name 'SEALContext' is not defined",
     "output_type": "error",
     "traceback": [
      "\u001b[0;31m---------------------------------------------------------------------------\u001b[0m",
      "\u001b[0;31mNameError\u001b[0m                                 Traceback (most recent call last)",
      "Input \u001b[0;32mIn [4]\u001b[0m, in \u001b[0;36m<cell line: 5>\u001b[0;34m()\u001b[0m\n\u001b[1;32m      2\u001b[0m scale_bit \u001b[38;5;241m=\u001b[39m \u001b[38;5;241m50\u001b[39m\n\u001b[1;32m      3\u001b[0m coeff_moduli \u001b[38;5;241m=\u001b[39m [\u001b[38;5;241m60\u001b[39m] \u001b[38;5;241m+\u001b[39m [scale_bit] \u001b[38;5;241m*\u001b[39m \u001b[38;5;241m14\u001b[39m \u001b[38;5;241m+\u001b[39m [\u001b[38;5;241m60\u001b[39m]\n\u001b[0;32m----> 5\u001b[0m sec \u001b[38;5;241m=\u001b[39m \u001b[43mSEALContext\u001b[49m(poly_modulus_degree\u001b[38;5;241m=\u001b[39mpoly_modulus_degree,\n\u001b[1;32m      6\u001b[0m                              coeff_moduli\u001b[38;5;241m=\u001b[39mcoeff_moduli,\n\u001b[1;32m      7\u001b[0m                              scale_bit\u001b[38;5;241m=\u001b[39mscale_bit)\n\u001b[1;32m      9\u001b[0m util \u001b[38;5;241m=\u001b[39m utils\u001b[38;5;241m.\u001b[39mSeal_checker(sec)\n",
      "\u001b[0;31mNameError\u001b[0m: name 'SEALContext' is not defined"
     ]
    }
   ],
   "source": [
    "poly_modulus_degree = 2**15\n",
    "scale_bit = 50\n",
    "coeff_moduli = [60] + [scale_bit] * 14 + [60]\n",
    "\n",
    "sec = SEALContext(poly_modulus_degree=poly_modulus_degree,\n",
    "                             coeff_moduli=coeff_moduli,\n",
    "                             scale_bit=scale_bit)\n",
    "\n",
    "util = utils.Seal_checker(sec)"
   ]
  },
  {
   "cell_type": "markdown",
   "id": "127824c4",
   "metadata": {},
   "source": [
    "## Load trained parameters"
   ]
  },
  {
   "cell_type": "code",
   "execution_count": 5,
   "id": "bef20b5e",
   "metadata": {},
   "outputs": [
    {
     "ename": "NameError",
     "evalue": "name 'device' is not defined",
     "output_type": "error",
     "traceback": [
      "\u001b[0;31m---------------------------------------------------------------------------\u001b[0m",
      "\u001b[0;31mNameError\u001b[0m                                 Traceback (most recent call last)",
      "Input \u001b[0;32mIn [5]\u001b[0m, in \u001b[0;36m<cell line: 3>\u001b[0;34m()\u001b[0m\n\u001b[1;32m      1\u001b[0m fn_param \u001b[38;5;241m=\u001b[39m \u001b[38;5;124m\"\u001b[39m\u001b[38;5;124mSimpleCNN_ReLU_minimax_v2.pt\u001b[39m\u001b[38;5;124m\"\u001b[39m\n\u001b[0;32m----> 3\u001b[0m trained_param \u001b[38;5;241m=\u001b[39m torch\u001b[38;5;241m.\u001b[39mload(fn_param, map_location\u001b[38;5;241m=\u001b[39mtorch\u001b[38;5;241m.\u001b[39mdevice(\u001b[43mdevice\u001b[49m))\n\u001b[1;32m      4\u001b[0m trained_param \u001b[38;5;241m=\u001b[39m {k: v\u001b[38;5;241m.\u001b[39mcpu() \u001b[38;5;28;01mfor\u001b[39;00m k, v \u001b[38;5;129;01min\u001b[39;00m trained_param\u001b[38;5;241m.\u001b[39mitems()} \u001b[38;5;66;03m# to cpu()\u001b[39;00m\n\u001b[1;32m      5\u001b[0m org_model\u001b[38;5;241m.\u001b[39mload_state_dict(trained_param)\n",
      "\u001b[0;31mNameError\u001b[0m: name 'device' is not defined"
     ]
    }
   ],
   "source": [
    "fn_param = \"SimpleCNN_ReLU_minimax_v2.pt\"\n",
    "\n",
    "trained_param = torch.load(fn_param, map_location=torch.device(device))\n",
    "trained_param = {k: v.cpu() for k, v in trained_param.items()} # to cpu()\n",
    "org_model.load_state_dict(trained_param)\n",
    "org_model.eval() ## If not eval(), running_mean and running_var of batch_norm changes\n",
    "\n",
    "# To numpy\n",
    "params_np = {k: v.numpy() for k, v in trained_param.items()}"
   ]
  },
  {
   "cell_type": "code",
   "execution_count": 8,
   "id": "5deb4387",
   "metadata": {},
   "outputs": [
    {
     "data": {
      "text/plain": [
       "ConvNeuralNet(\n",
       "  (conv_layer1): Conv2d(3, 16, kernel_size=(3, 3), stride=(1, 1), padding=same)\n",
       "  (conv_layer2): Conv2d(16, 32, kernel_size=(3, 3), stride=(1, 1), padding=same)\n",
       "  (conv_layer3): Conv2d(32, 32, kernel_size=(3, 3), stride=(1, 1), padding=same)\n",
       "  (bn1): BatchNorm2d(32, eps=1e-05, momentum=0.1, affine=True, track_running_stats=True)\n",
       "  (pool): AvgPool2d(kernel_size=2, stride=2, padding=0)\n",
       "  (conv_layer4): Conv2d(32, 64, kernel_size=(3, 3), stride=(1, 1), padding=same)\n",
       "  (conv_layer5): Conv2d(64, 64, kernel_size=(3, 3), stride=(1, 1), padding=same)\n",
       "  (bn2): BatchNorm2d(64, eps=1e-05, momentum=0.1, affine=True, track_running_stats=True)\n",
       "  (fc1): Linear(in_features=1024, out_features=128, bias=True)\n",
       "  (fc2): Linear(in_features=128, out_features=10, bias=True)\n",
       ")"
      ]
     },
     "execution_count": 8,
     "metadata": {},
     "output_type": "execute_result"
    }
   ],
   "source": [
    "org_model"
   ]
  },
  {
   "cell_type": "markdown",
   "id": "68072838",
   "metadata": {},
   "source": [
    "## Load image"
   ]
  },
  {
   "cell_type": "code",
   "execution_count": 25,
   "id": "b243f26d",
   "metadata": {},
   "outputs": [
    {
     "data": {
      "text/plain": [
       "<matplotlib.image.AxesImage at 0x7f9168cbeee0>"
      ]
     },
     "execution_count": 25,
     "metadata": {},
     "output_type": "execute_result"
    },
    {
     "data": {
      "image/png": "[encoded data removed]",
      "text/plain": [
       "<Figure size 432x288 with 1 Axes>"
      ]
     },
     "metadata": {
      "needs_background": "light"
     },
     "output_type": "display_data"
    }
   ],
   "source": [
    "plt.imshow(img)"
   ]
  },
  {
   "cell_type": "code",
   "execution_count": 20,
   "id": "2419b7e8",
   "metadata": {},
   "outputs": [],
   "source": [
    "imgs, labels = next(iter(test_loader))"
   ]
  },
  {
   "cell_type": "markdown",
   "id": "df8370f4",
   "metadata": {},
   "source": [
    "## Orginal model's prediction"
   ]
  },
  {
   "cell_type": "code",
   "execution_count": 11,
   "id": "dcd4a430",
   "metadata": {},
   "outputs": [
    {
     "name": "stdout",
     "output_type": "stream",
     "text": [
      "torch.Size([32, 10])\n",
      "tensor([  1.6387,   3.3497, -11.8637,  14.3675, -15.4812,   8.2658,  -8.6026,\n",
      "         -7.4570,   2.9418,  11.7727], grad_fn=<SelectBackward0>) tensor(3)\n"
     ]
    }
   ],
   "source": [
    "predictions = org_model(imgs)\n",
    "print(predictions.shape)\n",
    "print(predictions[0], labels[0])"
   ]
  },
  {
   "cell_type": "code",
   "execution_count": 27,
   "id": "b25863e9",
   "metadata": {},
   "outputs": [
    {
     "name": "stdout",
     "output_type": "stream",
     "text": [
      "torch.Size([1, 3, 32, 32])\n"
     ]
    },
    {
     "data": {
      "text/plain": [
       "array([ 6.50980413e-01,  6.31372571e-01,  6.11764729e-01, ...,\n",
       "       -3.48694106e-12, -1.44585277e-13,  3.53778626e-12])"
      ]
     },
     "execution_count": 27,
     "metadata": {},
     "output_type": "execute_result"
    }
   ],
   "source": [
    "import torchvision.transforms as transforms\n",
    "\n",
    "img = np.array(Image.open(\"./bird6.png\"))\n",
    "to_tensor = transforms.ToTensor() # [n_channel, nh, nw]\n",
    "img_tensor = to_tensor(img).unsqueeze(0) # [n_batch, n_channel, nh, nw]\n",
    "n_batch, n_channel, nh, nw = img_tensor.shape\n",
    "\n",
    "print(img_tensor.shape)\n",
    "\n",
    "img_this_example = img_tensor[0] # Assume batch size = 1\n",
    "img_enc = [sec.encrypt(this_channel.ravel()) for this_channel in img_this_example]\n",
    "\n",
    "sec.decrypt(img_enc[0])"
   ]
  },
  {
   "cell_type": "code",
   "execution_count": 26,
   "id": "d95008b7",
   "metadata": {},
   "outputs": [
    {
     "name": "stdout",
     "output_type": "stream",
     "text": [
      "Output image size 32 32\n",
      "Rotating... 3 3 0 0 -33\n",
      "Rotating... 3 3 0 1 -32\n",
      "Rotating... 3 3 0 2 -31\n",
      "Rotating... 3 3 1 0 -1\n",
      "Rotating... 3 3 1 1 0\n",
      "Rotating... 3 3 1 2 1\n",
      "Rotating... 3 3 2 0 31\n",
      "Rotating... 3 3 2 1 32\n",
      "Rotating... 3 3 2 2 33\n",
      "Rotating... 3 3 0 0 -33\n",
      "Rotating... 3 3 0 1 -32\n",
      "Rotating... 3 3 0 2 -31\n",
      "Rotating... 3 3 1 0 -1\n",
      "Rotating... 3 3 1 1 0\n",
      "Rotating... 3 3 1 2 1\n",
      "Rotating... 3 3 2 0 31\n",
      "Rotating... 3 3 2 1 32\n",
      "Rotating... 3 3 2 2 33\n",
      "Rotating... 3 3 0 0 -33\n",
      "Rotating... 3 3 0 1 -32\n",
      "Rotating... 3 3 0 2 -31\n",
      "Rotating... 3 3 1 0 -1\n",
      "Rotating... 3 3 1 1 0\n",
      "Rotating... 3 3 1 2 1\n",
      "Rotating... 3 3 2 0 31\n",
      "Rotating... 3 3 2 1 32\n",
      "Rotating... 3 3 2 2 33\n",
      "[-2.10923404e-09  2.80518540e-10 -2.79286461e-10 ... -3.13265306e-11\n",
      "  2.63521621e-11 -8.25752355e-11]\n",
      "[-2.12508024e-09  2.97908090e-10 -2.66655878e-10 ...  1.79568068e-11\n",
      " -2.53109069e-11  4.77564989e-11]\n",
      "[-2.11869561e-09  3.16457041e-10 -2.65009508e-10 ... -3.52808942e-12\n",
      "  3.14235366e-11 -1.64805506e-11]\n",
      "[-3.12596112e-09  6.50980412e-01  6.31372571e-01 ...  9.37357955e-13\n",
      " -1.20233132e-11  1.04032755e-11]\n",
      "[ 6.50980413e-01  6.31372571e-01  6.11764729e-01 ... -2.30830957e-12\n",
      " -2.00778446e-12  2.96683078e-12]\n",
      "[ 6.31372567e-01  6.11764730e-01  5.88235319e-01 ... -1.15615924e-11\n",
      "  1.05742711e-11  6.50980413e-01]\n",
      "[0.56862747 0.62352943 0.60392159 ... 0.64705884 0.63137257 0.60784316]\n",
      "[0.62352943 0.60392159 0.58823532 ... 0.63137257 0.60784316 0.56862748]\n",
      "[0.60392159 0.58823532 0.56470591 ... 0.60784316 0.56862748 0.62352943]\n"
     ]
    },
    {
     "ename": "NameError",
     "evalue": "name 'org_tt1' is not defined",
     "output_type": "error",
     "traceback": [
      "\u001b[0;31m---------------------------------------------------------------------------\u001b[0m",
      "\u001b[0;31mNameError\u001b[0m                                 Traceback (most recent call last)",
      "\u001b[0;32m/tmp/ipykernel_193003/3299663784.py\u001b[0m in \u001b[0;36m<module>\u001b[0;34m\u001b[0m\n\u001b[1;32m      1\u001b[0m \u001b[0mtmp1\u001b[0m\u001b[0;34m,\u001b[0m \u001b[0m_nh2\u001b[0m\u001b[0;34m,\u001b[0m \u001b[0m_nw2\u001b[0m \u001b[0;34m=\u001b[0m \u001b[0mmy_conv2D_FHE\u001b[0m\u001b[0;34m(\u001b[0m\u001b[0msec\u001b[0m\u001b[0;34m,\u001b[0m \u001b[0mimg_enc\u001b[0m\u001b[0;34m,\u001b[0m \u001b[0mnh\u001b[0m\u001b[0;34m,\u001b[0m \u001b[0mnw\u001b[0m\u001b[0;34m,\u001b[0m \u001b[0morg_model\u001b[0m\u001b[0;34m.\u001b[0m\u001b[0mconv_layer1\u001b[0m\u001b[0;34m)\u001b[0m \u001b[0;31m# list of ctxts\u001b[0m\u001b[0;34m\u001b[0m\u001b[0;34m\u001b[0m\u001b[0m\n\u001b[0;32m----> 2\u001b[0;31m \u001b[0mutil\u001b[0m\u001b[0;34m.\u001b[0m\u001b[0mplot_diff\u001b[0m\u001b[0;34m(\u001b[0m\u001b[0morg_tt1\u001b[0m\u001b[0;34m,\u001b[0m \u001b[0mtmp1\u001b[0m\u001b[0;34m,\u001b[0m \u001b[0;36m32\u001b[0m\u001b[0;34m,\u001b[0m\u001b[0;36m32\u001b[0m\u001b[0;34m,\u001b[0m \u001b[0mch\u001b[0m\u001b[0;34m=\u001b[0m\u001b[0;36m5\u001b[0m\u001b[0;34m,\u001b[0m \u001b[0munpad\u001b[0m\u001b[0;34m=\u001b[0m\u001b[0;36m0\u001b[0m\u001b[0;34m)\u001b[0m\u001b[0;34m\u001b[0m\u001b[0;34m\u001b[0m\u001b[0m\n\u001b[0m\u001b[1;32m      3\u001b[0m \u001b[0mutil\u001b[0m\u001b[0;34m.\u001b[0m\u001b[0mcheck_ctxt\u001b[0m\u001b[0;34m(\u001b[0m\u001b[0mtmp1\u001b[0m\u001b[0;34m[\u001b[0m\u001b[0;36m0\u001b[0m\u001b[0;34m]\u001b[0m\u001b[0;34m)\u001b[0m\u001b[0;34m\u001b[0m\u001b[0;34m\u001b[0m\u001b[0m\n\u001b[1;32m      4\u001b[0m \u001b[0mprint\u001b[0m\u001b[0;34m(\u001b[0m\u001b[0;34m\"1. expected chain index = 12\"\u001b[0m\u001b[0;34m)\u001b[0m\u001b[0;34m\u001b[0m\u001b[0;34m\u001b[0m\u001b[0m\n\u001b[1;32m      5\u001b[0m \u001b[0mprint\u001b[0m\u001b[0;34m(\u001b[0m\u001b[0;34mf\"{time() - t0:.3f} seconds so far\"\u001b[0m\u001b[0;34m)\u001b[0m\u001b[0;34m\u001b[0m\u001b[0;34m\u001b[0m\u001b[0m\n",
      "\u001b[0;31mNameError\u001b[0m: name 'org_tt1' is not defined"
     ]
    }
   ],
   "source": [
    "tmp1, _nh2, _nw2 = my_conv2D_FHE(sec, img_enc, nh, nw, org_model.conv_layer1) # list of ctxts\n",
    "util.plot_diff(org_tt1, tmp1, 32,32, ch=5, unpad=0)\n",
    "util.check_ctxt(tmp1[0])\n",
    "print(\"1. expected chain index = 12\")\n",
    "print(f\"{time() - t0:.3f} seconds so far\")"
   ]
  },
  {
   "cell_type": "code",
   "execution_count": null,
   "id": "6ec44600",
   "metadata": {},
   "outputs": [],
   "source": []
  },
  {
   "cell_type": "markdown",
   "id": "1fee7297",
   "metadata": {},
   "source": [
    "## Step-by-step Model prediction "
   ]
  },
  {
   "cell_type": "code",
   "execution_count": 84,
   "id": "956716c2",
   "metadata": {},
   "outputs": [
    {
     "name": "stdout",
     "output_type": "stream",
     "text": [
      "tensor([[ 16.5144,  10.1240,   3.5315,  -5.4633,  -6.6456, -13.2490, -10.0271,\n",
      "         -10.6792,   8.5306,   7.5610]], grad_fn=<AddmmBackward0>)\n",
      "Output image size 32 32\n",
      "conv1... 22.007 seconds\n",
      "Output image size 32 32\n",
      "conv2... 212.529 seconds\n",
      "Output image size 16 16\n",
      "pool1... 223.039 seconds\n",
      "Output image size 16 16\n",
      "conv3... 523.522 seconds\n",
      "bn1... 524.168 seconds\n",
      "Bootstrapped 0 2\n",
      "Bootstrapped 1 2\n",
      "Bootstrapped 2 2\n",
      "Bootstrapped 3 2\n",
      "Bootstrapped 4 2\n",
      "Bootstrapped 5 2\n",
      "Bootstrapped 6 2\n",
      "Bootstrapped 7 2\n",
      "Bootstrapped 8 2\n",
      "Bootstrapped 9 2\n",
      "Bootstrapped 10 2\n",
      "Bootstrapped 11 2\n",
      "Bootstrapped 12 2\n",
      "Bootstrapped 13 2\n",
      "Bootstrapped 14 2\n",
      "Bootstrapped 15 2\n",
      "Bootstrapped 16 2\n",
      "Bootstrapped 17 2\n",
      "Bootstrapped 18 2\n",
      "Bootstrapped 19 2\n",
      "Bootstrapped 20 2\n",
      "Bootstrapped 21 2\n",
      "Bootstrapped 22 2\n",
      "Bootstrapped 23 2\n",
      "Bootstrapped 24 2\n",
      "Bootstrapped 25 2\n",
      "Bootstrapped 26 2\n",
      "Bootstrapped 27 2\n",
      "Bootstrapped 28 2\n",
      "Bootstrapped 29 2\n",
      "Bootstrapped 30 2\n",
      "Bootstrapped 31 2\n",
      "activation... 631.919 seconds\n",
      "Output image size 8 8\n",
      "activation... 650.220 seconds\n",
      "Output image size 8 8\n",
      "conv4... 1383.068 seconds\n",
      "Output image size 8 8\n",
      "conv5... 2685.379 seconds\n",
      "bn2... 2686.704 seconds\n",
      "Bootstrapped 0 1\n",
      "Bootstrapped 0 3\n",
      "Bootstrapped 1 1\n",
      "Bootstrapped 1 3\n",
      "Bootstrapped 2 1\n",
      "Bootstrapped 2 3\n",
      "Bootstrapped 3 1\n",
      "Bootstrapped 3 3\n",
      "Bootstrapped 4 1\n",
      "Bootstrapped 4 3\n",
      "Bootstrapped 5 1\n",
      "Bootstrapped 5 3\n",
      "Bootstrapped 6 1\n",
      "Bootstrapped 6 3\n",
      "Bootstrapped 7 1\n",
      "Bootstrapped 7 3\n",
      "Bootstrapped 8 1\n",
      "Bootstrapped 8 3\n",
      "Bootstrapped 9 1\n",
      "Bootstrapped 9 3\n",
      "Bootstrapped 10 1\n",
      "Bootstrapped 10 3\n",
      "Bootstrapped 11 1\n",
      "Bootstrapped 11 3\n",
      "Bootstrapped 12 1\n",
      "Bootstrapped 12 3\n",
      "Bootstrapped 13 1\n",
      "Bootstrapped 13 3\n",
      "Bootstrapped 14 1\n",
      "Bootstrapped 14 3\n",
      "Bootstrapped 15 1\n",
      "Bootstrapped 15 3\n",
      "Bootstrapped 16 1\n",
      "Bootstrapped 16 3\n",
      "Bootstrapped 17 1\n",
      "Bootstrapped 17 3\n",
      "Bootstrapped 18 1\n",
      "Bootstrapped 18 3\n",
      "Bootstrapped 19 1\n",
      "Bootstrapped 19 3\n",
      "Bootstrapped 20 1\n",
      "Bootstrapped 20 3\n",
      "Bootstrapped 21 1\n",
      "Bootstrapped 21 3\n",
      "Bootstrapped 22 1\n",
      "Bootstrapped 22 3\n",
      "Bootstrapped 23 1\n",
      "Bootstrapped 23 3\n",
      "Bootstrapped 24 1\n",
      "Bootstrapped 24 3\n",
      "Bootstrapped 25 1\n",
      "Bootstrapped 25 3\n",
      "Bootstrapped 26 1\n",
      "Bootstrapped 26 3\n",
      "Bootstrapped 27 1\n",
      "Bootstrapped 27 3\n",
      "Bootstrapped 28 1\n",
      "Bootstrapped 28 3\n",
      "Bootstrapped 29 1\n",
      "Bootstrapped 29 3\n",
      "Bootstrapped 30 1\n",
      "Bootstrapped 30 3\n",
      "Bootstrapped 31 1\n",
      "Bootstrapped 31 3\n",
      "Bootstrapped 32 1\n",
      "Bootstrapped 32 3\n",
      "Bootstrapped 33 1\n",
      "Bootstrapped 33 3\n",
      "Bootstrapped 34 1\n",
      "Bootstrapped 34 3\n",
      "Bootstrapped 35 1\n",
      "Bootstrapped 35 3\n",
      "Bootstrapped 36 1\n",
      "Bootstrapped 36 3\n",
      "Bootstrapped 37 1\n",
      "Bootstrapped 37 3\n",
      "Bootstrapped 38 1\n",
      "Bootstrapped 38 3\n",
      "Bootstrapped 39 1\n",
      "Bootstrapped 39 3\n",
      "Bootstrapped 40 1\n",
      "Bootstrapped 40 3\n",
      "Bootstrapped 41 1\n",
      "Bootstrapped 41 3\n",
      "Bootstrapped 42 1\n",
      "Bootstrapped 42 3\n",
      "Bootstrapped 43 1\n",
      "Bootstrapped 43 3\n",
      "Bootstrapped 44 1\n",
      "Bootstrapped 44 3\n",
      "Bootstrapped 45 1\n",
      "Bootstrapped 45 3\n",
      "Bootstrapped 46 1\n",
      "Bootstrapped 46 3\n",
      "Bootstrapped 47 1\n",
      "Bootstrapped 47 3\n",
      "Bootstrapped 48 1\n",
      "Bootstrapped 48 3\n",
      "Bootstrapped 49 1\n",
      "Bootstrapped 49 3\n",
      "Bootstrapped 50 1\n",
      "Bootstrapped 50 3\n",
      "Bootstrapped 51 1\n",
      "Bootstrapped 51 3\n",
      "Bootstrapped 52 1\n",
      "Bootstrapped 52 3\n",
      "Bootstrapped 53 1\n",
      "Bootstrapped 53 3\n",
      "Bootstrapped 54 1\n",
      "Bootstrapped 54 3\n",
      "Bootstrapped 55 1\n",
      "Bootstrapped 55 3\n",
      "Bootstrapped 56 1\n",
      "Bootstrapped 56 3\n",
      "Bootstrapped 57 1\n",
      "Bootstrapped 57 3\n",
      "Bootstrapped 58 1\n",
      "Bootstrapped 58 3\n",
      "Bootstrapped 59 1\n",
      "Bootstrapped 59 3\n",
      "Bootstrapped 60 1\n",
      "Bootstrapped 60 3\n",
      "Bootstrapped 61 1\n",
      "Bootstrapped 61 3\n",
      "Bootstrapped 62 1\n",
      "Bootstrapped 62 3\n",
      "Bootstrapped 63 1\n",
      "Bootstrapped 63 3\n",
      "activation.. 2901.122 seconds\n",
      "Output image size 4 4\n",
      "pool2... 2912.769 seconds\n",
      "FC1... 3105.414 seconds\n",
      "Bootstrapped 0 2\n",
      "activation... 3108.801 seconds\n",
      "Done... 3109.438 seconds\n",
      "[ 13.96786684   8.54760816   0.77295509  -4.48961219  -2.18604567\n",
      " -11.39702612 -10.49353405  -5.38641625   2.94584721   4.92956864]\n",
      "_________\n",
      "\n",
      "tensor([[-14.1636,   5.7466,  -4.7651,  10.2768,   0.2934,   5.0476,  10.3139,\n",
      "         -10.7550,  -5.9811,   3.1940]], grad_fn=<AddmmBackward0>)\n",
      "Output image size 32 32\n",
      "conv1... 22.083 seconds\n",
      "Output image size 32 32\n",
      "conv2... 213.584 seconds\n",
      "Output image size 16 16\n",
      "pool1... 224.097 seconds\n",
      "Output image size 16 16\n",
      "conv3... 523.825 seconds\n",
      "bn1... 524.465 seconds\n",
      "Bootstrapped 0 2\n",
      "Bootstrapped 1 2\n",
      "Bootstrapped 2 2\n",
      "Bootstrapped 3 2\n",
      "Bootstrapped 4 2\n",
      "Bootstrapped 5 2\n",
      "Bootstrapped 6 2\n",
      "Bootstrapped 7 2\n",
      "Bootstrapped 8 2\n",
      "Bootstrapped 9 2\n",
      "Bootstrapped 10 2\n",
      "Bootstrapped 11 2\n",
      "Bootstrapped 12 2\n",
      "Bootstrapped 13 2\n",
      "Bootstrapped 14 2\n",
      "Bootstrapped 15 2\n",
      "Bootstrapped 16 2\n",
      "Bootstrapped 17 2\n",
      "Bootstrapped 18 2\n",
      "Bootstrapped 19 2\n",
      "Bootstrapped 20 2\n",
      "Bootstrapped 21 2\n",
      "Bootstrapped 22 2\n",
      "Bootstrapped 23 2\n",
      "Bootstrapped 24 2\n",
      "Bootstrapped 25 2\n",
      "Bootstrapped 26 2\n",
      "Bootstrapped 27 2\n",
      "Bootstrapped 28 2\n",
      "Bootstrapped 29 2\n",
      "Bootstrapped 30 2\n",
      "Bootstrapped 31 2\n",
      "activation... 632.245 seconds\n",
      "Output image size 8 8\n",
      "activation... 650.433 seconds\n",
      "Output image size 8 8\n",
      "conv4... 1384.018 seconds\n",
      "Output image size 8 8\n",
      "conv5... 2699.257 seconds\n",
      "bn2... 2700.642 seconds\n",
      "Bootstrapped 0 1\n",
      "Bootstrapped 0 3\n",
      "Bootstrapped 1 1\n",
      "Bootstrapped 1 3\n",
      "Bootstrapped 2 1\n",
      "Bootstrapped 2 3\n",
      "Bootstrapped 3 1\n",
      "Bootstrapped 3 3\n",
      "Bootstrapped 4 1\n",
      "Bootstrapped 4 3\n",
      "Bootstrapped 5 1\n",
      "Bootstrapped 5 3\n",
      "Bootstrapped 6 1\n",
      "Bootstrapped 6 3\n",
      "Bootstrapped 7 1\n",
      "Bootstrapped 7 3\n",
      "Bootstrapped 8 1\n",
      "Bootstrapped 8 3\n",
      "Bootstrapped 9 1\n",
      "Bootstrapped 9 3\n",
      "Bootstrapped 10 1\n",
      "Bootstrapped 10 3\n",
      "Bootstrapped 11 1\n",
      "Bootstrapped 11 3\n",
      "Bootstrapped 12 1\n",
      "Bootstrapped 12 3\n",
      "Bootstrapped 13 1\n",
      "Bootstrapped 13 3\n",
      "Bootstrapped 14 1\n",
      "Bootstrapped 14 3\n",
      "Bootstrapped 15 1\n",
      "Bootstrapped 15 3\n",
      "Bootstrapped 16 1\n",
      "Bootstrapped 16 3\n",
      "Bootstrapped 17 1\n",
      "Bootstrapped 17 3\n",
      "Bootstrapped 18 1\n",
      "Bootstrapped 18 3\n",
      "Bootstrapped 19 1\n",
      "Bootstrapped 19 3\n",
      "Bootstrapped 20 1\n",
      "Bootstrapped 20 3\n",
      "Bootstrapped 21 1\n",
      "Bootstrapped 21 3\n",
      "Bootstrapped 22 1\n",
      "Bootstrapped 22 3\n",
      "Bootstrapped 23 1\n",
      "Bootstrapped 23 3\n",
      "Bootstrapped 24 1\n",
      "Bootstrapped 24 3\n",
      "Bootstrapped 25 1\n",
      "Bootstrapped 25 3\n",
      "Bootstrapped 26 1\n",
      "Bootstrapped 26 3\n",
      "Bootstrapped 27 1\n",
      "Bootstrapped 27 3\n",
      "Bootstrapped 28 1\n",
      "Bootstrapped 28 3\n",
      "Bootstrapped 29 1\n",
      "Bootstrapped 29 3\n",
      "Bootstrapped 30 1\n",
      "Bootstrapped 30 3\n",
      "Bootstrapped 31 1\n",
      "Bootstrapped 31 3\n",
      "Bootstrapped 32 1\n",
      "Bootstrapped 32 3\n",
      "Bootstrapped 33 1\n",
      "Bootstrapped 33 3\n",
      "Bootstrapped 34 1\n",
      "Bootstrapped 34 3\n",
      "Bootstrapped 35 1\n",
      "Bootstrapped 35 3\n",
      "Bootstrapped 36 1\n",
      "Bootstrapped 36 3\n",
      "Bootstrapped 37 1\n",
      "Bootstrapped 37 3\n",
      "Bootstrapped 38 1\n",
      "Bootstrapped 38 3\n",
      "Bootstrapped 39 1\n",
      "Bootstrapped 39 3\n",
      "Bootstrapped 40 1\n",
      "Bootstrapped 40 3\n",
      "Bootstrapped 41 1\n",
      "Bootstrapped 41 3\n",
      "Bootstrapped 42 1\n",
      "Bootstrapped 42 3\n",
      "Bootstrapped 43 1\n",
      "Bootstrapped 43 3\n",
      "Bootstrapped 44 1\n",
      "Bootstrapped 44 3\n",
      "Bootstrapped 45 1\n",
      "Bootstrapped 45 3\n",
      "Bootstrapped 46 1\n",
      "Bootstrapped 46 3\n",
      "Bootstrapped 47 1\n",
      "Bootstrapped 47 3\n",
      "Bootstrapped 48 1\n",
      "Bootstrapped 48 3\n",
      "Bootstrapped 49 1\n",
      "Bootstrapped 49 3\n",
      "Bootstrapped 50 1\n",
      "Bootstrapped 50 3\n",
      "Bootstrapped 51 1\n",
      "Bootstrapped 51 3\n",
      "Bootstrapped 52 1\n",
      "Bootstrapped 52 3\n",
      "Bootstrapped 53 1\n",
      "Bootstrapped 53 3\n",
      "Bootstrapped 54 1\n",
      "Bootstrapped 54 3\n",
      "Bootstrapped 55 1\n",
      "Bootstrapped 55 3\n",
      "Bootstrapped 56 1\n",
      "Bootstrapped 56 3\n",
      "Bootstrapped 57 1\n",
      "Bootstrapped 57 3\n",
      "Bootstrapped 58 1\n",
      "Bootstrapped 58 3\n",
      "Bootstrapped 59 1\n",
      "Bootstrapped 59 3\n",
      "Bootstrapped 60 1\n",
      "Bootstrapped 60 3\n",
      "Bootstrapped 61 1\n",
      "Bootstrapped 61 3\n",
      "Bootstrapped 62 1\n",
      "Bootstrapped 62 3\n",
      "Bootstrapped 63 1\n",
      "Bootstrapped 63 3\n",
      "activation.. 2915.656 seconds\n",
      "Output image size 4 4\n",
      "pool2... 2927.329 seconds\n",
      "FC1... 3120.600 seconds\n",
      "Bootstrapped 0 2\n",
      "activation... 3123.999 seconds\n",
      "Done... 3124.636 seconds\n",
      "[-13.95885184   3.99943317  -4.25705618  10.15594642   2.88867469\n",
      "   4.53964816   9.96252545  -8.79537685  -8.71050949   1.80146915]\n",
      "_________\n",
      "\n",
      "tensor([[ -5.1206,   1.8255,  -8.5592,   9.0537, -10.4459,   9.7339,   0.7965,\n",
      "          -1.5850,  -6.3935,   9.9573]], grad_fn=<AddmmBackward0>)\n",
      "Output image size 32 32\n",
      "conv1... 21.922 seconds\n",
      "Output image size 32 32\n",
      "conv2... 210.949 seconds\n",
      "Output image size 16 16\n",
      "pool1... 221.022 seconds\n",
      "Output image size 16 16\n",
      "conv3... 515.176 seconds\n",
      "bn1... 515.818 seconds\n",
      "Bootstrapped 0 2\n",
      "Bootstrapped 1 2\n",
      "Bootstrapped 2 2\n",
      "Bootstrapped 3 2\n",
      "Bootstrapped 4 2\n",
      "Bootstrapped 5 2\n",
      "Bootstrapped 6 2\n",
      "Bootstrapped 7 2\n",
      "Bootstrapped 8 2\n",
      "Bootstrapped 9 2\n",
      "Bootstrapped 10 2\n",
      "Bootstrapped 11 2\n",
      "Bootstrapped 12 2\n",
      "Bootstrapped 13 2\n",
      "Bootstrapped 14 2\n",
      "Bootstrapped 15 2\n",
      "Bootstrapped 16 2\n",
      "Bootstrapped 17 2\n",
      "Bootstrapped 18 2\n",
      "Bootstrapped 19 2\n",
      "Bootstrapped 20 2\n"
     ]
    },
    {
     "name": "stdout",
     "output_type": "stream",
     "text": [
      "Bootstrapped 21 2\n",
      "Bootstrapped 22 2\n",
      "Bootstrapped 23 2\n",
      "Bootstrapped 24 2\n",
      "Bootstrapped 25 2\n",
      "Bootstrapped 26 2\n",
      "Bootstrapped 27 2\n",
      "Bootstrapped 28 2\n",
      "Bootstrapped 29 2\n",
      "Bootstrapped 30 2\n",
      "Bootstrapped 31 2\n",
      "activation... 623.752 seconds\n",
      "Output image size 8 8\n",
      "activation... 641.950 seconds\n",
      "Output image size 8 8\n",
      "conv4... 1362.644 seconds\n",
      "Output image size 8 8\n",
      "conv5... 2669.541 seconds\n",
      "bn2... 2670.920 seconds\n",
      "Bootstrapped 0 1\n",
      "Bootstrapped 0 3\n",
      "Bootstrapped 1 1\n",
      "Bootstrapped 1 3\n",
      "Bootstrapped 2 1\n",
      "Bootstrapped 2 3\n",
      "Bootstrapped 3 1\n",
      "Bootstrapped 3 3\n",
      "Bootstrapped 4 1\n",
      "Bootstrapped 4 3\n",
      "Bootstrapped 5 1\n",
      "Bootstrapped 5 3\n",
      "Bootstrapped 6 1\n",
      "Bootstrapped 6 3\n",
      "Bootstrapped 7 1\n",
      "Bootstrapped 7 3\n",
      "Bootstrapped 8 1\n",
      "Bootstrapped 8 3\n",
      "Bootstrapped 9 1\n",
      "Bootstrapped 9 3\n",
      "Bootstrapped 10 1\n",
      "Bootstrapped 10 3\n",
      "Bootstrapped 11 1\n",
      "Bootstrapped 11 3\n",
      "Bootstrapped 12 1\n",
      "Bootstrapped 12 3\n",
      "Bootstrapped 13 1\n",
      "Bootstrapped 13 3\n",
      "Bootstrapped 14 1\n",
      "Bootstrapped 14 3\n",
      "Bootstrapped 15 1\n",
      "Bootstrapped 15 3\n",
      "Bootstrapped 16 1\n",
      "Bootstrapped 16 3\n",
      "Bootstrapped 17 1\n",
      "Bootstrapped 17 3\n",
      "Bootstrapped 18 1\n",
      "Bootstrapped 18 3\n",
      "Bootstrapped 19 1\n",
      "Bootstrapped 19 3\n",
      "Bootstrapped 20 1\n",
      "Bootstrapped 20 3\n",
      "Bootstrapped 21 1\n",
      "Bootstrapped 21 3\n",
      "Bootstrapped 22 1\n",
      "Bootstrapped 22 3\n",
      "Bootstrapped 23 1\n",
      "Bootstrapped 23 3\n",
      "Bootstrapped 24 1\n",
      "Bootstrapped 24 3\n",
      "Bootstrapped 25 1\n",
      "Bootstrapped 25 3\n",
      "Bootstrapped 26 1\n",
      "Bootstrapped 26 3\n",
      "Bootstrapped 27 1\n",
      "Bootstrapped 27 3\n",
      "Bootstrapped 28 1\n",
      "Bootstrapped 28 3\n",
      "Bootstrapped 29 1\n",
      "Bootstrapped 29 3\n",
      "Bootstrapped 30 1\n",
      "Bootstrapped 30 3\n",
      "Bootstrapped 31 1\n",
      "Bootstrapped 31 3\n",
      "Bootstrapped 32 1\n",
      "Bootstrapped 32 3\n",
      "Bootstrapped 33 1\n",
      "Bootstrapped 33 3\n",
      "Bootstrapped 34 1\n",
      "Bootstrapped 34 3\n",
      "Bootstrapped 35 1\n",
      "Bootstrapped 35 3\n",
      "Bootstrapped 36 1\n",
      "Bootstrapped 36 3\n",
      "Bootstrapped 37 1\n",
      "Bootstrapped 37 3\n",
      "Bootstrapped 38 1\n",
      "Bootstrapped 38 3\n",
      "Bootstrapped 39 1\n",
      "Bootstrapped 39 3\n",
      "Bootstrapped 40 1\n",
      "Bootstrapped 40 3\n",
      "Bootstrapped 41 1\n",
      "Bootstrapped 41 3\n",
      "Bootstrapped 42 1\n",
      "Bootstrapped 42 3\n",
      "Bootstrapped 43 1\n",
      "Bootstrapped 43 3\n",
      "Bootstrapped 44 1\n",
      "Bootstrapped 44 3\n",
      "Bootstrapped 45 1\n",
      "Bootstrapped 45 3\n",
      "Bootstrapped 46 1\n",
      "Bootstrapped 46 3\n",
      "Bootstrapped 47 1\n",
      "Bootstrapped 47 3\n",
      "Bootstrapped 48 1\n",
      "Bootstrapped 48 3\n",
      "Bootstrapped 49 1\n",
      "Bootstrapped 49 3\n",
      "Bootstrapped 50 1\n",
      "Bootstrapped 50 3\n",
      "Bootstrapped 51 1\n",
      "Bootstrapped 51 3\n",
      "Bootstrapped 52 1\n",
      "Bootstrapped 52 3\n",
      "Bootstrapped 53 1\n",
      "Bootstrapped 53 3\n",
      "Bootstrapped 54 1\n",
      "Bootstrapped 54 3\n",
      "Bootstrapped 55 1\n",
      "Bootstrapped 55 3\n",
      "Bootstrapped 56 1\n",
      "Bootstrapped 56 3\n",
      "Bootstrapped 57 1\n",
      "Bootstrapped 57 3\n",
      "Bootstrapped 58 1\n",
      "Bootstrapped 58 3\n",
      "Bootstrapped 59 1\n",
      "Bootstrapped 59 3\n",
      "Bootstrapped 60 1\n",
      "Bootstrapped 60 3\n",
      "Bootstrapped 61 1\n",
      "Bootstrapped 61 3\n",
      "Bootstrapped 62 1\n",
      "Bootstrapped 62 3\n",
      "Bootstrapped 63 1\n",
      "Bootstrapped 63 3\n",
      "activation.. 2885.737 seconds\n",
      "Output image size 4 4\n",
      "pool2... 2897.421 seconds\n",
      "FC1... 3089.941 seconds\n",
      "Bootstrapped 0 2\n",
      "activation... 3093.336 seconds\n",
      "Done... 3093.975 seconds\n",
      "[ -7.12969998   2.00094657 -10.08126789   9.1683751   -7.55562744\n",
      "   9.922294     2.47056004  -1.30218437  -8.83055338   8.92801682]\n",
      "_________\n",
      "\n",
      "tensor([[ -1.8035,  16.2430, -12.8909,  15.7823, -19.7831,  14.6845,  -5.7687,\n",
      "          -4.9711, -21.0233,  18.0629]], grad_fn=<AddmmBackward0>)\n",
      "Output image size 32 32\n",
      "conv1... 21.952 seconds\n",
      "Output image size 32 32\n",
      "conv2... 212.287 seconds\n",
      "Output image size 16 16\n",
      "pool1... 222.783 seconds\n",
      "Output image size 16 16\n",
      "conv3... 523.924 seconds\n",
      "bn1... 524.566 seconds\n",
      "Bootstrapped 0 2\n",
      "Bootstrapped 1 2\n",
      "Bootstrapped 2 2\n",
      "Bootstrapped 3 2\n",
      "Bootstrapped 4 2\n",
      "Bootstrapped 5 2\n",
      "Bootstrapped 6 2\n",
      "Bootstrapped 7 2\n",
      "Bootstrapped 8 2\n",
      "Bootstrapped 9 2\n",
      "Bootstrapped 10 2\n",
      "Bootstrapped 11 2\n",
      "Bootstrapped 12 2\n",
      "Bootstrapped 13 2\n",
      "Bootstrapped 14 2\n",
      "Bootstrapped 15 2\n",
      "Bootstrapped 16 2\n",
      "Bootstrapped 17 2\n",
      "Bootstrapped 18 2\n",
      "Bootstrapped 19 2\n",
      "Bootstrapped 20 2\n",
      "Bootstrapped 21 2\n",
      "Bootstrapped 22 2\n",
      "Bootstrapped 23 2\n",
      "Bootstrapped 24 2\n",
      "Bootstrapped 25 2\n",
      "Bootstrapped 26 2\n",
      "Bootstrapped 27 2\n",
      "Bootstrapped 28 2\n",
      "Bootstrapped 29 2\n",
      "Bootstrapped 30 2\n",
      "Bootstrapped 31 2\n",
      "activation... 632.650 seconds\n",
      "Output image size 8 8\n",
      "activation... 650.820 seconds\n",
      "Output image size 8 8\n",
      "conv4... 1382.051 seconds\n",
      "Output image size 8 8\n",
      "conv5... 2696.853 seconds\n",
      "bn2... 2698.247 seconds\n",
      "Bootstrapped 0 1\n",
      "Bootstrapped 0 3\n",
      "Bootstrapped 1 1\n",
      "Bootstrapped 1 3\n",
      "Bootstrapped 2 1\n",
      "Bootstrapped 2 3\n",
      "Bootstrapped 3 1\n",
      "Bootstrapped 3 3\n",
      "Bootstrapped 4 1\n",
      "Bootstrapped 4 3\n",
      "Bootstrapped 5 1\n",
      "Bootstrapped 5 3\n",
      "Bootstrapped 6 1\n",
      "Bootstrapped 6 3\n",
      "Bootstrapped 7 1\n",
      "Bootstrapped 7 3\n",
      "Bootstrapped 8 1\n",
      "Bootstrapped 8 3\n",
      "Bootstrapped 9 1\n",
      "Bootstrapped 9 3\n",
      "Bootstrapped 10 1\n",
      "Bootstrapped 10 3\n",
      "Bootstrapped 11 1\n",
      "Bootstrapped 11 3\n",
      "Bootstrapped 12 1\n",
      "Bootstrapped 12 3\n",
      "Bootstrapped 13 1\n",
      "Bootstrapped 13 3\n",
      "Bootstrapped 14 1\n",
      "Bootstrapped 14 3\n",
      "Bootstrapped 15 1\n",
      "Bootstrapped 15 3\n",
      "Bootstrapped 16 1\n",
      "Bootstrapped 16 3\n",
      "Bootstrapped 17 1\n",
      "Bootstrapped 17 3\n",
      "Bootstrapped 18 1\n",
      "Bootstrapped 18 3\n",
      "Bootstrapped 19 1\n",
      "Bootstrapped 19 3\n",
      "Bootstrapped 20 1\n",
      "Bootstrapped 20 3\n",
      "Bootstrapped 21 1\n",
      "Bootstrapped 21 3\n",
      "Bootstrapped 22 1\n",
      "Bootstrapped 22 3\n",
      "Bootstrapped 23 1\n",
      "Bootstrapped 23 3\n",
      "Bootstrapped 24 1\n",
      "Bootstrapped 24 3\n",
      "Bootstrapped 25 1\n",
      "Bootstrapped 25 3\n",
      "Bootstrapped 26 1\n",
      "Bootstrapped 26 3\n",
      "Bootstrapped 27 1\n",
      "Bootstrapped 27 3\n",
      "Bootstrapped 28 1\n",
      "Bootstrapped 28 3\n",
      "Bootstrapped 29 1\n",
      "Bootstrapped 29 3\n",
      "Bootstrapped 30 1\n",
      "Bootstrapped 30 3\n",
      "Bootstrapped 31 1\n",
      "Bootstrapped 31 3\n",
      "Bootstrapped 32 1\n",
      "Bootstrapped 32 3\n",
      "Bootstrapped 33 1\n",
      "Bootstrapped 33 3\n",
      "Bootstrapped 34 1\n",
      "Bootstrapped 34 3\n",
      "Bootstrapped 35 1\n",
      "Bootstrapped 35 3\n",
      "Bootstrapped 36 1\n",
      "Bootstrapped 36 3\n",
      "Bootstrapped 37 1\n",
      "Bootstrapped 37 3\n",
      "Bootstrapped 38 1\n",
      "Bootstrapped 38 3\n",
      "Bootstrapped 39 1\n",
      "Bootstrapped 39 3\n",
      "Bootstrapped 40 1\n",
      "Bootstrapped 40 3\n",
      "Bootstrapped 41 1\n",
      "Bootstrapped 41 3\n",
      "Bootstrapped 42 1\n",
      "Bootstrapped 42 3\n",
      "Bootstrapped 43 1\n",
      "Bootstrapped 43 3\n",
      "Bootstrapped 44 1\n",
      "Bootstrapped 44 3\n",
      "Bootstrapped 45 1\n",
      "Bootstrapped 45 3\n",
      "Bootstrapped 46 1\n",
      "Bootstrapped 46 3\n",
      "Bootstrapped 47 1\n",
      "Bootstrapped 47 3\n",
      "Bootstrapped 48 1\n",
      "Bootstrapped 48 3\n",
      "Bootstrapped 49 1\n",
      "Bootstrapped 49 3\n",
      "Bootstrapped 50 1\n",
      "Bootstrapped 50 3\n",
      "Bootstrapped 51 1\n",
      "Bootstrapped 51 3\n",
      "Bootstrapped 52 1\n",
      "Bootstrapped 52 3\n",
      "Bootstrapped 53 1\n",
      "Bootstrapped 53 3\n",
      "Bootstrapped 54 1\n",
      "Bootstrapped 54 3\n",
      "Bootstrapped 55 1\n",
      "Bootstrapped 55 3\n",
      "Bootstrapped 56 1\n",
      "Bootstrapped 56 3\n",
      "Bootstrapped 57 1\n",
      "Bootstrapped 57 3\n",
      "Bootstrapped 58 1\n",
      "Bootstrapped 58 3\n",
      "Bootstrapped 59 1\n",
      "Bootstrapped 59 3\n",
      "Bootstrapped 60 1\n",
      "Bootstrapped 60 3\n",
      "Bootstrapped 61 1\n",
      "Bootstrapped 61 3\n",
      "Bootstrapped 62 1\n",
      "Bootstrapped 62 3\n",
      "Bootstrapped 63 1\n",
      "Bootstrapped 63 3\n",
      "activation.. 2912.939 seconds\n",
      "Output image size 4 4\n",
      "pool2... 2924.620 seconds\n",
      "FC1... 3117.582 seconds\n",
      "Bootstrapped 0 2\n",
      "activation... 3120.989 seconds\n",
      "Done... 3121.624 seconds\n",
      "[ -4.32201644  16.96404322 -14.4482891   15.62878202 -17.73529121\n",
      "  15.17298333  -2.84615924  -4.5892841  -23.07259284  15.0861377 ]\n",
      "_________\n",
      "\n",
      "tensor([[ 1.7618, -0.7597,  2.1491,  0.9482, -8.6881, -0.3667, 14.2268, -5.0774,\n",
      "         -7.3266,  2.9467]], grad_fn=<AddmmBackward0>)\n",
      "Output image size 32 32\n",
      "conv1... 21.942 seconds\n",
      "Output image size 32 32\n",
      "conv2... 210.933 seconds\n",
      "Output image size 16 16\n",
      "pool1... 221.019 seconds\n",
      "Output image size 16 16\n",
      "conv3... 515.103 seconds\n",
      "bn1... 515.747 seconds\n",
      "Bootstrapped 0 2\n",
      "Bootstrapped 1 2\n",
      "Bootstrapped 2 2\n",
      "Bootstrapped 3 2\n",
      "Bootstrapped 4 2\n",
      "Bootstrapped 5 2\n",
      "Bootstrapped 6 2\n",
      "Bootstrapped 7 2\n",
      "Bootstrapped 8 2\n",
      "Bootstrapped 9 2\n",
      "Bootstrapped 10 2\n",
      "Bootstrapped 11 2\n",
      "Bootstrapped 12 2\n",
      "Bootstrapped 13 2\n",
      "Bootstrapped 14 2\n",
      "Bootstrapped 15 2\n",
      "Bootstrapped 16 2\n",
      "Bootstrapped 17 2\n",
      "Bootstrapped 18 2\n",
      "Bootstrapped 19 2\n",
      "Bootstrapped 20 2\n",
      "Bootstrapped 21 2\n",
      "Bootstrapped 22 2\n",
      "Bootstrapped 23 2\n",
      "Bootstrapped 24 2\n",
      "Bootstrapped 25 2\n",
      "Bootstrapped 26 2\n",
      "Bootstrapped 27 2\n",
      "Bootstrapped 28 2\n",
      "Bootstrapped 29 2\n",
      "Bootstrapped 30 2\n",
      "Bootstrapped 31 2\n",
      "activation... 623.751 seconds\n",
      "Output image size 8 8\n",
      "activation... 642.021 seconds\n",
      "Output image size 8 8\n",
      "conv4... 1366.932 seconds\n",
      "Output image size 8 8\n",
      "conv5... 2658.554 seconds\n",
      "bn2... 2659.908 seconds\n",
      "Bootstrapped 0 1\n",
      "Bootstrapped 0 3\n",
      "Bootstrapped 1 1\n",
      "Bootstrapped 1 3\n",
      "Bootstrapped 2 1\n",
      "Bootstrapped 2 3\n",
      "Bootstrapped 3 1\n",
      "Bootstrapped 3 3\n",
      "Bootstrapped 4 1\n",
      "Bootstrapped 4 3\n",
      "Bootstrapped 5 1\n",
      "Bootstrapped 5 3\n",
      "Bootstrapped 6 1\n",
      "Bootstrapped 6 3\n",
      "Bootstrapped 7 1\n",
      "Bootstrapped 7 3\n",
      "Bootstrapped 8 1\n",
      "Bootstrapped 8 3\n",
      "Bootstrapped 9 1\n",
      "Bootstrapped 9 3\n"
     ]
    },
    {
     "name": "stdout",
     "output_type": "stream",
     "text": [
      "Bootstrapped 10 1\n",
      "Bootstrapped 10 3\n",
      "Bootstrapped 11 1\n",
      "Bootstrapped 11 3\n",
      "Bootstrapped 12 1\n",
      "Bootstrapped 12 3\n",
      "Bootstrapped 13 1\n",
      "Bootstrapped 13 3\n",
      "Bootstrapped 14 1\n",
      "Bootstrapped 14 3\n",
      "Bootstrapped 15 1\n",
      "Bootstrapped 15 3\n",
      "Bootstrapped 16 1\n",
      "Bootstrapped 16 3\n",
      "Bootstrapped 17 1\n",
      "Bootstrapped 17 3\n",
      "Bootstrapped 18 1\n",
      "Bootstrapped 18 3\n",
      "Bootstrapped 19 1\n",
      "Bootstrapped 19 3\n",
      "Bootstrapped 20 1\n",
      "Bootstrapped 20 3\n",
      "Bootstrapped 21 1\n",
      "Bootstrapped 21 3\n",
      "Bootstrapped 22 1\n",
      "Bootstrapped 22 3\n",
      "Bootstrapped 23 1\n",
      "Bootstrapped 23 3\n",
      "Bootstrapped 24 1\n",
      "Bootstrapped 24 3\n",
      "Bootstrapped 25 1\n",
      "Bootstrapped 25 3\n",
      "Bootstrapped 26 1\n",
      "Bootstrapped 26 3\n",
      "Bootstrapped 27 1\n",
      "Bootstrapped 27 3\n",
      "Bootstrapped 28 1\n",
      "Bootstrapped 28 3\n",
      "Bootstrapped 29 1\n",
      "Bootstrapped 29 3\n",
      "Bootstrapped 30 1\n",
      "Bootstrapped 30 3\n",
      "Bootstrapped 31 1\n",
      "Bootstrapped 31 3\n",
      "Bootstrapped 32 1\n",
      "Bootstrapped 32 3\n",
      "Bootstrapped 33 1\n",
      "Bootstrapped 33 3\n",
      "Bootstrapped 34 1\n",
      "Bootstrapped 34 3\n",
      "Bootstrapped 35 1\n",
      "Bootstrapped 35 3\n",
      "Bootstrapped 36 1\n",
      "Bootstrapped 36 3\n",
      "Bootstrapped 37 1\n",
      "Bootstrapped 37 3\n",
      "Bootstrapped 38 1\n",
      "Bootstrapped 38 3\n",
      "Bootstrapped 39 1\n",
      "Bootstrapped 39 3\n",
      "Bootstrapped 40 1\n",
      "Bootstrapped 40 3\n",
      "Bootstrapped 41 1\n",
      "Bootstrapped 41 3\n",
      "Bootstrapped 42 1\n",
      "Bootstrapped 42 3\n",
      "Bootstrapped 43 1\n",
      "Bootstrapped 43 3\n",
      "Bootstrapped 44 1\n",
      "Bootstrapped 44 3\n",
      "Bootstrapped 45 1\n",
      "Bootstrapped 45 3\n",
      "Bootstrapped 46 1\n",
      "Bootstrapped 46 3\n",
      "Bootstrapped 47 1\n",
      "Bootstrapped 47 3\n",
      "Bootstrapped 48 1\n",
      "Bootstrapped 48 3\n",
      "Bootstrapped 49 1\n",
      "Bootstrapped 49 3\n",
      "Bootstrapped 50 1\n",
      "Bootstrapped 50 3\n",
      "Bootstrapped 51 1\n",
      "Bootstrapped 51 3\n",
      "Bootstrapped 52 1\n",
      "Bootstrapped 52 3\n",
      "Bootstrapped 53 1\n",
      "Bootstrapped 53 3\n",
      "Bootstrapped 54 1\n",
      "Bootstrapped 54 3\n",
      "Bootstrapped 55 1\n",
      "Bootstrapped 55 3\n",
      "Bootstrapped 56 1\n",
      "Bootstrapped 56 3\n",
      "Bootstrapped 57 1\n",
      "Bootstrapped 57 3\n",
      "Bootstrapped 58 1\n",
      "Bootstrapped 58 3\n",
      "Bootstrapped 59 1\n",
      "Bootstrapped 59 3\n",
      "Bootstrapped 60 1\n",
      "Bootstrapped 60 3\n",
      "Bootstrapped 61 1\n",
      "Bootstrapped 61 3\n",
      "Bootstrapped 62 1\n",
      "Bootstrapped 62 3\n",
      "Bootstrapped 63 1\n",
      "Bootstrapped 63 3\n",
      "activation.. 2871.127 seconds\n",
      "Output image size 4 4\n",
      "pool2... 2882.568 seconds\n",
      "FC1... 3075.402 seconds\n",
      "Bootstrapped 0 2\n",
      "activation... 3078.790 seconds\n",
      "Done... 3079.426 seconds\n",
      "[  1.62691278  -2.18112181   2.24027177   2.67390577  -3.96561861\n",
      "  -1.95665668  11.16398033  -1.85150358 -10.85322001   2.02496739]\n",
      "_________\n",
      "\n",
      "tensor([[-2.6568, -4.3558, -2.8100,  8.2244, -1.2382,  3.9521, -1.0491,  2.8103,\n",
      "         -3.7789,  0.4714]], grad_fn=<AddmmBackward0>)\n",
      "Output image size 32 32\n",
      "conv1... 22.093 seconds\n",
      "Output image size 32 32\n",
      "conv2... 214.308 seconds\n",
      "Output image size 16 16\n",
      "pool1... 224.832 seconds\n",
      "Output image size 16 16\n",
      "conv3... 527.075 seconds\n",
      "bn1... 527.720 seconds\n",
      "Bootstrapped 0 2\n",
      "Bootstrapped 1 2\n",
      "Bootstrapped 2 2\n",
      "Bootstrapped 3 2\n",
      "Bootstrapped 4 2\n",
      "Bootstrapped 5 2\n",
      "Bootstrapped 6 2\n",
      "Bootstrapped 7 2\n",
      "Bootstrapped 8 2\n",
      "Bootstrapped 9 2\n",
      "Bootstrapped 10 2\n",
      "Bootstrapped 11 2\n",
      "Bootstrapped 12 2\n",
      "Bootstrapped 13 2\n",
      "Bootstrapped 14 2\n",
      "Bootstrapped 15 2\n",
      "Bootstrapped 16 2\n",
      "Bootstrapped 17 2\n",
      "Bootstrapped 18 2\n",
      "Bootstrapped 19 2\n",
      "Bootstrapped 20 2\n",
      "Bootstrapped 21 2\n",
      "Bootstrapped 22 2\n",
      "Bootstrapped 23 2\n",
      "Bootstrapped 24 2\n",
      "Bootstrapped 25 2\n",
      "Bootstrapped 26 2\n",
      "Bootstrapped 27 2\n",
      "Bootstrapped 28 2\n",
      "Bootstrapped 29 2\n",
      "Bootstrapped 30 2\n",
      "Bootstrapped 31 2\n",
      "activation... 635.719 seconds\n",
      "Output image size 8 8\n",
      "activation... 653.978 seconds\n",
      "Output image size 8 8\n",
      "conv4... 1387.636 seconds\n",
      "Output image size 8 8\n",
      "conv5... 2697.369 seconds\n",
      "bn2... 2698.742 seconds\n",
      "Bootstrapped 0 1\n",
      "Bootstrapped 0 3\n",
      "Bootstrapped 1 1\n",
      "Bootstrapped 1 3\n",
      "Bootstrapped 2 1\n",
      "Bootstrapped 2 3\n",
      "Bootstrapped 3 1\n",
      "Bootstrapped 3 3\n",
      "Bootstrapped 4 1\n",
      "Bootstrapped 4 3\n",
      "Bootstrapped 5 1\n",
      "Bootstrapped 5 3\n",
      "Bootstrapped 6 1\n",
      "Bootstrapped 6 3\n",
      "Bootstrapped 7 1\n",
      "Bootstrapped 7 3\n",
      "Bootstrapped 8 1\n",
      "Bootstrapped 8 3\n",
      "Bootstrapped 9 1\n",
      "Bootstrapped 9 3\n",
      "Bootstrapped 10 1\n",
      "Bootstrapped 10 3\n",
      "Bootstrapped 11 1\n",
      "Bootstrapped 11 3\n",
      "Bootstrapped 12 1\n",
      "Bootstrapped 12 3\n",
      "Bootstrapped 13 1\n",
      "Bootstrapped 13 3\n",
      "Bootstrapped 14 1\n",
      "Bootstrapped 14 3\n",
      "Bootstrapped 15 1\n",
      "Bootstrapped 15 3\n",
      "Bootstrapped 16 1\n",
      "Bootstrapped 16 3\n",
      "Bootstrapped 17 1\n",
      "Bootstrapped 17 3\n",
      "Bootstrapped 18 1\n",
      "Bootstrapped 18 3\n",
      "Bootstrapped 19 1\n",
      "Bootstrapped 19 3\n",
      "Bootstrapped 20 1\n",
      "Bootstrapped 20 3\n",
      "Bootstrapped 21 1\n",
      "Bootstrapped 21 3\n",
      "Bootstrapped 22 1\n",
      "Bootstrapped 22 3\n",
      "Bootstrapped 23 1\n",
      "Bootstrapped 23 3\n",
      "Bootstrapped 24 1\n",
      "Bootstrapped 24 3\n",
      "Bootstrapped 25 1\n",
      "Bootstrapped 25 3\n",
      "Bootstrapped 26 1\n",
      "Bootstrapped 26 3\n",
      "Bootstrapped 27 1\n",
      "Bootstrapped 27 3\n",
      "Bootstrapped 28 1\n",
      "Bootstrapped 28 3\n",
      "Bootstrapped 29 1\n",
      "Bootstrapped 29 3\n",
      "Bootstrapped 30 1\n",
      "Bootstrapped 30 3\n",
      "Bootstrapped 31 1\n",
      "Bootstrapped 31 3\n",
      "Bootstrapped 32 1\n",
      "Bootstrapped 32 3\n",
      "Bootstrapped 33 1\n",
      "Bootstrapped 33 3\n",
      "Bootstrapped 34 1\n",
      "Bootstrapped 34 3\n",
      "Bootstrapped 35 1\n",
      "Bootstrapped 35 3\n",
      "Bootstrapped 36 1\n",
      "Bootstrapped 36 3\n",
      "Bootstrapped 37 1\n",
      "Bootstrapped 37 3\n",
      "Bootstrapped 38 1\n",
      "Bootstrapped 38 3\n",
      "Bootstrapped 39 1\n",
      "Bootstrapped 39 3\n",
      "Bootstrapped 40 1\n",
      "Bootstrapped 40 3\n",
      "Bootstrapped 41 1\n",
      "Bootstrapped 41 3\n",
      "Bootstrapped 42 1\n",
      "Bootstrapped 42 3\n",
      "Bootstrapped 43 1\n",
      "Bootstrapped 43 3\n",
      "Bootstrapped 44 1\n",
      "Bootstrapped 44 3\n",
      "Bootstrapped 45 1\n",
      "Bootstrapped 45 3\n",
      "Bootstrapped 46 1\n",
      "Bootstrapped 46 3\n",
      "Bootstrapped 47 1\n",
      "Bootstrapped 47 3\n",
      "Bootstrapped 48 1\n",
      "Bootstrapped 48 3\n",
      "Bootstrapped 49 1\n",
      "Bootstrapped 49 3\n",
      "Bootstrapped 50 1\n",
      "Bootstrapped 50 3\n",
      "Bootstrapped 51 1\n",
      "Bootstrapped 51 3\n",
      "Bootstrapped 52 1\n",
      "Bootstrapped 52 3\n",
      "Bootstrapped 53 1\n",
      "Bootstrapped 53 3\n",
      "Bootstrapped 54 1\n",
      "Bootstrapped 54 3\n",
      "Bootstrapped 55 1\n",
      "Bootstrapped 55 3\n",
      "Bootstrapped 56 1\n",
      "Bootstrapped 56 3\n",
      "Bootstrapped 57 1\n",
      "Bootstrapped 57 3\n",
      "Bootstrapped 58 1\n",
      "Bootstrapped 58 3\n",
      "Bootstrapped 59 1\n",
      "Bootstrapped 59 3\n",
      "Bootstrapped 60 1\n",
      "Bootstrapped 60 3\n",
      "Bootstrapped 61 1\n",
      "Bootstrapped 61 3\n",
      "Bootstrapped 62 1\n",
      "Bootstrapped 62 3\n",
      "Bootstrapped 63 1\n",
      "Bootstrapped 63 3\n",
      "activation.. 2911.194 seconds\n",
      "Output image size 4 4\n",
      "pool2... 2922.785 seconds\n",
      "FC1... 3115.781 seconds\n",
      "Bootstrapped 0 2\n",
      "activation... 3119.181 seconds\n",
      "Done... 3119.820 seconds\n",
      "[-5.4776874  -5.52261577 -5.10143058  9.19376359  2.30068126  4.59605011\n",
      "  1.01522362  2.88623851 -5.15626459  0.13542865]\n",
      "_________\n",
      "\n",
      "tensor([[  3.7174,  20.1865, -10.0219,  -3.8892,  -9.6507,  -5.5015, -12.0059,\n",
      "          -6.9926,   0.6047,  23.0811]], grad_fn=<AddmmBackward0>)\n",
      "Output image size 32 32\n",
      "conv1... 21.997 seconds\n",
      "Output image size 32 32\n",
      "conv2... 213.575 seconds\n",
      "Output image size 16 16\n",
      "pool1... 224.087 seconds\n",
      "Output image size 16 16\n",
      "conv3... 525.253 seconds\n",
      "bn1... 525.894 seconds\n",
      "Bootstrapped 0 2\n",
      "Bootstrapped 1 2\n",
      "Bootstrapped 2 2\n",
      "Bootstrapped 3 2\n",
      "Bootstrapped 4 2\n",
      "Bootstrapped 5 2\n",
      "Bootstrapped 6 2\n",
      "Bootstrapped 7 2\n",
      "Bootstrapped 8 2\n",
      "Bootstrapped 9 2\n",
      "Bootstrapped 10 2\n",
      "Bootstrapped 11 2\n",
      "Bootstrapped 12 2\n",
      "Bootstrapped 13 2\n",
      "Bootstrapped 14 2\n",
      "Bootstrapped 15 2\n",
      "Bootstrapped 16 2\n",
      "Bootstrapped 17 2\n",
      "Bootstrapped 18 2\n",
      "Bootstrapped 19 2\n",
      "Bootstrapped 20 2\n",
      "Bootstrapped 21 2\n",
      "Bootstrapped 22 2\n",
      "Bootstrapped 23 2\n",
      "Bootstrapped 24 2\n",
      "Bootstrapped 25 2\n",
      "Bootstrapped 26 2\n",
      "Bootstrapped 27 2\n",
      "Bootstrapped 28 2\n",
      "Bootstrapped 29 2\n",
      "Bootstrapped 30 2\n",
      "Bootstrapped 31 2\n",
      "activation... 633.726 seconds\n",
      "Output image size 8 8\n",
      "activation... 651.951 seconds\n",
      "Output image size 8 8\n",
      "conv4... 1385.280 seconds\n",
      "Output image size 8 8\n",
      "conv5... 2703.834 seconds\n",
      "bn2... 2705.214 seconds\n",
      "Bootstrapped 0 1\n",
      "Bootstrapped 0 3\n",
      "Bootstrapped 1 1\n",
      "Bootstrapped 1 3\n",
      "Bootstrapped 2 1\n",
      "Bootstrapped 2 3\n",
      "Bootstrapped 3 1\n",
      "Bootstrapped 3 3\n",
      "Bootstrapped 4 1\n",
      "Bootstrapped 4 3\n",
      "Bootstrapped 5 1\n",
      "Bootstrapped 5 3\n",
      "Bootstrapped 6 1\n",
      "Bootstrapped 6 3\n",
      "Bootstrapped 7 1\n",
      "Bootstrapped 7 3\n",
      "Bootstrapped 8 1\n",
      "Bootstrapped 8 3\n",
      "Bootstrapped 9 1\n",
      "Bootstrapped 9 3\n",
      "Bootstrapped 10 1\n",
      "Bootstrapped 10 3\n",
      "Bootstrapped 11 1\n",
      "Bootstrapped 11 3\n",
      "Bootstrapped 12 1\n",
      "Bootstrapped 12 3\n",
      "Bootstrapped 13 1\n",
      "Bootstrapped 13 3\n",
      "Bootstrapped 14 1\n",
      "Bootstrapped 14 3\n",
      "Bootstrapped 15 1\n",
      "Bootstrapped 15 3\n",
      "Bootstrapped 16 1\n",
      "Bootstrapped 16 3\n",
      "Bootstrapped 17 1\n",
      "Bootstrapped 17 3\n",
      "Bootstrapped 18 1\n",
      "Bootstrapped 18 3\n",
      "Bootstrapped 19 1\n",
      "Bootstrapped 19 3\n",
      "Bootstrapped 20 1\n",
      "Bootstrapped 20 3\n",
      "Bootstrapped 21 1\n",
      "Bootstrapped 21 3\n",
      "Bootstrapped 22 1\n",
      "Bootstrapped 22 3\n",
      "Bootstrapped 23 1\n",
      "Bootstrapped 23 3\n",
      "Bootstrapped 24 1\n",
      "Bootstrapped 24 3\n",
      "Bootstrapped 25 1\n",
      "Bootstrapped 25 3\n",
      "Bootstrapped 26 1\n",
      "Bootstrapped 26 3\n",
      "Bootstrapped 27 1\n",
      "Bootstrapped 27 3\n",
      "Bootstrapped 28 1\n",
      "Bootstrapped 28 3\n",
      "Bootstrapped 29 1\n",
      "Bootstrapped 29 3\n",
      "Bootstrapped 30 1\n",
      "Bootstrapped 30 3\n"
     ]
    },
    {
     "name": "stdout",
     "output_type": "stream",
     "text": [
      "Bootstrapped 31 1\n",
      "Bootstrapped 31 3\n",
      "Bootstrapped 32 1\n",
      "Bootstrapped 32 3\n",
      "Bootstrapped 33 1\n",
      "Bootstrapped 33 3\n",
      "Bootstrapped 34 1\n",
      "Bootstrapped 34 3\n",
      "Bootstrapped 35 1\n",
      "Bootstrapped 35 3\n",
      "Bootstrapped 36 1\n",
      "Bootstrapped 36 3\n",
      "Bootstrapped 37 1\n",
      "Bootstrapped 37 3\n",
      "Bootstrapped 38 1\n",
      "Bootstrapped 38 3\n",
      "Bootstrapped 39 1\n",
      "Bootstrapped 39 3\n",
      "Bootstrapped 40 1\n",
      "Bootstrapped 40 3\n",
      "Bootstrapped 41 1\n",
      "Bootstrapped 41 3\n",
      "Bootstrapped 42 1\n",
      "Bootstrapped 42 3\n",
      "Bootstrapped 43 1\n",
      "Bootstrapped 43 3\n",
      "Bootstrapped 44 1\n",
      "Bootstrapped 44 3\n",
      "Bootstrapped 45 1\n",
      "Bootstrapped 45 3\n",
      "Bootstrapped 46 1\n",
      "Bootstrapped 46 3\n",
      "Bootstrapped 47 1\n",
      "Bootstrapped 47 3\n",
      "Bootstrapped 48 1\n",
      "Bootstrapped 48 3\n",
      "Bootstrapped 49 1\n",
      "Bootstrapped 49 3\n",
      "Bootstrapped 50 1\n",
      "Bootstrapped 50 3\n",
      "Bootstrapped 51 1\n",
      "Bootstrapped 51 3\n",
      "Bootstrapped 52 1\n",
      "Bootstrapped 52 3\n",
      "Bootstrapped 53 1\n",
      "Bootstrapped 53 3\n",
      "Bootstrapped 54 1\n",
      "Bootstrapped 54 3\n",
      "Bootstrapped 55 1\n",
      "Bootstrapped 55 3\n",
      "Bootstrapped 56 1\n",
      "Bootstrapped 56 3\n",
      "Bootstrapped 57 1\n",
      "Bootstrapped 57 3\n",
      "Bootstrapped 58 1\n",
      "Bootstrapped 58 3\n",
      "Bootstrapped 59 1\n",
      "Bootstrapped 59 3\n",
      "Bootstrapped 60 1\n",
      "Bootstrapped 60 3\n",
      "Bootstrapped 61 1\n",
      "Bootstrapped 61 3\n",
      "Bootstrapped 62 1\n",
      "Bootstrapped 62 3\n",
      "Bootstrapped 63 1\n",
      "Bootstrapped 63 3\n",
      "activation.. 2920.433 seconds\n",
      "Output image size 4 4\n",
      "pool2... 2932.218 seconds\n",
      "FC1... 3126.541 seconds\n",
      "Bootstrapped 0 2\n",
      "activation... 3129.953 seconds\n",
      "Done... 3130.594 seconds\n",
      "[  1.99877466  19.70784319 -11.09074524  -3.5351975   -7.90024711\n",
      "  -5.45061731  -9.29480369  -5.34597278  -1.16930817  17.7529366 ]\n",
      "_________\n",
      "\n"
     ]
    }
   ],
   "source": [
    "for i in range(3, 10):\n",
    "    img_tensor = imgs[i:i+1]\n",
    "    org_tt1 = org_model.conv_layer1(img_tensor)\n",
    "    org_tt2 = org_model.conv_layer2(org_tt1)\n",
    "    org_tt3 = org_model.pool(org_tt2)\n",
    "    org_tt4 = org_model.conv_layer3(org_tt3)\n",
    "    org_tt5 = org_model.bn1(org_tt4)\n",
    "    org_tt6 = org_model.activation(org_tt5)\n",
    "    org_tt7 = org_model.pool(org_tt6)\n",
    "    org_tt8 = org_model.conv_layer4(org_tt7)\n",
    "    org_tt9 = org_model.conv_layer5(org_tt8)\n",
    "    #######################\n",
    "    org_tt9_1 = org_model.bn2(org_tt9)\n",
    "    org_tt9_2 = org_model.activation(org_tt9_1)\n",
    "    #######################\n",
    "    org_tt10 = org_model.pool(org_tt9_2)\n",
    "    org_tt10_ = org_tt10.reshape(org_tt10.size(0),-1)\n",
    "    org_11 = org_model.fc1(org_tt10_)\n",
    "    org_11_1 = org_model.activation(org_11)\n",
    "    answer = org_model.fc2(org_11_1)\n",
    "    print(answer)\n",
    "    torch.argmax(answer)\n",
    "\n",
    "    pred = fhe_eval(org_model, sec, img_tensor[0])\n",
    "    print(pred)\n",
    "    print(\"_________\\n\")"
   ]
  },
  {
   "cell_type": "code",
   "execution_count": 83,
   "id": "104a258b",
   "metadata": {},
   "outputs": [],
   "source": [
    "def fhe_eval(org_model, sec, img_this_example):\n",
    "    calgo = CommonAlgorithms(sec, \"SEAL\")\n",
    "    ff = approx_sign(5)\n",
    "    t0 = time()\n",
    "\n",
    "    img_enc = [sec.encrypt(this_channel.ravel()) for this_channel in img_this_example]\n",
    "    nh, nw = img_this_example[0].shape\n",
    "\n",
    "    tmp1, _nh, _nw = my_conv2D_FHE(sec, img_enc, nh, nw, org_model.conv_layer1) # list of ctxts\n",
    "    print(f\"conv1... {time() - t0:.3f} seconds\")\n",
    "\n",
    "    tmp2, _nh2, _nw2 = my_conv2D_FHE(sec, tmp1, nh, nw, org_model.conv_layer2) # list of ctxts\n",
    "    print(f\"conv2... {time() - t0:.3f} seconds\")\n",
    "\n",
    "    tmp3, nh2, nw2 = fhe_avg_pool(sec, tmp2,\n",
    "                                    nh, nw, \n",
    "                                    kernel_size=org_model.pool.kernel_size, \n",
    "                                    stride_in=1) # list of ctxts\n",
    "    print(f\"pool1... {time() - t0:.3f} seconds\")\n",
    "    \n",
    "    tmp4, _nh2, _nw2 = my_conv2D_FHE(sec, tmp3, nh, nw, org_model.conv_layer3,\n",
    "                                    stride_in=2) # list of ctxts\n",
    "    print(f\"conv3... {time() - t0:.3f} seconds\")\n",
    "    \n",
    "    tmp5 = fhe_bn(sec, tmp4, org_model.bn1)\n",
    "    print(f\"bn1... {time() - t0:.3f} seconds\")\n",
    "    tmp5 = [do_bootstrap(sec, tmp) for tmp in tmp5]\n",
    "    \n",
    "    tmp6 = approx_relu_fhe(sec, calgo, tmp5, ff, repeat=4, xfactor=20)\n",
    "    print(f\"activation... {time() - t0:.3f} seconds\")\n",
    "    \n",
    "    tmp6 = [do_bootstrap(sec, tmp) for tmp in tmp6]\n",
    "\n",
    "    tmp7, _nh3, _nw3 = fhe_avg_pool(sec, tmp6, nh, nw, \n",
    "                                    kernel_size=org_model.pool.kernel_size, \n",
    "                                    stride_in=2) # list of ctxts\n",
    "    print(f\"activation... {time() - t0:.3f} seconds\")\n",
    "\n",
    "    tmp8, _nh3, _nw3 = my_conv2D_FHE(sec, tmp7, nh, nw, org_model.conv_layer4,\n",
    "                                    stride_in=4) # list of ctxts\n",
    "    print(f\"conv4... {time() - t0:.3f} seconds\")\n",
    "    tmp9, _nh3, _nw3 = my_conv2D_FHE(sec, tmp8, nh, nw, org_model.conv_layer5,\n",
    "                                    stride_in=4) # list of ctxts\n",
    "    print(f\"conv5... {time() - t0:.3f} seconds\")\n",
    "    tmp9_1 = fhe_bn(sec, tmp9, org_model.bn2)\n",
    "    print(f\"bn2... {time() - t0:.3f} seconds\")\n",
    "    tmp9_2 = approx_relu_fhe(sec, calgo, tmp9_1, ff, repeat=4, xfactor=20)\n",
    "    print(f\"activation.. {time() - t0:.3f} seconds\")\n",
    "    tmp10, _nh4, _nw4 = fhe_avg_pool(sec, tmp9_2, nh, nw, \n",
    "                                    kernel_size=org_model.pool.kernel_size, \n",
    "                                    stride_in=4) # list of ctxts\n",
    "    print(f\"pool2... {time() - t0:.3f} seconds\")\n",
    "    reshaped = reshape(sec, tmp10)\n",
    "    reshaped = do_bootstrap(sec, reshaped)\n",
    "\n",
    "    tmp_fc1 = fullyConnected1(sec, reshaped, org_model.fc1)\n",
    "    print(f\"FC1... {time() - t0:.3f} seconds\")\n",
    "\n",
    "    tmp_fc1 = [do_bootstrap(sec, tmp_fc1)]\n",
    "    tmp_fc11 = approx_relu_fhe(sec, calgo, tmp_fc1, ff, repeat=4, xfactor=15)[0]\n",
    "    print(f\"activation... {time() - t0:.3f} seconds\")\n",
    "\n",
    "    result = fullyConnected2(sec, tmp_fc11, org_model.fc2)\n",
    "    print(f\"Done... {time() - t0:.3f} seconds\")\n",
    "\n",
    "    pred = sec.decrypt(result)[:10]\n",
    "    \n",
    "    return pred"
   ]
  },
  {
   "cell_type": "markdown",
   "id": "386ab11f",
   "metadata": {},
   "source": [
    "## FHE prediction"
   ]
  },
  {
   "cell_type": "code",
   "execution_count": 67,
   "id": "f7c1f4a1",
   "metadata": {},
   "outputs": [],
   "source": [
    "from time import time"
   ]
  },
  {
   "cell_type": "code",
   "execution_count": null,
   "id": "06c108d4",
   "metadata": {},
   "outputs": [],
   "source": []
  },
  {
   "cell_type": "code",
   "execution_count": null,
   "id": "8d5574c7",
   "metadata": {},
   "outputs": [],
   "source": []
  },
  {
   "cell_type": "code",
   "execution_count": 29,
   "id": "0f0b69df",
   "metadata": {},
   "outputs": [],
   "source": [
    "org_tt1 = org_model.conv_layer1(img_tensor)\n",
    "org_tt2 = org_model.conv_layer2(org_tt1)\n",
    "org_tt3 = org_model.pool(org_tt2)\n",
    "org_tt4 = org_model.conv_layer3(org_tt3)\n",
    "org_tt5 = org_model.bn1(org_tt4)\n",
    "org_tt6 = org_model.activation(org_tt5)\n",
    "org_tt7 = org_model.pool(org_tt6)\n",
    "org_tt8 = org_model.conv_layer4(org_tt7)\n",
    "org_tt9 = org_model.conv_layer5(org_tt8)\n",
    "#######################\n",
    "org_tt9_1 = org_model.bn2(org_tt9)\n",
    "org_tt9_2 = org_model.activation(org_tt9_1)\n",
    "#######################\n",
    "org_tt10 = org_model.pool(org_tt9_2)\n",
    "org_tt10_ = org_tt10.reshape(org_tt10.size(0),-1)\n",
    "org_11 = org_model.fc1(org_tt10_)\n",
    "org_11_1 = org_model.activation(org_11)"
   ]
  },
  {
   "cell_type": "code",
   "execution_count": 34,
   "id": "88624d0a",
   "metadata": {
    "scrolled": true
   },
   "outputs": [
    {
     "name": "stdout",
     "output_type": "stream",
     "text": [
      "Output image size 32 32\n",
      "[-2.66347080e-12 -1.03683549e-11 -6.24585006e-12 ...  5.91385938e-02\n",
      "  5.85382020e-02  5.64368308e-02]\n",
      "[-5.55131891e-13 -1.20082347e-12 -1.79930503e-13 ...  4.55001645e-02\n",
      "  4.38668254e-02  3.18488218e-14]\n",
      "[-2.05995748e-12  3.36455553e-03  3.26321350e-03 ...  4.11448651e-03\n",
      "  3.95233927e-03  3.91180247e-03]\n",
      "[-0.02286128 -0.02217269 -0.0214841  ... -0.02685512 -0.02657969\n",
      " -0.02575337]\n",
      "[-7.31223240e-02 -7.08514452e-02 -6.81263897e-02 ... -8.76559528e-02\n",
      " -8.49308975e-02 -2.70208335e-13]\n",
      "[ 3.90091595e-13 -4.05919657e-02 -3.93154889e-02 ...  2.85131359e-12\n",
      " -1.82860035e-13 -7.10628735e-13]\n",
      "[-5.28760053e-02 -5.12132382e-02 -4.98830243e-02 ...  1.75316250e-12\n",
      "  8.62627455e-13 -4.38529762e-12]\n",
      "[-6.29630144e-02 -6.13276119e-02 -5.88745077e-02 ...  3.02231779e-12\n",
      "  3.79467301e-12 -1.03084349e-12]\n",
      "[ 2.66073754e-12  2.59311496e-13 -2.06826705e-12 ...  9.54145300e-02\n",
      "  9.37904530e-02  9.17603568e-02]\n",
      "[-3.14266397e-12 -2.33469766e-12  1.70594636e-13 ...  1.01663178e-01\n",
      "  9.94626763e-02  4.90073475e-12]\n",
      "[8.54690270e-14 6.74760780e-02 6.52375353e-02 ... 7.57906652e-02\n",
      " 7.45114980e-02 7.35521225e-02]\n",
      "[0.1326726  0.12827114 0.12575602 ... 0.14650576 0.14461942 0.14147552]\n",
      "[ 1.19553970e-02  1.17209775e-02  1.14279531e-02 ...  1.34791240e-02\n",
      "  1.31860996e-02 -9.81040569e-14]\n",
      "[-1.08672351e-12  2.29049610e-02  2.21303972e-02 ...  1.13791207e-12\n",
      " -2.29442112e-12  7.50508491e-13]\n",
      "[ 9.17162206e-02  8.86147065e-02  8.63993389e-02 ... -1.27017481e-12\n",
      "  4.28989176e-13 -4.04561230e-13]\n",
      "[ 5.72382829e-02  5.58073262e-02  5.43763692e-02 ...  6.81319759e-13\n",
      " -7.63596673e-13 -8.58327151e-13]\n",
      "[-1.84594877e-12  2.20529295e-12 -4.01947787e-12 ... -1.32267814e-01\n",
      " -1.31721253e-01 -1.30081569e-01]\n",
      "[-9.72457869e-13  4.52822209e-12 -5.73614818e-12 ... -6.55019450e-02\n",
      " -6.46865682e-02  1.20937637e-12]\n",
      "[ 1.51155521e-12 -6.59441058e-02 -6.47922438e-02 ... -6.96876575e-02\n",
      " -6.93996920e-02 -6.91117264e-02]\n",
      "[-0.04003264 -0.03933338 -0.03880894 ... -0.04213042 -0.04195561\n",
      " -0.04178079]\n",
      "[-8.24523812e-02 -8.13530166e-02 -8.02536515e-02 ... -8.79492066e-02\n",
      " -8.75827516e-02 -1.94630712e-12]\n",
      "[-5.31558149e-13  4.08144454e-02  4.02702528e-02 ...  9.33769694e-13\n",
      "  1.25982013e-12  8.86883964e-14]\n",
      "[1.13218583e-02 1.11709002e-02 1.10199421e-02 ... 1.95809643e-12\n",
      " 1.52231259e-12 7.35728247e-13]\n",
      "[3.36236543e-02 3.31692807e-02 3.25634491e-02 ... 3.91410406e-12\n",
      " 4.16249154e-12 2.46743262e-13]\n",
      "[ 3.04178056e-12 -8.83244651e-12  5.05845473e-12 ...  6.58123401e-02\n",
      "  6.51441946e-02  6.28056852e-02]\n",
      "[-2.22087721e-12 -3.43127928e-12 -2.19718810e-12 ...  6.90663770e-03\n",
      "  6.65870713e-03  7.26234982e-13]\n",
      "[-6.58329703e-13 -9.73434994e-03 -9.44114664e-03 ... -1.19040542e-02\n",
      " -1.14349290e-02 -1.13176477e-02]\n",
      "[0.08916125 0.08647567 0.08379009 ... 0.10473761 0.10366337 0.10044068]\n",
      "[-6.24848568e-02 -6.05443340e-02 -5.82157059e-02 ... -7.49042065e-02\n",
      " -7.25755785e-02 -1.61768355e-12]\n",
      "[-3.14756770e-12  3.69058627e-02  3.57453011e-02 ... -1.86185271e-12\n",
      " -3.12533132e-12 -1.53688511e-12]\n",
      "[ 1.16183785e-01  1.12530208e-01  1.09607346e-01 ... -1.10892436e-12\n",
      "  3.99158566e-12 -1.97090125e-12]\n",
      "[ 3.06824067e-02  2.98854613e-02  2.86900430e-02 ... -1.42216495e-12\n",
      " -3.13605838e-12  3.97492580e-12]\n",
      "[-1.39532733e-12  6.56100704e-13 -6.04359014e-12 ...  4.83937155e-02\n",
      "  4.75699927e-02  4.65403393e-02]\n",
      "[ 1.58882992e-12 -1.30257532e-12  6.10380607e-13 ... -5.18718628e-02\n",
      " -5.07490953e-02 -1.25331813e-12]\n",
      "[ 2.46801940e-12 -1.30041667e-01 -1.25727489e-01 ... -1.46065758e-01\n",
      " -1.43600513e-01 -1.41751580e-01]\n",
      "[-0.04626023 -0.04472553 -0.04384856 ... -0.05108357 -0.05042584\n",
      " -0.04932962]\n",
      "[-1.83832028e-01 -1.80227480e-01 -1.75721793e-01 ... -2.07261600e-01\n",
      " -2.02755913e-01  3.88541616e-12]\n",
      "[ 4.01342818e-12 -2.28515425e-02 -2.20787851e-02 ...  2.11432273e-12\n",
      " -1.68091695e-12  1.99336870e-12]\n",
      "[-1.86465110e-02 -1.80159528e-02 -1.75655540e-02 ...  6.77491013e-13\n",
      "  2.89125673e-12 -4.06318077e-12]\n",
      "[-1.31190573e-01 -1.27910810e-01 -1.24631046e-01 ... -1.94769025e-13\n",
      "  1.38381563e-12 -5.40373356e-12]\n",
      "[-1.97977141e-12 -4.29215072e-12  6.48240778e-12 ...  2.30850716e-01\n",
      "  2.29896788e-01  2.27035002e-01]\n",
      "[-1.91902935e-12 -8.47496192e-12 -3.47541190e-12 ...  1.21717057e-01\n",
      "  1.20201907e-01  7.69112219e-13]\n",
      "[ 7.71954580e-13 -8.95932905e-03 -8.80283424e-03 ... -9.46793723e-03\n",
      " -9.42881352e-03 -9.38968982e-03]\n",
      "[0.15757416 0.15482177 0.15275748 ... 0.16583132 0.16514322 0.16445513]\n",
      "[-1.78490953e-02 -1.76111075e-02 -1.73731195e-02 ... -1.90390350e-02\n",
      " -1.89597057e-02  6.76863358e-14]\n",
      "[-1.73460302e-12 -6.06978188e-02 -5.98885146e-02 ...  2.21046644e-12\n",
      " -2.00651754e-12  1.99489772e-12]\n",
      "[ 5.24303070e-02  5.17312365e-02  5.10321657e-02 ... -4.01736047e-12\n",
      " -9.84382255e-13 -7.00617717e-12]\n",
      "[-4.27944792e-02 -4.22161756e-02 -4.14451039e-02 ...  4.20857278e-12\n",
      " -3.92725843e-12 -5.90928428e-12]\n",
      "[ 6.39469378e-13 -6.45740941e-14 -1.03023540e-12 ...  5.34839997e-02\n",
      "  5.29410150e-02  5.10405685e-02]\n",
      "[ 1.53466228e-12  7.08804039e-13 -3.71487903e-13 ...  7.65470801e-02\n",
      "  7.37992364e-02 -1.17632030e-12]\n",
      "[5.26128273e-13 2.56608363e-02 2.48879197e-02 ... 3.13804199e-02\n",
      " 3.01437532e-02 2.98345865e-02]\n",
      "[-0.02722001 -0.02640013 -0.02558025 ... -0.03197531 -0.03164736\n",
      " -0.0306635 ]\n",
      "[-5.96698622e-02 -5.78167615e-02 -5.55930400e-02 ... -7.15297099e-02\n",
      " -6.93059885e-02  1.82995646e-12]\n",
      "[-1.84691328e-13  8.94432394e-02  8.66305591e-02 ...  8.66051953e-14\n",
      " -4.45540037e-13  2.35515868e-12]\n",
      "[ 1.02462338e-01  9.92402524e-02  9.66625837e-02 ... -1.29615051e-12\n",
      "  7.27444335e-13 -2.92823779e-13]\n",
      "[ 4.28894044e-02  4.17753942e-02  4.01043786e-02 ... -4.87352983e-13\n",
      "  2.80475589e-12  4.48470438e-12]\n",
      "[-7.80641325e-14  2.96293768e-12 -4.53349460e-12 ...  7.46552838e-03\n",
      "  7.33845556e-03  7.17961455e-03]\n",
      "[ 1.88760351e-12  2.00837788e-12  2.57109217e-12 ... -1.84668363e-02\n",
      " -1.80671212e-02 -2.16095722e-12]\n",
      "[1.55263441e-12 3.78586260e-02 3.66026528e-02 ... 4.25236697e-02\n",
      " 4.18059707e-02 4.12676964e-02]\n",
      "[-0.15762773 -0.15239837 -0.14941017 ... -0.17406285 -0.1718217\n",
      " -0.16808644]\n",
      "[-1.62187924e-01 -1.59007770e-01 -1.55032576e-01 ... -1.82858934e-01\n",
      " -1.78883740e-01  2.32742318e-12]\n",
      "[-1.99414052e-12  6.57034629e-02  6.34816069e-02 ... -3.44930721e-12\n",
      " -3.43927240e-12 -1.41094926e-12]\n",
      "[ 1.51697320e-02  1.46567459e-02  1.42903273e-02 ... -2.38687888e-12\n",
      " -3.07521429e-12  1.85343112e-12]\n",
      "[-6.30554845e-03 -6.14790978e-03 -5.99027109e-03 ...  1.14768506e-12\n",
      "  6.52704373e-13  3.99554374e-12]\n",
      "[-3.34102053e-12  3.53093933e-12 -6.54749732e-12 ...  3.62730565e-02\n",
      "  3.61231679e-02  3.56735019e-02]\n",
      "[ 2.43593663e-12  8.45913479e-13 -1.87149708e-13 ...  9.18384048e-02\n",
      "  9.06951883e-02  2.51978768e-12]\n",
      "[8.81907719e-13 2.87609524e-02 2.82585778e-02 ... 3.03936702e-02\n",
      " 3.02680765e-02 3.01424828e-02]\n",
      "[-0.15825503 -0.15549075 -0.15341754 ... -0.16654787 -0.1658568\n",
      " -0.16516573]\n",
      "[-1.56862553e-01 -1.54771053e-01 -1.52679553e-01 ... -1.67320057e-01\n",
      " -1.66622890e-01 -1.17960429e-12]\n",
      "[-2.26318988e-12  2.27070066e-02  2.24042465e-02 ...  4.72350702e-13\n",
      "  2.09440266e-12 -7.20972731e-13]\n",
      "[ 3.70089100e-02  3.65154580e-02  3.60220059e-02 ... -2.00306280e-12\n",
      "  1.88823463e-12  2.59749430e-12]\n",
      "[ 2.97933356e-03  2.93907231e-03  2.88539063e-03 ... -2.23712498e-12\n",
      "  3.29767134e-14 -3.93016765e-13]\n",
      "[9.71738824e-13 1.18148518e-12 6.94994574e-12 ... 5.97416090e-02\n",
      " 5.91350952e-02 5.70122971e-02]\n",
      "[-3.37958459e-12 -1.03628403e-12 -2.33993116e-12 ...  6.50617631e-02\n",
      "  6.27262128e-02  2.17255472e-15]\n",
      "[ 1.09191944e-12 -8.95742231e-03 -8.68762045e-03 ... -1.09539560e-02\n",
      " -1.05222731e-02 -1.04143523e-02]\n",
      "[0.11399363 0.11056009 0.10712655 ... 0.13390818 0.13253477 0.12841452]\n",
      "[ 5.60945969e-02  5.43525292e-02  5.22620474e-02 ...  6.72438328e-02\n",
      "  6.51533512e-02 -2.08635043e-12]\n",
      "[-2.19327621e-13 -1.09795500e-02 -1.06342811e-02 ...  1.27101287e-12\n",
      "  2.46248948e-12 -1.73000711e-12]\n",
      "[-3.73082925e-02 -3.61350761e-02 -3.51965027e-02 ... -7.20589852e-13\n",
      " -3.12569430e-12 -1.02245889e-12]\n",
      "[-1.07031638e-02 -1.04251596e-02 -1.00081533e-02 ...  9.47531801e-13\n",
      "  1.50156322e-13 -1.96852815e-12]\n",
      "[ 1.24892455e-12 -5.23630891e-14 -4.03252101e-12 ...  8.71414387e-03\n",
      "  8.56581803e-03  8.38041073e-03]\n",
      "[ 2.49955799e-12  1.68198110e-12  1.56558017e-12 ... -4.13297635e-02\n",
      " -4.04351799e-02 -1.80676176e-13]\n",
      "[1.20287835e-12 9.26529689e-03 8.95791742e-03 ... 1.04069922e-02\n",
      " 1.02313468e-02 1.00996127e-02]\n",
      "[0.05433082 0.05252838 0.05149841 ... 0.05999565 0.05922317 0.05793571]\n"
     ]
    },
    {
     "name": "stdout",
     "output_type": "stream",
     "text": [
      "[-1.45258041e-02 -1.42409845e-02 -1.38849599e-02 ... -1.63771321e-02\n",
      " -1.60211075e-02  1.45210374e-12]\n",
      "[-1.23865124e-13 -4.08423332e-02 -3.94611916e-02 ...  3.63009742e-13\n",
      " -7.32273635e-13 -1.30901760e-12]\n",
      "[-1.17110758e-01 -1.13150492e-01 -1.10321729e-01 ...  3.57209935e-13\n",
      " -5.90223716e-13  1.54333219e-13]\n",
      "[-9.64384996e-02 -9.40275376e-02 -9.16165753e-02 ... -1.10619608e-13\n",
      " -1.19841842e-12 -3.02182024e-13]\n",
      "[ 5.45943368e-12  8.18568883e-13 -7.13744110e-13 ...  6.30824572e-03\n",
      "  6.28217859e-03  6.20397720e-03]\n",
      "[-3.14551291e-12 -3.36477279e-12 -1.87376199e-12 ... -3.37035013e-02\n",
      " -3.32839556e-02  3.65020377e-12]\n",
      "[-2.22241828e-12  1.66983358e-02  1.64066619e-02 ...  1.76462762e-02\n",
      "  1.75733577e-02  1.75004393e-02]\n",
      "[0.10097944 0.09921561 0.09789273 ... 0.10627094 0.10582998 0.10538902]\n",
      "[9.78946146e-02 9.65893537e-02 9.52840921e-02 ... 1.04420922e-01\n",
      " 1.03985835e-01 1.28939949e-12]\n",
      "[-8.37544213e-13 -6.61652736e-03 -6.52830699e-03 ...  2.27209156e-12\n",
      " -2.17844390e-12 -5.03402785e-13]\n",
      "[-5.63784497e-02 -5.56267373e-02 -5.48750246e-02 ... -1.92690691e-12\n",
      " -1.13542585e-12 -3.14826512e-12]\n",
      "[-2.70500391e-02 -2.66844981e-02 -2.61971100e-02 ... -5.74322450e-13\n",
      "  3.62744413e-12  1.36939295e-12]\n",
      "[ 1.29445417e-12  3.91554205e-12 -3.08737333e-12 ...  7.15767114e-02\n",
      "  7.08500444e-02  6.83067096e-02]\n",
      "[1.03676663e-12 2.08360998e-12 2.08293838e-12 ... 2.46571689e-02\n",
      " 2.37720399e-02 9.23457651e-13]\n",
      "[ 4.47143022e-13 -1.85399421e-02 -1.79815102e-02 ... -2.26723385e-02\n",
      " -2.17788474e-02 -2.15554747e-02]\n",
      "[0.08117523 0.07873019 0.07628515 ... 0.09535644 0.09437843 0.09144438]\n",
      "[ 4.95536930e-02  4.80147590e-02  4.61680376e-02 ...  5.94028737e-02\n",
      "  5.75561524e-02 -2.91709032e-12]\n",
      "[-9.61986716e-13 -3.90625924e-02 -3.78342091e-02 ... -1.36816553e-12\n",
      "  3.43376753e-12  1.72315849e-12]\n",
      "[ 1.20966781e-02  1.17162795e-02  1.14119606e-02 ... -5.11963005e-13\n",
      "  2.06248651e-12  1.81706566e-12]\n",
      "[-3.59851863e-02 -3.50505064e-02 -3.36484863e-02 ...  5.62589118e-13\n",
      " -3.82094507e-12 -1.66345410e-13]\n",
      "[ 8.27797179e-13  4.55853909e-12  2.32314256e-12 ... -4.01359925e-02\n",
      " -3.94528267e-02 -3.85988695e-02]\n",
      "[-7.39607616e-13 -3.17463412e-12  4.84673724e-13 ... -6.61082050e-02\n",
      " -6.46772916e-02 -1.55411844e-12]\n",
      "[ 8.61699822e-13 -8.51053178e-02 -8.22819189e-02 ... -9.55922284e-02\n",
      " -9.39788575e-02 -9.27688294e-02]\n",
      "[0.01131357 0.01093823 0.01072376 ... 0.01249318 0.01233232 0.01206423]\n",
      "[-1.08562903e-02 -1.06434220e-02 -1.03773364e-02 ... -1.22399351e-02\n",
      " -1.19738496e-02 -2.29466887e-14]\n",
      "[ 1.42613383e-12 -5.10924123e-02 -4.93646496e-02 ...  1.15152074e-12\n",
      "  3.34937802e-12 -4.09977375e-12]\n",
      "[ 2.67508521e-02  2.58462341e-02  2.52000783e-02 ...  3.45276747e-12\n",
      " -4.66324590e-12  4.35088130e-13]\n",
      "[-1.22801830e-02 -1.19731785e-02 -1.16661740e-02 ...  3.21653843e-12\n",
      "  5.08854169e-13 -4.18803289e-12]\n",
      "[ 1.67147637e-12  2.80566544e-12 -5.87878065e-12 ... -4.65116716e-02\n",
      " -4.63194746e-02 -4.57428837e-02]\n",
      "[ 3.28152634e-12  9.86600207e-13 -7.29162511e-12 ... -3.57240716e-02\n",
      " -3.52793736e-02 -1.04381443e-12]\n",
      "[-9.32903740e-13 -6.63309945e-02 -6.51723746e-02 ... -7.00965093e-02\n",
      " -6.98068543e-02 -6.95171993e-02]\n",
      "[0.02203363 0.02164876 0.02136011 ... 0.02318823 0.02309201 0.0229958 ]\n",
      "[5.78073768e-02 5.70366121e-02 5.62658471e-02 ... 6.16612019e-02\n",
      " 6.14042802e-02 2.52889807e-12]\n",
      "[-3.44411216e-12 -1.37594875e-02 -1.35760277e-02 ...  2.14841111e-12\n",
      "  9.62326919e-14 -1.72831968e-12]\n",
      "[ 5.38084957e-02  5.30910493e-02  5.23736027e-02 ... -5.87325386e-12\n",
      "  2.00313753e-12  4.29853950e-13]\n",
      "[-4.95261903e-03 -4.88569177e-03 -4.79645540e-03 ...  2.70488197e-13\n",
      " -1.08050534e-12  3.77316521e-12]\n",
      "[-1.08823380e-13 -2.69470913e-12  3.64106606e-13 ...  2.21268363e-02\n",
      "  2.19021984e-02  2.11159657e-02]\n",
      "[-4.13314922e-13 -1.79959853e-12  2.95321267e-12 ...  2.41498490e-02\n",
      "  2.32829314e-02  4.10550349e-12]\n",
      "[7.95990326e-13 7.18852417e-02 6.97200238e-02 ... 8.79078545e-02\n",
      " 8.44435058e-02 8.35774186e-02]\n",
      "[0.11711394 0.11358641 0.11005889 ... 0.1375736  0.13616259 0.13192956]\n",
      "[ 6.84954683e-02  6.63682806e-02  6.38156545e-02 ...  8.21094736e-02\n",
      "  7.95568477e-02 -9.94764631e-13]\n",
      "[ 1.83252436e-12  4.44921521e-02  4.30930280e-02 ...  3.58424631e-13\n",
      " -1.52104315e-13  1.35876926e-12]\n",
      "[ 7.40926293e-02  7.17626730e-02  6.98987076e-02 ... -5.05376032e-12\n",
      "  5.47305188e-12 -7.48136781e-13]\n",
      "[-2.12778988e-02 -2.07252262e-02 -1.98962173e-02 ... -1.76962598e-12\n",
      " -1.64725635e-12  2.69513481e-12]\n",
      "[-1.42845398e-13  5.07551944e-12 -1.42398608e-11 ... -4.53395893e-02\n",
      " -4.45678517e-02 -4.36031796e-02]\n",
      "[-1.11655106e-12 -5.06257939e-13  9.24844434e-12 ...  7.53054425e-02\n",
      "  7.36754546e-02 -6.16583595e-13]\n",
      "[-2.29446263e-12 -4.95050726e-03 -4.78627244e-03 ... -5.56052234e-03\n",
      " -5.46667386e-03 -5.39628750e-03]\n",
      "[0.02305445 0.02228961 0.02185256 ... 0.02545823 0.02513044 0.02458413]\n",
      "[ 2.97039659e-03  2.91215353e-03  2.83934970e-03 ...  3.34897653e-03\n",
      "  3.27617270e-03 -2.36038349e-12]\n",
      "[-1.48771030e-12 -3.73900460e-02 -3.61256484e-02 ... -2.31634855e-12\n",
      "  8.52094166e-13  1.36223927e-12]\n",
      "[-1.10198218e-01 -1.06471709e-01 -1.03809917e-01 ... -1.48958421e-12\n",
      "  9.71363546e-13  1.41679754e-12]\n",
      "[-1.45266620e-01 -1.41634955e-01 -1.38003290e-01 ... -1.20834542e-12\n",
      "  6.87328053e-13  3.33876612e-13]\n",
      "[-1.51776139e-12  3.13664177e-12  2.56219611e-12 ... -2.02936382e-02\n",
      " -2.02097802e-02 -1.99582062e-02]\n",
      "[-4.20858182e-12 -3.13332977e-12 -2.34717215e-12 ... -1.28030060e-02\n",
      " -1.26436325e-02 -2.56386775e-12]\n",
      "[4.30889129e-12 5.84554881e-02 5.74344316e-02 ... 6.17739217e-02\n",
      " 6.15186576e-02 6.12633935e-02]\n",
      "[0.01288595 0.01266086 0.01249205 ... 0.01356119 0.01350492 0.01344865]\n",
      "[1.26086070e-02 1.24404923e-02 1.22723775e-02 ... 1.34491808e-02\n",
      " 1.33931425e-02 3.05849724e-12]\n",
      "[ 1.00016401e-12 -4.69460443e-02 -4.63200971e-02 ... -2.03709366e-13\n",
      "  2.11035074e-12  3.04583871e-12]\n",
      "[-9.87875076e-02 -9.74703413e-02 -9.61531746e-02 ... -2.40850103e-12\n",
      " -1.92153294e-12  6.83733122e-13]\n",
      "[-1.17256406e-01 -1.15671860e-01 -1.13559132e-01 ...  7.54294740e-14\n",
      " -2.87785169e-12 -1.96363030e-12]\n",
      "[-2.80103816e-12  3.38129558e-14  1.06715984e-12 ...  7.69725300e-02\n",
      "  7.61910830e-02  7.34560187e-02]\n",
      "[-2.46214266e-12  9.64063774e-13  3.61205291e-13 ...  4.71868646e-02\n",
      "  4.54929773e-02 -3.23577754e-12]\n",
      "[-3.29185987e-12  2.25730746e-02  2.18931628e-02 ...  2.76044222e-02\n",
      "  2.65165633e-02  2.62445985e-02]\n",
      "[0.03949401 0.03830444 0.03711486 ... 0.04639357 0.04591774 0.04449024]\n",
      "[ 2.82301347e-02  2.73534228e-02  2.63013681e-02 ...  3.38410929e-02\n",
      "  3.27890382e-02 -5.08262393e-12]\n",
      "[-1.48064155e-12 -1.19650607e-01 -1.15888010e-01 ...  1.09245515e-13\n",
      " -1.45479023e-12  1.43245621e-12]\n",
      "[-1.21647793e-01 -1.17822391e-01 -1.14762070e-01 ... -3.19820431e-12\n",
      " -3.96305921e-12 -3.08601123e-13]\n",
      "[-2.18370509e-02 -2.12698549e-02 -2.04190608e-02 ...  7.88710614e-13\n",
      " -8.71483264e-13  2.52633009e-12]\n",
      "[ 8.73811130e-13  9.56339694e-13 -2.23385955e-12 ...  9.67593275e-02\n",
      "  9.51123604e-02  9.30536514e-02]\n",
      "[-1.76454464e-12 -5.12648358e-12 -4.04712728e-13 ... -2.24419754e-02\n",
      " -2.19562184e-02 -4.63996745e-12]\n",
      "[-1.03703856e-13  1.23233841e-01  1.19145515e-01 ...  1.38419053e-01\n",
      "  1.36082866e-01  1.34330726e-01]\n",
      "[0.05420359 0.05240536 0.05137781 ... 0.05985515 0.05908448 0.05780003]\n",
      "[-2.64628951e-02 -2.59440150e-02 -2.52954146e-02 ... -2.98356169e-02\n",
      " -2.91870166e-02  2.80467333e-12]\n",
      "[ 2.88790537e-12 -6.55054657e-02 -6.32903051e-02 ... -5.36709111e-13\n",
      "  3.61011383e-12 -1.84881658e-12]\n",
      "[-5.77671398e-02 -5.58136620e-02 -5.44183205e-02 ... -2.25976503e-13\n",
      " -2.70802459e-13 -3.31443269e-12]\n",
      "[-7.19554005e-03 -7.01565159e-03 -6.83576309e-03 ... -3.01141217e-13\n",
      "  1.15430582e-13  1.64248063e-12]\n",
      "[1.47724557e-12 1.14655879e-12 8.78332126e-12 ... 2.94199735e-02\n",
      " 2.92984034e-02 2.89336930e-02]\n",
      "[ 1.37392966e-12  1.46324892e-12 -4.00523106e-12 ... -1.15995899e-01\n",
      " -1.14551966e-01  1.78790275e-12]\n",
      "[1.47973200e-13 1.77145324e-01 1.74051083e-01 ... 1.87201608e-01\n",
      " 1.86428048e-01 1.85654487e-01]\n",
      "[0.01704842 0.01675063 0.01652729 ... 0.01794178 0.01786734 0.01779289]\n",
      "[-6.46512764e-02 -6.37892598e-02 -6.29272427e-02 ... -6.89613614e-02\n",
      " -6.86740225e-02  3.25993553e-13]\n",
      "[-2.37188970e-13 -2.52233657e-02 -2.48870542e-02 ... -1.16908791e-12\n",
      "  4.45840688e-13 -3.78250192e-12]\n",
      "[-1.02301971e-01 -1.00937945e-01 -9.95739186e-02 ... -4.16502781e-12\n",
      " -4.48789147e-12 -9.63872753e-13]\n",
      "[-9.89440159e-02 -9.76069350e-02 -9.58241600e-02 ...  8.89884404e-13\n",
      "  1.87658093e-12 -5.67791022e-13]\n",
      "[ 1.22699979e-12 -4.84675434e-12 -4.44124624e-12 ... -4.94726687e-02\n",
      " -4.89704081e-02 -4.72124962e-02]\n"
     ]
    },
    {
     "name": "stdout",
     "output_type": "stream",
     "text": [
      "[ 1.60351682e-12  5.92199708e-12 -1.42888465e-12 ... -1.02097794e-01\n",
      " -9.84327454e-02  2.53592759e-13]\n",
      "[1.08302725e-12 2.15366295e-02 2.08879359e-02 ... 2.63369622e-02\n",
      " 2.52990525e-02 2.50395750e-02]\n",
      "[0.11610451 0.11260739 0.10911026 ... 0.13638783 0.13498898 0.13079243]\n",
      "[-2.91479713e-02 -2.82427551e-02 -2.71564954e-02 ... -3.49413566e-02\n",
      " -3.38550969e-02  7.16983547e-13]\n",
      "[-2.75326689e-12 -2.12729109e-02 -2.06039515e-02 ... -1.07776933e-12\n",
      " -1.48631818e-12  1.36429248e-12]\n",
      "[ 8.99216951e-02  8.70939695e-02  8.48317887e-02 ... -3.03072868e-14\n",
      "  1.21695748e-12 -3.24413734e-13]\n",
      "[7.55369506e-03 7.35749525e-03 7.06319546e-03 ... 3.01698964e-12\n",
      " 8.67735467e-13 3.92827873e-13]\n",
      "[ 2.45185351e-12  3.87311670e-12 -1.45664311e-12 ...  7.75380325e-03\n",
      "  7.62182363e-03  7.45684910e-03]\n",
      "[-1.77800787e-12 -6.78154527e-12 -4.39400647e-12 ... -1.54249000e-01\n",
      " -1.50910278e-01  3.51097301e-12]\n",
      "[1.61442697e-12 9.37631651e-02 9.06525391e-02 ... 1.05316919e-01\n",
      " 1.03539419e-01 1.02206293e-01]\n",
      "[0.16180096 0.15643316 0.15336584 ... 0.1786712  0.17637071 0.17253657]\n",
      "[-1.12782468e-01 -1.10571048e-01 -1.07806772e-01 ... -1.27156704e-01\n",
      " -1.24392428e-01 -1.98756595e-12]\n",
      "[ 1.53646010e-12  2.17112212e-02  2.09770254e-02 ... -2.44333075e-12\n",
      " -1.89769559e-12 -1.31761392e-12]\n",
      "[ 1.31538690e-01  1.27090522e-01  1.23913259e-01 ...  1.59093855e-12\n",
      "  2.06485387e-12 -1.66202749e-12]\n",
      "[-4.65894221e-02 -4.54246868e-02 -4.42599513e-02 ... -1.03507186e-12\n",
      "  1.15536188e-12  6.53737541e-13]\n",
      "[-1.56885364e-12 -4.54235131e-12 -5.53126603e-12 ...  7.21120611e-02\n",
      "  7.18140774e-02  7.09201263e-02]\n",
      "[-1.53275723e-12  7.76376264e-13  7.44550289e-14 ... -4.45385839e-02\n",
      " -4.39841617e-02  1.67687679e-13]\n",
      "[1.19622128e-12 3.89378588e-02 3.82577216e-02 ... 4.11483049e-02\n",
      " 4.09782705e-02 4.08082362e-02]\n",
      "[0.11429963 0.11230313 0.11080576 ... 0.12028913 0.11979001 0.11929088]\n",
      "[-1.32475922e-01 -1.30709577e-01 -1.28943231e-01 ... -1.41307650e-01\n",
      " -1.40718868e-01  5.21847954e-12]\n",
      "[ 5.95681305e-13 -9.21330525e-02 -9.09046119e-02 ...  1.34183688e-12\n",
      "  2.33551976e-12 -2.25370166e-12]\n",
      "[-2.93626387e-02 -2.89711370e-02 -2.85796351e-02 ... -5.17971208e-13\n",
      "  1.25601785e-12  1.39076272e-12]\n",
      "[-1.81404239e-01 -1.78952831e-01 -1.75684287e-01 ...  1.30256877e-12\n",
      "  1.56157459e-12  1.76487842e-12]\n",
      "[ 1.20507124e-12  8.93296699e-12 -5.87110390e-12 ...  6.61649202e-02\n",
      "  6.54931951e-02  6.31421575e-02]\n",
      "[ 4.17086666e-13  1.25426695e-12 -1.02925823e-11 ...  5.75898185e-02\n",
      "  5.55224918e-02 -1.18734332e-12]\n",
      "[-4.62255704e-12 -8.99679244e-03 -8.72580475e-03 ... -1.10021014e-02\n",
      " -1.05685211e-02 -1.04601260e-02]\n",
      "[0.14205111 0.13777247 0.13349382 ... 0.16686727 0.16515581 0.16002143]\n",
      "[-9.62078707e-03 -9.32200496e-03 -8.96346632e-03 ... -1.15329931e-02\n",
      " -1.11744545e-02  2.24951887e-12]\n",
      "[ 2.02487343e-12 -1.35047315e-01 -1.30800545e-01 ... -3.42092371e-13\n",
      " -3.84281220e-13  4.81253360e-13]\n",
      "[ 3.01743716e-02  2.92254922e-02  2.84663886e-02 ...  3.46589819e-12\n",
      " -5.00083030e-13 -1.02754162e-12]\n",
      "[-5.10109104e-02 -4.96859521e-02 -4.76985142e-02 ... -1.81146671e-12\n",
      "  1.35045684e-12  2.33506345e-12]\n",
      "[-3.06677919e-13 -9.73058764e-13  1.09002908e-13 ...  4.13488247e-02\n",
      "  4.06450150e-02  3.97652528e-02]\n",
      "[-1.85804865e-12 -4.41257026e-12  1.44855281e-12 ... -8.02875491e-02\n",
      " -7.85497234e-02  1.23754272e-13]\n",
      "[-1.13196583e-12 -7.38982285e-02 -7.14466287e-02 ... -8.30041708e-02\n",
      " -8.16032566e-02 -8.05525710e-02]\n",
      "[0.15352917 0.14843579 0.14552528 ... 0.16953695 0.16735407 0.16371594]\n",
      "[-9.00827779e-02 -8.83164496e-02 -8.61085384e-02 ... -1.01563916e-01\n",
      " -9.93560048e-02  5.36918181e-13]\n",
      "[-1.73998084e-12 -1.49131506e-01 -1.44088412e-01 ... -1.40749014e-12\n",
      "  2.36026994e-12 -9.68281060e-13]\n",
      "[ 4.50974052e-02  4.35723724e-02  4.24830632e-02 ... -9.67830889e-13\n",
      "  1.62612016e-12 -3.36459925e-12]\n",
      "[-6.95254651e-02 -6.77873289e-02 -6.60491924e-02 ... -1.23320483e-12\n",
      "  2.35426443e-12  2.38826634e-12]\n",
      "[-6.62749623e-14 -1.30813199e-12  6.31543224e-12 ... -6.89063682e-02\n",
      " -6.86216311e-02 -6.77674200e-02]\n",
      "[-3.70561791e-12  4.06913042e-12 -4.32168385e-12 ... -1.67495319e-01\n",
      " -1.65410315e-01 -3.79981847e-12]\n",
      "[2.13417651e-12 1.02912648e-01 1.01115047e-01 ... 1.08754851e-01\n",
      " 1.08305450e-01 1.07856050e-01]\n",
      "[0.21284073 0.20912299 0.20633468 ... 0.22399396 0.22306452 0.22213509]\n",
      "[-9.76623011e-02 -9.63601377e-02 -9.50579737e-02 ... -1.04173121e-01\n",
      " -1.03739067e-01 -4.03747956e-12]\n",
      "[-7.13477985e-13  6.50519645e-02  6.41846050e-02 ... -8.99920062e-13\n",
      "  4.44816200e-13  3.69810815e-12]\n",
      "[ 2.18169214e-01  2.15260292e-01  2.12351369e-01 ... -3.17330836e-12\n",
      "  3.38539643e-14  1.18294338e-12]\n",
      "[-3.41847949e-02 -3.37228384e-02 -3.31068962e-02 ... -1.00739983e-12\n",
      "  1.54098347e-12 -4.42471080e-12]\n",
      "[ 3.24359829e-12  7.26021017e-12 -2.77223670e-12 ... -5.19042823e-02\n",
      " -5.13773353e-02 -4.95330209e-02]\n",
      "[2.60079830e-12 6.22259774e-13 1.78234559e-12 ... 6.57560266e-02\n",
      " 6.33955541e-02 7.47055091e-13]\n",
      "[-1.31001194e-12 -8.13881501e-02 -7.89367000e-02 ... -9.95288808e-02\n",
      " -9.56065607e-02 -9.46259806e-02]\n",
      "[0.01630962 0.01581837 0.01532712 ... 0.01915889 0.01896239 0.01837289]\n",
      "[1.06756607e-01 1.03441185e-01 9.94626786e-02 ... 1.27975310e-01\n",
      " 1.23996803e-01 1.61741552e-12]\n",
      "[-1.35187854e-12 -4.19458586e-02 -4.06268066e-02 ... -2.08250698e-13\n",
      "  1.70100386e-12  5.00576055e-13]\n",
      "[ 4.57499448e-02  4.43112676e-02  4.31603257e-02 ...  8.40540758e-15\n",
      " -2.10333388e-12 -2.37450355e-12]\n",
      "[7.15546712e-02 6.96961088e-02 6.69082647e-02 ... 1.38988842e-12\n",
      " 3.71364894e-12 3.73904305e-12]\n",
      "[-4.99120680e-13  5.41743035e-12  4.29675325e-12 ... -6.77349857e-02\n",
      " -6.65820499e-02 -6.51408801e-02]\n",
      "[ 1.67859906e-12 -1.51052119e-12 -7.16097874e-12 ... -9.32278677e-02\n",
      " -9.12099487e-02 -1.11652688e-12]\n",
      "[-3.35164701e-13 -2.69311283e-02 -2.60376786e-02 ... -3.02496557e-02\n",
      " -2.97391131e-02 -2.93562060e-02]\n",
      "[-0.07139753 -0.06902889 -0.06767538 ... -0.07884182 -0.07782669\n",
      " -0.07613481]\n",
      "[-6.01841220e-02 -5.90040416e-02 -5.75289406e-02 ... -6.78546471e-02\n",
      " -6.63795462e-02  1.41451405e-12]\n",
      "[ 1.24010274e-12 -2.34014537e-03 -2.26101003e-03 ...  4.53310712e-14\n",
      " -3.81406907e-12  1.77032924e-12]\n",
      "[-1.11224936e-02 -1.07463707e-02 -1.04777115e-02 ... -3.89354264e-13\n",
      " -2.86679423e-13 -2.20971609e-12]\n",
      "[-6.86465303e-02 -6.69303675e-02 -6.52142043e-02 ... -2.23346890e-12\n",
      "  2.43691178e-12  2.20356480e-12]\n",
      "[ 4.30452559e-13 -1.05675214e-12 -3.33367246e-12 ...  8.66809042e-02\n",
      "  8.63227187e-02  8.52481621e-02]\n",
      "[ 9.15589685e-13 -8.25265053e-13 -3.76665686e-12 ... -2.49528345e-02\n",
      " -2.46422184e-02  1.47382871e-12]\n",
      "[-4.39981256e-12  1.71081228e-01  1.68092910e-01 ...  1.80793263e-01\n",
      "  1.80046183e-01  1.79299104e-01]\n",
      "[0.03213772 0.03157636 0.03115534 ... 0.03382179 0.03368145 0.03354111]\n",
      "[-7.65258628e-02 -7.55055185e-02 -7.44851736e-02 ... -8.16275870e-02\n",
      " -8.12874721e-02  1.03306165e-13]\n",
      "[-3.19438335e-12  1.31399212e-01  1.29647223e-01 ... -3.51711489e-13\n",
      "  2.80034927e-12  4.75044374e-13]\n",
      "[ 4.94055805e-02  4.87468397e-02  4.80880986e-02 ...  7.37101518e-13\n",
      "  1.09191587e-12 -3.25792025e-13]\n",
      "[-1.45730701e-01 -1.43761368e-01 -1.41135590e-01 ...  3.55141686e-12\n",
      " -4.15374950e-13  7.87683645e-13]\n",
      "[-2.40035966e-13  6.63259050e-12  2.82327319e-12 ...  1.25089186e-02\n",
      "  1.23819245e-02  1.19374452e-02]\n",
      "[ 1.69177379e-12  2.37307383e-12  3.79255783e-12 ...  2.04880710e-02\n",
      "  1.97526019e-02 -1.80442951e-12]\n",
      "[ 2.10167186e-12 -7.25106097e-02 -7.03265554e-02 ... -8.86726117e-02\n",
      " -8.51781248e-02 -8.43045030e-02]\n",
      "[-0.08855529 -0.08588797 -0.08322064 ... -0.10402579 -0.10295886\n",
      " -0.09975807]\n",
      "[-5.79494142e-04 -5.61497433e-04 -5.39901373e-04 ... -6.94673105e-04\n",
      " -6.73077048e-04 -4.55023347e-13]\n",
      "[ 1.34979634e-12  4.89105848e-03  4.73725162e-03 ... -4.93140906e-13\n",
      "  1.89380430e-12 -6.59493148e-13]\n",
      "[-6.86627026e-02 -6.65034987e-02 -6.47761352e-02 ... -7.25982438e-13\n",
      "  1.96894630e-12  8.10843525e-13]\n",
      "[-1.29059952e-02 -1.25707747e-02 -1.20679437e-02 ...  1.17434868e-12\n",
      "  2.27094616e-12  1.90997866e-12]\n",
      "[-2.16170034e-12 -5.33604649e-12  6.85428999e-12 ...  1.25575843e-01\n",
      "  1.23438382e-01  1.20766555e-01]\n",
      "[-4.79957571e-13  1.39631719e-12 -2.88253473e-12 ...  1.19714833e-01\n",
      "  1.17123603e-01 -3.71905152e-12]\n",
      "[-3.42873812e-12 -9.38117638e-03 -9.06995254e-03 ... -1.05371506e-02\n",
      " -1.03593084e-02 -1.02259268e-02]\n",
      "[0.01993692 0.0192755  0.01889755 ... 0.02201565 0.02173218 0.02125975]\n",
      "[ 7.11173724e-02  6.97229146e-02  6.79798418e-02 ...  8.01813509e-02\n",
      "  7.84382782e-02 -6.05251755e-12]\n",
      "[-4.28223448e-13 -1.23783242e-02 -1.19597336e-02 ... -4.43503505e-13\n",
      " -3.55758745e-13  5.25946617e-13]\n",
      "[-1.54830850e-02 -1.49595025e-02 -1.45855149e-02 ...  8.26376765e-13\n",
      "  1.28012463e-12  1.29302452e-12]\n"
     ]
    },
    {
     "name": "stdout",
     "output_type": "stream",
     "text": [
      "[ 1.75207637e-02  1.70827447e-02  1.66447257e-02 ...  4.04494011e-14\n",
      " -2.46838055e-12 -2.52035939e-13]\n",
      "[ 1.06881416e-13 -1.61621641e-12 -4.89255447e-12 ...  8.43654891e-02\n",
      "  8.40168714e-02  8.29710183e-02]\n",
      "[ 1.42455860e-12 -6.75499800e-12 -3.23579201e-12 ... -7.25509030e-02\n",
      " -7.16477798e-02 -1.35249394e-12]\n",
      "[-1.10725867e-12  9.96099596e-02  9.78700478e-02 ...  1.05264673e-01\n",
      "  1.04829695e-01  1.04394717e-01]\n",
      "[0.02208459 0.02169883 0.02140951 ... 0.02324186 0.02314542 0.02304898]\n",
      "[-6.78419547e-02 -6.69373957e-02 -6.60328363e-02 ... -7.23647516e-02\n",
      " -7.20632319e-02  2.07663282e-12]\n",
      "[ 2.73659647e-13  7.01248370e-02  6.91898392e-02 ... -2.95694895e-12\n",
      "  5.85100404e-12 -3.34082114e-12]\n",
      "[-1.24346028e-02 -1.22688081e-02 -1.21030134e-02 ...  1.05840665e-12\n",
      " -1.83295001e-13  1.38972138e-13]\n",
      "[-6.45202300e-02 -6.36483353e-02 -6.24858086e-02 ...  2.01540732e-13\n",
      " -1.06663350e-12  4.89689158e-13]\n",
      "[ 6.35760557e-13 -2.46252056e-12 -1.43351310e-13 ...  9.91317492e-02\n",
      "  9.81253355e-02  9.46028879e-02]\n",
      "[ 2.06657566e-12 -7.40708416e-13  1.22860393e-13 ...  3.14613520e-02\n",
      "  3.03319702e-02 -5.15005211e-12]\n",
      "[1.37557188e-13 6.67498787e-02 6.47393404e-02 ... 8.16278624e-02\n",
      " 7.84110011e-02 7.76067858e-02]\n",
      "[-0.09405921 -0.0912261  -0.08839299 ... -0.11049124 -0.109358\n",
      " -0.10595827]\n",
      "[-1.07055317e-01 -1.03730619e-01 -9.97409797e-02 ... -1.28333391e-01\n",
      " -1.24343752e-01  1.38352422e-12]\n",
      "[-2.63462876e-12  4.09133150e-02  3.96267329e-02 ... -1.63471459e-12\n",
      "  3.73263461e-12  8.93749433e-13]\n",
      "[-6.03812210e-02 -5.84824409e-02 -5.69634166e-02 ...  1.08620958e-12\n",
      "  3.21326089e-13  1.35677925e-12]\n",
      "[-9.89289539e-02 -9.63593714e-02 -9.25049969e-02 ... -1.45465720e-12\n",
      " -1.71283686e-14 -1.63103707e-12]\n",
      "[-2.72331452e-13 -5.00147764e-13  3.62533865e-12 ...  2.64778680e-02\n",
      "  2.60271809e-02  2.54638221e-02]\n",
      "[ 2.29580143e-12  4.12739538e-13 -6.26916323e-12 ...  4.26089094e-03\n",
      "  4.16866388e-03  1.76517711e-13]\n",
      "[1.09967167e-12 1.04371930e-01 1.00909354e-01 ... 1.17232925e-01\n",
      " 1.15254310e-01 1.13770349e-01]\n",
      "[-0.11502978 -0.11121363 -0.10903297 ... -0.12702341 -0.12538791\n",
      " -0.12266209]\n",
      "[-1.11852671e-01 -1.09659483e-01 -1.06917996e-01 ... -1.26108404e-01\n",
      " -1.23366917e-01 -3.80746238e-12]\n",
      "[ 9.73815209e-13  1.02722164e-01  9.92484674e-02 ... -6.53619241e-13\n",
      "  2.61896307e-12 -1.10056361e-12]\n",
      "[-3.77343320e-02 -3.64582920e-02 -3.55468348e-02 ...  9.05663197e-13\n",
      "  3.83489491e-12  7.14729952e-13]\n",
      "[-6.75835867e-02 -6.58939974e-02 -6.42044078e-02 ... -1.25264378e-12\n",
      " -2.33013253e-12 -7.35377309e-13]\n",
      "[ 1.79873265e-12  4.62509996e-12 -1.62322234e-12 ... -5.02435377e-02\n",
      " -5.00359198e-02 -4.94130661e-02]\n",
      "[-1.19361000e-12  2.82187622e-12 -5.55817357e-12 ...  4.19845790e-02\n",
      "  4.14619494e-02 -2.42051569e-12]\n",
      "[-7.51961277e-13  9.55473974e-02  9.38784474e-02 ...  1.00971485e-01\n",
      "  1.00554248e-01  1.00137010e-01]\n",
      "[-0.03125443 -0.0307085  -0.03029905 ... -0.03289221 -0.03275573\n",
      " -0.03261925]\n",
      "[-6.44937229e-02 -6.36338070e-02 -6.27738907e-02 ... -6.87933044e-02\n",
      " -6.85066656e-02 -1.01159198e-12]\n",
      "[1.53329846e-13 1.47076041e-01 1.45115027e-01 ... 3.30309721e-13\n",
      " 1.79324014e-12 3.13131295e-12]\n",
      "[ 4.75653156e-02  4.69311116e-02  4.62969074e-02 ...  3.37275410e-12\n",
      " -1.74873262e-12  1.55618605e-12]\n",
      "[ 4.92590955e-02  4.85934323e-02  4.77058810e-02 ...  9.91892894e-14\n",
      " -1.72916683e-12 -1.12100833e-12]\n",
      "[ 1.67531272e-12  2.37837426e-12 -2.64822057e-12 ...  1.04189552e-02\n",
      "  1.03131790e-02  9.94296233e-03]\n",
      "[-1.08945211e-12 -6.32920121e-12 -5.11592847e-13 ...  3.36856991e-03\n",
      "  3.24764691e-03 -1.51733437e-12]\n",
      "[-3.30039966e-13  6.56975880e-02  6.37187452e-02 ...  8.03410251e-02\n",
      "  7.71748766e-02  7.63833394e-02]\n",
      "[-0.02864326 -0.02778051 -0.02691776 ... -0.0336472  -0.0333021\n",
      " -0.0322668 ]\n",
      "[3.58143286e-02 3.47020827e-02 3.33673873e-02 ... 4.29327040e-02\n",
      " 4.15980087e-02 2.97202481e-13]\n",
      "[ 1.55434686e-12 -2.82974662e-02 -2.74076088e-02 ...  1.02232662e-12\n",
      "  2.14101784e-12  8.91078805e-13]\n",
      "[-1.08185442e-01 -1.04783385e-01 -1.02061739e-01 ...  8.90260124e-13\n",
      "  4.14386577e-13  3.14763408e-12]\n",
      "[ 4.78260318e-02  4.65837976e-02  4.47204458e-02 ...  2.35895373e-12\n",
      " -2.55069661e-12 -7.88096061e-13]\n",
      "[-1.38267675e-12 -1.89929446e-12  1.00424045e-11 ... -1.09707538e-01\n",
      " -1.07840176e-01 -1.05505973e-01]\n",
      "[ 7.95139307e-13  2.52211206e-12 -8.25353812e-13 ... -1.00719760e-01\n",
      " -9.85396792e-02 -6.33574591e-13]\n",
      "[-4.34681715e-12  5.60199600e-02  5.41614781e-02 ...  6.29228931e-02\n",
      "  6.18609034e-02  6.10644111e-02]\n",
      "[-0.11382391 -0.11004776 -0.10788996 ... -0.1256918  -0.12407345\n",
      " -0.1213762 ]\n",
      "[-9.88520771e-03 -9.69138018e-03 -9.44909568e-03 ... -1.11450871e-02\n",
      " -1.09028026e-02 -2.51232981e-12]\n",
      "[ 3.81238304e-13 -1.54899874e-02 -1.49661715e-02 ...  3.27140130e-12\n",
      " -1.07178547e-13  2.17107081e-12]\n",
      "[-1.46880686e-01 -1.41913707e-01 -1.38365864e-01 ... -3.75413447e-12\n",
      "  1.77163770e-12 -2.96433266e-12]\n",
      "[ 6.14040575e-02  5.98689564e-02  5.83338551e-02 ... -3.07844524e-12\n",
      "  5.15788129e-13  1.49987232e-12]\n",
      "[ 1.05467106e-12  2.50313222e-12  1.70633043e-12 ... -1.20289983e-01\n",
      " -1.19792917e-01 -1.18301718e-01]\n",
      "[-2.25895281e-12  1.39123985e-12 -5.80202804e-13 ... -6.34235109e-02\n",
      " -6.26340067e-02 -1.08989838e-13]\n",
      "[-1.02294375e-12  1.50533767e-01  1.47904357e-01 ...  1.59079352e-01\n",
      "  1.58421999e-01  1.57764646e-01]\n",
      "[-0.00204508 -0.00200936 -0.00198256 ... -0.00215224 -0.00214331\n",
      " -0.00213438]\n",
      "[ 5.72312409e-02  5.64681580e-02  5.57050748e-02 ...  6.10466569e-02\n",
      "  6.07922959e-02 -2.79424620e-12]\n",
      "[ 2.04438236e-12  1.26556326e-01  1.24868909e-01 ... -1.13136246e-12\n",
      " -4.47441837e-12 -1.32086827e-13]\n",
      "[-2.91422998e-02 -2.87537360e-02 -2.83651720e-02 ...  8.83856330e-13\n",
      " -5.83462321e-14  1.59500932e-12]\n",
      "[ 1.59948747e-01  1.57787278e-01  1.54905319e-01 ... -4.08007912e-13\n",
      " -3.59792677e-12 -1.55741917e-12]\n",
      "[-6.59674376e-13  3.19211415e-12 -1.37064645e-12 ... -6.25751483e-02\n",
      " -6.19398676e-02 -5.97163854e-02]\n",
      "[ 8.15725118e-13 -5.54265937e-12  1.42671848e-12 ... -5.40906970e-02\n",
      " -5.21489799e-02 -1.13010175e-12]\n",
      "[-2.28937518e-12  5.36782500e-02  5.20614355e-02 ...  6.56426783e-02\n",
      "  6.30557749e-02  6.24090490e-02]\n",
      "[-0.01387671 -0.01345873 -0.01304076 ... -0.01630095 -0.01613376\n",
      " -0.01563219]\n",
      "[-1.33517426e-01 -1.29370923e-01 -1.24395119e-01 ... -1.60055049e-01\n",
      " -1.55079245e-01 -2.81306879e-12]\n",
      "[-2.07367990e-12  2.70811335e-02  2.62295256e-02 ... -5.59329488e-14\n",
      " -5.68637777e-12  2.43948405e-12]\n",
      "[ 3.51314518e-02  3.40266894e-02  3.31428794e-02 ... -1.05456300e-13\n",
      " -2.37113321e-12  2.73744690e-12]\n",
      "[-8.25669642e-02 -8.04223684e-02 -7.72054739e-02 ... -2.84769857e-12\n",
      " -3.02153780e-12 -4.34079651e-12]\n",
      "[ 2.03546724e-12 -6.35336693e-12  9.07914204e-12 ...  4.66393719e-02\n",
      "  4.58455103e-02  4.48531833e-02]\n",
      "[-2.28209848e-12 -7.52117269e-12 -4.78498324e-14 ... -5.59011873e-02\n",
      " -5.46912050e-02  5.34340125e-13]\n",
      "[3.33614061e-12 1.38556961e-01 1.33960285e-01 ... 1.55630330e-01\n",
      " 1.53003658e-01 1.51033654e-01]\n",
      "[0.13403266 0.12958608 0.12704518 ... 0.14800763 0.14610195 0.14292582]\n",
      "[-1.11156823e-01 -1.08977278e-01 -1.06252846e-01 ... -1.25323868e-01\n",
      " -1.22599437e-01 -5.89162384e-13]\n",
      "[3.60954001e-12 4.96310780e-02 4.79527325e-02 ... 2.23112673e-12\n",
      " 2.18389588e-12 5.20690274e-12]\n",
      "[ 1.52651837e-01  1.47489698e-01  1.43802456e-01 ...  2.11855388e-12\n",
      " -3.56901922e-13  7.47702932e-13]\n",
      "[-4.27786283e-02 -4.17091628e-02 -4.06396972e-02 ...  1.64412177e-12\n",
      " -1.04861615e-12 -3.43961953e-12]\n",
      "[ 3.74394384e-12  2.01889100e-12 -3.72917338e-14 ...  1.63667291e-02\n",
      "  1.62990980e-02  1.60962047e-02]\n",
      "[-2.07305684e-12  8.10868758e-13  7.20180557e-12 ...  2.20589667e-02\n",
      "  2.17843738e-02  3.55874284e-12]\n",
      "[2.69226579e-13 4.73524321e-02 4.65253155e-02 ... 5.00405613e-02\n",
      " 4.98337821e-02 4.96270030e-02]\n",
      "[0.09954185 0.09780312 0.09649908 ... 0.10475801 0.10432333 0.10388865]\n",
      "[-1.25706657e-01 -1.24030569e-01 -1.22354480e-01 ... -1.34087101e-01\n",
      " -1.33528405e-01 -2.32247004e-13]\n",
      "[ 2.93318588e-12 -5.79052448e-02 -5.71331749e-02 ...  3.59418882e-12\n",
      " -1.11998007e-12 -2.32155333e-12]\n",
      "[ 4.86124421e-02  4.79642764e-02  4.73161106e-02 ... -2.39863607e-12\n",
      "  1.55470032e-12 -2.77821536e-12]\n",
      "[-6.22672804e-02 -6.14258310e-02 -6.03038981e-02 ... -8.87689611e-13\n",
      "  1.64928877e-12 -2.87228412e-12]\n",
      "[ 2.22451741e-12  4.26768251e-12  5.40623124e-12 ... -2.02422685e-02\n",
      " -2.00367633e-02 -1.93174949e-02]\n",
      "[ 2.44710464e-12 -2.33376287e-12  5.76699930e-13 ...  1.25222580e-01\n",
      "  1.20727411e-01 -1.12799315e-12]\n",
      "[ 4.03061404e-13 -5.53345533e-02 -5.36678500e-02 ... -6.76681575e-02\n",
      " -6.50014322e-02 -6.43347509e-02]\n",
      "[0.00298461 0.00289471 0.00280481 ... 0.00350602 0.00347006 0.00336218]\n"
     ]
    },
    {
     "name": "stdout",
     "output_type": "stream",
     "text": [
      "[ 1.02375733e-01  9.91963634e-02  9.53811188e-02 ...  1.22723703e-01\n",
      "  1.18908459e-01 -7.12927597e-13]\n",
      "[-1.68852392e-12 -3.51736554e-02 -3.40675657e-02 ... -9.49583312e-13\n",
      "  3.19397511e-12 -3.50038765e-13]\n",
      "[1.99888863e-02 1.93603051e-02 1.88574401e-02 ... 1.84699933e-12\n",
      " 6.11281878e-13 9.41917413e-14]\n",
      "[-2.20692347e-03 -2.14960080e-03 -2.06361677e-03 ... -1.95795592e-12\n",
      "  3.10107771e-12 -3.30248449e-13]\n",
      "[ 2.70412505e-12 -9.35667933e-13  6.32596816e-12 ... -1.05802354e-01\n",
      " -1.04001463e-01 -1.01750349e-01]\n",
      "[ 2.79396006e-12 -6.30665349e-12  2.57510222e-12 ...  4.82646257e-02\n",
      "  4.72199369e-02 -2.42003318e-13]\n",
      "[6.74547968e-13 2.12641366e-02 2.05586914e-02 ... 2.38843619e-02\n",
      " 2.34812503e-02 2.31789166e-02]\n",
      "[0.07233484 0.06993511 0.06856383 ... 0.07987686 0.07884841 0.07713431]\n",
      "[ 8.53409422e-02  8.36675910e-02  8.15759013e-02 ...  9.62177286e-02\n",
      "  9.41260390e-02 -3.28463754e-12]\n",
      "[-3.56632767e-14  2.45958245e-02  2.37640817e-02 ... -1.35355239e-12\n",
      " -1.38539502e-12  8.61854264e-13]\n",
      "[ 7.35762562e-02  7.10881706e-02  6.93109665e-02 ... -5.55641552e-13\n",
      " -6.40684512e-13  1.52254604e-12]\n",
      "[ 5.69305243e-02  5.55072615e-02  5.40839985e-02 ...  2.41082724e-13\n",
      "  2.88156983e-13 -1.55756842e-13]\n",
      "[ 2.46502879e-12 -5.79312128e-12 -6.23841709e-13 ... -2.14742013e-01\n",
      " -2.13854649e-01 -2.11192558e-01]\n",
      "[-5.32749673e-12 -5.68886491e-12 -2.48174743e-12 ... -1.65868289e-01\n",
      " -1.63803539e-01  8.67103071e-14]\n",
      "[-3.32652075e-12  8.21936720e-02  8.07579748e-02 ...  8.68596881e-02\n",
      "  8.65007638e-02  8.61418395e-02]\n",
      "[-0.05317226 -0.05224348 -0.0515469  ... -0.05595857 -0.05572638\n",
      " -0.05549419]\n",
      "[-1.05364245e-01 -1.03959389e-01 -1.02554532e-01 ... -1.12388528e-01\n",
      " -1.11920242e-01 -3.05174876e-12]\n",
      "[ 2.33632939e-12  1.43309812e-01  1.41399014e-01 ...  3.63140586e-12\n",
      " -2.29779744e-12  7.47783145e-13]\n",
      "[ 5.42808011e-02  5.35570574e-02  5.28333134e-02 ...  1.74146844e-12\n",
      "  4.63433105e-12 -1.11951182e-12]\n",
      "[-9.66110697e-02 -9.53055151e-02 -9.35647752e-02 ...  1.56536444e-12\n",
      "  1.67615531e-12 -3.62425115e-13]\n",
      "[-1.47910136e-12  4.95477903e-13 -3.49769673e-12 ...  7.61984138e-02\n",
      "  7.54248259e-02  7.27172682e-02]\n",
      "[ 7.65055349e-13  4.36984360e-12 -1.34863326e-12 ...  9.08647740e-02\n",
      "  8.76029618e-02  6.69285341e-13]\n",
      "[-1.67248565e-12 -4.71103566e-02 -4.56913701e-02 ... -5.76108569e-02\n",
      " -5.53404785e-02 -5.47728839e-02]\n",
      "[-0.00193013 -0.001872   -0.00181386 ... -0.00226733 -0.00224407\n",
      " -0.00217431]\n",
      "[ 7.23018786e-02  7.00564794e-02  6.73619996e-02 ...  8.66724375e-02\n",
      "  8.39779578e-02 -5.76647855e-12]\n",
      "[-4.70742833e-12 -5.84286798e-02 -5.65913001e-02 ... -6.80523361e-13\n",
      " -3.65341880e-12 -2.05891500e-12]\n",
      "[-7.55103721e-02 -7.31358327e-02 -7.12362009e-02 ...  1.38115674e-12\n",
      "  2.17721160e-12 -9.51596603e-13]\n",
      "[-5.25789419e-03 -5.12132555e-03 -4.91647254e-03 ...  8.55799848e-13\n",
      "  2.10794231e-12 -6.79355845e-13]\n",
      "[ 9.35812734e-13 -1.86794715e-12 -2.79613917e-12 ...  5.24361141e-02\n",
      "  5.15435845e-02  5.04279226e-02]\n",
      "[-1.45008710e-12  7.33797477e-13 -4.81246940e-12 ... -3.58074119e-02\n",
      " -3.50323598e-02 -1.12905549e-12]\n",
      "[-4.41836754e-12  4.74458641e-02  4.58718309e-02 ...  5.32922736e-02\n",
      "  5.23928260e-02  5.17182403e-02]\n",
      "[0.06345555 0.06135039 0.06014744 ... 0.07007177 0.06916956 0.06766587]\n",
      "[-4.69338379e-03 -4.60135670e-03 -4.48632279e-03 ... -5.29156014e-03\n",
      " -5.17652623e-03 -9.25599137e-14]\n",
      "[ 4.31326084e-13  9.52895098e-02  9.20671594e-02 ...  2.96585550e-12\n",
      "  3.51510847e-12 -1.97163393e-12]\n",
      "[ 4.56124327e-02  4.40699836e-02  4.29682341e-02 ... -8.83519955e-13\n",
      "  2.01520494e-12  1.37020274e-12]\n",
      "[7.58731495e-02 7.39763212e-02 7.20794926e-02 ... 2.77549011e-12\n",
      " 9.43768197e-14 1.87780479e-12]\n",
      "[-1.24717761e-13 -5.62525968e-12  4.31087443e-12 ...  1.95137931e-02\n",
      "  1.94331576e-02  1.91912511e-02]\n",
      "[ 1.33060095e-12 -6.59982044e-12  2.72193797e-13 ...  2.76036516e-02\n",
      "  2.72600378e-02  1.63258494e-12]\n",
      "[-9.01568065e-13 -3.19924028e-02 -3.14335836e-02 ... -3.38085653e-02\n",
      " -3.36688605e-02 -3.35291557e-02]\n",
      "[-0.03340757 -0.03282404 -0.03238638 ... -0.03515819 -0.03501231\n",
      " -0.03486642]\n",
      "[-4.41968357e-02 -4.36075448e-02 -4.30182537e-02 ... -4.71432914e-02\n",
      " -4.69468610e-02 -1.08414610e-12]\n",
      "[ 1.23040109e-12 -3.73810600e-02 -3.68826459e-02 ... -1.58918289e-12\n",
      " -2.77543724e-12 -1.32231314e-12]\n",
      "[-1.06872172e-01 -1.05447210e-01 -1.04022248e-01 ... -5.64848376e-13\n",
      "  8.79372065e-13  3.82845087e-13]\n",
      "[-7.87492115e-02 -7.76850333e-02 -7.62661287e-02 ... -1.57870653e-12\n",
      "  1.74464402e-12  3.21049765e-12]\n"
     ]
    }
   ],
   "source": [
    "t0 = time()\n",
    "img_this_example = img_tensor[0] # Assume batch size = 1\n",
    "img_enc = [sec.encrypt(this_channel.ravel()) for this_channel in img_this_example]\n",
    "\n",
    "tmp1, _nh2, _nw2 = my_conv2D_FHE(sec, img_enc, nh, nw, org_model.conv_layer1) # list of ctxts"
   ]
  },
  {
   "cell_type": "code",
   "execution_count": 30,
   "id": "e326e9a4",
   "metadata": {},
   "outputs": [
    {
     "name": "stdout",
     "output_type": "stream",
     "text": [
      "average diff 0.000 sigma\n"
     ]
    },
    {
     "data": {
      "image/png": "[encoded data removed]",
      "text/plain": [
       "<Figure size 648x360 with 6 Axes>"
      ]
     },
     "metadata": {
      "needs_background": "light"
     },
     "output_type": "display_data"
    },
    {
     "name": "stdout",
     "output_type": "stream",
     "text": [
      "Scale 50.0\n",
      "chain index 12\n",
      "1. expected chain index = 12\n",
      "63.753 seconds so far\n"
     ]
    }
   ],
   "source": [
    "util.plot_diff(org_tt1, tmp1, 32,32, ch=5, unpad=0)\n",
    "util.check_ctxt(tmp1[0])\n",
    "print(\"1. expected chain index = 12\")\n",
    "print(f\"{time() - t0:.3f} seconds so far\")"
   ]
  },
  {
   "cell_type": "code",
   "execution_count": null,
   "id": "d6b25f91",
   "metadata": {},
   "outputs": [],
   "source": [
    "tmp2, _nh2, _nw2 = my_conv2D_FHE(sec, tmp1, nh, nw, org_model.conv_layer2) # list of ctxts\n",
    "util.plot_diff(org_tt2, tmp2, 32,32, ch=5, unpad=0)\n",
    "util.check_ctxt(tmp2[3])\n",
    "print(\"2. expected chain index = 10\")\n",
    "print(f\"{time() - t0:.3f} seconds so far\")\n",
    "\n",
    "tmp3, nh2, nw2 = fhe_avg_pool(sec, tmp2,\n",
    "                                nh, nw, \n",
    "                                kernel_size=org_model.pool.kernel_size, \n",
    "                                stride_in=1) # list of ctxts\n",
    "\n",
    "util.plot_diff(org_tt3, tmp3, 32,32, ch=5, unpad=0, stride=(2,2))\n",
    "util.check_ctxt(tmp3[5])\n",
    "print(\"3. expected chain index = 10\")\n",
    "print(f\"{time() - t0:.3f} seconds so far\")\n",
    "\n",
    "tmp4, _nh2, _nw2 = my_conv2D_FHE(sec, tmp3, nh, nw, org_model.conv_layer3,\n",
    "                                stride_in=2) # list of ctxts\n",
    "util.plot_diff(org_tt4, tmp4, 32,32, ch=5, unpad=0, stride=(2,2))\n",
    "util.check_ctxt(tmp4[5])\n",
    "print(\"4. expected chain index = 10\")\n",
    "print(f\"{time() - t0:.3f} seconds so far\")\n",
    "\n",
    "\n",
    "tmp5 = fhe_bn(sec, tmp4, org_model.bn1)\n",
    "tmp5 = [do_bootstrap(sec, tmp) for tmp in tmp5]\n",
    "util.plot_diff(org_tt5, tmp5, 32,32, ch=5, unpad=0, stride=(2,2))\n",
    "util.check_ctxt(tmp5[5])\n",
    "print(\"5. expected chain index = 10\")\n",
    "print(f\"{time() - t0:.3f} seconds so far\")\n",
    "\n",
    "\n",
    "ff = approx_sign(5)\n",
    "calgo = CommonAlgorithms(sec, \"SEAL\")\n",
    "\n",
    "tmp6 = approx_relu_fhe(sec, calgo, tmp5, ff, repeat=4, xfactor=20)\n",
    "tmp6 = [do_bootstrap(sec, tmp) for tmp in tmp6]\n",
    "util.plot_diff(org_tt6, tmp6, 32,32, ch=5, unpad=0, stride=(2,2))\n",
    "util.check_ctxt(tmp6[5])\n",
    "print(\"6. expected chain index = 10\")\n",
    "print(f\"{time() - t0:.3f} seconds so far\")\n",
    "\n",
    "tmp7, _nh3, _nw3 = fhe_avg_pool(sec, tmp6, nh, nw, \n",
    "                                kernel_size=org_model.pool.kernel_size, \n",
    "                                stride_in=2) # list of ctxts\n",
    "util.plot_diff(org_tt7, tmp7, 32,32, ch=5, unpad=0, stride=(4,4))\n",
    "util.check_ctxt(tmp7[5])\n",
    "print(\"7. expected chain index = 10\")\n",
    "print(f\"{time() - t0:.3f} seconds so far\")\n",
    "\n",
    "tmp8, _nh3, _nw3 = my_conv2D_FHE(sec, tmp7, nh, nw, org_model.conv_layer4,\n",
    "                                stride_in=4) # list of ctxts\n",
    "util.plot_diff(org_tt8, tmp8, 32,32, ch=5, unpad=0, stride=(4,4))\n",
    "util.check_ctxt(tmp8[5])\n",
    "print(\"8. expected chain index = 10\")\n",
    "print(f\"{time() - t0:.3f} seconds so far\")\n",
    "\n",
    "tmp9, _nh3, _nw3 = my_conv2D_FHE(sec, tmp8, nh, nw, org_model.conv_layer5,\n",
    "                                stride_in=4) # list of ctxts\n",
    "util.plot_diff(org_tt9, tmp9, 32,32, ch=5, unpad=0, stride=(4,4))\n",
    "util.check_ctxt(tmp9[5])\n",
    "print(\"9. expected chain index = 10\")\n",
    "print(f\"{time() - t0:.3f} seconds so far\")\n",
    "\n",
    "#######################\n",
    "tmp9_1 = fhe_bn(sec, tmp9, org_model.bn2)\n",
    "\n",
    "ff = approx_sign(5)\n",
    "tmp9_2 = approx_relu_fhe(sec, calgo, tmp9_1, ff, repeat=4, xfactor=20)\n",
    "\n",
    "#tmp9 = [do_bootstrap(sec, tmp) for tmp in tmp9]\n",
    "util.plot_diff(org_tt9_2, tmp9_2, 32,32, ch=5, unpad=0, stride=(4,4))\n",
    "util.check_ctxt(tmp9_2[5])\n",
    "#######################\n",
    "\n",
    "\n",
    "tmp10, _nh4, _nw4 = fhe_avg_pool(sec, tmp9_2, nh, nw, \n",
    "                                kernel_size=org_model.pool.kernel_size, \n",
    "                                stride_in=4) # list of ctxts\n",
    "\n",
    "util.plot_diff(org_tt10, tmp10, 32,32, ch=5, unpad=0, stride=(8,8))\n",
    "util.check_ctxt(tmp10[5])\n",
    "\n",
    "print(f\"10. {time() - t0:.3f} seconds so far\")"
   ]
  },
  {
   "cell_type": "code",
   "execution_count": null,
   "id": "6a9ab595",
   "metadata": {},
   "outputs": [],
   "source": []
  },
  {
   "cell_type": "code",
   "execution_count": 70,
   "id": "ce7ce85a",
   "metadata": {},
   "outputs": [
    {
     "name": "stdout",
     "output_type": "stream",
     "text": [
      "Bootstrapped 0 2\n",
      "1\n"
     ]
    }
   ],
   "source": [
    "## Reshape\n",
    "reshaped = reshape(sec, tmp10)\n",
    "\n",
    "reshaped = do_bootstrap(sec, reshaped)\n",
    "\n",
    "tmp_fc1 = fullyConnected1(sec, reshaped, org_model.fc1)\n",
    "print(f\"fc1. {time() - t0:.3f} seconds so far\")\n",
    "\n",
    "tmp_fc1 = [do_bootstrap(sec, tmp_fc1)]\n",
    "\n",
    "tmp_fc11 = approx_relu_fhe(sec, calgo, tmp_fc1, ff, repeat=4, xfactor=15)\n",
    "\n",
    "result = fullyConnected2(sec, tmp_fc11[0], org_model.fc2)\n",
    "print(f\"Done. {time() - t0:.3f} seconds so far\")\n",
    "\n",
    "pred = sec.decrypt(result)[:10]\n",
    "\n",
    "print(np.argmax(pred))"
   ]
  },
  {
   "cell_type": "code",
   "execution_count": 71,
   "id": "73139172",
   "metadata": {},
   "outputs": [
    {
     "data": {
      "text/plain": [
       "array([  7.59065804,  24.12381366, -12.84785278,  -7.03674284,\n",
       "       -12.57361182, -13.97731916, -11.94883553,  -4.77561223,\n",
       "        15.12903721,  11.1174961 ])"
      ]
     },
     "execution_count": 71,
     "metadata": {},
     "output_type": "execute_result"
    }
   ],
   "source": [
    "pred"
   ]
  },
  {
   "cell_type": "code",
   "execution_count": null,
   "id": "d805f74d",
   "metadata": {},
   "outputs": [],
   "source": []
  },
  {
   "cell_type": "code",
   "execution_count": null,
   "id": "2474751d",
   "metadata": {},
   "outputs": [],
   "source": []
  },
  {
   "cell_type": "markdown",
   "id": "b5c3ffee",
   "metadata": {},
   "source": [
    "### Input is normalized to [0,1]"
   ]
  },
  {
   "cell_type": "code",
   "execution_count": 11,
   "id": "b5b58c96",
   "metadata": {},
   "outputs": [
    {
     "name": "stdout",
     "output_type": "stream",
     "text": [
      "tensor(0.0824) tensor(1.)\n"
     ]
    }
   ],
   "source": [
    "#img_this_example = img_tensor[0] # Assume batch size = 1\n",
    "#img_enc = [sec.encrypt(this_channel.ravel()) for this_channel in img_this_example]\n",
    "\n",
    "img_this_example = img_tensor[0] # Assume batch size = 1\n",
    "img_enc = [sec.encrypt(this_channel.ravel()) for this_channel in img_this_example]\n",
    "\n",
    "\n",
    "#util.check_decrypt(img_enc[0])\n",
    "\n",
    "print(img_tensor.min(), img_tensor.max())"
   ]
  },
  {
   "cell_type": "markdown",
   "id": "686580a6",
   "metadata": {},
   "source": [
    "### 0.1 Convolution"
   ]
  },
  {
   "cell_type": "code",
   "execution_count": 13,
   "id": "1e108911",
   "metadata": {},
   "outputs": [
    {
     "name": "stdout",
     "output_type": "stream",
     "text": [
      "torch.Size([16, 3, 3, 3])\n",
      "Conv2d(3, 16, kernel_size=(3, 3), stride=(1, 1), padding=same)\n",
      "Output image size 32 32\n"
     ]
    }
   ],
   "source": [
    "print(org_model.conv_layer1.weight.shape)\n",
    "print(org_model.conv_layer1)\n",
    "tmp1, _nh2, _nw2 = my_conv2D_FHE(sec, img_enc, nh, nw, org_model.conv_layer1) # list of ctxts\n",
    "\n",
    "org_tt1 = org_model.conv_layer1(img_tensor)"
   ]
  },
  {
   "cell_type": "code",
   "execution_count": 14,
   "id": "3a18ef3e",
   "metadata": {},
   "outputs": [
    {
     "name": "stdout",
     "output_type": "stream",
     "text": [
      "average diff 0.000 sigma\n"
     ]
    },
    {
     "data": {
      "image/png": "[encoded data removed]",
      "text/plain": [
       "<Figure size 648x360 with 6 Axes>"
      ]
     },
     "metadata": {
      "needs_background": "light"
     },
     "output_type": "display_data"
    },
    {
     "name": "stdout",
     "output_type": "stream",
     "text": [
      "Scale 50.0\n",
      "chain index 12\n",
      "expected chain index = 12\n"
     ]
    }
   ],
   "source": [
    "util.plot_diff(org_tt1, tmp1, 32,32, ch=5, unpad=0)\n",
    "util.check_ctxt(tmp1[0])\n",
    "print(\"expected chain index = 12\")"
   ]
  },
  {
   "cell_type": "markdown",
   "id": "0d39509d",
   "metadata": {},
   "source": [
    "### 0.2 Convolution"
   ]
  },
  {
   "cell_type": "markdown",
   "id": "905a139c",
   "metadata": {},
   "source": [
    "똑같이 나옴. my_conv2D는 문제 없고, 테두리 값 때문에 생기는 문제! "
   ]
  },
  {
   "cell_type": "code",
   "execution_count": 15,
   "id": "e0159f30",
   "metadata": {},
   "outputs": [
    {
     "name": "stdout",
     "output_type": "stream",
     "text": [
      "torch.Size([32, 16, 3, 3])\n",
      "Conv2d(16, 32, kernel_size=(3, 3), stride=(1, 1), padding=same)\n",
      "Output image size 32 32\n"
     ]
    }
   ],
   "source": [
    "print(org_model.conv_layer2.weight.shape)\n",
    "print(org_model.conv_layer2)\n",
    "\n",
    "org_tt2 = org_model.conv_layer2(org_tt1)\n",
    "\n",
    "tmp2, _nh2, _nw2 = my_conv2D_FHE(sec, tmp1, nh, nw, org_model.conv_layer2) # list of ctxts"
   ]
  },
  {
   "cell_type": "code",
   "execution_count": 16,
   "id": "f4d41af9",
   "metadata": {},
   "outputs": [
    {
     "name": "stdout",
     "output_type": "stream",
     "text": [
      "average diff -0.000 sigma\n"
     ]
    },
    {
     "data": {
      "image/png": "[encoded data removed]",
      "text/plain": [
       "<Figure size 648x360 with 6 Axes>"
      ]
     },
     "metadata": {
      "needs_background": "light"
     },
     "output_type": "display_data"
    },
    {
     "name": "stdout",
     "output_type": "stream",
     "text": [
      "Scale 50.0\n",
      "chain index 10\n",
      "expected chain index = 10\n"
     ]
    }
   ],
   "source": [
    "util.plot_diff(org_tt2, tmp2, 32,32, ch=1, unpad=0)\n",
    "util.check_ctxt(tmp2[3])\n",
    "print(\"expected chain index = 10\")"
   ]
  },
  {
   "cell_type": "markdown",
   "id": "5017d62c",
   "metadata": {},
   "source": [
    "### 0.3 AVG pooling"
   ]
  },
  {
   "cell_type": "code",
   "execution_count": 17,
   "id": "ce82cc25",
   "metadata": {},
   "outputs": [
    {
     "name": "stdout",
     "output_type": "stream",
     "text": [
      "Output image size 16 16\n"
     ]
    }
   ],
   "source": [
    "org_tt3 = org_model.pool(org_tt2)\n",
    "\n",
    "#tmp2_ = [sec.encrypt(this_channel.detach().numpy().ravel()) for this_channel in org_tt2[0]]\n",
    "tmp3, nh2, nw2 = fhe_avg_pool(sec, tmp2,\n",
    "                                nh, nw, \n",
    "                                kernel_size=org_model.pool.kernel_size, \n",
    "                                stride_in=1) # list of ctxts\n"
   ]
  },
  {
   "cell_type": "code",
   "execution_count": 18,
   "id": "e8d763dc",
   "metadata": {},
   "outputs": [
    {
     "name": "stdout",
     "output_type": "stream",
     "text": [
      "average diff -0.000 sigma\n"
     ]
    },
    {
     "data": {
      "image/png": "[encoded data removed]",
      "text/plain": [
       "<Figure size 648x360 with 6 Axes>"
      ]
     },
     "metadata": {
      "needs_background": "light"
     },
     "output_type": "display_data"
    },
    {
     "name": "stdout",
     "output_type": "stream",
     "text": [
      "Scale 50.0\n",
      "chain index 8\n",
      "expected chain index = 8\n"
     ]
    }
   ],
   "source": [
    "util.plot_diff(org_tt3, tmp3, 32,32, ch=0, stride=(2,2), unpad=0)\n",
    "util.check_ctxt(tmp3[0])\n",
    "print(\"expected chain index = 8\")"
   ]
  },
  {
   "cell_type": "markdown",
   "id": "87750dc6",
   "metadata": {},
   "source": [
    "### 0.4 Convolution (After average pooling!)"
   ]
  },
  {
   "cell_type": "markdown",
   "id": "6e16d275",
   "metadata": {},
   "source": [
    "1. rotation 맞는건가..?\n",
    "\n",
    "2. padding mask가 dilated 상태에서도 맞는지 확인 필요\n",
    "\n",
    "3. "
   ]
  },
  {
   "cell_type": "code",
   "execution_count": 19,
   "id": "1261d8e8",
   "metadata": {},
   "outputs": [
    {
     "name": "stdout",
     "output_type": "stream",
     "text": [
      "torch.Size([32, 32, 3, 3])\n",
      "Conv2d(32, 32, kernel_size=(3, 3), stride=(1, 1), padding=same)\n"
     ]
    }
   ],
   "source": [
    "print(org_model.conv_layer3.weight.shape)\n",
    "print(org_model.conv_layer3)"
   ]
  },
  {
   "cell_type": "code",
   "execution_count": 20,
   "id": "92fb2993",
   "metadata": {},
   "outputs": [
    {
     "name": "stdout",
     "output_type": "stream",
     "text": [
      "Scale 50.0\n",
      "chain index 8\n"
     ]
    }
   ],
   "source": [
    "util.check_ctxt(tmp3[0])"
   ]
  },
  {
   "cell_type": "code",
   "execution_count": 21,
   "id": "bc34fffb",
   "metadata": {},
   "outputs": [],
   "source": [
    "## dilate org tensor\n",
    "tmp3_ = []\n",
    "for oo in org_tt3[0]:\n",
    "    zz = np.zeros(1024).reshape(32,32)\n",
    "    zz[::2,::2] = oo.detach().numpy()\n",
    "    tmp3_.append(sec.encrypt(zz.ravel()))"
   ]
  },
  {
   "cell_type": "code",
   "execution_count": 22,
   "id": "70d91d4c",
   "metadata": {},
   "outputs": [],
   "source": [
    "org_tt4 = org_model.conv_layer3(org_tt3)"
   ]
  },
  {
   "cell_type": "code",
   "execution_count": 23,
   "id": "cc34767e",
   "metadata": {
    "scrolled": true
   },
   "outputs": [
    {
     "data": {
      "text/plain": [
       "array([[ 0.05961405,  0.11995285,  0.12263787,  0.12426366,  0.12279209,\n",
       "         0.12536345,  0.11863384,  0.10979445,  0.10636956,  0.10813021,\n",
       "         0.11356047,  0.11627437,  0.11491148,  0.11618061,  0.11477521,\n",
       "         0.15096249],\n",
       "       [-0.01180482,  0.03290752,  0.03230605,  0.03380307,  0.03120624,\n",
       "         0.02885479,  0.01937611,  0.01711867,  0.02480503,  0.0320387 ,\n",
       "         0.03293705,  0.0315988 ,  0.03158806,  0.03266371,  0.0322904 ,\n",
       "         0.09515731],\n",
       "       [-0.0151823 ,  0.03275396,  0.03360183,  0.03083634,  0.02354932,\n",
       "         0.01948538,  0.02200308,  0.02847734,  0.02701094,  0.02395417,\n",
       "         0.02607772,  0.0251937 ,  0.02521809,  0.02714615,  0.0282539 ,\n",
       "         0.09638341],\n",
       "       [-0.01132057,  0.03224942,  0.02866328,  0.02186739,  0.01448111,\n",
       "         0.01621093,  0.02736624,  0.02433591,  0.02098618,  0.01862494,\n",
       "         0.02393619,  0.0259859 ,  0.02550855,  0.0260854 ,  0.02851049,\n",
       "         0.0989889 ],\n",
       "       [-0.0073149 ,  0.02953631,  0.0226018 ,  0.02061392,  0.01971239,\n",
       "         0.02344132,  0.0473515 ,  0.01424417,  0.04664694,  0.02213421,\n",
       "         0.02325655,  0.02715535,  0.02625933,  0.02529737,  0.02839449,\n",
       "         0.09715778],\n",
       "       [-0.01159589,  0.02442729,  0.02490375,  0.02769537,  0.02404892,\n",
       "         0.02631468,  0.06008419, -0.02599774, -0.03903362, -0.01250615,\n",
       "         0.00931698,  0.02586102,  0.02690761,  0.0269034 ,  0.02851472,\n",
       "         0.09552703],\n",
       "       [-0.01348683,  0.02520889,  0.02647028,  0.02603348,  0.02562069,\n",
       "         0.02298273,  0.06091159, -0.01451874,  0.06133883, -0.01924122,\n",
       "        -0.0084292 ,  0.021236  ,  0.02755009,  0.02767852,  0.02953368,\n",
       "         0.09610541],\n",
       "       [-0.01768623,  0.02468035,  0.02520857,  0.02722489,  0.02705083,\n",
       "         0.02293593,  0.07544038, -0.03508529,  0.08962063, -0.1031188 ,\n",
       "        -0.00688738,  0.00800915,  0.02737304,  0.02913734,  0.02933215,\n",
       "         0.09661576],\n",
       "       [-0.02628059,  0.03643648,  0.03184485,  0.03734235,  0.03162901,\n",
       "         0.01468839,  0.06229769,  0.01070592,  0.02342833,  0.05748284,\n",
       "        -0.02546359, -0.00745588,  0.02605906,  0.02866659,  0.02698081,\n",
       "         0.09136925],\n",
       "       [ 0.00176682, -0.0137521 , -0.01333461, -0.02025997, -0.03361712,\n",
       "         0.02146597,  0.05919359,  0.12182923, -0.04808503,  0.03338918,\n",
       "        -0.04469893,  0.00613689,  0.01733741,  0.02860125,  0.0272122 ,\n",
       "         0.08976227],\n",
       "       [-0.01113514,  0.05491793,  0.04658698,  0.0597681 ,  0.0812034 ,\n",
       "         0.00307098, -0.05643808, -0.0148215 ,  0.04366719,  0.02310741,\n",
       "        -0.05625793,  0.02994121,  0.00432194,  0.03180495,  0.02865503,\n",
       "         0.09045963],\n",
       "       [-0.01482683,  0.0296788 ,  0.02700077,  0.02347751,  0.0207001 ,\n",
       "         0.04420113,  0.07266234,  0.10118562,  0.07995677,  0.02114437,\n",
       "         0.09981173, -0.04421601,  0.03874989,  0.01378867,  0.02943298,\n",
       "         0.09152779],\n",
       "       [-0.00791626,  0.02808584,  0.02482151,  0.02844912,  0.02572146,\n",
       "         0.02369856,  0.02013877,  0.01540198,  0.04716958,  0.08804707,\n",
       "         0.02574084,  0.02497431, -0.01741136,  0.01955278,  0.02416191,\n",
       "         0.08984093],\n",
       "       [-0.03291827,  0.00113783,  0.0003064 , -0.01415781, -0.00318066,\n",
       "         0.01685997,  0.02316563,  0.02137464,  0.02624392,  0.02113624,\n",
       "         0.06133424,  0.08628081, -0.07047824,  0.00742605,  0.02153866,\n",
       "         0.09206764],\n",
       "       [ 0.00169474,  0.01765858,  0.01085583,  0.01237123,  0.02149101,\n",
       "         0.02058522,  0.0168755 ,  0.02183196,  0.02662055,  0.02557373,\n",
       "         0.0204756 ,  0.06503894,  0.05849729,  0.05106493,  0.0175044 ,\n",
       "         0.09461434],\n",
       "       [ 0.00605864,  0.01153827,  0.01579716,  0.01684167, -0.02737069,\n",
       "        -0.02626243, -0.00629983, -0.00185697,  0.00239778,  0.00263063,\n",
       "         0.0022933 ,  0.00183055,  0.03007058, -0.01114347, -0.0032873 ,\n",
       "         0.06161995]])"
      ]
     },
     "execution_count": 23,
     "metadata": {},
     "output_type": "execute_result"
    }
   ],
   "source": [
    "sec.decrypt(tmp3[0])[:1024].reshape(32,32)[::2,::2]"
   ]
  },
  {
   "cell_type": "code",
   "execution_count": 24,
   "id": "c92ea4d9",
   "metadata": {
    "scrolled": true
   },
   "outputs": [
    {
     "name": "stdout",
     "output_type": "stream",
     "text": [
      "Output image size 16 16\n"
     ]
    }
   ],
   "source": [
    "tmp4, _nh2, _nw2 = my_conv2D_FHE(sec, tmp3, nh, nw, org_model.conv_layer3,\n",
    "                                stride_in=2) # list of ctxts"
   ]
  },
  {
   "cell_type": "markdown",
   "id": "2aa24719",
   "metadata": {},
   "source": [
    "좋아, conved + bias = org_tt4 나옴! "
   ]
  },
  {
   "cell_type": "code",
   "execution_count": 30,
   "id": "7d0f2e73",
   "metadata": {
    "scrolled": true
   },
   "outputs": [
    {
     "name": "stdout",
     "output_type": "stream",
     "text": [
      "average diff 0.000 sigma\n"
     ]
    },
    {
     "data": {
      "image/png": "[encoded data removed]",
      "text/plain": [
       "<Figure size 648x360 with 6 Axes>"
      ]
     },
     "metadata": {
      "needs_background": "light"
     },
     "output_type": "display_data"
    },
    {
     "name": "stdout",
     "output_type": "stream",
     "text": [
      "Scale 50.0\n",
      "chain index 6\n",
      "expected chain index = 8\n"
     ]
    }
   ],
   "source": [
    "util.plot_diff(org_tt4, tmp4, 32,32, ch=0, stride=(2,2))\n",
    "util.check_ctxt(tmp4[0])\n",
    "print(\"expected chain index = 8\")"
   ]
  },
  {
   "cell_type": "markdown",
   "id": "4c45e2b2",
   "metadata": {},
   "source": [
    "Convolaution과 AVG pool의 striding을 동일하게 맞출 것. "
   ]
  },
  {
   "cell_type": "markdown",
   "id": "eb87a3a8",
   "metadata": {},
   "source": [
    "### 0.4 BN"
   ]
  },
  {
   "cell_type": "code",
   "execution_count": 31,
   "id": "fec96839",
   "metadata": {},
   "outputs": [
    {
     "name": "stdout",
     "output_type": "stream",
     "text": [
      "BatchNorm2d(32, eps=1e-05, momentum=0.1, affine=True, track_running_stats=True)\n"
     ]
    }
   ],
   "source": [
    "print(org_model.bn1)\n",
    "\n",
    "## 이전에 문제 있음!\n",
    "#########################################\n",
    "# tmp4_ = []\n",
    "# for oo in org_tt4[0]:\n",
    "#     zz = np.zeros(1024).reshape(32,32)\n",
    "#     zz[::2,::2] = oo.detach().numpy()\n",
    "#     tmp4_.append(sec.encrypt(zz.ravel()))\n",
    "\n",
    "#########################################\n",
    "\n",
    "\n",
    "# FHE\n",
    "tmp5 = fhe_bn(sec, tmp4, org_model.bn1)\n",
    "\n",
    "# Torch\n",
    "org_tt5 = org_model.bn1(org_tt4)"
   ]
  },
  {
   "cell_type": "code",
   "execution_count": 32,
   "id": "1540aca3",
   "metadata": {},
   "outputs": [
    {
     "name": "stdout",
     "output_type": "stream",
     "text": [
      "average diff 0.000 sigma\n"
     ]
    },
    {
     "data": {
      "image/png": "[encoded data removed]",
      "text/plain": [
       "<Figure size 648x360 with 6 Axes>"
      ]
     },
     "metadata": {
      "needs_background": "light"
     },
     "output_type": "display_data"
    },
    {
     "name": "stdout",
     "output_type": "stream",
     "text": [
      "Scale 50.0\n",
      "chain index 5\n",
      "expected chain index = 10\n"
     ]
    }
   ],
   "source": [
    "util.plot_diff(org_tt5, tmp5, 32,32, ch=3, unpad=0, stride=(2,2))\n",
    "util.check_ctxt(tmp4[0])\n",
    "print(\"expected chain index = 10\")"
   ]
  },
  {
   "cell_type": "markdown",
   "id": "57cd50e4",
   "metadata": {},
   "source": [
    "diff는 거의 0.\n",
    "\n",
    "- Conv에서는 multByConst만 있으나 이거도 Scale을 똑같이 증가시킴\n",
    "- C_mult와 다른 점은, multByConst 후에는 relinearization은 필요 없고 rescale만 해주면 됨.  \n",
    "- 연산을 거친 ctxt의 level과 새로 encoding된 ptxt의 level이 다름. scale도 같고, level도 맞아야함. (mod_switch_to_inplace)"
   ]
  },
  {
   "cell_type": "markdown",
   "id": "8d6b926b",
   "metadata": {},
   "source": [
    "### 0.5 activation   "
   ]
  },
  {
   "cell_type": "markdown",
   "id": "775bb2a9",
   "metadata": {},
   "source": [
    "f(x) ~ x^4 인 계산을 두 번 나누어서 하는 건 문제가 없음!  \n",
    "한번에 x^8까지 계산하는게 문제임. \n",
    "\n",
    "\n",
    "1. 높은 차수의 polynomial을 임의의 낮은 차수로 factoring하는 방법은...?  \n",
    "coeff가 real number 이므로 어차피 손으로는 못 함.  \n",
    "https://www.coursera.org/lecture/converter-control/8-1-8-analytical-factoring-of-higher-order-polynomials-6vTUc\n",
    "근사적인 방법이 있는 듯?  \n",
    "\n",
    "이전에 참조하려다 이해 못했던 그 논문도 비슷한 생각으로 진행했던 거였나 봄. \n",
    "\n",
    "\n",
    "2. 애초에 왜 polyeval 함수 계산이라고 왜 문제가 되어야하나. 어차피 한 번에 한 차수씩 곱하지 않나? \n"
   ]
  },
  {
   "cell_type": "code",
   "execution_count": 35,
   "id": "0c4d51bc",
   "metadata": {},
   "outputs": [
    {
     "name": "stdout",
     "output_type": "stream",
     "text": [
      "Scale 50.0\n",
      "chain index 5\n"
     ]
    }
   ],
   "source": [
    "util.check_ctxt(tmp5[0])"
   ]
  },
  {
   "cell_type": "code",
   "execution_count": 38,
   "id": "67ca6e72",
   "metadata": {
    "scrolled": true
   },
   "outputs": [
    {
     "name": "stdout",
     "output_type": "stream",
     "text": [
      "Org range -5.45341216931778 3.366198642325281\n",
      "Bootstrapped 0 2\n",
      "Org range -7.440981853691431 2.647756916147223\n",
      "Bootstrapped 1 2\n",
      "Org range -7.969157684523973 7.587872663968\n",
      "Bootstrapped 2 2\n",
      "Org range -14.298876855443314 13.479208518204153\n",
      "Bootstrapped 3 2\n",
      "Org range -2.614987833577746 3.3298373147214715\n",
      "Bootstrapped 4 2\n",
      "Org range -5.082729660235936 4.579008486046716\n",
      "Bootstrapped 5 2\n",
      "Org range -6.903184087630228 4.05681983440004\n",
      "Bootstrapped 6 2\n",
      "Org range -4.9625614498957145 4.377396285083228\n",
      "Bootstrapped 7 2\n",
      "Org range -6.862920112899262 5.127501247093805\n",
      "Bootstrapped 8 2\n",
      "Org range -3.749570813919931 3.5978863581877985\n",
      "Bootstrapped 9 2\n",
      "Org range -10.948969334444827 11.235270646450026\n",
      "Bootstrapped 10 2\n",
      "Org range -1.5561575394662408 2.4155573957162053\n",
      "Bootstrapped 11 2\n",
      "Org range -4.514621142488206 5.625338286309136\n",
      "Bootstrapped 12 2\n",
      "Org range -1.2780327537958014 5.107516927380562\n",
      "Bootstrapped 13 2\n",
      "Org range -3.30300893536962 3.7146152147821487\n",
      "Bootstrapped 14 2\n",
      "Org range -4.225705417327413 5.176492276118372\n",
      "Bootstrapped 15 2\n",
      "Org range -6.090165764667375 4.074491022514869\n",
      "Bootstrapped 16 2\n",
      "Org range -1.8522303054988076 3.958452805168605\n",
      "Bootstrapped 17 2\n",
      "Org range -6.505156836483527 15.301998162840384\n",
      "Bootstrapped 18 2\n",
      "Org range -3.3335403479570873 4.227278134793013\n",
      "Bootstrapped 19 2\n",
      "Org range -5.45029484440272 3.6031781616622194\n",
      "Bootstrapped 20 2\n",
      "Org range -5.192288734027351 4.4105644936664845\n",
      "Bootstrapped 21 2\n",
      "Org range -6.460150351827423 2.61327323279165\n",
      "Bootstrapped 22 2\n",
      "Org range -3.6378892011043185 2.867718009755266\n",
      "Bootstrapped 23 2\n",
      "Org range -5.441392610236686 2.825429223972216\n",
      "Bootstrapped 24 2\n",
      "Org range -11.486047411835353 7.194060958709763\n",
      "Bootstrapped 25 2\n",
      "Org range -6.610270534014386 2.4814325532977204\n",
      "Bootstrapped 26 2\n",
      "Org range -6.129654719431295 3.7935071883808895\n",
      "Bootstrapped 27 2\n",
      "Org range -2.1148416170789863 3.7223918928154838\n",
      "Bootstrapped 28 2\n",
      "Org range -4.51540289316611 4.215995929648042\n",
      "Bootstrapped 29 2\n",
      "Org range -3.8122511806845942 2.0917688633093103\n",
      "Bootstrapped 30 2\n",
      "Org range -4.616710040845019 4.3869925738157445\n",
      "Bootstrapped 31 2\n"
     ]
    }
   ],
   "source": [
    "# fhe\n",
    "ff = approx_sign(5)\n",
    "tmp5 = [do_bootstrap(sec, tmp) for tmp in tmp5]\n",
    "tmp6 = approx_relu_fhe(sec, calgo, tmp5, ff, repeat=4, xfactor=20)\n",
    "\n",
    "# pytorch\n",
    "org_tt6 = org_model.activation(org_tt5)"
   ]
  },
  {
   "cell_type": "code",
   "execution_count": 41,
   "id": "82394d74",
   "metadata": {
    "scrolled": true
   },
   "outputs": [
    {
     "name": "stdout",
     "output_type": "stream",
     "text": [
      "average diff -0.095 sigma\n"
     ]
    },
    {
     "data": {
      "image/png": "[encoded data removed]",
      "text/plain": [
       "<Figure size 648x360 with 6 Axes>"
      ]
     },
     "metadata": {
      "needs_background": "light"
     },
     "output_type": "display_data"
    },
    {
     "name": "stdout",
     "output_type": "stream",
     "text": [
      "Scale 50.0\n",
      "chain index 2\n",
      "expected chain index = 3\n"
     ]
    }
   ],
   "source": [
    "util.plot_diff(org_tt6, tmp6, nh, nw, ch=4, unpad=0, stride=(2,2))\n",
    "util.check_ctxt(tmp6[0])\n",
    "print(\"expected chain index = 3\")"
   ]
  },
  {
   "cell_type": "markdown",
   "id": "bc984960",
   "metadata": {},
   "source": [
    "Not too bad. \n",
    "Most of the errors are from the incorrect padding. (Check with offset=3)"
   ]
  },
  {
   "cell_type": "markdown",
   "id": "79088bde",
   "metadata": {},
   "source": [
    "### 6. AvgPool\n",
    "\n",
    "두 번째 stride가 잘 작동함!"
   ]
  },
  {
   "cell_type": "code",
   "execution_count": 42,
   "id": "fea7bca6",
   "metadata": {},
   "outputs": [
    {
     "name": "stdout",
     "output_type": "stream",
     "text": [
      "Scale 50.0\n",
      "chain index 2\n"
     ]
    }
   ],
   "source": [
    "util.check_ctxt(tmp6[0])"
   ]
  },
  {
   "cell_type": "code",
   "execution_count": 43,
   "id": "dd78b33d",
   "metadata": {},
   "outputs": [
    {
     "name": "stdout",
     "output_type": "stream",
     "text": [
      "Scale 50.0\n",
      "chain index 14\n",
      "Output image size 8 8\n"
     ]
    }
   ],
   "source": [
    "org_tt7 = org_model.pool(org_tt6)\n",
    "\n",
    "tmp6 = [do_bootstrap(sec, tmp) for tmp in tmp6]\n",
    "util.check_ctxt(tmp6[0])\n",
    "\n",
    "tmp7, _nh3, _nw3 = fhe_avg_pool(sec, tmp6, nh, nw, \n",
    "                                kernel_size=org_model.pool.kernel_size, \n",
    "                                stride_in=2) # list of ctxts"
   ]
  },
  {
   "cell_type": "code",
   "execution_count": 44,
   "id": "fa8e2489",
   "metadata": {},
   "outputs": [
    {
     "name": "stdout",
     "output_type": "stream",
     "text": [
      "average diff -0.062 sigma\n"
     ]
    },
    {
     "data": {
      "image/png": "[encoded data removed]",
      "text/plain": [
       "<Figure size 648x360 with 6 Axes>"
      ]
     },
     "metadata": {
      "needs_background": "light"
     },
     "output_type": "display_data"
    },
    {
     "name": "stdout",
     "output_type": "stream",
     "text": [
      "Scale 50.0\n",
      "chain index 12\n",
      "expected chain index = 3\n"
     ]
    }
   ],
   "source": [
    "util.plot_diff(org_tt7, tmp7, nh, nw, ch=3, unpad=0, stride=(4,4))#, shift=1)\n",
    "util.check_ctxt(tmp7[0])\n",
    "print(\"expected chain index = 3\")"
   ]
  },
  {
   "cell_type": "markdown",
   "id": "89c91e00",
   "metadata": {},
   "source": [
    "모양에 shift는 없지만 틀린듯."
   ]
  },
  {
   "cell_type": "markdown",
   "id": "39a4875a",
   "metadata": {},
   "source": [
    "## 8. Conv4"
   ]
  },
  {
   "cell_type": "code",
   "execution_count": 45,
   "id": "83d07f65",
   "metadata": {},
   "outputs": [
    {
     "name": "stdout",
     "output_type": "stream",
     "text": [
      "torch.Size([64, 32, 3, 3])\n",
      "Conv2d(32, 64, kernel_size=(3, 3), stride=(1, 1), padding=same)\n",
      "Output image size 8 8\n"
     ]
    }
   ],
   "source": [
    "print(org_model.conv_layer4.weight.shape)\n",
    "print(org_model.conv_layer4)\n",
    "\n",
    "## 이전에 문제 있음! 2222\n",
    "#########################################\n",
    "# tmp7_ = []\n",
    "# for oo in org_tt7[0]:\n",
    "#     zz = np.zeros(1024).reshape(32,32)\n",
    "#     zz[::4,::4] = oo.detach().numpy()\n",
    "#     tmp7_.append(sec.encrypt(zz.ravel()))\n",
    "\n",
    "#########################################\n",
    "\n",
    "tmp8, _nh3, _nw3 = my_conv2D_FHE(sec, tmp7, nh, nw, org_model.conv_layer4,\n",
    "                                stride_in=4) # list of ctxts\n",
    "\n",
    "org_tt8 = org_model.conv_layer4(org_tt7)"
   ]
  },
  {
   "cell_type": "code",
   "execution_count": 46,
   "id": "870d11a9",
   "metadata": {},
   "outputs": [
    {
     "name": "stdout",
     "output_type": "stream",
     "text": [
      "average diff 0.057 sigma\n"
     ]
    },
    {
     "data": {
      "image/png": "[encoded data removed]",
      "text/plain": [
       "<Figure size 648x360 with 6 Axes>"
      ]
     },
     "metadata": {
      "needs_background": "light"
     },
     "output_type": "display_data"
    },
    {
     "name": "stdout",
     "output_type": "stream",
     "text": [
      "Scale 50.0\n",
      "chain index 10\n"
     ]
    }
   ],
   "source": [
    "util.plot_diff(org_tt8, tmp8, nh, nw, ch=4, unpad=0, stride=(4,4))\n",
    "util.check_ctxt(tmp8[0])"
   ]
  },
  {
   "cell_type": "markdown",
   "id": "74bbe353",
   "metadata": {},
   "source": [
    "## Conv5"
   ]
  },
  {
   "cell_type": "code",
   "execution_count": 47,
   "id": "3c79b9d5",
   "metadata": {},
   "outputs": [
    {
     "name": "stdout",
     "output_type": "stream",
     "text": [
      "torch.Size([64, 64, 3, 3])\n",
      "Conv2d(64, 64, kernel_size=(3, 3), stride=(1, 1), padding=same)\n",
      "Output image size 8 8\n"
     ]
    }
   ],
   "source": [
    "print(org_model.conv_layer5.weight.shape)\n",
    "print(org_model.conv_layer5)\n",
    "tmp9, _nh3, _nw3 = my_conv2D_FHE(sec, tmp8, nh, nw, org_model.conv_layer5,\n",
    "                                stride_in=4) # list of ctxts\n",
    "\n",
    "org_tt9 = org_model.conv_layer5(org_tt8)"
   ]
  },
  {
   "cell_type": "code",
   "execution_count": 48,
   "id": "9315f45c",
   "metadata": {},
   "outputs": [
    {
     "name": "stdout",
     "output_type": "stream",
     "text": [
      "average diff -0.014 sigma\n"
     ]
    },
    {
     "data": {
      "image/png": "[encoded data removed]",
      "text/plain": [
       "<Figure size 648x360 with 6 Axes>"
      ]
     },
     "metadata": {
      "needs_background": "light"
     },
     "output_type": "display_data"
    },
    {
     "name": "stdout",
     "output_type": "stream",
     "text": [
      "Scale 50.0\n",
      "chain index 8\n"
     ]
    }
   ],
   "source": [
    "util.plot_diff(org_tt9, tmp9, nh, nw, ch=29, unpad=0, stride=(4,4))\n",
    "util.check_ctxt(tmp9[0])"
   ]
  },
  {
   "cell_type": "code",
   "execution_count": null,
   "id": "2a1fd658",
   "metadata": {},
   "outputs": [],
   "source": []
  },
  {
   "cell_type": "code",
   "execution_count": 49,
   "id": "e52128b0",
   "metadata": {},
   "outputs": [],
   "source": [
    "import pickle\n",
    "\n",
    "intermediate = []\n",
    "for tt in tmp9:\n",
    "    intermediate.append(sec.decrypt(tt)[:1024])\n",
    "    \n",
    "pickle.dump(intermediate, open(\"AfterConv5.pickle\", \"wb\"))\n",
    "\n"
   ]
  },
  {
   "cell_type": "markdown",
   "id": "a785a094",
   "metadata": {},
   "source": [
    "## Pool"
   ]
  },
  {
   "cell_type": "code",
   "execution_count": 50,
   "id": "7ecfd8eb",
   "metadata": {},
   "outputs": [
    {
     "name": "stdout",
     "output_type": "stream",
     "text": [
      "Scale 50.0\n",
      "chain index 8\n",
      "Output image size 4 4\n"
     ]
    }
   ],
   "source": [
    "org_tt10 = org_model.pool(org_tt9)\n",
    "\n",
    "util.check_ctxt(tmp9[0])\n",
    "\n",
    "tmp10, _nh4, _nw4 = fhe_avg_pool(sec, tmp9, nh, nw, \n",
    "                                kernel_size=org_model.pool.kernel_size, \n",
    "                                stride_in=4) # list of ctxts"
   ]
  },
  {
   "cell_type": "code",
   "execution_count": 53,
   "id": "aa634820",
   "metadata": {},
   "outputs": [
    {
     "name": "stdout",
     "output_type": "stream",
     "text": [
      "average diff 0.021 sigma\n"
     ]
    },
    {
     "data": {
      "image/png": "[encoded data removed]",
      "text/plain": [
       "<Figure size 648x360 with 6 Axes>"
      ]
     },
     "metadata": {
      "needs_background": "light"
     },
     "output_type": "display_data"
    },
    {
     "name": "stdout",
     "output_type": "stream",
     "text": [
      "Scale 50.0\n",
      "chain index 6\n"
     ]
    }
   ],
   "source": [
    "util.plot_diff(org_tt10, tmp10, nh, nw, ch=5, unpad=0, stride=(8,8))\n",
    "util.check_ctxt(tmp10[0])"
   ]
  },
  {
   "cell_type": "code",
   "execution_count": null,
   "id": "3615b09d",
   "metadata": {},
   "outputs": [],
   "source": []
  },
  {
   "cell_type": "markdown",
   "id": "44d01064",
   "metadata": {},
   "source": [
    "# Reshape"
   ]
  },
  {
   "cell_type": "code",
   "execution_count": 52,
   "id": "8803dcb3",
   "metadata": {},
   "outputs": [],
   "source": [
    "pickle.dump([org_model.fc1.weight,org_model.fc1.bias], open(\"fc1.pickle\", \"wb\"))\n",
    "pickle.dump(org_tt10, open(\"org_tt10.pickle\", \"wb\"))"
   ]
  },
  {
   "cell_type": "code",
   "execution_count": 192,
   "id": "cc79c118",
   "metadata": {},
   "outputs": [],
   "source": [
    "org_tt10 = org_tt10.reshape(org_tt10.size(0),-1)"
   ]
  },
  {
   "cell_type": "code",
   "execution_count": 185,
   "id": "6852385b",
   "metadata": {},
   "outputs": [
    {
     "name": "stdout",
     "output_type": "stream",
     "text": [
      "Scale 50.0\n",
      "chain index 6\n"
     ]
    }
   ],
   "source": [
    "util.check_ctxt(tmp10[0])"
   ]
  },
  {
   "cell_type": "code",
   "execution_count": null,
   "id": "3ab4467e",
   "metadata": {},
   "outputs": [],
   "source": [
    "# Reshape\n",
    "#tmp10_ = [do_bootstrap(sec, tt) for tt in tmp10]\n"
   ]
  },
  {
   "cell_type": "code",
   "execution_count": 196,
   "id": "c1ebc59d",
   "metadata": {},
   "outputs": [],
   "source": [
    "dec = sec.decrypt(output)"
   ]
  },
  {
   "cell_type": "code",
   "execution_count": 197,
   "id": "cc6ea9d9",
   "metadata": {},
   "outputs": [
    {
     "data": {
      "image/png": "[encoded data removed]",
      "text/plain": [
       "<Figure size 432x288 with 1 Axes>"
      ]
     },
     "metadata": {
      "needs_background": "light"
     },
     "output_type": "display_data"
    }
   ],
   "source": [
    "plt.scatter(dec[:1024], org_tt10.detach().numpy())\n",
    "plt.plot([-1,1], [-1,1], color=\"r\")\n",
    "plt.show()"
   ]
  },
  {
   "cell_type": "code",
   "execution_count": 198,
   "id": "bb350b81",
   "metadata": {},
   "outputs": [],
   "source": [
    "pickle.dump(dec, open(\"before_FC1.pickle\", \"wb\"))"
   ]
  },
  {
   "cell_type": "markdown",
   "id": "c4afa112",
   "metadata": {},
   "source": [
    "# FC1\n",
    "\n",
    "1 x 1024  * 1024 * 128\n"
   ]
  },
  {
   "cell_type": "code",
   "execution_count": 199,
   "id": "22e4bba9",
   "metadata": {},
   "outputs": [
    {
     "name": "stdout",
     "output_type": "stream",
     "text": [
      "Scale 50.0\n",
      "chain index 5\n"
     ]
    }
   ],
   "source": [
    "util.check_ctxt(output)"
   ]
  },
  {
   "cell_type": "code",
   "execution_count": 238,
   "id": "7dafcb20",
   "metadata": {},
   "outputs": [],
   "source": [
    "# But only 128 slots will be used\n",
    "tmp_fc1 = sec.encrypt(np.zeros(sec.nslots)) \n",
    "\n",
    "\n",
    "ind_put = 0\n",
    "for ww in org_model.fc1.weight.detach().numpy():\n",
    "    feature_weight = sec.multByConst(output, ww, rescale=True)\n",
    "    \n",
    "    # Sum\n",
    "    reduced = calgo.reduce(feature_weight, 11)\n",
    "\n",
    "    mask = np.zeros(sec.nslots)\n",
    "    mask[ind_put] = 1.\n",
    "    masked = sec.multByConst(reduced, mask, rescale=True)\n",
    "\n",
    "    if ind_put == 0: sec.match_mod(tmp_fc1, masked)\n",
    "    sec.add(tmp_fc1, masked, inplace=True)\n",
    "    ind_put += 1\n",
    "        \n",
    "    \n",
    "\n",
    "bias = np.zeros(sec.nslots)\n",
    "bias[:128] = org_model.fc1.bias.detach().numpy()\n",
    "\n",
    "sec.addConst(tmp_fc1, bias, inplace=True)"
   ]
  },
  {
   "cell_type": "code",
   "execution_count": 276,
   "id": "6608e688",
   "metadata": {},
   "outputs": [],
   "source": [
    "org_11 = org_model.fc1(org_tt10)\n",
    "\n",
    "zz = org_11.detach().numpy()"
   ]
  },
  {
   "cell_type": "code",
   "execution_count": 277,
   "id": "2515ed1f",
   "metadata": {},
   "outputs": [],
   "source": [
    "dec = sec.decrypt(tmp_fc1)[:128]"
   ]
  },
  {
   "cell_type": "code",
   "execution_count": 278,
   "id": "fb38eafb",
   "metadata": {},
   "outputs": [
    {
     "data": {
      "text/plain": [
       "<matplotlib.collections.PathCollection at 0x7eff167a5cd0>"
      ]
     },
     "execution_count": 278,
     "metadata": {},
     "output_type": "execute_result"
    },
    {
     "data": {
      "image/png": "[encoded data removed]",
      "text/plain": [
       "<Figure size 432x288 with 1 Axes>"
      ]
     },
     "metadata": {
      "needs_background": "light"
     },
     "output_type": "display_data"
    }
   ],
   "source": [
    "plt.plot([-1.5,0.5],[-1.5,0.5], color='r')\n",
    "plt.scatter(zz, dec)"
   ]
  },
  {
   "cell_type": "markdown",
   "id": "5031ccfe",
   "metadata": {},
   "source": [
    "# Activation"
   ]
  },
  {
   "cell_type": "code",
   "execution_count": 273,
   "id": "5c8ddfa3",
   "metadata": {},
   "outputs": [
    {
     "data": {
      "text/plain": [
       "array([-0.26539888, -0.14681442, -0.52176448, -0.69184401, -0.6839569 ,\n",
       "       -0.31536554, -0.54712285, -0.80189431, -1.33369526, -0.96100306,\n",
       "       -1.04722841, -0.69640661, -0.48710731, -0.53160925, -0.75728381,\n",
       "       -0.87168129, -0.23698366, -0.84858187, -0.93673896, -0.30810013,\n",
       "       -0.79842145, -0.88413715, -0.35147411, -1.15967006, -0.38805695,\n",
       "       -0.45334237, -1.5035864 , -0.91171666, -1.13453658, -0.78472372,\n",
       "       -0.48655968, -0.53567926, -0.17529271, -1.17735443, -0.62491408,\n",
       "       -0.847946  , -0.09015878, -0.76154528, -1.3624712 , -1.00400001,\n",
       "       -1.0104166 , -0.65466621, -1.23693635, -1.06124188, -0.47572382,\n",
       "       -0.4919329 , -0.67538074, -0.69437903, -0.44495904, -1.00282966,\n",
       "       -1.25362501, -0.71723953, -0.72389429, -0.916015  , -0.51676568,\n",
       "       -0.94848668, -0.64402175, -0.28742529, -0.90080194, -0.50013787,\n",
       "       -0.4952918 , -0.88949567, -0.96466359, -0.5409006 , -0.09655267,\n",
       "       -0.50098217, -0.46909678, -0.33165826, -0.75519237, -0.57641556,\n",
       "       -0.62047746, -0.66724695, -0.78423137, -1.11302201, -0.58871383,\n",
       "       -0.1823206 ,  0.10256178, -0.25948446, -0.51841813, -0.46792021,\n",
       "       -0.48239199, -0.48342364, -0.43508087, -0.47894418, -0.26844099,\n",
       "        0.167199  , -0.55268948, -0.54807283, -0.41843462, -1.06113526,\n",
       "       -1.0149752 , -0.7746378 , -0.89330829, -0.62870363, -1.21844317,\n",
       "       -0.62505594, -1.05743892, -1.20019404, -0.70023894, -0.19912844,\n",
       "       -0.49358893, -0.86933981, -0.6901272 , -0.33753195, -0.47119629,\n",
       "       -0.57091012, -0.53535641, -0.53413927, -0.75632588, -0.70087431,\n",
       "       -0.56605811, -0.41286184, -0.43999033, -0.83309864, -0.67508792,\n",
       "       -0.46057051, -0.90694137, -0.55377347, -0.73863853, -0.17813433,\n",
       "       -0.85678406, -0.43163769, -0.46121589, -0.42777394, -0.92929694,\n",
       "       -0.76388162, -0.60753556, -0.31968115])"
      ]
     },
     "execution_count": 273,
     "metadata": {},
     "output_type": "execute_result"
    }
   ],
   "source": [
    "sec.decrypt(tmp_fc1)[:128]"
   ]
  },
  {
   "cell_type": "markdown",
   "id": "0da93bd6",
   "metadata": {},
   "source": [
    "## 왜 여기서 안 맞아......;;\n",
    "\n",
    "domain이 0에 너무 가까이 있음..\n",
    "\n",
    "ORG 모델의 activation을 F.relu가 아니고 approx로 했었음.... 그럼 안 되지 않나? "
   ]
  },
  {
   "cell_type": "code",
   "execution_count": 322,
   "id": "66453f90",
   "metadata": {},
   "outputs": [
    {
     "name": "stdout",
     "output_type": "stream",
     "text": [
      "Bootstrapped 0 2\n",
      "Bootstrapped 0 4\n"
     ]
    },
    {
     "data": {
      "text/plain": [
       "<matplotlib.collections.PathCollection at 0x7efc1c7bf550>"
      ]
     },
     "execution_count": 322,
     "metadata": {},
     "output_type": "execute_result"
    },
    {
     "data": {
      "image/png": "[encoded data removed]",
      "text/plain": [
       "<Figure size 432x288 with 1 Axes>"
      ]
     },
     "metadata": {
      "needs_background": "light"
     },
     "output_type": "display_data"
    }
   ],
   "source": [
    "ff2 = approx_sign(7)\n",
    "fake_ctx = [sec.encrypt(org_11[0].detach().numpy())]\n",
    "fake_11 = approx_relu_fhe(sec, calgo, fake_ctx, ff2, repeat=5, xfactor=2)\n",
    "\n",
    "dec = sec.decrypt(fake_11[0])[:128]\n",
    "plt.scatter(dec, zz)"
   ]
  },
  {
   "cell_type": "code",
   "execution_count": 326,
   "id": "f79d5d05",
   "metadata": {},
   "outputs": [],
   "source": [
    "#org_11_1 = org_model.activation(org_11)\n",
    "org_11_1 = F.relu(org_11)"
   ]
  },
  {
   "cell_type": "code",
   "execution_count": 327,
   "id": "f3b3ff9b",
   "metadata": {},
   "outputs": [
    {
     "data": {
      "text/plain": [
       "tensor([[0.0000, 0.0000, 0.0000, 0.0000, 0.0000, 0.0000, 0.0000, 0.0000, 0.0000,\n",
       "         0.0000, 0.0000, 0.0000, 0.0000, 0.0000, 0.0000, 0.0000, 0.0000, 0.0000,\n",
       "         0.0000, 0.0000, 0.0000, 0.0000, 0.0000, 0.0000, 0.0000, 0.0000, 0.0000,\n",
       "         0.0000, 0.0000, 0.0000, 0.0000, 0.0000, 0.0000, 0.0000, 0.0000, 0.0000,\n",
       "         0.0000, 0.0000, 0.0000, 0.0000, 0.0000, 0.0000, 0.0000, 0.0000, 0.0000,\n",
       "         0.0000, 0.0000, 0.0000, 0.0000, 0.0000, 0.0000, 0.0000, 0.0000, 0.0000,\n",
       "         0.0000, 0.0000, 0.0000, 0.0000, 0.0000, 0.0000, 0.0000, 0.0000, 0.0000,\n",
       "         0.0000, 0.0000, 0.0000, 0.0000, 0.0000, 0.0000, 0.0000, 0.0000, 0.0000,\n",
       "         0.0000, 0.0000, 0.0000, 0.0000, 0.0891, 0.0000, 0.0000, 0.0000, 0.0000,\n",
       "         0.0000, 0.0000, 0.0000, 0.0000, 0.1559, 0.0000, 0.0000, 0.0000, 0.0000,\n",
       "         0.0000, 0.0000, 0.0000, 0.0000, 0.0000, 0.0000, 0.0000, 0.0000, 0.0000,\n",
       "         0.0000, 0.0000, 0.0000, 0.0000, 0.0000, 0.0000, 0.0000, 0.0000, 0.0000,\n",
       "         0.0000, 0.0000, 0.0000, 0.0000, 0.0000, 0.0000, 0.0000, 0.0000, 0.0000,\n",
       "         0.0000, 0.0000, 0.0000, 0.0000, 0.0000, 0.0000, 0.0000, 0.0000, 0.0000,\n",
       "         0.0000, 0.0000]], grad_fn=<ReluBackward0>)"
      ]
     },
     "execution_count": 327,
     "metadata": {},
     "output_type": "execute_result"
    }
   ],
   "source": [
    "org_11_1"
   ]
  },
  {
   "cell_type": "code",
   "execution_count": 285,
   "id": "eb08d600",
   "metadata": {},
   "outputs": [],
   "source": [
    "tmp_fc1_ = [do_bootstrap(sec, tmp_fc1)]\n",
    "\n",
    "tmp_fc11 = approx_relu_fhe(sec, calgo, tmp_fc1_, ff, repeat=4, xfactor=15)\n",
    "\n",
    "# pytorch\n",
    "org_11_1 = org_model.activation(org_11)"
   ]
  },
  {
   "cell_type": "code",
   "execution_count": 287,
   "id": "763711a1",
   "metadata": {},
   "outputs": [],
   "source": [
    "dec = sec.decrypt(tmp_fc11[0])[:128]\n",
    "zz = org_11_1[0].detach().numpy()"
   ]
  },
  {
   "cell_type": "code",
   "execution_count": 296,
   "id": "25cb07e5",
   "metadata": {},
   "outputs": [
    {
     "data": {
      "text/plain": [
       "<matplotlib.collections.PathCollection at 0x7efee18fdc40>"
      ]
     },
     "execution_count": 296,
     "metadata": {},
     "output_type": "execute_result"
    },
    {
     "data": {
      "image/png": "[encoded data removed]",
      "text/plain": [
       "<Figure size 432x288 with 1 Axes>"
      ]
     },
     "metadata": {
      "needs_background": "light"
     },
     "output_type": "display_data"
    }
   ],
   "source": [
    "dec = sec.decrypt(fake_11[0])[:128]\n",
    "plt.scatter(dec, zz)"
   ]
  },
  {
   "cell_type": "code",
   "execution_count": null,
   "id": "77fb4428",
   "metadata": {},
   "outputs": [],
   "source": []
  },
  {
   "cell_type": "code",
   "execution_count": null,
   "id": "afde84c6",
   "metadata": {},
   "outputs": [],
   "source": []
  },
  {
   "cell_type": "markdown",
   "id": "c0804322",
   "metadata": {},
   "source": [
    "# FC2\n",
    "\n",
    "1 x 128  * 128 x 10"
   ]
  },
  {
   "cell_type": "code",
   "execution_count": 242,
   "id": "7cbda705",
   "metadata": {},
   "outputs": [
    {
     "name": "stdout",
     "output_type": "stream",
     "text": [
      "Scale 50.0\n",
      "chain index 3\n"
     ]
    }
   ],
   "source": [
    "util.check_ctxt(tmp_fc1)"
   ]
  },
  {
   "cell_type": "code",
   "execution_count": null,
   "id": "0d573cbb",
   "metadata": {},
   "outputs": [],
   "source": [
    "# But only 10 slots will be used\n",
    "tmp_fc2 = sec.encrypt(np.zeros(sec.nslots)) \n",
    "\n",
    "ind_put = 0\n",
    "for ww in org_model.fc2.weight.detach().numpy():\n",
    "    feature_weight = sec.multByConst(tmp_fc1, ww, rescale=True)\n",
    "    \n",
    "    # Sum\n",
    "    reduced = calgo.reduce(feature_weight, 7) # 7 or 8?\n",
    "\n",
    "    mask = np.zeros(sec.nslots)\n",
    "    mask[ind_put] = 1.\n",
    "    masked = sec.multByConst(reduced, mask, rescale=True)\n",
    "    \n",
    "    if ind_put == 0: sec.match_mod(tmp_fc2, masked)\n",
    "    sec.add(tmp_fc2, masked, inplace=True)\n",
    "    ind_put += 1\n",
    "        \n",
    "    \n",
    "\n",
    "bias = np.zeros(sec.nslots)\n",
    "bias[:10] = org_model.fc2.bias.detach().numpy()\n",
    "\n",
    "sec.addConst(tmp_fc2, bias, inplace=True)"
   ]
  },
  {
   "cell_type": "code",
   "execution_count": 246,
   "id": "4e1801b0",
   "metadata": {},
   "outputs": [
    {
     "name": "stdout",
     "output_type": "stream",
     "text": [
      "[ 0.7740644  -1.56332919 -2.38210231 -0.10702111 -0.1996476   0.64727898\n",
      " -2.15798602  0.51687765  1.99887281  2.73043793]\n"
     ]
    }
   ],
   "source": [
    "result = sec.decrypt(tmp_fc2)[:10]\n",
    "print(result)"
   ]
  },
  {
   "cell_type": "code",
   "execution_count": 329,
   "id": "5e482a47",
   "metadata": {},
   "outputs": [
    {
     "data": {
      "text/plain": [
       "tensor(4)"
      ]
     },
     "execution_count": 329,
     "metadata": {},
     "output_type": "execute_result"
    }
   ],
   "source": [
    "torch.argmax(org_model.fc2(org_11_1)) # 정답은 2... "
   ]
  },
  {
   "cell_type": "code",
   "execution_count": null,
   "id": "97650135",
   "metadata": {},
   "outputs": [],
   "source": []
  },
  {
   "cell_type": "code",
   "execution_count": 10,
   "id": "73b95114",
   "metadata": {},
   "outputs": [],
   "source": [
    "org_result = org_model(img_tensor)"
   ]
  },
  {
   "cell_type": "code",
   "execution_count": 13,
   "id": "43120143",
   "metadata": {},
   "outputs": [
    {
     "data": {
      "text/plain": [
       "tensor([[ 6.9884, -8.8124,  5.6470,  4.2776, -2.7717, -0.2326,  0.0269, -5.2098,\n",
       "          2.9961, -2.8027]], grad_fn=<AddmmBackward0>)"
      ]
     },
     "execution_count": 13,
     "metadata": {},
     "output_type": "execute_result"
    }
   ],
   "source": [
    "org_result # 원래 모델도 틀림.. ㅎㅎ "
   ]
  },
  {
   "cell_type": "markdown",
   "id": "66f73bf2",
   "metadata": {},
   "source": [
    "# 여러개 예제를 확인해봐야 할 듯. \n",
    "\n",
    "마지막 activation에서 대부분 0이 나오는거 큰 문제 아닌 것 같음.   \n",
    "- F.relu인 org_model로 무슨 값 나오나 확인해보기.."
   ]
  },
  {
   "cell_type": "code",
   "execution_count": 253,
   "id": "46bc6604",
   "metadata": {},
   "outputs": [
    {
     "data": {
      "text/plain": [
       "tensor(0)"
      ]
     },
     "execution_count": 253,
     "metadata": {},
     "output_type": "execute_result"
    }
   ],
   "source": [
    "torch.argmax(org_result)"
   ]
  },
  {
   "cell_type": "code",
   "execution_count": 35,
   "id": "12ab3c5a",
   "metadata": {},
   "outputs": [],
   "source": [
    "# One block = ((Conv2D - BN - ReLU - Conv2D - Bn ) + () ) ReLU\n",
    "\n",
    "def to_numpy(tensor):\n",
    "    return tensor.detach().numpy()"
   ]
  },
  {
   "cell_type": "markdown",
   "id": "5afebcdf",
   "metadata": {},
   "source": [
    "Everything is good!"
   ]
  },
  {
   "cell_type": "code",
   "execution_count": null,
   "id": "219d2ebe",
   "metadata": {},
   "outputs": [],
   "source": []
  },
  {
   "cell_type": "code",
   "execution_count": null,
   "id": "4755168c",
   "metadata": {},
   "outputs": [],
   "source": []
  },
  {
   "cell_type": "code",
   "execution_count": null,
   "id": "0bd39392",
   "metadata": {},
   "outputs": [],
   "source": []
  }
 ],
 "metadata": {
  "kernelspec": {
   "display_name": "Python 3 (ipykernel)",
   "language": "python",
   "name": "python3"
  },
  "language_info": {
   "codemirror_mode": {
    "name": "ipython",
    "version": 3
   },
   "file_extension": ".py",
   "mimetype": "text/x-python",
   "name": "python",
   "nbconvert_exporter": "python",
   "pygments_lexer": "ipython3",
   "version": "3.10.6"
  },
  "vscode": {
   "interpreter": {
    "hash": "916dbcbb3f70747c44a77c7bcd40155683ae19c65e1c03b4aa3499c5328201f1"
   }
  }
 },
 "nbformat": 4,
 "nbformat_minor": 5
}
