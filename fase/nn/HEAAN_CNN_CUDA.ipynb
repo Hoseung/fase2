{
 "cells": [
  {
   "cell_type": "markdown",
   "id": "d9a90265",
   "metadata": {},
   "source": [
    "- 모든 rotation을 특정해서 미리 key를 만들어두면 한방에 rotation 가능. "
   ]
  },
  {
   "cell_type": "code",
   "execution_count": 1,
   "id": "9a88b056",
   "metadata": {},
   "outputs": [],
   "source": [
    "%load_ext autoreload\n",
    "%autoreload 2"
   ]
  },
  {
   "cell_type": "code",
   "execution_count": 2,
   "id": "950aa882",
   "metadata": {},
   "outputs": [
    {
     "name": "stdout",
     "output_type": "stream",
     "text": [
      "Using CPU version HEAAN\n"
     ]
    }
   ],
   "source": [
    "import numpy as np\n",
    "import pickle\n",
    "import torch\n",
    "import matplotlib.pyplot as plt \n",
    "#from fase.core import heaan\n",
    "\n",
    "import fase\n",
    "#fase.USE_CUDA = True\n",
    "#from fase import HEAAN\n",
    "#from fase import HEAAN as he\n",
    "from fase.core import heaan\n",
    "#he = heaan.he\n",
    "from typing import List, Callable\n",
    "#from fase.core.heaan import HEAANContext \n",
    "#from fase.HEAAN import Ciphertext\n",
    "\n",
    "import fase.nn.utils as utils"
   ]
  },
  {
   "cell_type": "markdown",
   "id": "e6c29aa0",
   "metadata": {},
   "source": [
    "## 새로운 키를 생성하려니 작동 불가...??"
   ]
  },
  {
   "cell_type": "code",
   "execution_count": 3,
   "id": "8989f3ed",
   "metadata": {
    "scrolled": true
   },
   "outputs": [
    {
     "name": "stdout",
     "output_type": "stream",
     "text": [
      "Initializing the scheme as the data owner\n",
      "Loading a secret key from:  ./SecretKey.txt\n",
      "loading secret key done.\n",
      "loading boot keys done\n",
      "HEAAN CKKS setup is ready \n"
     ]
    }
   ],
   "source": [
    "hec = heaan.HEAANContext(10, 30, 450, boot=True, load_sk=True, rot_l=\"all\")"
   ]
  },
  {
   "cell_type": "code",
   "execution_count": 4,
   "id": "56ffca0f",
   "metadata": {},
   "outputs": [
    {
     "data": {
      "text/plain": [
       "[1, 2, 4, 8, 16, 32, 64, 128, 256, 512, 1024]"
      ]
     },
     "execution_count": 4,
     "metadata": {},
     "output_type": "execute_result"
    }
   ],
   "source": [
    "hec._lkey"
   ]
  },
  {
   "cell_type": "markdown",
   "id": "cd698e2b",
   "metadata": {},
   "source": [
    "Convenience functions"
   ]
  },
  {
   "cell_type": "code",
   "execution_count": 5,
   "id": "5eb2d7a7",
   "metadata": {},
   "outputs": [],
   "source": [
    "def myprint(*x):\n",
    "    print(*x, flush=True)\n",
    "\n",
    "def decrypt_print(ctx, n=20):\n",
    "    res1 = decrypt(secretKey, ctx)\n",
    "    print(res1[:n])\n",
    "    \n",
    "def decrypt(secretKey, enc):\n",
    "    featurized = scheme.decrypt(secretKey, enc)\n",
    "    arr = np.zeros(n, dtype=np.complex128)\n",
    "    featurized.__getarr__(arr)\n",
    "    return arr.real\n",
    "\n",
    "def encrypt(val):\n",
    "    ctxt = he.Ciphertext()#logp, logq, n)\n",
    "    vv = np.zeros(n) # Need to initialize to zero or will cause \"unbound\"\n",
    "    vv[:len(val)] = val\n",
    "    scheme.encrypt(ctxt, he.Double(vv), n, logp, logq)\n",
    "    del vv\n",
    "    return ctxt"
   ]
  },
  {
   "cell_type": "markdown",
   "id": "97b395af",
   "metadata": {},
   "source": [
    "## Torch model"
   ]
  },
  {
   "cell_type": "code",
   "execution_count": 6,
   "id": "1b4d0864",
   "metadata": {},
   "outputs": [],
   "source": [
    "from time import time\n",
    "import numpy as np\n",
    "from PIL import Image\n",
    "import matplotlib.pyplot as plt \n",
    "import torch\n",
    "\n",
    "from fase.nn. torch_cnn import *"
   ]
  },
  {
   "cell_type": "code",
   "execution_count": 7,
   "id": "365584ce",
   "metadata": {},
   "outputs": [
    {
     "name": "stdout",
     "output_type": "stream",
     "text": [
      "Files already downloaded and verified\n",
      "Files already downloaded and verified\n"
     ]
    }
   ],
   "source": [
    "# check if CUDA is available\n",
    "train_on_gpu = torch.cuda.is_available()\n",
    "\n",
    "device = \"cpu\"\n",
    "\n",
    "train_loader, valid_loader, test_loader = get_data_loaders()\n",
    "\n",
    "# specify the image classes\n",
    "classes = ['airplane', 'automobile', 'bird', 'cat', 'deer',\n",
    "        'dog', 'frog', 'horse', 'ship', 'truck']\n"
   ]
  },
  {
   "cell_type": "markdown",
   "id": "b01ccd9e",
   "metadata": {},
   "source": [
    "## Load trained model"
   ]
  },
  {
   "cell_type": "code",
   "execution_count": 8,
   "id": "437a13b6",
   "metadata": {},
   "outputs": [],
   "source": [
    "from fase.nn.models import ConvNeuralNet\n",
    "from fase.nn.approximate import approx_relu, approx_sign\n",
    "\n",
    "xfactor = 20\n",
    "activation = lambda x : xfactor * approx_relu(x/xfactor, degree = 5, repeat=3)\n",
    "\n",
    "\n",
    "# F.relu or activation?\n",
    "org_model = ConvNeuralNet(num_classes=10, activation=F.relu) "
   ]
  },
  {
   "cell_type": "code",
   "execution_count": 9,
   "id": "a1995425",
   "metadata": {},
   "outputs": [],
   "source": [
    "fn_param = \"SimpleCNN_ReLU_minimax_v2.pt\"\n",
    "\n",
    "trained_param = torch.load(fn_param, map_location=torch.device(device))\n",
    "trained_param = {k: v.cpu() for k, v in trained_param.items()} # to cpu()\n",
    "org_model.load_state_dict(trained_param)\n",
    "org_model.eval() ## If not eval(), running_mean and running_var of batch_norm changes\n",
    "\n",
    "# To numpy\n",
    "params_np = {k: v.numpy() for k, v in trained_param.items()}"
   ]
  },
  {
   "cell_type": "markdown",
   "id": "439bb8c2",
   "metadata": {},
   "source": [
    "# HEAAN FHE"
   ]
  },
  {
   "cell_type": "code",
   "execution_count": 10,
   "id": "ebb98902",
   "metadata": {},
   "outputs": [
    {
     "name": "stdout",
     "output_type": "stream",
     "text": [
      "torch.Size([1, 3, 32, 32])\n"
     ]
    },
    {
     "data": {
      "text/plain": [
       "array([0.65097913, 0.63137222, 0.61176452, ..., 0.76470518, 0.75686353,\n",
       "       0.73333461])"
      ]
     },
     "execution_count": 10,
     "metadata": {},
     "output_type": "execute_result"
    }
   ],
   "source": [
    "import torchvision.transforms as transforms\n",
    "\n",
    "img = np.array(Image.open(\"./bird6.png\"))\n",
    "to_tensor = transforms.ToTensor() # [n_channel, nh, nw]\n",
    "img_tensor = to_tensor(img).unsqueeze(0) # [n_batch, n_channel, nh, nw]\n",
    "n_batch, n_channel, nh, nw = img_tensor.shape\n",
    "\n",
    "print(img_tensor.shape)\n",
    "\n",
    "img_this_example = img_tensor[0] # Assume batch size = 1\n",
    "img_enc = [hec.encrypt(this_channel.ravel()) for this_channel in img_this_example]\n",
    "\n",
    "hec.decrypt(img_enc[0])"
   ]
  },
  {
   "cell_type": "code",
   "execution_count": 11,
   "id": "4decc5ba",
   "metadata": {},
   "outputs": [],
   "source": [
    "util = utils.Heaan_checker(hec)"
   ]
  },
  {
   "cell_type": "code",
   "execution_count": 17,
   "id": "304ba2b5",
   "metadata": {},
   "outputs": [],
   "source": [
    "from fase.nn.conv import get_out_size, gen_pad_mask\n",
    "from fase.nn.conv_he import convolve_fhe, fhe_avg_pool, fhe_bn"
   ]
  },
  {
   "cell_type": "code",
   "execution_count": 19,
   "id": "6ea0a7d1",
   "metadata": {},
   "outputs": [
    {
     "name": "stdout",
     "output_type": "stream",
     "text": [
      "Output image size 16 16\n",
      "11 out_fhe.logp, logq 60 450\n",
      "11 out_fhe.logp, logq 60 450\n",
      "11 out_fhe.logp, logq 60 450\n"
     ]
    }
   ],
   "source": [
    "org_tt3 = org_model.pool(img_tensor)\n",
    "\n",
    "tmp3, nh2, nw2 = fhe_avg_pool(hec, img_enc,\n",
    "                                nh, nw, \n",
    "                                kernel_size=org_model.pool.kernel_size, \n",
    "                                stride_in=1) # list of ctxts"
   ]
  },
  {
   "cell_type": "code",
   "execution_count": 20,
   "id": "f3f1af83",
   "metadata": {
    "scrolled": true
   },
   "outputs": [
    {
     "name": "stdout",
     "output_type": "stream",
     "text": [
      "logp 30 logq 390\n"
     ]
    }
   ],
   "source": [
    "util.check_ctxt(tmp3[0])"
   ]
  },
  {
   "cell_type": "code",
   "execution_count": 21,
   "id": "6d412633",
   "metadata": {},
   "outputs": [
    {
     "name": "stdout",
     "output_type": "stream",
     "text": [
      "average diff -0.000 sigma\n"
     ]
    },
    {
     "data": {
      "image/png": "[encoded data removed]",
      "text/plain": [
       "<Figure size 648x360 with 6 Axes>"
      ]
     },
     "metadata": {
      "needs_background": "light"
     },
     "output_type": "display_data"
    },
    {
     "name": "stdout",
     "output_type": "stream",
     "text": [
      "logp 30 logq 390\n"
     ]
    }
   ],
   "source": [
    "util.plot_diff(org_tt3, tmp3, 32,32, ch=0, unpad=0, stride=(2,2))\n",
    "util.check_ctxt(tmp3[0])"
   ]
  },
  {
   "cell_type": "code",
   "execution_count": 10,
   "id": "b9f3bace",
   "metadata": {},
   "outputs": [],
   "source": [
    "from fase.core.commonAlgo import CommonAlgorithms\n",
    "\n",
    "from conv_he import *"
   ]
  },
  {
   "cell_type": "code",
   "execution_count": 11,
   "id": "1ee994e3",
   "metadata": {},
   "outputs": [],
   "source": [
    "calgo = CommonAlgorithms(hec, \"HEAAN\")\n",
    "ff = approx_sign(5)"
   ]
  },
  {
   "cell_type": "code",
   "execution_count": 24,
   "id": "71f21762",
   "metadata": {},
   "outputs": [],
   "source": [
    "org_tt5 = org_model.activation(org_tt3)"
   ]
  },
  {
   "cell_type": "code",
   "execution_count": 25,
   "id": "a0941c00",
   "metadata": {},
   "outputs": [
    {
     "name": "stdout",
     "output_type": "stream",
     "text": [
      "Bootstrapped 0 2\n",
      "Bootstrapped 1 2\n",
      "Bootstrapped 2 2\n"
     ]
    }
   ],
   "source": [
    "tmp5 = approx_relu_fhe(hec, calgo, tmp3, ff, repeat=4, xfactor=20)"
   ]
  },
  {
   "cell_type": "code",
   "execution_count": 26,
   "id": "a3085649",
   "metadata": {},
   "outputs": [
    {
     "name": "stdout",
     "output_type": "stream",
     "text": [
      "average diff 0.074 sigma\n"
     ]
    },
    {
     "data": {
      "image/png": "[encoded data removed]",
      "text/plain": [
       "<Figure size 648x360 with 6 Axes>"
      ]
     },
     "metadata": {
      "needs_background": "light"
     },
     "output_type": "display_data"
    },
    {
     "name": "stdout",
     "output_type": "stream",
     "text": [
      "logp 30 logq 90\n"
     ]
    }
   ],
   "source": [
    "util.plot_diff(org_tt5, tmp5, 32,32, ch=0, unpad=0, stride=(2,2))\n",
    "util.check_ctxt(tmp5[0])"
   ]
  },
  {
   "cell_type": "code",
   "execution_count": 27,
   "id": "fb454523",
   "metadata": {},
   "outputs": [
    {
     "name": "stdout",
     "output_type": "stream",
     "text": [
      "Output image size 8 8\n",
      "11 out_fhe.logp, logq 60 90\n",
      "11 out_fhe.logp, logq 60 90\n",
      "11 out_fhe.logp, logq 60 90\n",
      "average diff 0.085 sigma\n"
     ]
    },
    {
     "data": {
      "image/png": "[encoded data removed]",
      "text/plain": [
       "<Figure size 648x360 with 6 Axes>"
      ]
     },
     "metadata": {
      "needs_background": "light"
     },
     "output_type": "display_data"
    },
    {
     "name": "stdout",
     "output_type": "stream",
     "text": [
      "logp 30 logq 30\n"
     ]
    }
   ],
   "source": [
    "org_tt8 = org_model.pool(org_tt5)\n",
    "\n",
    "tmp8, nh2, nw2 = fhe_avg_pool(hec, tmp5,\n",
    "                                nh, nw, \n",
    "                                kernel_size=org_model.pool.kernel_size, \n",
    "                                stride_in=2) # list of ctxts\n",
    "\n",
    "util.plot_diff(org_tt8, tmp8, 32,32, ch=0, unpad=0, stride=(4,4))\n",
    "util.check_ctxt(tmp8[0])"
   ]
  },
  {
   "cell_type": "code",
   "execution_count": 29,
   "id": "89e4a1cc",
   "metadata": {},
   "outputs": [],
   "source": [
    "def do_bootstrap(fhec, ctxt):\n",
    "    ctxt = fhec.decrypt(ctxt)\n",
    "    return fhec.encrypt(ctxt)\n",
    "\n",
    "tmp8_ = [do_bootstrap(hec, tt) for tt in tmp8]"
   ]
  },
  {
   "cell_type": "code",
   "execution_count": 31,
   "id": "f971f3a6",
   "metadata": {},
   "outputs": [
    {
     "name": "stdout",
     "output_type": "stream",
     "text": [
      "average diff 0.085 sigma\n"
     ]
    },
    {
     "data": {
      "image/png": "[encoded data removed]",
      "text/plain": [
       "<Figure size 648x360 with 6 Axes>"
      ]
     },
     "metadata": {
      "needs_background": "light"
     },
     "output_type": "display_data"
    },
    {
     "name": "stdout",
     "output_type": "stream",
     "text": [
      "logp 30 logq 450\n"
     ]
    }
   ],
   "source": [
    "util.plot_diff(org_tt8, tmp8_, 32,32, ch=0, unpad=0, stride=(4,4))\n",
    "util.check_ctxt(tmp8_[0])"
   ]
  },
  {
   "cell_type": "code",
   "execution_count": 32,
   "id": "5c74ad10",
   "metadata": {},
   "outputs": [
    {
     "name": "stdout",
     "output_type": "stream",
     "text": [
      "Output image size 4 4\n",
      "11 out_fhe.logp, logq 60 450\n",
      "11 out_fhe.logp, logq 60 450\n",
      "11 out_fhe.logp, logq 60 450\n",
      "average diff 0.099 sigma\n"
     ]
    },
    {
     "data": {
      "image/png": "[encoded data removed]",
      "text/plain": [
       "<Figure size 648x360 with 6 Axes>"
      ]
     },
     "metadata": {
      "needs_background": "light"
     },
     "output_type": "display_data"
    },
    {
     "name": "stdout",
     "output_type": "stream",
     "text": [
      "logp 30 logq 390\n"
     ]
    }
   ],
   "source": [
    "org_tt10 = org_model.pool(org_tt8)\n",
    "\n",
    "tmp10, nh2, nw2 = fhe_avg_pool(hec, tmp8_,\n",
    "                                nh, nw, \n",
    "                                kernel_size=org_model.pool.kernel_size, \n",
    "                                stride_in=4) # list of ctxts\n",
    "\n",
    "util.plot_diff(org_tt10, tmp10, 32,32, ch=0, unpad=0, stride=(8,8))\n",
    "util.check_ctxt(tmp10[0])"
   ]
  },
  {
   "cell_type": "markdown",
   "id": "fdcd6bc3",
   "metadata": {},
   "source": [
    "# reshape"
   ]
  },
  {
   "cell_type": "code",
   "execution_count": null,
   "id": "d4f567d9",
   "metadata": {},
   "outputs": [],
   "source": [
    "hec.rescale"
   ]
  },
  {
   "cell_type": "code",
   "execution_count": null,
   "id": "75c1c853",
   "metadata": {},
   "outputs": [],
   "source": [
    "org_tt10_ = org_tt10.reshape(org_tt10.size(0),-1)\n",
    "\n"
   ]
  },
  {
   "cell_type": "code",
   "execution_count": 51,
   "id": "673ee656",
   "metadata": {
    "scrolled": true
   },
   "outputs": [
    {
     "name": "stdout",
     "output_type": "stream",
     "text": [
      "[ 4.99551324e-01  3.56749894e-08 -2.31858526e-08 ... -7.13272596e-08\n",
      "  3.79198638e-08 -9.63490893e-08]\n",
      "30 360\n",
      "[ 4.99551324e-01  3.56749894e-08 -2.31858526e-08 ... -7.13272596e-08\n",
      "  3.79198638e-08 -9.63490893e-08]\n",
      "30 360\n",
      "[ 9.99102648e-01  7.13499789e-08 -4.63717052e-08 ... -1.42654519e-07\n",
      "  7.58397275e-08 -1.92698179e-07]\n",
      "30 360\n",
      "[ 1.37589559e-08 -3.00618933e-08 -3.77299672e-08 ... -7.58162536e-09\n",
      " -1.93378857e-08  8.76134132e-08]\n",
      "30 360\n",
      "[ 9.99102671e-01  4.11515622e-01 -1.18551954e-07 ... -2.32883143e-07\n",
      " -5.07187982e-08 -3.23308571e-07]\n",
      "30 360\n",
      "[-3.03896702e-08 -1.88303085e-08 -2.59058386e-08 ...  1.11639720e-08\n",
      " -1.05158685e-07 -5.53802392e-08]\n",
      "30 360\n",
      "[ 9.99102816e-01  4.11515569e-01  7.28205972e-01 ... -3.94505217e-07\n",
      " -8.32660652e-08 -2.73485544e-07]\n",
      "30 360\n",
      "[-4.57587757e-08 -3.35933334e-08  8.72694572e-08 ...  2.51367483e-08\n",
      " -3.66470787e-08 -3.38885729e-08]\n",
      "30 360\n",
      "[ 9.99102912e-01  4.11515518e-01  7.28205977e-01 ... -6.82795211e-07\n",
      " -1.22297143e-07 -4.73188407e-07]\n",
      "30 360\n",
      "[-1.15050783e-07  1.44696011e-08 -4.52662981e-08 ...  5.52112810e-08\n",
      "  3.97223483e-08  3.08974859e-08]\n",
      "30 360\n",
      "[ 9.99103247e-01  4.11515906e-01  7.28206134e-01 ... -3.33498745e-07\n",
      "  3.89028055e-07 -3.39148719e-07]\n",
      "30 360\n",
      "[ 4.95713564e-09 -1.07763086e-07  6.39053479e-08 ... -7.55040750e-08\n",
      "  5.69803480e-08  1.18379876e-07]\n",
      "30 360\n",
      "[ 9.99103148e-01  4.11516120e-01  7.28206078e-01 ... -4.26401857e-07\n",
      "  7.27040477e-07 -2.74701033e-07]\n",
      "30 360\n",
      "[ 4.32473443e-08 -8.09718299e-08 -3.66682545e-08 ... -7.87354224e-08\n",
      " -4.79300875e-08  5.30135989e-08]\n",
      "30 360\n",
      "[ 9.99103200e-01  4.11515898e-01  7.28205850e-01 ... -6.11112107e-07\n",
      "  4.56116608e-07 -4.30279384e-07]\n",
      "30 360\n",
      "[-5.38539927e-08 -1.77566705e-08 -1.68145055e-08 ...  4.81245161e-08\n",
      " -6.42056999e-08 -2.23191905e-08]\n",
      "30 360\n",
      "[ 9.99103242e-01  4.11515869e-01  7.28205881e-01 ... -5.46947558e-07\n",
      "  5.32722922e-07 -3.94070679e-07]\n",
      "30 360\n",
      "[ 1.34000004e-07 -8.31196769e-08 -3.38104557e-08 ... -2.61929912e-08\n",
      "  1.45918983e-08  5.06141165e-08]\n",
      "30 360\n",
      "[ 9.99103059e-01  4.11515745e-01  7.28205567e-01 ... -1.06079428e-07\n",
      "  5.43230080e-07 -1.27099506e-07]\n",
      "30 360\n",
      "[ 3.59782182e-08  5.91213134e-08  2.88419049e-08 ... -3.30680511e-08\n",
      " -5.89756660e-08 -1.13591086e-07]\n",
      "30 360\n",
      "[ 9.99103304e-01  4.11515809e-01  7.28205134e-01 ... -1.49540545e-07\n",
      "  1.28150087e-07  2.10015430e-08]\n",
      "30 360\n",
      "[-7.70638890e-08 -7.99538963e-08  5.39354938e-08 ... -3.05571291e-08\n",
      "  4.94414571e-08  4.67656812e-08]\n",
      "30 360\n",
      "[ 9.99103183e-01  4.11515772e-01  7.28205082e-01 ... -3.21502086e-08\n",
      "  3.93196931e-07 -5.40608038e-10]\n",
      "30 360\n",
      "[ 3.39678208e-08  2.52235589e-08 -7.33859146e-08 ... -1.43890442e-07\n",
      "  1.23767369e-07  3.42634395e-08]\n",
      "30 360\n",
      "[ 9.99103244e-01  4.11515803e-01  7.28204913e-01 ... -4.36075755e-08\n",
      "  5.63447942e-07 -3.37040590e-09]\n",
      "30 360\n",
      "[-5.94083090e-08 -2.46093618e-08  1.28280278e-08 ... -4.61389176e-08\n",
      "  4.88220428e-08  7.74388194e-08]\n",
      "30 360\n",
      "[ 9.99103211e-01  4.11515936e-01  7.28204810e-01 ...  1.33057951e-07\n",
      "  7.69660694e-07 -2.50134287e-07]\n",
      "30 360\n",
      "[-3.80107383e-09 -4.02321314e-08 -3.42401016e-08 ... -8.01010541e-08\n",
      "  2.56780362e-08  1.85636917e-08]\n",
      "30 360\n",
      "[ 9.99103232e-01  4.11516042e-01  7.28204635e-01 ...  2.54431110e-07\n",
      "  7.94993050e-07 -1.69543544e-07]\n",
      "30 360\n",
      "[ 5.88152072e-08 -1.26230407e-08 -3.23751225e-09 ...  3.78823760e-08\n",
      "  1.62000368e-08  9.79946206e-08]\n",
      "30 360\n",
      "[ 9.99103280e-01  4.11516209e-01  7.28204527e-01 ...  2.64216997e-08\n",
      "  6.71969032e-07 -3.07541749e-07]\n",
      "30 360\n",
      "[ 7.91488604e-08 -1.32000816e-07 -6.19139248e-08 ... -1.40490473e-07\n",
      "  5.59571018e-08  2.21866919e-08]\n",
      "30 360\n",
      "[ 9.99103604e-01  4.11516367e-01  7.28204529e-01 ... -2.51524132e-08\n",
      "  4.81532798e-07 -2.69134552e-07]\n",
      "30 360\n",
      "[ 7.16504414e-01 -2.45652039e-08 -5.73307817e-08 ... -6.58264802e-09\n",
      " -4.82263377e-08 -4.35338530e-08]\n",
      "30 360\n",
      "[ 9.99103782e-01  4.11516427e-01  7.28204415e-01 ... -6.01896135e-08\n",
      "  4.82637073e-07 -5.00231994e-07]\n",
      "30 360\n",
      "[ 9.59178760e-08  7.27441087e-09 -1.16048700e-08 ... -2.12654748e-08\n",
      " -5.85093019e-08 -1.09756219e-07]\n",
      "30 360\n",
      "[ 9.99103995e-01  4.11516114e-01  7.28204479e-01 ... -1.40150667e-07\n",
      "  6.10212002e-07  6.71224338e-01]\n",
      "30 360\n",
      "[ 1.27503758e-07  3.53956110e-08  8.66230647e-08 ... -4.57008085e-08\n",
      "  5.67035559e-08 -2.65128606e-08]\n",
      "30 360\n",
      "[ 9.99104050e-01  4.11515985e-01  7.28204608e-01 ... -2.32770370e-07\n",
      "  8.94436237e-07  6.71224396e-01]\n",
      "30 360\n",
      "[-1.72913947e-08 -2.12758627e-08 -6.74380951e-08 ... -6.12960384e-09\n",
      " -3.88695617e-08 -4.02341496e-08]\n",
      "30 360\n",
      "[ 9.99104099e-01  4.11515786e-01  7.28204453e-01 ... -3.50436684e-07\n",
      "  5.43046462e-07  6.71224416e-01]\n",
      "30 360\n",
      "[-1.28713650e-07 -3.95816601e-08  9.99225331e-08 ... -2.82276237e-08\n",
      " -1.50612636e-08  5.07253014e-08]\n",
      "30 360\n",
      "[ 9.99103944e-01  4.11515821e-01  7.28204659e-01 ... -1.71887650e-07\n",
      "  4.79458912e-07  6.71224232e-01]\n",
      "30 360\n",
      "[ 1.39925474e-07  8.82061239e-08 -2.42409258e-08 ... -8.45892566e-08\n",
      " -7.77850716e-08  6.39751587e-09]\n",
      "30 360\n",
      "[ 9.99103639e-01  4.11515765e-01  7.28204628e-01 ... -1.61753778e-07\n",
      "  4.09284282e-07  6.71224192e-01]\n",
      "30 360\n",
      "[ 6.85493562e-08  7.37158925e-08  6.77405611e-08 ... -5.16432053e-08\n",
      "  3.50246867e-08 -6.78443816e-09]\n",
      "30 360\n",
      "[ 9.99103499e-01  4.11515651e-01  7.28204151e-01 ... -2.87686329e-08\n",
      "  4.11596342e-07  6.71224039e-01]\n",
      "30 360\n",
      "[-3.47217013e-08 -1.61266410e-09 -4.80335091e-08 ... -7.26248145e-08\n",
      "  2.51541326e-08  7.61480126e-08]\n",
      "30 360\n",
      "[9.99103549e-01 4.11515688e-01 7.28204232e-01 ... 2.39660028e-07\n",
      " 1.19734945e-07 6.71224088e-01]\n",
      "30 360\n",
      "[ 1.19950304e-08 -3.71514631e-08  8.68835402e-08 ... -1.29834992e-07\n",
      " -4.39056211e-08 -7.19472821e-09]\n",
      "30 360\n",
      "[ 9.99103598e-01  4.11515700e-01  7.28203887e-01 ...  1.38682619e-07\n",
      " -1.49408513e-07  6.71223959e-01]\n",
      "30 360\n",
      "[-7.48959263e-09  1.70196102e-07  6.13216671e-09 ... -3.93334586e-08\n",
      " -6.03716268e-08  4.22234638e-08]\n",
      "30 360\n",
      "[ 9.99103774e-01  4.11515362e-01  7.28203875e-01 ... -2.07549355e-07\n",
      " -1.51846834e-07  6.71223712e-01]\n",
      "30 360\n",
      "[-4.61701905e-08 -5.59806102e-08 -9.94753819e-08 ...  4.77472224e-08\n",
      " -1.33259432e-07  2.95241257e-08]\n",
      "30 360\n",
      "[ 9.99103868e-01  4.11515437e-01  7.28204083e-01 ... -3.11904701e-07\n",
      " -1.41900492e-07  6.71223785e-01]\n",
      "30 360\n",
      "[-6.12387798e-09 -6.96690395e-08 -3.83737285e-08 ... -2.48929811e-08\n",
      " -5.55269323e-08  3.93927400e-08]\n",
      "30 360\n",
      "[ 9.99103749e-01  4.11515339e-01  7.28204125e-01 ... -1.59554255e-07\n",
      " -1.97470265e-07  6.71223806e-01]\n",
      "30 360\n",
      "[-6.12052141e-08  2.37886538e-08 -4.04617769e-08 ...  1.84393793e-08\n",
      "  1.99513208e-08  5.77167993e-08]\n",
      "30 360\n",
      "[ 9.99104082e-01  4.11515017e-01  7.28204083e-01 ...  1.60415635e-08\n",
      " -1.34402985e-07  6.71223890e-01]\n",
      "30 360\n",
      "[-4.96570188e-08 -4.77737968e-10  4.31529781e-08 ... -2.85120143e-08\n",
      " -4.10564225e-08  8.80686565e-08]\n",
      "30 360\n",
      "[ 9.99104066e-01  4.11515114e-01  7.28203846e-01 ... -3.44362968e-08\n",
      " -3.47164627e-07  6.71223726e-01]\n",
      "30 360\n",
      "[ 1.57096939e-07  1.44477429e-07 -9.62090912e-08 ...  1.99375034e-08\n",
      " -2.23686339e-08 -4.08347372e-08]\n",
      "30 360\n",
      "[ 9.99104378e-01  4.11515195e-01  7.28203835e-01 ... -1.54191184e-07\n",
      " -3.83681893e-07  6.71224040e-01]\n",
      "30 360\n",
      "[-7.78578125e-08  1.85607498e-07 -2.87342875e-08 ...  3.47819375e-08\n",
      "  2.88349253e-08  4.92590568e-08]\n",
      "30 360\n",
      "[ 9.99104341e-01  4.11515307e-01  7.28204068e-01 ... -3.55737081e-07\n",
      " -5.48492779e-07  6.71223995e-01]\n",
      "30 360\n",
      "[8.40740819e-01 2.31471787e-09 3.55887225e-08 ... 1.53423078e-08\n",
      " 5.15500362e-08 3.53132313e-08]\n",
      "30 360\n",
      "[ 9.99104535e-01  4.11515277e-01  7.28203925e-01 ... -3.07397700e-07\n",
      " -6.56553859e-07  6.71224080e-01]\n",
      "30 360\n",
      "[-8.14354002e-09 -1.02236078e-07 -2.64525536e-08 ... -1.64091699e-07\n",
      "  1.53749990e-07 -1.94892059e-07]\n",
      "30 360\n",
      "[ 9.99104414e-01  4.11515483e-01  7.28203810e-01 ... -3.38165824e-07\n",
      " -5.55921234e-07  6.71224190e-01]\n",
      "30 360\n",
      "[ 4.29531145e-08 -1.53148223e-07 -6.66308172e-08 ... -2.40053538e-08\n",
      " -1.01629896e-08  3.50376843e-08]\n",
      "30 360\n",
      "[ 9.99104422e-01  4.11515391e-01  7.28203535e-01 ... -5.02691485e-07\n",
      "  9.31439988e-01  6.71224045e-01]\n",
      "30 360\n",
      "[ 1.47771349e-08 -7.90775358e-08 -8.95117066e-10 ...  2.97672231e-08\n",
      " -1.53838990e-08 -6.04227914e-08]\n",
      "30 360\n",
      "[ 9.99104498e-01  4.11515413e-01  7.28203481e-01 ... -4.97049395e-07\n",
      "  9.31439947e-01  6.71224319e-01]\n",
      "30 360\n",
      "[-7.79534718e-08  1.33401208e-07  1.21227936e-07 ... -1.27152543e-08\n",
      " -2.36654452e-08 -1.61298162e-08]\n",
      "30 360\n",
      "[ 9.99104615e-01  4.11515135e-01  7.28203641e-01 ... -1.18095114e-08\n",
      "  9.31440084e-01  6.71224336e-01]\n",
      "30 360\n"
     ]
    },
    {
     "name": "stdout",
     "output_type": "stream",
     "text": [
      "[ 7.75722152e-09  3.70851572e-08  1.89692172e-08 ...  7.11606981e-08\n",
      "  1.51213027e-08 -1.76289519e-09]\n",
      "30 360\n",
      "[9.99104487e-01 4.11515411e-01 7.28203803e-01 ... 1.94481992e-08\n",
      " 9.31440339e-01 6.71224446e-01]\n",
      "30 360\n",
      "[ 1.76617005e-07 -3.94695805e-08  3.70543482e-08 ...  7.92576121e-08\n",
      "  3.38809592e-09 -4.05417511e-08]\n",
      "30 360\n",
      "[ 9.99104738e-01  4.11515512e-01  7.28203464e-01 ... -7.95996932e-08\n",
      "  9.31440347e-01  6.71224196e-01]\n",
      "30 360\n",
      "[3.46606249e-08 1.48415014e-07 1.20937442e-08 ... 1.23066090e-07\n",
      " 5.49117315e-08 8.66175313e-08]\n",
      "30 360\n",
      "[ 9.99104601e-01  4.11515491e-01  7.28203781e-01 ... -7.25476127e-08\n",
      "  9.31440193e-01  6.71224407e-01]\n",
      "30 360\n",
      "[ 7.03016886e-08  1.97882585e-07  6.50679730e-08 ... -1.48176773e-07\n",
      " -5.19742234e-08 -1.23378604e-07]\n",
      "30 360\n",
      "[ 9.99104610e-01  4.11515247e-01  7.28203912e-01 ... -5.28373346e-08\n",
      "  9.31440374e-01  6.71224294e-01]\n",
      "30 360\n",
      "[-3.04948474e-08 -2.89471686e-08  5.19842588e-08 ...  5.12368684e-09\n",
      " -4.21201580e-08 -8.68073297e-08]\n",
      "30 360\n",
      "[ 9.99104524e-01  4.11515323e-01  7.28203826e-01 ... -5.67701996e-09\n",
      "  9.31439959e-01  6.71224340e-01]\n",
      "30 360\n",
      "[-9.83040633e-08 -3.47364116e-08  9.50693288e-08 ... -5.93944368e-08\n",
      "  3.34436128e-08 -5.75831327e-08]\n",
      "30 360\n",
      "[ 9.99104237e-01  4.11515371e-01  7.28204010e-01 ... -1.27509144e-07\n",
      "  9.31439728e-01  6.71223980e-01]\n",
      "30 360\n",
      "[ 8.67822498e-08 -3.72792860e-08  9.34558449e-09 ... -9.69356480e-08\n",
      " -6.78115991e-08 -5.94098683e-08]\n",
      "30 360\n",
      "[9.99103968e-01 4.11515416e-01 7.28203670e-01 ... 1.41592376e-07\n",
      " 9.31439753e-01 6.71224070e-01]\n",
      "30 360\n",
      "[-1.73452370e-08  6.62271343e-08  8.24490513e-08 ... -2.39490759e-08\n",
      " -8.02209786e-08 -9.67276663e-09]\n",
      "30 360\n",
      "[ 9.99104042e-01  4.11515500e-01  7.28203667e-01 ... -1.54742778e-07\n",
      "  9.31439541e-01  6.71224255e-01]\n",
      "30 360\n",
      "[ 2.86482481e-08  9.39785530e-08  6.80859220e-09 ...  1.02081237e-07\n",
      " -6.33957663e-08 -8.35975811e-08]\n",
      "30 360\n",
      "[ 9.99104247e-01  4.11515428e-01  7.28203642e-01 ... -1.19805031e-07\n",
      "  9.31439771e-01  6.71224588e-01]\n",
      "30 360\n",
      "[-6.80086842e-08  5.68206783e-08  1.45613681e-08 ...  2.59718113e-08\n",
      "  4.84822680e-08 -7.15282308e-09]\n",
      "30 360\n",
      "[9.99104288e-01 4.11515091e-01 7.28203728e-01 ... 1.88325906e-07\n",
      " 9.31440049e-01 6.71224392e-01]\n",
      "30 360\n",
      "[-1.25277272e-07  5.38302092e-08  8.94436776e-08 ... -1.74694120e-08\n",
      " -6.90582045e-08  8.69903238e-08]\n",
      "30 360\n",
      "[9.99104335e-01 4.11514887e-01 7.28203816e-01 ... 3.65448165e-07\n",
      " 9.31440008e-01 6.71224629e-01]\n",
      "30 360\n"
     ]
    }
   ],
   "source": [
    "reshaped = reshape(hec, tmp10)\n",
    "\n",
    "org_tt10_ = org_tt10.reshape(org_tt10.size(0),-1)"
   ]
  },
  {
   "cell_type": "markdown",
   "id": "1b051a7b",
   "metadata": {},
   "source": [
    "여기서부터 다시.."
   ]
  },
  {
   "cell_type": "code",
   "execution_count": 14,
   "id": "6531970b",
   "metadata": {},
   "outputs": [
    {
     "name": "stderr",
     "output_type": "stream",
     "text": [
      "/tmp/ipykernel_408998/2638157476.py:1: UserWarning: Creating a tensor from a list of numpy.ndarrays is extremely slow. Please consider converting the list to a single numpy.ndarray with numpy.array() before converting to a tensor. (Triggered internally at  /opt/conda/conda-bld/pytorch_1634272204863/work/torch/csrc/utils/tensor_new.cpp:201.)\n",
      "  test = torch.tensor([np.random.rand(1024)], dtype=torch.float32)\n"
     ]
    }
   ],
   "source": [
    "test = torch.tensor([np.random.rand(1024)], dtype=torch.float32)\n",
    "#tenc = hec.encrypt(test[0])"
   ]
  },
  {
   "cell_type": "code",
   "execution_count": 15,
   "id": "0fd5a8d7",
   "metadata": {},
   "outputs": [],
   "source": [
    "org_fc1 = org_model.fc1(test)"
   ]
  },
  {
   "cell_type": "code",
   "execution_count": 73,
   "id": "e5b50325",
   "metadata": {},
   "outputs": [
    {
     "data": {
      "text/plain": [
       "[<matplotlib.lines.Line2D at 0x7fa92d92c370>]"
      ]
     },
     "execution_count": 73,
     "metadata": {},
     "output_type": "execute_result"
    },
    {
     "data": {
      "image/png": "[encoded data removed]",
      "text/plain": [
       "<Figure size 432x288 with 1 Axes>"
      ]
     },
     "metadata": {
      "needs_background": "light"
     },
     "output_type": "display_data"
    }
   ],
   "source": [
    "plt.plot(org_fc1[0].detach().numpy())"
   ]
  },
  {
   "cell_type": "code",
   "execution_count": 84,
   "id": "ede56fa5",
   "metadata": {},
   "outputs": [],
   "source": [
    "tmp_fc1 = fullyConnected1(hec, tenc, org_model.fc1)"
   ]
  },
  {
   "cell_type": "code",
   "execution_count": null,
   "id": "a063252d",
   "metadata": {},
   "outputs": [],
   "source": [
    "hec.pa"
   ]
  },
  {
   "cell_type": "code",
   "execution_count": 85,
   "id": "567b44c5",
   "metadata": {},
   "outputs": [],
   "source": [
    "dec = hec.decrypt(tmp_fc1)"
   ]
  },
  {
   "cell_type": "code",
   "execution_count": 86,
   "id": "98509e67",
   "metadata": {},
   "outputs": [
    {
     "data": {
      "text/plain": [
       "array([1.63368942, 1.60186548, 1.62132419, ..., 1.60176105, 1.60176362,\n",
       "       1.60175942])"
      ]
     },
     "execution_count": 86,
     "metadata": {},
     "output_type": "execute_result"
    }
   ],
   "source": [
    "dec"
   ]
  },
  {
   "cell_type": "code",
   "execution_count": 88,
   "id": "22cb7549",
   "metadata": {},
   "outputs": [
    {
     "data": {
      "image/png": "[encoded data removed]",
      "text/plain": [
       "<Figure size 432x288 with 1 Axes>"
      ]
     },
     "metadata": {
      "needs_background": "light"
     },
     "output_type": "display_data"
    }
   ],
   "source": [
    "plt.scatter(org_fc1[0].detach().numpy(), dec[:128])\n",
    "plt.show()"
   ]
  }
 ],
 "metadata": {
  "kernelspec": {
   "display_name": "Python 3 (ipykernel)",
   "language": "python",
   "name": "python3"
  },
  "language_info": {
   "codemirror_mode": {
    "name": "ipython",
    "version": 3
   },
   "file_extension": ".py",
   "mimetype": "text/x-python",
   "name": "python",
   "nbconvert_exporter": "python",
   "pygments_lexer": "ipython3",
   "version": "3.9.0"
  }
 },
 "nbformat": 4,
 "nbformat_minor": 5
}
