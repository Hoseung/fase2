{
 "cells": [
  {
   "cell_type": "code",
   "execution_count": 5,
   "id": "8e28c3c5",
   "metadata": {},
   "outputs": [],
   "source": [
    "import fase\n",
    "from fase import HEAAN as he\n",
    "from fase.core.common import HEAANContext\n",
    "from time import time"
   ]
  },
  {
   "cell_type": "code",
   "execution_count": 6,
   "id": "d431574e",
   "metadata": {},
   "outputs": [
    {
     "name": "stdout",
     "output_type": "stream",
     "text": [
      "HEAAN CKKS setup is ready\n",
      "Generating HEAAN context took 7.883288383483887 seonds\n",
      "logn  4,  logp 30,  logq120\n",
      "saving secret key done.\n"
     ]
    }
   ],
   "source": [
    "logq = 120\n",
    "logp = 30\n",
    "logn = 4 # small logn for quick test\n",
    "n = 1*2**logn\n",
    "slots = n\n",
    "\n",
    "t0 = time()\n",
    "hec = HEAANContext(logn, logp, logq, boot=False, path_sk=\"sk.dat\")\n",
    "print(f\"Generating HEAAN context took {time() - t0} seonds\")\n",
    "print(f\"logn  {logn},  logp {logp},  logq{logq}\")"
   ]
  },
  {
   "cell_type": "code",
   "execution_count": 7,
   "id": "19b09335",
   "metadata": {},
   "outputs": [],
   "source": [
    "ctxt = hec.encrypt([1,2,3])"
   ]
  },
  {
   "cell_type": "code",
   "execution_count": 9,
   "id": "e1719013",
   "metadata": {},
   "outputs": [],
   "source": [
    "ctxt2 = hec.multByConst(ctxt, [3,4,5])"
   ]
  },
  {
   "cell_type": "code",
   "execution_count": 10,
   "id": "d02a83c7",
   "metadata": {},
   "outputs": [],
   "source": [
    "dd = hec.decrypt(ctxt2)"
   ]
  },
  {
   "cell_type": "code",
   "execution_count": 11,
   "id": "ef5b1215",
   "metadata": {},
   "outputs": [
    {
     "data": {
      "text/plain": [
       "array([ 3.00000003e+00,  6.00000010e+00,  8.99999962e+00,  4.57957847e-07,\n",
       "        3.20940441e-07, -2.35997961e-08,  1.57183902e-07, -2.24527584e-07,\n",
       "        1.18622485e-07,  1.60264107e-07, -5.17995957e-09,  3.14448127e-07,\n",
       "        1.77383753e-07,  1.16203423e-07, -2.95454869e-08, -8.78038057e-08])"
      ]
     },
     "execution_count": 11,
     "metadata": {},
     "output_type": "execute_result"
    }
   ],
   "source": [
    "dd"
   ]
  },
  {
   "cell_type": "code",
   "execution_count": 14,
   "id": "508c202c",
   "metadata": {},
   "outputs": [
    {
     "ename": "TypeError",
     "evalue": "multByConstVec(): incompatible function arguments. The following argument types are supported:\n    1. (self: fase.HEAAN.Scheme, arg0: Ciphertext, arg1: Ciphertext, arg2: fase.HEAAN.ComplexDouble, arg3: int) -> None\n\nInvoked with: <fase.HEAAN.Scheme object at 0x7fbc5405b130>, <class.Ciphertext logp: 0 logq: 0 n: 0>, <class.Ciphertext logp: 30 logq: 120 n: 16>, 2.000000, 30",
     "output_type": "error",
     "traceback": [
      "\u001b[0;31m---------------------------------------------------------------------------\u001b[0m",
      "\u001b[0;31mTypeError\u001b[0m                                 Traceback (most recent call last)",
      "\u001b[0;32m/tmp/ipykernel_34590/639989825.py\u001b[0m in \u001b[0;36m<module>\u001b[0;34m\u001b[0m\n\u001b[1;32m      1\u001b[0m \u001b[0mres\u001b[0m \u001b[0;34m=\u001b[0m \u001b[0mhe\u001b[0m\u001b[0;34m.\u001b[0m\u001b[0mCiphertext\u001b[0m\u001b[0;34m(\u001b[0m\u001b[0;34m)\u001b[0m\u001b[0;34m\u001b[0m\u001b[0;34m\u001b[0m\u001b[0m\n\u001b[0;32m----> 2\u001b[0;31m \u001b[0mhec\u001b[0m\u001b[0;34m.\u001b[0m\u001b[0m_scheme\u001b[0m\u001b[0;34m.\u001b[0m\u001b[0mmultByConstVec\u001b[0m\u001b[0;34m(\u001b[0m\u001b[0mres\u001b[0m\u001b[0;34m,\u001b[0m \u001b[0mctxt\u001b[0m\u001b[0;34m,\u001b[0m \u001b[0mhe\u001b[0m\u001b[0;34m.\u001b[0m\u001b[0mDouble\u001b[0m\u001b[0;34m(\u001b[0m\u001b[0;34m[\u001b[0m\u001b[0;36m2\u001b[0m\u001b[0;34m,\u001b[0m\u001b[0;36m5\u001b[0m\u001b[0;34m,\u001b[0m\u001b[0;36m8\u001b[0m\u001b[0;34m]\u001b[0m\u001b[0;34m)\u001b[0m\u001b[0;34m,\u001b[0m \u001b[0mctxt\u001b[0m\u001b[0;34m.\u001b[0m\u001b[0mlogp\u001b[0m\u001b[0;34m)\u001b[0m\u001b[0;34m\u001b[0m\u001b[0;34m\u001b[0m\u001b[0m\n\u001b[0m",
      "\u001b[0;31mTypeError\u001b[0m: multByConstVec(): incompatible function arguments. The following argument types are supported:\n    1. (self: fase.HEAAN.Scheme, arg0: Ciphertext, arg1: Ciphertext, arg2: fase.HEAAN.ComplexDouble, arg3: int) -> None\n\nInvoked with: <fase.HEAAN.Scheme object at 0x7fbc5405b130>, <class.Ciphertext logp: 0 logq: 0 n: 0>, <class.Ciphertext logp: 30 logq: 120 n: 16>, 2.000000, 30"
     ]
    }
   ],
   "source": [
    "res = he.Ciphertext()\n",
    "hec._scheme.multByConstVec(res, ctxt, he.Double([2,5,8]), ctxt.logp)"
   ]
  },
  {
   "cell_type": "code",
   "execution_count": null,
   "id": "0e5ef2a7",
   "metadata": {},
   "outputs": [],
   "source": []
  }
 ],
 "metadata": {
  "kernelspec": {
   "display_name": "Python 3 (ipykernel)",
   "language": "python",
   "name": "python3"
  },
  "language_info": {
   "codemirror_mode": {
    "name": "ipython",
    "version": 3
   },
   "file_extension": ".py",
   "mimetype": "text/x-python",
   "name": "python",
   "nbconvert_exporter": "python",
   "pygments_lexer": "ipython3",
   "version": "3.9.7"
  }
 },
 "nbformat": 4,
 "nbformat_minor": 5
}
