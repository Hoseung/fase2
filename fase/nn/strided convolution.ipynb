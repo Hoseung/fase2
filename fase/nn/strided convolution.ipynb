{
 "cells": [
  {
   "cell_type": "code",
   "execution_count": 37,
   "id": "d24beebe",
   "metadata": {},
   "outputs": [],
   "source": [
    "import numpy as np\n",
    "import matplotlib.pyplot as plt \n",
    "import torch\n",
    "\n",
    "from fase.nn.conv import *\n",
    "import pickle"
   ]
  },
  {
   "cell_type": "code",
   "execution_count": 2,
   "id": "9fb83679",
   "metadata": {},
   "outputs": [],
   "source": [
    "kernel = np.array([[1,2,3],\n",
    "                   [2,3,4],\n",
    "                   [3,4,5]])\n",
    "\n",
    "arr = np.zeros((32,32))"
   ]
  },
  {
   "cell_type": "code",
   "execution_count": 3,
   "id": "956e318e",
   "metadata": {},
   "outputs": [],
   "source": [
    "arr[::2,::2] = np.arange(256).reshape(16,16)"
   ]
  },
  {
   "cell_type": "code",
   "execution_count": 4,
   "id": "5f8319d0",
   "metadata": {},
   "outputs": [
    {
     "data": {
      "text/plain": [
       "<matplotlib.image.AxesImage at 0x7f826e7312b0>"
      ]
     },
     "execution_count": 4,
     "metadata": {},
     "output_type": "execute_result"
    },
    {
     "data": {
      "image/png": "[encoded data removed]",
      "text/plain": [
       "<Figure size 432x288 with 1 Axes>"
      ]
     },
     "metadata": {
      "needs_background": "light"
     },
     "output_type": "display_data"
    }
   ],
   "source": [
    "plt.imshow(arr)"
   ]
  },
  {
   "cell_type": "code",
   "execution_count": null,
   "id": "706091f8",
   "metadata": {},
   "outputs": [],
   "source": []
  },
  {
   "cell_type": "code",
   "execution_count": 8,
   "id": "08cdaa7c",
   "metadata": {},
   "outputs": [],
   "source": [
    "rotated = [rotate_input(arr, dilated_kernel.shape)] # channel x (nh * nw)\n",
    "#rotated = [rotate_input(img2, kernel.shape)] # channel x (nh * nw)\n",
    "\n",
    "tmp_kernel = kernel[np.newaxis,np.newaxis,::]\n",
    "\n",
    "conv_out = []\n",
    "for this_example in rotated:\n",
    "    result_img = []\n",
    "    for kk in tmp_kernel:\n",
    "        result = np.zeros(16*16)\n",
    "        for this_channel, this_kernel in zip(this_example, kk):\n",
    "            \n",
    "            for rr, rk in zip(this_channel, this_kernel.ravel()):\n",
    "                result += rr * rk\n",
    "        result_img.append(result.reshape(16,16))\n",
    "    conv_out.append(np.stack(result_img))\n",
    "        \n",
    "#mat_img = np.stack(rotated).T\n",
    "#out_mat = np.matmul(mat_img, kernel.ravel()) "
   ]
  },
  {
   "cell_type": "code",
   "execution_count": 47,
   "id": "676a4b19",
   "metadata": {},
   "outputs": [],
   "source": [
    "def rotate_input_channels(img_tensor_a_batch, f_h, f_w, stride=1):\n",
    "    # flatten each channel\n",
    "    imgarrs = [img.ravel() for img in img_tensor_a_batch]\n",
    "        \n",
    "    rotated_channels = []\n",
    "    for imgarr in img_tensor_a_batch:\n",
    "        rotated_channels.append(rotate_a_channel(imgarr, f_h, f_w, stride=stride))\n",
    "        \n",
    "    return rotated_channels\n",
    "\n",
    "def rotate_a_batch(img_batch, kernel_shape, stride=1):\n",
    "    \"\"\"should I handle a batch of images at a time?\n",
    "    \"\"\"\n",
    "    #img_np = img_tensor_a_batch.numpy()\n",
    "    nb, nc, nh, nw = img_batch.shape\n",
    "    c_out, c_in, f_h, f_w = kernel_shape\n",
    "    assert nc == c_in\n",
    "    \n",
    "    rotated_batch=[]\n",
    "    for this_img in img_batch:\n",
    "        rotated_batch.append(rotate_input_channels(this_img, f_h, f_w, stride=stride))\n",
    "        \n",
    "    return rotated_batch\n",
    "\n",
    "def rotate_a_channel(img, f_h, f_w, stride=1):\n",
    "    \"\"\"Make sure order of nh,nw & f_h,f_w match\n",
    "    \"\"\"\n",
    "    nh, nw = img.shape\n",
    "    imgarr = img.ravel()\n",
    "\n",
    "    rotated = []\n",
    "    for i in range(f_h)[::stride]: # 이거를 0,2,4,10,12,14,..가 되도록 \n",
    "        for j in range(f_w)[::stride]:\n",
    "            rotated.append(left_rotate(imgarr, (i -1)*nh + (j-1)))\n",
    "\n",
    "    return rotated\n",
    "\n",
    "def conv2d(img_tensor, kernel):\n",
    "    dilated_kernel = np.zeros((5,5))\n",
    "    dilated_kernel[::2,::2] = kernel\n",
    "\n",
    "    kernelt = dilated_kernel[np.newaxis, np.newaxis,:,:]\n",
    "\n",
    "    c_out, c_in, f_h, f_w = kernelt.shape\n",
    "    n_batch, n_channel, nh, nw = img_tensor.shape\n",
    "\n",
    "    rotated = rotate_a_batch(img_tensor, kernelt.shape, stride=2)\n",
    "    out_nh, out_nw = get_out_size((nh, nw), (f_h, f_w), stride=1, padding='same')\n",
    "\n",
    "    conv_out=[]\n",
    "    cnt = 0\n",
    "    for i, this_example in enumerate(rotated[::2]):\n",
    "        result_each_img =[]\n",
    "        for j, this_kernel_in_channel in enumerate(kernelt):\n",
    "            # from 0 - 7\n",
    "            # multi-channel conv sum\n",
    "\n",
    "            result_each_out_channel = np.zeros(out_nh * out_nw, dtype=np.float32)\n",
    "            for k, (this_channel, this_kernel) in enumerate(zip(this_example, this_kernel_in_channel)):\n",
    "                # from 0 - 2\n",
    "\n",
    "                ####### single 2D img convolution\n",
    "                rkernel = this_kernel.ravel() # (f_h * f_w)\n",
    "                for l, (rr, rk) in enumerate(zip(this_channel, this_kernel[::2,::2].ravel())): \n",
    "                #for l in [0,2,4,10,12,14,20,22,24]:\n",
    "                    # it can simply be done a as vectorized multiplication.\n",
    "                    # But keeping this form to better relate it with FHE version.\n",
    "                    #result_each_out_channel += this_channel[l] * rkernel[l]\n",
    "                    result_each_out_channel += rr * rk\n",
    "                    if np.sum(rr *rk) ==0:\n",
    "                        print(\"dummy\")\n",
    "                    print(i,j,k,l)\n",
    "                    cnt +=1\n",
    "                    print(\"zz\", result_each_out_channel)\n",
    "            result_each_img.append(result_each_out_channel.reshape(out_nh, out_nw))\n",
    "        conv_out.append(np.stack(result_each_img))\n",
    "    #return np.stack(conv_out)\n",
    "\n",
    "    result = np.stack(conv_out)\n",
    "\n",
    "    return result"
   ]
  },
  {
   "cell_type": "code",
   "execution_count": 32,
   "id": "ed4dd3a7",
   "metadata": {},
   "outputs": [
    {
     "name": "stdout",
     "output_type": "stream",
     "text": [
      "0 0 0 0\n",
      "zz [  0.   0.   0. ... 254.   0. 255.]\n",
      "0 0 0 1\n",
      "zz [  0.   0.   0. ... 764.   0. 255.]\n",
      "0 0 0 2\n",
      "zz [  0.   0.   0. ... 764.   0. 255.]\n",
      "0 0 0 3\n",
      "zz [  0.   0.   0. ... 792.   0. 285.]\n",
      "0 0 0 4\n",
      "zz [  0.   0.   0. ... 837.   0. 285.]\n",
      "0 0 0 5\n",
      "zz [  0.   0.   0. ... 837.   0. 285.]\n",
      "0 0 0 6\n",
      "zz [  0.   0.   0. ... 927.   0. 378.]\n",
      "0 0 0 7\n",
      "zz [   0.    0.    0. ... 1051.    0.  378.]\n",
      "0 0 0 8\n",
      "zz [   0.    0.    0. ... 1051.    0.  378.]\n"
     ]
    },
    {
     "data": {
      "text/plain": [
       "<matplotlib.image.AxesImage at 0x7f82665ff9d0>"
      ]
     },
     "execution_count": 32,
     "metadata": {},
     "output_type": "execute_result"
    },
    {
     "data": {
      "image/png": "[encoded data removed]",
      "text/plain": [
       "<Figure size 432x288 with 2 Axes>"
      ]
     },
     "metadata": {
      "needs_background": "light"
     },
     "output_type": "display_data"
    }
   ],
   "source": [
    "    fig, axs = plt.subplots(1,2)\n",
    "    axs[0].imshow(result[0,0])\n",
    "    axs[1].imshow(result[0,0,1:-1:2,1:-1:2] - img_t[1:,1:])\n",
    "    "
   ]
  },
  {
   "cell_type": "code",
   "execution_count": 189,
   "id": "2b24496d",
   "metadata": {},
   "outputs": [],
   "source": [
    "rotated = rotate_a_batch(img_tensor, kernelt.shape, stride=2)"
   ]
  },
  {
   "cell_type": "code",
   "execution_count": 15,
   "id": "2e117d98",
   "metadata": {},
   "outputs": [
    {
     "name": "stdout",
     "output_type": "stream",
     "text": [
      "9\n"
     ]
    }
   ],
   "source": [
    "print(cnt)"
   ]
  },
  {
   "cell_type": "code",
   "execution_count": null,
   "id": "69c57f8f",
   "metadata": {},
   "outputs": [],
   "source": []
  },
  {
   "cell_type": "code",
   "execution_count": null,
   "id": "6b91ece6",
   "metadata": {},
   "outputs": [],
   "source": []
  },
  {
   "cell_type": "markdown",
   "id": "0e9941bc",
   "metadata": {},
   "source": [
    "### answer"
   ]
  },
  {
   "cell_type": "code",
   "execution_count": 12,
   "id": "aeb9270a",
   "metadata": {},
   "outputs": [
    {
     "data": {
      "text/plain": [
       "<matplotlib.image.AxesImage at 0x7f826c4d1d90>"
      ]
     },
     "execution_count": 12,
     "metadata": {},
     "output_type": "execute_result"
    },
    {
     "data": {
      "image/png": "[encoded data removed]",
      "text/plain": [
       "<Figure size 432x288 with 1 Axes>"
      ]
     },
     "metadata": {
      "needs_background": "light"
     },
     "output_type": "display_data"
    }
   ],
   "source": [
    "img2 = np.arange(256).reshape(16,16)\n",
    "\n",
    "res_t = torch.conv2d(torch.tensor(img2[np.newaxis, np.newaxis,:,:]), \n",
    "             torch.tensor(kernel[np.newaxis,np.newaxis,:,:]), padding=1)\n",
    "img_t = res_t.squeeze().numpy()\n",
    "\n",
    "plt.imshow(img_t)"
   ]
  },
  {
   "cell_type": "code",
   "execution_count": null,
   "id": "7299124d",
   "metadata": {},
   "outputs": [],
   "source": []
  },
  {
   "cell_type": "markdown",
   "id": "b8a792ec",
   "metadata": {},
   "source": [
    "rotate, dense version"
   ]
  },
  {
   "cell_type": "code",
   "execution_count": 28,
   "id": "cd5aa3b3",
   "metadata": {},
   "outputs": [],
   "source": [
    "def rotate_input(img, kernel_size, stride=1):\n",
    "    assert img.ndim == 2\n",
    "    nx, ny = img.shape\n",
    "    imgarr = img.ravel()\n",
    "    f_w, f_h = kernel_size\n",
    "    \n",
    "    rotated = []\n",
    "    for i in range(0, f_w, stride):\n",
    "        for j in range(0, f_h, stride):\n",
    "            rotated.append(left_rotate(imgarr, (i -1)*nx + (j-1)))\n",
    "    return rotated"
   ]
  },
  {
   "cell_type": "code",
   "execution_count": 29,
   "id": "d5c1306d",
   "metadata": {},
   "outputs": [],
   "source": [
    "rotated = rotate_input(img2, (3,3))\n",
    "mat_img = np.stack(rotated).T\n",
    "\n",
    "out_mat = np.matmul(mat_img, kernel.ravel()) # 1024 x 9 * 9 x 1 -> 1024 x 1 "
   ]
  },
  {
   "cell_type": "code",
   "execution_count": 24,
   "id": "93e08832",
   "metadata": {},
   "outputs": [
    {
     "data": {
      "text/plain": [
       "<matplotlib.image.AxesImage at 0x7f679471d850>"
      ]
     },
     "execution_count": 24,
     "metadata": {},
     "output_type": "execute_result"
    },
    {
     "data": {
      "image/png": "[encoded data removed]",
      "text/plain": [
       "<Figure size 432x288 with 4 Axes>"
      ]
     },
     "metadata": {
      "needs_background": "light"
     },
     "output_type": "display_data"
    }
   ],
   "source": [
    "fig, axs = plt.subplots(2,2)\n",
    "\n",
    "axs[0,0].imshow(out_mat.reshape(16,16))\n",
    "axs[0,1].imshow(img_t)\n",
    "axs[1,0].imshow(out_mat.reshape(16,16) - img_t)"
   ]
  },
  {
   "cell_type": "code",
   "execution_count": null,
   "id": "1e7e5196",
   "metadata": {},
   "outputs": [],
   "source": []
  }
 ],
 "metadata": {
  "kernelspec": {
   "display_name": "Python 3 (ipykernel)",
   "language": "python",
   "name": "python3"
  },
  "language_info": {
   "codemirror_mode": {
    "name": "ipython",
    "version": 3
   },
   "file_extension": ".py",
   "mimetype": "text/x-python",
   "name": "python",
   "nbconvert_exporter": "python",
   "pygments_lexer": "ipython3",
   "version": "3.9.7"
  }
 },
 "nbformat": 4,
 "nbformat_minor": 5
}
