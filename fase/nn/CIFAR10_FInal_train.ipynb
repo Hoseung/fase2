{
 "cells": [
  {
   "cell_type": "markdown",
   "id": "5b8c9bf4",
   "metadata": {},
   "source": [
    "### ctxt Packing\n",
    "Joonwoo Lee et al 2021 paces a channel of an image in a ctxt, \n",
    "using only 1024 slots out of 16384. (sparse packing)\n",
    "\n",
    "### Narrow Resnet\n",
    "Their 'ResNet-20' is a modified and simplified version of the original ResNet. \n",
    "First, they use only three basic blocks, while Resnet-18 consists of four. \n",
    "Second, they reduced the number of channels.  \n",
    "The first conv outputs 16 channels, instad of 64. \n",
    "The final number of channels is thus only 64. (Resnet-18 with four basic blocks ends up with 512 channels)\n",
    "This modification is reasonable because computations are done in per-channel manner. \n",
    "The total computing cost grows linearly with growing number of channels.  \n",
    "\n",
    "### AvgPool\n",
    "마지막에 AvgPool 하나와 FC가 하나 있음. 8x8 이미지를 8x8 kernel로 AvgPool해서 1 x 64-channel 이 됨. \n",
    "그 다음에 64개의 ctxt가 하나의 ctxt로 합쳐짐.  -- 어떻게 잘 합칠까? \n",
    "\n",
    "### Softmax\n",
    "Approximate softmax는 계산량이 상당히 많음. \n",
    "그러다고 softmax 없이 training을 할 수는 없음 (argmax는 differentiable하지 않으므로)\n",
    "1. softmax로 훈련한 뒤에 argmax로 교체해서 evaluate하거나 \n",
    "2.그 전에 decrypt해서 plain text에 softmax 계산하거나\n"
   ]
  },
  {
   "cell_type": "code",
   "execution_count": 1,
   "id": "b95de931",
   "metadata": {},
   "outputs": [],
   "source": [
    "%load_ext autoreload\n",
    "%autoreload 2"
   ]
  },
  {
   "cell_type": "code",
   "execution_count": null,
   "id": "de6e1379",
   "metadata": {},
   "outputs": [],
   "source": []
  },
  {
   "cell_type": "code",
   "execution_count": 7,
   "id": "e4d12902",
   "metadata": {},
   "outputs": [
    {
     "name": "stdout",
     "output_type": "stream",
     "text": [
      "CUDA is available!  Training on GPU ...\n"
     ]
    }
   ],
   "source": [
    "import torch\n",
    "import numpy as np\n",
    "from torchvision import datasets\n",
    "import torchvision.transforms as transforms\n",
    "from torch.utils.data.sampler import SubsetRandomSampler\n",
    "from torch import nn\n",
    "import torch.nn.functional as F\n",
    "import matplotlib.pyplot as plt \n",
    "\n",
    "# check if CUDA is available\n",
    "train_on_gpu = torch.cuda.is_available()\n",
    "\n",
    "if not train_on_gpu:\n",
    "    print('CUDA is not available.  Training on CPU ...')\n",
    "    device = \"cpu\"\n",
    "else:\n",
    "    print('CUDA is available!  Training on GPU ...')\n",
    "    device = \"cuda\""
   ]
  },
  {
   "cell_type": "markdown",
   "id": "6d269571",
   "metadata": {},
   "source": [
    "Prepare Train / test data sets"
   ]
  },
  {
   "cell_type": "code",
   "execution_count": 3,
   "id": "6db2eedd",
   "metadata": {
    "scrolled": false
   },
   "outputs": [
    {
     "name": "stdout",
     "output_type": "stream",
     "text": [
      "Files already downloaded and verified\n",
      "Files already downloaded and verified\n"
     ]
    }
   ],
   "source": [
    "num_workers = 0\n",
    "batch_size = 32\n",
    "valid_size = 0.2\n",
    "\n",
    "\n",
    "## Scale \n",
    "transform = transforms.Compose([\n",
    "     transforms.ToTensor(),\n",
    "     transforms.Normalize((0.5, 0.5, 0.5), (2.5, 2.5, 2.5))\n",
    "     ])\n",
    "\n",
    "train_data = datasets.CIFAR10('data', train=True,\n",
    "                              download=True,\n",
    "                              transform=transform\n",
    "                             )\n",
    "test_data = datasets.CIFAR10('data', train=False,\n",
    "                             download=True, \n",
    "                             transform=transform\n",
    "                            )\n",
    "\n",
    "num_train = len(train_data)\n",
    "indices = list(range(num_train))\n",
    "np.random.shuffle(indices)\n",
    "split = int(np.floor(valid_size * num_train))\n",
    "train_idx, valid_idx = indices[split:], indices[:split]\n",
    "\n",
    "train_sampler = SubsetRandomSampler(train_idx)\n",
    "valid_sampler = SubsetRandomSampler(valid_idx)\n",
    "\n",
    "# prepare data loaders (combine dataset and sampler)\n",
    "train_loader = torch.utils.data.DataLoader(train_data, batch_size=batch_size,\n",
    "    sampler=train_sampler, num_workers=num_workers)\n",
    "valid_loader = torch.utils.data.DataLoader(train_data, batch_size=batch_size, \n",
    "    sampler=valid_sampler, num_workers=num_workers)\n",
    "test_loader = torch.utils.data.DataLoader(test_data, batch_size=batch_size, \n",
    "    num_workers=num_workers)\n",
    "\n",
    "# specify the image classes\n",
    "classes = ['airplane', 'automobile', 'bird', 'cat', 'deer',\n",
    "           'dog', 'frog', 'horse', 'ship', 'truck']"
   ]
  },
  {
   "cell_type": "markdown",
   "id": "d2258d2d",
   "metadata": {},
   "source": [
    "## Simple CNN with two convolutions"
   ]
  },
  {
   "cell_type": "code",
   "execution_count": 20,
   "id": "a327a8e0",
   "metadata": {},
   "outputs": [],
   "source": [
    "import copy\n",
    "\n",
    "def myrelu(xx):\n",
    "    return xx * (1+torch.sign(xx))/2\n",
    "\n",
    "def approx_relu2(x):\n",
    "    return 0.47 + 0.5*x + 0.09*x**2\n",
    "\n",
    "def approx_relu5(x):    \n",
    "    return 0.29 + 0.5*x + 0.16*x**2 - 1.6e-8*x**3 - 3.3e-3 * x**4\n",
    "\n",
    "def approx_relu5B(x):\n",
    "    B = 5\n",
    "    return B * (0.29 + 0.5*(x/B) + 0.16*(x/B)**2 - 1.6e-8*(x/B)**3 - 3.3e-3 * (x/B)**4)\n",
    "\n",
    "def approx_relu8(x):\n",
    "    B = 35\n",
    "    return B * (0.17 + 0.5*(x/B) + 0.29 * (x/B)**2 - 1.4e-7*(x/B)**3 - 2.6e-2*(x/B)**4 +\\\n",
    "                9.7e-9 * (x/B)**5 + 1.2e-3*(x/B)**6 - 2.0e-10*(x/B)**7 - 2.1e-5*(x/B)**8)\n",
    "\n",
    "def relu_mm(x):\n",
    "    f1 = 7.30445165*x -3.468258711e1*x**3 + 5.985965183e1 * x**5 - 3.187552259e1 * x**7\n",
    "    f2 = 2.400856522*x -2.6312545426*x**3 + 1.5491267477*x**5 - 3.311729565e-1*x**7\n",
    "    \n",
    "    \n",
    "activation = [myrelu, approx_relu8, approx_relu5B, F.relu, approx_relu2, approx_relu5, F.silu, torch.square][6]\n",
    "    \n",
    "import torchvision"
   ]
  },
  {
   "cell_type": "code",
   "execution_count": 16,
   "id": "58834ea3",
   "metadata": {},
   "outputs": [],
   "source": [
    "f1 = lambda x :  7.30445165*x -3.468258711e1*x**3 + 5.985965183e1 * x**5 - 3.187552259e1 * x**7\n",
    "f2 = lambda x : 2.400856522*x -2.6312545426*x**3 + 1.5491267477*x**5 - 3.311729565e-1*x**7"
   ]
  },
  {
   "cell_type": "code",
   "execution_count": 17,
   "id": "20e576e8",
   "metadata": {},
   "outputs": [
    {
     "data": {
      "image/png": "[encoded data removed]",
      "text/plain": [
       "<Figure size 432x288 with 1 Axes>"
      ]
     },
     "metadata": {
      "needs_background": "light"
     },
     "output_type": "display_data"
    }
   ],
   "source": [
    "x = np.linspace(-1,1, 100)\n",
    "plt.plot(x, f1(x) * f2(x))\n",
    "plt.show()\n"
   ]
  },
  {
   "cell_type": "code",
   "execution_count": 152,
   "id": "fd640b4f",
   "metadata": {},
   "outputs": [],
   "source": [
    "xx = np.linspace(-50,50,100)\n",
    "\n",
    "#plt.plot(xx, approx_relu5(xx), label = 'appr5')\n",
    "plt.plot(xx, approx_relu5B(xx), label = 'appr5B')\n",
    "plt.plot(xx, approx_relu8(xx), label = 'appr8')\n",
    "plt.plot(xx, xx * (1+np.sign(xx))/2, label = 'exact')\n",
    "plt.legend()\n",
    "plt.show()\n",
    "\n"
   ]
  },
  {
   "cell_type": "markdown",
   "id": "fbb0381a",
   "metadata": {},
   "source": [
    "RELU 결과가 -0.9?\n",
    "ReLU로 들어가는 값이 -5.x로 안전한 영역을 지나쳤음. "
   ]
  },
  {
   "cell_type": "markdown",
   "id": "7fd7fd89",
   "metadata": {},
   "source": [
    "### 텐서 크기 \n",
    "1024 * 3  -> 1024 * 32 -> 256 * 32 -> 256 * 64 -> 64 * 64 -> 64 * 128 -> 16 * 128 -> 2048 -> 256 -> 10\n",
    "\n",
    "\n",
    "1024 * 32는 여러 개의 ctxt에 담아야함.  \n",
    "\n",
    "아니면 첫번째 convolution 채널을 작게 유지하고,   \n",
    "average pooling을 묶어서 계산할 수는 없을까.  "
   ]
  },
  {
   "cell_type": "code",
   "execution_count": 21,
   "id": "0e22f2ef",
   "metadata": {
    "scrolled": true
   },
   "outputs": [
    {
     "name": "stdout",
     "output_type": "stream",
     "text": [
      "<function silu at 0x7f551d0fc8b0>\n",
      "ResNet(\n",
      "  (conv1): Conv2d(3, 16, kernel_size=(3, 3), stride=(1, 1), padding=(1, 1), bias=False)\n",
      "  (bn1): BatchNorm2d(16, eps=1e-05, momentum=0.1, affine=True, track_running_stats=True)\n",
      "  (layer1): Sequential(\n",
      "    (0): BasicBlock(\n",
      "      (conv1): Conv2d(16, 16, kernel_size=(3, 3), stride=(1, 1), padding=(1, 1), bias=False)\n",
      "      (bn1): BatchNorm2d(16, eps=1e-05, momentum=0.1, affine=True, track_running_stats=True)\n",
      "      (conv2): Conv2d(16, 16, kernel_size=(3, 3), stride=(1, 1), padding=(1, 1), bias=False)\n",
      "      (bn2): BatchNorm2d(16, eps=1e-05, momentum=0.1, affine=True, track_running_stats=True)\n",
      "      (shortcut): Sequential()\n",
      "    )\n",
      "    (1): BasicBlock(\n",
      "      (conv1): Conv2d(16, 16, kernel_size=(3, 3), stride=(1, 1), padding=(1, 1), bias=False)\n",
      "      (bn1): BatchNorm2d(16, eps=1e-05, momentum=0.1, affine=True, track_running_stats=True)\n",
      "      (conv2): Conv2d(16, 16, kernel_size=(3, 3), stride=(1, 1), padding=(1, 1), bias=False)\n",
      "      (bn2): BatchNorm2d(16, eps=1e-05, momentum=0.1, affine=True, track_running_stats=True)\n",
      "      (shortcut): Sequential()\n",
      "    )\n",
      "  )\n",
      "  (layer2): Sequential(\n",
      "    (0): BasicBlock(\n",
      "      (conv1): Conv2d(16, 32, kernel_size=(3, 3), stride=(2, 2), padding=(1, 1), bias=False)\n",
      "      (bn1): BatchNorm2d(32, eps=1e-05, momentum=0.1, affine=True, track_running_stats=True)\n",
      "      (conv2): Conv2d(32, 32, kernel_size=(3, 3), stride=(1, 1), padding=(1, 1), bias=False)\n",
      "      (bn2): BatchNorm2d(32, eps=1e-05, momentum=0.1, affine=True, track_running_stats=True)\n",
      "      (shortcut): Sequential(\n",
      "        (0): Conv2d(16, 32, kernel_size=(1, 1), stride=(2, 2), bias=False)\n",
      "        (1): BatchNorm2d(32, eps=1e-05, momentum=0.1, affine=True, track_running_stats=True)\n",
      "      )\n",
      "    )\n",
      "    (1): BasicBlock(\n",
      "      (conv1): Conv2d(32, 32, kernel_size=(3, 3), stride=(1, 1), padding=(1, 1), bias=False)\n",
      "      (bn1): BatchNorm2d(32, eps=1e-05, momentum=0.1, affine=True, track_running_stats=True)\n",
      "      (conv2): Conv2d(32, 32, kernel_size=(3, 3), stride=(1, 1), padding=(1, 1), bias=False)\n",
      "      (bn2): BatchNorm2d(32, eps=1e-05, momentum=0.1, affine=True, track_running_stats=True)\n",
      "      (shortcut): Sequential()\n",
      "    )\n",
      "  )\n",
      "  (layer3): Sequential(\n",
      "    (0): BasicBlock(\n",
      "      (conv1): Conv2d(32, 64, kernel_size=(3, 3), stride=(2, 2), padding=(1, 1), bias=False)\n",
      "      (bn1): BatchNorm2d(64, eps=1e-05, momentum=0.1, affine=True, track_running_stats=True)\n",
      "      (conv2): Conv2d(64, 64, kernel_size=(3, 3), stride=(1, 1), padding=(1, 1), bias=False)\n",
      "      (bn2): BatchNorm2d(64, eps=1e-05, momentum=0.1, affine=True, track_running_stats=True)\n",
      "      (shortcut): Sequential(\n",
      "        (0): Conv2d(32, 64, kernel_size=(1, 1), stride=(2, 2), bias=False)\n",
      "        (1): BatchNorm2d(64, eps=1e-05, momentum=0.1, affine=True, track_running_stats=True)\n",
      "      )\n",
      "    )\n",
      "    (1): BasicBlock(\n",
      "      (conv1): Conv2d(64, 64, kernel_size=(3, 3), stride=(1, 1), padding=(1, 1), bias=False)\n",
      "      (bn1): BatchNorm2d(64, eps=1e-05, momentum=0.1, affine=True, track_running_stats=True)\n",
      "      (conv2): Conv2d(64, 64, kernel_size=(3, 3), stride=(1, 1), padding=(1, 1), bias=False)\n",
      "      (bn2): BatchNorm2d(64, eps=1e-05, momentum=0.1, affine=True, track_running_stats=True)\n",
      "      (shortcut): Sequential()\n",
      "    )\n",
      "  )\n",
      "  (linear): Linear(in_features=64, out_features=10, bias=True)\n",
      "  (avgpool): AvgPool2d(kernel_size=8, stride=8, padding=0)\n",
      ")\n"
     ]
    }
   ],
   "source": [
    "import ResNet20\n",
    "\n",
    "print(activation)\n",
    "\n",
    "if True:\n",
    "    model = ResNet20.ResNet20(activation=activation)\n",
    "\n",
    "#model.to('cpu')\n",
    "train_on_gpu=True\n",
    "\n",
    "print(model)"
   ]
  },
  {
   "cell_type": "markdown",
   "id": "61d8d38d",
   "metadata": {},
   "source": [
    "## Optimizer"
   ]
  },
  {
   "cell_type": "code",
   "execution_count": 22,
   "id": "c2cad6ee",
   "metadata": {},
   "outputs": [],
   "source": [
    "import torch.optim as optim\n",
    "criterion = nn.CrossEntropyLoss()\n",
    "# For ResNet\n",
    "optimizer = optim.SGD(model.parameters(), lr=.01, weight_decay=5e-4, momentum = 0.9)\n",
    "\n"
   ]
  },
  {
   "cell_type": "markdown",
   "id": "585db7f0",
   "metadata": {},
   "source": [
    "## Training"
   ]
  },
  {
   "cell_type": "markdown",
   "id": "a553b8f7",
   "metadata": {},
   "source": [
    "activation을 approximate relu로 설정하면 loss = nan 나옴. \n",
    "1. input range 체크 \n",
    "2. 중간값 범위 체크"
   ]
  },
  {
   "cell_type": "code",
   "execution_count": 23,
   "id": "de6acf62",
   "metadata": {
    "scrolled": true
   },
   "outputs": [
    {
     "name": "stdout",
     "output_type": "stream",
     "text": [
      "Epoch: 1 \tTraining Loss: 1.131902 \tValidation Loss: 0.245982\n",
      "Validation loss decreased (inf --> 0.245982).  Saving model ...\n",
      "Epoch: 2 \tTraining Loss: 0.783682 \tValidation Loss: 0.189975\n",
      "Validation loss decreased (0.245982 --> 0.189975).  Saving model ...\n",
      "Epoch: 3 \tTraining Loss: 0.651181 \tValidation Loss: 0.152378\n",
      "Validation loss decreased (0.189975 --> 0.152378).  Saving model ...\n",
      "Epoch: 4 \tTraining Loss: 0.564488 \tValidation Loss: 0.145534\n",
      "Validation loss decreased (0.152378 --> 0.145534).  Saving model ...\n",
      "Epoch: 5 \tTraining Loss: 0.504555 \tValidation Loss: 0.145879\n",
      "Epoch: 6 \tTraining Loss: 0.459754 \tValidation Loss: 0.128281\n",
      "Validation loss decreased (0.145534 --> 0.128281).  Saving model ...\n",
      "Epoch: 7 \tTraining Loss: 0.421200 \tValidation Loss: 0.125258\n",
      "Validation loss decreased (0.128281 --> 0.125258).  Saving model ...\n",
      "Epoch: 8 \tTraining Loss: 0.390456 \tValidation Loss: 0.120712\n",
      "Validation loss decreased (0.125258 --> 0.120712).  Saving model ...\n",
      "Epoch: 9 \tTraining Loss: 0.364320 \tValidation Loss: 0.123650\n",
      "Epoch: 10 \tTraining Loss: 0.337993 \tValidation Loss: 0.126214\n",
      "Epoch: 11 \tTraining Loss: 0.318983 \tValidation Loss: 0.125458\n",
      "Epoch: 12 \tTraining Loss: 0.299120 \tValidation Loss: 0.117959\n",
      "Validation loss decreased (0.120712 --> 0.117959).  Saving model ...\n",
      "Epoch: 13 \tTraining Loss: 0.277686 \tValidation Loss: 0.116459\n",
      "Validation loss decreased (0.117959 --> 0.116459).  Saving model ...\n",
      "Epoch: 14 \tTraining Loss: 0.260572 \tValidation Loss: 0.120850\n",
      "Epoch: 15 \tTraining Loss: 0.245159 \tValidation Loss: 0.119641\n"
     ]
    }
   ],
   "source": [
    "fn_pt = 'ResNet_20_silu.pt'\n",
    "\n",
    "n_epochs = 15\n",
    "train_losslist=[]\n",
    "valid_loss_min = np.Inf \n",
    "\n",
    "for epoch in range(1, n_epochs+1):\n",
    "\n",
    "    # keep track of training and validation loss\n",
    "    train_loss = 0.0\n",
    "    valid_loss = 0.0\n",
    "    \n",
    "    model.to(device)\n",
    "    model.train()\n",
    "    \n",
    "    for data, target in train_loader:\n",
    "        if train_on_gpu:\n",
    "            data, target = data.cuda(), target.cuda()\n",
    "        optimizer.zero_grad()\n",
    "        #print(\"DATA\", data[0,0,0])\n",
    "        output = model(data)\n",
    "        #print(\"weight\", model.conv1.weight[0,0,0])\n",
    "        #print(output[0,:])\n",
    "        #print(output.shape)\n",
    "        loss = criterion(output, target)\n",
    "        loss.backward()\n",
    "        optimizer.step()\n",
    "        train_loss += loss.item()*data.size(0)\n",
    "        \n",
    "    model.eval()\n",
    "    for data, target in valid_loader:\n",
    "        if train_on_gpu:\n",
    "            data, target = data.cuda(), target.cuda()\n",
    "        #print(\"VALID-------------------------------------------------------------------\")\n",
    "        output = model(data)\n",
    "        loss = criterion(output, target)\n",
    "        valid_loss += loss.item()*data.size(0)\n",
    "    \n",
    "    # calculate average losses\n",
    "    train_loss = train_loss/len(train_loader.dataset)\n",
    "    valid_loss = valid_loss/len(valid_loader.dataset)\n",
    "    train_losslist.append(train_loss)\n",
    "        \n",
    "    print('Epoch: {} \\tTraining Loss: {:.6f} \\tValidation Loss: {:.6f}'.format(\n",
    "        epoch, train_loss, valid_loss))\n",
    "    \n",
    "    if valid_loss <= valid_loss_min:\n",
    "        print('Validation loss decreased ({:.6f} --> {:.6f}).  Saving model ...'.format(\n",
    "        valid_loss_min,\n",
    "        valid_loss))\n",
    "        torch.save(model.state_dict(), fn_pt)\n",
    "        valid_loss_min = valid_loss\n",
    "        "
   ]
  },
  {
   "cell_type": "code",
   "execution_count": 24,
   "id": "32a1f5cc",
   "metadata": {
    "scrolled": true
   },
   "outputs": [
    {
     "data": {
      "text/plain": [
       "<All keys matched successfully>"
      ]
     },
     "execution_count": 24,
     "metadata": {},
     "output_type": "execute_result"
    }
   ],
   "source": [
    "# Load the best one\n",
    "model.load_state_dict(torch.load(fn_pt))"
   ]
  },
  {
   "cell_type": "code",
   "execution_count": 25,
   "id": "70b8f93b",
   "metadata": {},
   "outputs": [
    {
     "name": "stdout",
     "output_type": "stream",
     "text": [
      "Test Loss: 0.590922\n",
      "\n",
      "Test Accuracy of airplane: 84% (846/1000)\n",
      "Test Accuracy of automobile: 87% (878/1000)\n",
      "Test Accuracy of  bird: 69% (697/1000)\n",
      "Test Accuracy of   cat: 67% (676/1000)\n",
      "Test Accuracy of  deer: 84% (848/1000)\n",
      "Test Accuracy of   dog: 72% (728/1000)\n",
      "Test Accuracy of  frog: 79% (797/1000)\n",
      "Test Accuracy of horse: 84% (840/1000)\n",
      "Test Accuracy of  ship: 92% (920/1000)\n",
      "Test Accuracy of truck: 82% (822/1000)\n",
      "\n",
      "Test Accuracy (Overall): 80% (8052/10000)\n"
     ]
    }
   ],
   "source": [
    "# track test loss\n",
    "test_loader = torch.utils.data.DataLoader(test_data, batch_size=32, \n",
    "    num_workers=num_workers)\n",
    "\n",
    "test_loss = 0.0\n",
    "class_correct = list(0. for i in range(10))\n",
    "class_total = list(0. for i in range(10))\n",
    "\n",
    "model.eval()\n",
    "# iterate over test data\n",
    "for data, target in test_loader:\n",
    "    if train_on_gpu:\n",
    "        data, target = data.cuda(), target.cuda()\n",
    "    output = model(data)\n",
    "    loss = criterion(output, target)\n",
    "    test_loss += loss.item()*data.size(0)\n",
    "    _, pred = torch.max(output, 1)    \n",
    "    correct_tensor = pred.eq(target.data.view_as(pred))\n",
    "    correct = np.squeeze(correct_tensor.numpy()) if not train_on_gpu else np.squeeze(correct_tensor.cpu().numpy())\n",
    "\n",
    "    for i in range(len(data)):\n",
    "        label = target.data[i]\n",
    "        class_correct[label] += correct[i].item()\n",
    "        class_total[label] += 1\n",
    "\n",
    "# average test loss\n",
    "test_loss = test_loss/len(test_loader.dataset)\n",
    "print('Test Loss: {:.6f}\\n'.format(test_loss))\n",
    "\n",
    "for i in range(10):\n",
    "    if class_total[i] > 0:\n",
    "        print('Test Accuracy of %5s: %2d%% (%2d/%2d)' % (\n",
    "            classes[i], 100 * class_correct[i] / class_total[i],\n",
    "            np.sum(class_correct[i]), np.sum(class_total[i])))\n",
    "    else:\n",
    "        print('Test Accuracy of %5s: N/A (no training examples)' % (classes[i]))\n",
    "\n",
    "print('\\nTest Accuracy (Overall): %2d%% (%2d/%2d)' % (\n",
    "    100. * np.sum(class_correct) / np.sum(class_total),\n",
    "    np.sum(class_correct), np.sum(class_total)))"
   ]
  },
  {
   "cell_type": "markdown",
   "id": "796ac576",
   "metadata": {},
   "source": [
    "## Replace activation and hope for a reasonable performance!\n",
    "\n",
    "#### or, do a little bit of fine tune"
   ]
  },
  {
   "cell_type": "code",
   "execution_count": null,
   "id": "ace506fd",
   "metadata": {},
   "outputs": [],
   "source": [
    "for name,child in net.named_children():\n",
    "    if isinstance(child,nn.ReLU) or isinstance(child,nn.SELU):\n",
    "        net._modules['relu'] = nn.SELU()"
   ]
  },
  {
   "cell_type": "code",
   "execution_count": null,
   "id": "327265cf",
   "metadata": {},
   "outputs": [],
   "source": []
  }
 ],
 "metadata": {
  "kernelspec": {
   "display_name": "Python 3 (ipykernel)",
   "language": "python",
   "name": "python3"
  },
  "language_info": {
   "codemirror_mode": {
    "name": "ipython",
    "version": 3
   },
   "file_extension": ".py",
   "mimetype": "text/x-python",
   "name": "python",
   "nbconvert_exporter": "python",
   "pygments_lexer": "ipython3",
   "version": "3.9.0"
  }
 },
 "nbformat": 4,
 "nbformat_minor": 5
}
