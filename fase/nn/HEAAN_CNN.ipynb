{
 "cells": [
  {
   "cell_type": "markdown",
   "id": "56a4657a",
   "metadata": {},
   "source": [
    "- 모든 rotation을 특정해서 미리 key를 만들어두면 한방에 rotation 가능. \n",
    "- 1 bootstrapping takes ~ 10min.\n",
    "- In later stages, there're up to 64"
   ]
  },
  {
   "cell_type": "code",
   "execution_count": 14,
   "id": "9a88b056",
   "metadata": {},
   "outputs": [
    {
     "name": "stdout",
     "output_type": "stream",
     "text": [
      "The autoreload extension is already loaded. To reload it, use:\n",
      "  %reload_ext autoreload\n"
     ]
    }
   ],
   "source": [
    "%load_ext autoreload\n",
    "%autoreload 2"
   ]
  },
  {
   "cell_type": "code",
   "execution_count": 15,
   "id": "950aa882",
   "metadata": {},
   "outputs": [],
   "source": [
    "import numpy as np\n",
    "import pickle\n",
    "import torch\n",
    "import matplotlib.pyplot as plt \n",
    "#from fase.core import heaan\n",
    "\n",
    "import fase\n",
    "fase.USE_CUDA = False#True\n",
    "#from fase import HEAAN\n",
    "#from fase import HEAAN as he\n",
    "from fase.core import heaan\n",
    "#he = heaan.he\n",
    "from typing import List, Callable\n",
    "from fase.core.heaan import HEAANContext \n",
    "#from fase.HEAAN import Ciphertext\n",
    "\n",
    "import fase.nn.utils as utils\n",
    "\n",
    "from time import time\n",
    "import numpy as np\n",
    "from PIL import Image\n",
    "import matplotlib.pyplot as plt \n",
    "import torch\n",
    "\n",
    "from fase.nn. torch_cnn import *"
   ]
  },
  {
   "cell_type": "markdown",
   "id": "141133c3",
   "metadata": {},
   "source": [
    "logI = 4, logT = 3, logq = 37, logp = 27, logn = 10, logQ = 800"
   ]
  },
  {
   "cell_type": "code",
   "execution_count": 28,
   "id": "d188e966",
   "metadata": {},
   "outputs": [
    {
     "name": "stdout",
     "output_type": "stream",
     "text": [
      "Initializing the scheme as the data owner\n",
      "Loading a secret key from:  ./SecretKey.txt\n",
      "loading secret key done.\n",
      "loading boot keys done\n",
      "HEAAN CKKS setup is ready \n"
     ]
    }
   ],
   "source": [
    "hec = heaan.HEAANContext(10, 30, 35, boot=True, load_sk=True, rot_l=\"all\")\n",
    "#hec = heaan.HEAANContext(10, 30, 360, boot=True, load_sk=True, rot_l=\"all\")\n",
    "logqBoot = 35\n",
    "hec.parms.logqBoot = logqBoot"
   ]
  },
  {
   "cell_type": "markdown",
   "id": "97b395af",
   "metadata": {},
   "source": [
    "## Torch model"
   ]
  },
  {
   "cell_type": "code",
   "execution_count": 17,
   "id": "365584ce",
   "metadata": {},
   "outputs": [
    {
     "name": "stdout",
     "output_type": "stream",
     "text": [
      "Files already downloaded and verified\n",
      "Files already downloaded and verified\n"
     ]
    }
   ],
   "source": [
    "# check if CUDA is available\n",
    "train_on_gpu = torch.cuda.is_available()\n",
    "\n",
    "device = \"cpu\"\n",
    "\n",
    "train_loader, valid_loader, test_loader = get_data_loaders()\n",
    "\n",
    "# specify the image classes\n",
    "classes = ['airplane', 'automobile', 'bird', 'cat', 'deer',\n",
    "        'dog', 'frog', 'horse', 'ship', 'truck']"
   ]
  },
  {
   "cell_type": "markdown",
   "id": "b01ccd9e",
   "metadata": {},
   "source": [
    "## Load trained model"
   ]
  },
  {
   "cell_type": "code",
   "execution_count": 18,
   "id": "437a13b6",
   "metadata": {},
   "outputs": [],
   "source": [
    "from fase.nn.models import ConvNeuralNet\n",
    "from fase.nn.approximate import approx_relu, approx_sign\n",
    "\n",
    "xfactor = 20\n",
    "activation = lambda x : xfactor * approx_relu(x/xfactor, degree = 5, repeat=3)\n",
    "\n",
    "# F.relu or activation?\n",
    "org_model = ConvNeuralNet(num_classes=10, activation=F.relu) "
   ]
  },
  {
   "cell_type": "code",
   "execution_count": 19,
   "id": "a1995425",
   "metadata": {},
   "outputs": [],
   "source": [
    "fn_param = \"SimpleCNN_ReLU_minimax_v2.pt\"\n",
    "\n",
    "trained_param = torch.load(fn_param, map_location=torch.device(device))\n",
    "trained_param = {k: v.cpu() for k, v in trained_param.items()} # to cpu()\n",
    "org_model.load_state_dict(trained_param)\n",
    "org_model.eval() ## If not eval(), running_mean and running_var of batch_norm changes\n",
    "\n",
    "# To numpy\n",
    "params_np = {k: v.numpy() for k, v in trained_param.items()}"
   ]
  },
  {
   "cell_type": "markdown",
   "id": "93b42bbc",
   "metadata": {},
   "source": [
    "## Load Image"
   ]
  },
  {
   "cell_type": "code",
   "execution_count": 20,
   "id": "867b7ba7",
   "metadata": {},
   "outputs": [],
   "source": [
    "imgs, labels = next(iter(test_loader))"
   ]
  },
  {
   "cell_type": "markdown",
   "id": "439bb8c2",
   "metadata": {},
   "source": [
    "# HEAAN FHE"
   ]
  },
  {
   "cell_type": "code",
   "execution_count": 21,
   "id": "30110bd5",
   "metadata": {},
   "outputs": [],
   "source": [
    "# convenience tool\n",
    "util = utils.Heaan_checker(hec)"
   ]
  },
  {
   "cell_type": "code",
   "execution_count": 22,
   "id": "7e3e3516",
   "metadata": {},
   "outputs": [],
   "source": [
    "#def do_bootstrap(fhec, ctxt):\n",
    "#    ctxt = fhec.decrypt(ctxt)\n",
    "#    return fhec.encrypt(ctxt)\n",
    "\n",
    "def do_bootstrap(fhec, ctxt):\n",
    "    return fhec.bootstrap(ctxt, fhec.parms.logqBoot)"
   ]
  },
  {
   "cell_type": "code",
   "execution_count": 23,
   "id": "a12a186b",
   "metadata": {},
   "outputs": [],
   "source": [
    "from fase.core.commonAlgo import CommonAlgorithms\n",
    "from fase.nn.conv_he import *"
   ]
  },
  {
   "cell_type": "markdown",
   "id": "1e251cf9",
   "metadata": {},
   "source": [
    "## step-by-step check "
   ]
  },
  {
   "cell_type": "code",
   "execution_count": 24,
   "id": "5c9e5f11",
   "metadata": {},
   "outputs": [
    {
     "name": "stdout",
     "output_type": "stream",
     "text": [
      "35\n"
     ]
    }
   ],
   "source": [
    "img_this_example = imgs[0]\n",
    "img_enc = [hec.encrypt(this_channel.ravel()) for this_channel in img_this_example]\n",
    "\n",
    "print(img_enc[0].logq)\n",
    "\n",
    "nh, nw = img_this_example[0].shape"
   ]
  },
  {
   "cell_type": "markdown",
   "id": "754db407",
   "metadata": {},
   "source": [
    "t0 = time()\n",
    "hec.bootstrap(img_enc[0], hec.parms.logqBoot)\n",
    "print(f\"took: {time() - t0:.3f}s\", flush=True)\n",
    "\n",
    "t0 = time()\n",
    "hec.bootstrap(img_enc[1], hec.parms.logqBoot)\n",
    "print(f\"took: {time() - t0:.3f}s\", flush=True)\n",
    "\n",
    "t0 = time()\n",
    "hec.bootstrap(img_enc[2], hec.parms.logqBoot)\n",
    "print(f\"took: {time() - t0:.3f}s\", flush=True)\n",
    "#[hec.bootstrap(img, hec.parms.logqBoot) for img in img_enc]\n",
    "print(img_enc)"
   ]
  },
  {
   "cell_type": "code",
   "execution_count": 25,
   "id": "9e4b6a79",
   "metadata": {},
   "outputs": [
    {
     "name": "stdout",
     "output_type": "stream",
     "text": [
      "tensor([[  1.6387,   3.3497, -11.8637,  14.3675, -15.4812,   8.2658,  -8.6026,\n",
      "          -7.4570,   2.9418,  11.7727]], grad_fn=<AddmmBackward0>)\n"
     ]
    }
   ],
   "source": [
    "#for i in range(10):\n",
    "if True:\n",
    "    i = 0\n",
    "    img_tensor = imgs[i:i+1]\n",
    "    org_tt1 = org_model.conv_layer1(img_tensor)\n",
    "    org_tt2 = org_model.conv_layer2(org_tt1)\n",
    "    org_tt3 = org_model.pool(org_tt2)\n",
    "    org_tt4 = org_model.conv_layer3(org_tt3)\n",
    "    org_tt5 = org_model.bn1(org_tt4)\n",
    "    org_tt6 = org_model.activation(org_tt5)\n",
    "    org_tt7 = org_model.pool(org_tt6)\n",
    "    org_tt8 = org_model.conv_layer4(org_tt7)\n",
    "    org_tt9 = org_model.conv_layer5(org_tt8)\n",
    "    #######################\n",
    "    org_tt9_1 = org_model.bn2(org_tt9)\n",
    "    org_tt9_2 = org_model.activation(org_tt9_1)\n",
    "    #######################\n",
    "    org_tt10 = org_model.pool(org_tt9_2)\n",
    "    org_tt10_ = org_tt10.reshape(org_tt10.size(0),-1)\n",
    "    org_11 = org_model.fc1(org_tt10_)\n",
    "    org_11_1 = org_model.activation(org_11)\n",
    "    answer = org_model.fc2(org_11_1)\n",
    "    print(answer)\n",
    "    torch.argmax(answer)"
   ]
  },
  {
   "cell_type": "code",
   "execution_count": 30,
   "id": "293e9614",
   "metadata": {},
   "outputs": [],
   "source": [
    "ff = approx_sign(5)\n",
    "calgo = CommonAlgorithms(hec, \"HEAAN\")"
   ]
  },
  {
   "cell_type": "code",
   "execution_count": null,
   "id": "33a91081",
   "metadata": {},
   "outputs": [],
   "source": [
    "if True:\n",
    "    t0 = time()\n",
    "    \n",
    "    img_this_example = img_tensor[0]\n",
    "    nh, nw = img_this_example[0].shape\n",
    "    \n",
    "    img_enc = [hec.encrypt(this_channel.ravel()) for this_channel in img_this_example]\n",
    "    #[do_bootstrap(hec, img) for img in img_enc]\n",
    "    logqBoot = 37\n",
    "    for tt in img_enc:\n",
    "        hec._scheme.bootstrapAndEqual(tt, \n",
    "                                      logqBoot, \n",
    "                                      hec.parms.logQ, \n",
    "                                      hec.parms.logT,\n",
    "                                      hec.parms.logI)\n",
    "        print(tt)\n",
    "\n",
    "    \n",
    "\n",
    "    tmp1, _nh, _nw = my_conv2D_FHE(hec, img_enc, nh, nw, org_model.conv_layer1)\n",
    "    print(f\"conv1... {time() - t0:.3f} seconds\")\n",
    "    util.plot_diff(org_tt1, tmp1, 32,32, ch=0, unpad=0)\n",
    "\n",
    "    tmp2, _nh2, _nw2 = my_conv2D_FHE(hec, tmp1, nh, nw, org_model.conv_layer2) # list of ctxts\n",
    "    print(f\"conv2... {time() - t0:.3f} seconds\")\n",
    "    util.plot_diff(org_tt2, tmp2, 32,32, ch=0, unpad=0)\n",
    "\n",
    "    tmp3, nh2, nw2 = fhe_avg_pool(hec, tmp2,\n",
    "                                  nh, nw, \n",
    "                                  kernel_size=org_model.pool.kernel_size, \n",
    "                                  stride_in=1) # list of ctxts\n",
    "    print(f\"pool1... {time() - t0:.3f} seconds\")\n",
    "    util.plot_diff(org_tt3, tmp3, 32,32, ch=5, unpad=0, stride=(2,2))\n",
    "\n",
    "    tmp4, _nh2, _nw2 = my_conv2D_FHE(hec, tmp3, nh, nw, org_model.conv_layer3,\n",
    "                                    stride_in=2) # list of ctxts\n",
    "    print(f\"conv3... {time() - t0:.3f} seconds\")\n",
    "    util.plot_diff(org_tt4, tmp4, 32,32, ch=5, unpad=0, stride=(2,2))\n",
    "\n",
    "    tmp5 = fhe_bn(hec, tmp4, org_model.bn1, eps = 1e-5)\n",
    "    print(f\"bn1... {time() - t0:.3f} seconds\")\n",
    "    util.plot_diff(org_tt5, tmp5, 32,32, ch=5, unpad=0, stride=(2,2))\n",
    "\n",
    "    ## Bootstrap?\n",
    "    print(\"1\", tmp5[0].logp, tmp5[0].logq)\n",
    "   \n",
    "    [do_bootstrap(hec, tmp) for tmp in tmp5]\n",
    "\n",
    "    tmp6 = approx_relu_fhe(hec, calgo, tmp5, ff, repeat=4, xfactor=20)\n",
    "    print(f\"activation... {time() - t0:.3f} seconds\")\n",
    "    util.plot_diff(org_tt6, tmp6, 32,32, ch=5, unpad=0, stride=(2,2))\n",
    "\n",
    "    #tmp6 = [do_bootstrap(hec, tmp) for tmp in tmp6]\n",
    "    ## Bootstrap?\n",
    "    print(\"2\", tmp6[0].logp, tmp6[0].logq)\n",
    "\n",
    "    tmp7, _nh3, _nw3 = fhe_avg_pool(hec, tmp6, nh, nw, \n",
    "                                    kernel_size=org_model.pool.kernel_size, \n",
    "                                    stride_in=2) # list of ctxts\n",
    "    print(f\"activation... {time() - t0:.3f} seconds\")\n",
    "    util.plot_diff(org_tt7, tmp7, 32,32, ch=5, unpad=0, stride=(4,4))\n",
    "\n",
    "    tmp8, _nh3, _nw3 = my_conv2D_FHE(hec, tmp7, nh, nw, org_model.conv_layer4,\n",
    "                                    stride_in=4) # list of ctxts\n",
    "    print(f\"conv4... {time() - t0:.3f} seconds\")\n",
    "    util.plot_diff(org_tt8, tmp8, 32,32, ch=5, unpad=0, stride=(4,4))\n",
    "    \n",
    "    tmp9, _nh3, _nw3 = my_conv2D_FHE(hec, tmp8, nh, nw, org_model.conv_layer5,\n",
    "                                    stride_in=4) # list of ctxts\n",
    "    print(f\"conv5... {time() - t0:.3f} seconds\")\n",
    "    util.plot_diff(org_tt9, tmp9, 32,32, ch=5, unpad=0, stride=(4,4))\n",
    "    \n",
    "    tmp9_1 = fhe_bn(hec, tmp9, org_model.bn2, eps = 1e-5) #fhe_bn(hec, tmp9, org_model.bn2)\n",
    "    print(f\"bn2... {time() - t0:.3f} seconds\")\n",
    "    util.plot_diff(org_tt9_1, tmp9_1, 32,32, ch=5, unpad=0, stride=(4,4))\n",
    "    \n",
    "    ## Bootstrap?\n",
    "    print(\"3\", tmp9_1[0].logp, tmp9_1[0].logq)\n",
    "    \n",
    "    tmp9_2 = approx_relu_fhe(hec, calgo, tmp9_1, ff, repeat=4, xfactor=20)\n",
    "    print(f\"activation.. {time() - t0:.3f} seconds\")\n",
    "    util.plot_diff(org_tt9_2, tmp9_2, 32,32, ch=5, unpad=0, stride=(4,4))\n",
    "    \n",
    "    \n",
    "    tmp10, _nh4, _nw4 = fhe_avg_pool(hec, tmp9_2, nh, nw, \n",
    "                                    kernel_size=org_model.pool.kernel_size, \n",
    "                                    stride_in=4) # list of ctxts\n",
    "    print(f\"pool2... {time() - t0:.3f} seconds\")\n",
    "    util.plot_diff(org_tt10, tmp10, 32,32, ch=5, unpad=0, stride=(8,8))\n",
    "    \n",
    "    reshaped = reshape(hec, tmp10)\n",
    "\n",
    "    print(\"4\", reshaped[0].logp, reshaped[0].logq)\n",
    "    reshaped = do_bootstrap(hec, reshaped)\n",
    "\n",
    "    tmp_fc1 = fullyConnected(hec, reshaped, org_model.fc1)\n",
    "    print(f\"FC1... {time() - t0:.3f} seconds\")\n",
    "\n",
    "    #tmp_fc1 = [do_bootstrap(hec, tmp_fc1)]\n",
    "    tmp_fc11 = approx_relu_fhe(hec, calgo, tmp_fc1, ff, repeat=4, xfactor=15)[0]\n",
    "    print(f\"activation... {time() - t0:.3f} seconds\")\n",
    "\n",
    "    result = fullyConnected(hec, tmp_fc11, org_model.fc2)\n",
    "    print(f\"Done... {time() - t0:.3f} seconds\")\n",
    "\n",
    "    pred = hec.decrypt(result)[:10]\n",
    "    \n",
    "    pred = fhe_eval(org_model, sec, img_tensor[0])\n",
    "    print(pred)\n",
    "    print(\"_________\\n\")"
   ]
  },
  {
   "cell_type": "code",
   "execution_count": null,
   "id": "f5a4e8f4",
   "metadata": {},
   "outputs": [],
   "source": []
  },
  {
   "cell_type": "code",
   "execution_count": null,
   "id": "e1760776",
   "metadata": {},
   "outputs": [],
   "source": []
  },
  {
   "cell_type": "code",
   "execution_count": null,
   "id": "3bf4bd58",
   "metadata": {},
   "outputs": [],
   "source": [
    "def fhe_eval(org_model, hec, img_this_example):\n",
    "    t0 = time()\n",
    "\n",
    "    img_enc = [hec.encrypt(this_channel.ravel()) for this_channel in img_this_example]\n",
    "    nh, nw = img_this_example[0].shape\n",
    "\n",
    "    tmp1, _nh, _nw = my_conv2D_FHE(hec, img_enc, nh, nw, org_model.conv_layer1)\n",
    "    print(f\"conv1... {time() - t0:.3f} seconds\")\n",
    "\n",
    "    tmp2, _nh2, _nw2 = my_conv2D_FHE(hec, tmp1, nh, nw, org_model.conv_layer2) # list of ctxts\n",
    "    print(f\"conv2... {time() - t0:.3f} seconds\")\n",
    "\n",
    "    tmp3, nh2, nw2 = fhe_avg_pool(hec, tmp2,\n",
    "                                  nh, nw, \n",
    "                                  kernel_size=org_model.pool.kernel_size, \n",
    "                                  stride_in=1) # list of ctxts\n",
    "    print(f\"pool1... {time() - t0:.3f} seconds\")\n",
    "\n",
    "    tmp4, _nh2, _nw2 = my_conv2D_FHE(hec, tmp3, nh, nw, org_model.conv_layer3,\n",
    "                                    stride_in=2) # list of ctxts\n",
    "    print(f\"conv3... {time() - t0:.3f} seconds\")\n",
    "\n",
    "    #tmp5 = fhe_bn(hec, tmp4, org_model.bn1)\n",
    "    tmp5 = fhe_bn(hec, tmp4, org_model.bn1, eps = 1e-5)\n",
    "    print(f\"bn1... {time() - t0:.3f} seconds\")\n",
    "\n",
    "    print(\"1\", tmp5[0].logp, tmp5[0].logq)\n",
    "\n",
    "    tmp5 = [do_bootstrap(hec, tmp) for tmp in tmp5]\n",
    "\n",
    "    tmp6 = approx_relu_fhe(hec, calgo, tmp5, ff, repeat=4, xfactor=20)\n",
    "    print(f\"activation... {time() - t0:.3f} seconds\")\n",
    "\n",
    "    #tmp6 = [do_bootstrap(hec, tmp) for tmp in tmp6]\n",
    "    print(\"2\", tmp6[0].logp, tmp6[0].logq)\n",
    "\n",
    "    tmp7, _nh3, _nw3 = fhe_avg_pool(hec, tmp6, nh, nw, \n",
    "                                    kernel_size=org_model.pool.kernel_size, \n",
    "                                    stride_in=2) # list of ctxts\n",
    "    print(f\"activation... {time() - t0:.3f} seconds\")\n",
    "\n",
    "    tmp8, _nh3, _nw3 = my_conv2D_FHE(hec, tmp7, nh, nw, org_model.conv_layer4,\n",
    "                                    stride_in=4) # list of ctxts\n",
    "    print(f\"conv4... {time() - t0:.3f} seconds\")\n",
    "    tmp9, _nh3, _nw3 = my_conv2D_FHE(hec, tmp8, nh, nw, org_model.conv_layer5,\n",
    "                                    stride_in=4) # list of ctxts\n",
    "    print(f\"conv5... {time() - t0:.3f} seconds\")\n",
    "    tmp9_1 = fhe_bn(hec, tmp9, org_model.bn2, eps = 1e-5) #fhe_bn(hec, tmp9, org_model.bn2)\n",
    "\n",
    "    print(\"3\", tmp9_1[0].logp, tmp9_1[0].logq)\n",
    "\n",
    "    print(f\"bn2... {time() - t0:.3f} seconds\")\n",
    "    tmp9_2 = approx_relu_fhe(hec, calgo, tmp9_1, ff, repeat=4, xfactor=20)\n",
    "    print(f\"activation.. {time() - t0:.3f} seconds\")\n",
    "    tmp10, _nh4, _nw4 = fhe_avg_pool(hec, tmp9_2, nh, nw, \n",
    "                                    kernel_size=org_model.pool.kernel_size, \n",
    "                                    stride_in=4) # list of ctxts\n",
    "    print(f\"pool2... {time() - t0:.3f} seconds\")\n",
    "    reshaped = reshape(hec, tmp10)\n",
    "\n",
    "    print(\"4\", reshaped[0].logp, reshaped[0].logq)\n",
    "    reshaped = do_bootstrap(hec, reshaped)\n",
    "\n",
    "    tmp_fc1 = fullyConnected(hec, reshaped, org_model.fc1)\n",
    "    print(f\"FC1... {time() - t0:.3f} seconds\")\n",
    "\n",
    "    #tmp_fc1 = [do_bootstrap(hec, tmp_fc1)]\n",
    "    tmp_fc11 = approx_relu_fhe(hec, calgo, tmp_fc1, ff, repeat=4, xfactor=15)[0]\n",
    "    print(f\"activation... {time() - t0:.3f} seconds\")\n",
    "\n",
    "    result = fullyConnected(hec, tmp_fc11, org_model.fc2)\n",
    "    print(f\"Done... {time() - t0:.3f} seconds\")\n",
    "\n",
    "    pred = hec.decrypt(result)[:10]\n",
    "    \n",
    "    return pred"
   ]
  }
 ],
 "metadata": {
  "kernelspec": {
   "display_name": "Python 3 (ipykernel)",
   "language": "python",
   "name": "python3"
  },
  "language_info": {
   "codemirror_mode": {
    "name": "ipython",
    "version": 3
   },
   "file_extension": ".py",
   "mimetype": "text/x-python",
   "name": "python",
   "nbconvert_exporter": "python",
   "pygments_lexer": "ipython3",
   "version": "3.9.0"
  }
 },
 "nbformat": 4,
 "nbformat_minor": 5
}
