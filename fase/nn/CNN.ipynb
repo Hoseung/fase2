{
 "cells": [
  {
   "cell_type": "code",
   "execution_count": 1,
   "id": "611ac1ba",
   "metadata": {},
   "outputs": [],
   "source": [
    "%load_ext autoreload\n",
    "%autoreload 2"
   ]
  },
  {
   "cell_type": "code",
   "execution_count": 2,
   "id": "a3f6fa33",
   "metadata": {},
   "outputs": [],
   "source": [
    "import numpy as np\n",
    "from PIL import Image\n",
    "import matplotlib.pyplot as plt \n",
    "\n",
    "# Load data\n",
    "if True:\n",
    "    img = np.arange(5*5, dtype=int).reshape(5,5)\n",
    "    kernel = np.arange(9).reshape(3,3)\n",
    "else:\n",
    "    img = np.array(Image.open(\"./bird6.png\"), dtype=int)\n",
    "    img = img[:,:,0]\n",
    "\n",
    "    kernel = np.array([[1,0,-1],\n",
    "                       [2,0,-2],\n",
    "                       [1,0,-1]], dtype=int)\n",
    "\n",
    "nx, ny = img.shape\n",
    "\n",
    "\n",
    "f_w, f_h = kernel.shape\n",
    "\n",
    "res = np.zeros((nx,ny), dtype=int) # Same padding\n",
    "\n",
    "# Numpy 버전"
   ]
  },
  {
   "cell_type": "markdown",
   "id": "3e9d1b2c",
   "metadata": {},
   "source": [
    "# Plain version"
   ]
  },
  {
   "cell_type": "code",
   "execution_count": 3,
   "id": "dcc9552d",
   "metadata": {},
   "outputs": [],
   "source": [
    "def left_rotate(arr, r):\n",
    "    return np.roll(arr, -r)\n",
    "\n",
    "imgarr = img.ravel()\n",
    "left_rotate(imgarr, 1)\n",
    "\n",
    "rotated = []\n",
    "for i in range(f_w):\n",
    "    for j in range(f_h):\n",
    "        rotated.append(left_rotate(imgarr, (i -1)*nx + (j-1)))"
   ]
  },
  {
   "cell_type": "markdown",
   "id": "909f9d9a",
   "metadata": {},
   "source": [
    "nx, ny = 28,28\n",
    "wx = 5\n",
    "wy = 5\n",
    "stride_x = 2\n",
    "stride_y = 2\n",
    "\n",
    "13^2 modified copies of img in convolution representaitons (14^2 아님?)\n",
    "conv_img = []\n",
    "for i in range(0, nx-wx+1, stride_x):\n",
    "    for j in range(0, ny-wy+1, stride_y):\n",
    "        conv_img.append()"
   ]
  },
  {
   "cell_type": "code",
   "execution_count": null,
   "id": "e4226b62",
   "metadata": {},
   "outputs": [],
   "source": []
  },
  {
   "cell_type": "markdown",
   "id": "eca6bae3",
   "metadata": {},
   "source": [
    "### torch "
   ]
  },
  {
   "cell_type": "code",
   "execution_count": 4,
   "id": "0e3c813c",
   "metadata": {},
   "outputs": [],
   "source": [
    "import torch"
   ]
  },
  {
   "cell_type": "code",
   "execution_count": 5,
   "id": "11e57283",
   "metadata": {},
   "outputs": [
    {
     "name": "stdout",
     "output_type": "stream",
     "text": [
      "[[ 0  1  2  3  4]\n",
      " [ 5  6  7  8  9]\n",
      " [10 11 12 13 14]\n",
      " [15 16 17 18 19]\n",
      " [20 21 22 23 24]] \n",
      "\n",
      " [[0 1 2]\n",
      " [3 4 5]\n",
      " [6 7 8]]\n"
     ]
    }
   ],
   "source": [
    "print(img, \"\\n\\n\", kernel)"
   ]
  },
  {
   "cell_type": "code",
   "execution_count": 6,
   "id": "0167d366",
   "metadata": {},
   "outputs": [],
   "source": [
    "nc = 1\n",
    "def repeat_filter(kernel, n_repeat):\n",
    "    return np.broadcast_to(kernel,(n_repeat,)+kernel.shape)\n",
    "    \n",
    "filters = repeat_filter(kernel, nc)\n",
    "\n",
    "res_t = torch.conv2d(torch.tensor(img[np.newaxis, np.newaxis,:,:]), \n",
    "             torch.tensor(filters[np.newaxis,:,:,:]))"
   ]
  },
  {
   "cell_type": "code",
   "execution_count": 7,
   "id": "b1108562",
   "metadata": {},
   "outputs": [],
   "source": [
    "def annot_heatmap(ax, img):\n",
    "    ax.imshow(img)\n",
    "    for i in range(img.shape[0]):\n",
    "        for j in range(img.shape[1]):\n",
    "            text = ax.text(j, i, img[i, j],\n",
    "                           ha=\"center\", va=\"center\", color=\"w\")"
   ]
  },
  {
   "cell_type": "code",
   "execution_count": 8,
   "id": "26006ef3",
   "metadata": {},
   "outputs": [
    {
     "data": {
      "image/png": "[encoded data removed]",
      "text/plain": [
       "<Figure size 432x288 with 2 Axes>"
      ]
     },
     "metadata": {
      "needs_background": "light"
     },
     "output_type": "display_data"
    }
   ],
   "source": [
    "img_t = res_t.squeeze().numpy()\n",
    "\n",
    "fig, axs = plt.subplots(1,2)\n",
    "\n",
    "axs[0].imshow(img)\n",
    "#axs[1].imshow(img_t)\n",
    "annot_heatmap(axs[1], img_t)\n",
    "\n",
    "plt.show()"
   ]
  },
  {
   "cell_type": "code",
   "execution_count": 9,
   "id": "cf248515",
   "metadata": {},
   "outputs": [],
   "source": [
    "import fase\n",
    "from fase.core.seal_ckks import SEALContext\n",
    "\n",
    "def rotate_input(img, kernel_size):\n",
    "    assert img.ndim == 2\n",
    "    nx, ny = img.shape\n",
    "    imgarr = img.ravel()\n",
    "    f_w, f_h = kernel_size\n",
    "    \n",
    "    rotated = []\n",
    "    for i in range(f_w):\n",
    "        for j in range(f_h):\n",
    "            rotated.append(left_rotate(imgarr, (i -1)*nx + (j-1)))\n",
    "    return rotated"
   ]
  },
  {
   "cell_type": "code",
   "execution_count": 10,
   "id": "6d19e5a0",
   "metadata": {},
   "outputs": [],
   "source": [
    "rkernel = kernel.ravel()\n",
    "for i, rr in enumerate(rotated):\n",
    "    if i == 0:\n",
    "        out = rr * rkernel[i]\n",
    "    else:\n",
    "        out += rr * rkernel[i]"
   ]
  },
  {
   "cell_type": "code",
   "execution_count": 11,
   "id": "1f5fada7",
   "metadata": {},
   "outputs": [],
   "source": [
    "rotated = rotate_input(img, (3,3))\n",
    "mat_img = np.stack(rotated).T\n",
    "\n",
    "out_mat = np.matmul(mat_img, kernel.ravel()) # 1024 x 9 * 9 x 1 -> 1024 x 1 \n",
    "# 가운데 3x3은 맞고, 주변은 음...? \n",
    "# padding된 5x5 kernel로 곱해야하는 듯\n",
    "\n",
    "\n",
    "res_t = torch.conv2d(torch.tensor(img[np.newaxis, np.newaxis,:,:]), \n",
    "             torch.tensor(filters[np.newaxis,:,:,:]), padding=1)\n",
    "img_t = res_t.squeeze().numpy()"
   ]
  },
  {
   "cell_type": "code",
   "execution_count": 14,
   "id": "397e22d8",
   "metadata": {
    "scrolled": true
   },
   "outputs": [
    {
     "data": {
      "image/png": "[encoded data removed]",
      "text/plain": [
       "<Figure size 432x432 with 4 Axes>"
      ]
     },
     "metadata": {
      "needs_background": "light"
     },
     "output_type": "display_data"
    }
   ],
   "source": [
    "fig, axs = plt.subplots(2,2)\n",
    "fig.set_size_inches(6,6)\n",
    "axs = axs.ravel()\n",
    "\n",
    "axs[0].imshow(img)\n",
    "annot_heatmap(axs[1], img_t)\n",
    "annot_heatmap(axs[2], out.reshape(nx, ny))\n",
    "annot_heatmap(axs[3], out_mat.reshape(nx, ny))\n",
    "\n",
    "axs[0].set_title(\"org\")\n",
    "axs[1].set_title(\"torch\")\n",
    "axs[2].set_title(\"loop\")\n",
    "axs[3].set_title(\"mat_mult\")\n",
    "\n",
    "plt.tight_layout()\n",
    "plt.show()"
   ]
  },
  {
   "cell_type": "markdown",
   "id": "d089cb3f",
   "metadata": {},
   "source": [
    "나는 padding이 안 되고 뭘 한거임? "
   ]
  },
  {
   "cell_type": "markdown",
   "id": "127b4abf",
   "metadata": {},
   "source": [
    "### GAELLE\n",
    "\n",
    "\n",
    "- kernel size는 홀수. 예를 들어 f_w = 4면 \"same\" padding일 경우 한쪽은 padding이 2만큼, 한쪽은 1만큼 필요함. 정해야됨. \n",
    "- kernel_size가 홀수일 경우, padding 크기는 (f_w -1) /2\n",
    "\n",
    "#### 1. zero-padded SISO"
   ]
  },
  {
   "cell_type": "code",
   "execution_count": 183,
   "id": "289bfe0a",
   "metadata": {},
   "outputs": [],
   "source": [
    "# kernel size \n",
    "def pad(img, npad):\n",
    "    nx_padded = nx + 2*npad\n",
    "    ny_padded = ny + 2*npad\n",
    "\n",
    "    padded_img = np.zeros((nx_padded, ny_padded))\n",
    "    padded_img[padx:-padx, pady:-pady] = img\n",
    "    return padded_img"
   ]
  },
  {
   "cell_type": "code",
   "execution_count": 166,
   "id": "17bc9897",
   "metadata": {},
   "outputs": [],
   "source": [
    "f_w, f_h = kernel_sizes\n",
    "padx = int((f_w-1)/2)\n",
    "pady = int((f_h-1)/2)\n",
    "\n",
    "\n",
    "padded = pad(img, (3,3))"
   ]
  },
  {
   "cell_type": "code",
   "execution_count": 168,
   "id": "e809f986",
   "metadata": {},
   "outputs": [],
   "source": [
    "rotated = rotate_input(padded, (3,3))"
   ]
  },
  {
   "cell_type": "code",
   "execution_count": 170,
   "id": "8bcdd6d5",
   "metadata": {},
   "outputs": [
    {
     "data": {
      "image/png": "[encoded data removed]",
      "text/plain": [
       "<Figure size 432x288 with 1 Axes>"
      ]
     },
     "metadata": {
      "needs_background": "light"
     },
     "output_type": "display_data"
    }
   ],
   "source": [
    "plt.imshow(np.stack(rotated))\n",
    "plt.show()"
   ]
  },
  {
   "cell_type": "markdown",
   "id": "eb61be61",
   "metadata": {},
   "source": [
    "이제 9 x 25가 아니라 9 x 49가 됐음. 이 중에 어느 column을 쓰나..? "
   ]
  },
  {
   "cell_type": "code",
   "execution_count": null,
   "id": "12bddf03",
   "metadata": {},
   "outputs": [],
   "source": []
  },
  {
   "cell_type": "markdown",
   "id": "520c0932",
   "metadata": {},
   "source": [
    "### Packed SISO"
   ]
  },
  {
   "cell_type": "code",
   "execution_count": 175,
   "id": "47f1035b",
   "metadata": {},
   "outputs": [],
   "source": [
    "def rotate_input2(img, kernel_size):\n",
    "    assert img.ndim == 2\n",
    "    nx, ny = img.shape\n",
    "    imgarr = img.ravel()\n",
    "    f_w, f_h = kernel_size\n",
    "    \n",
    "    rotated = []\n",
    "    nrot = int((nx*ny -1)/2)\n",
    "    for rr in range(-nrot, nrot+1):\n",
    "        rotated.append(left_rotate(imgarr, rr))\n",
    "    return rotated"
   ]
  },
  {
   "cell_type": "code",
   "execution_count": 176,
   "id": "7a84921a",
   "metadata": {},
   "outputs": [
    {
     "data": {
      "text/plain": [
       "<matplotlib.image.AxesImage at 0x7f00e4b06160>"
      ]
     },
     "execution_count": 176,
     "metadata": {},
     "output_type": "execute_result"
    },
    {
     "data": {
      "image/png": "[encoded data removed]",
      "text/plain": [
       "<Figure size 432x288 with 1 Axes>"
      ]
     },
     "metadata": {
      "needs_background": "light"
     },
     "output_type": "display_data"
    }
   ],
   "source": [
    "# 딱 9칸짜리 ctxt라고 일단... 가정 \n",
    "nx = ny = 3\n",
    "img = np.arange(nx * ny).reshape(nx,ny)\n",
    "rotated = rotate_input2(img, (3,3))\n",
    "plt.imshow(np.stack(rotated))\n"
   ]
  },
  {
   "cell_type": "code",
   "execution_count": 188,
   "id": "0046ddd7",
   "metadata": {},
   "outputs": [],
   "source": [
    "kernel = np.arange(3,12).reshape(3,3)\n",
    "\n",
    "kernels = []\n",
    "\n",
    "fhw = int((f_w-1)/2)\n",
    "fhh = int((f_h-1)/2)\n",
    "\n",
    "npad = 1\n",
    "padded_kernel = pad(kernel, npad)\n",
    "\n",
    "for j in range(-fhh, fhh+1): # row\n",
    "    for i in range(-fhw, fhw+1): # column\n",
    "        #tmp = np.zeros((f_w, f_h))\n",
    "        kernels.append(padded_kernel[npad+j:npad+j+f_h,\n",
    "                                     npad+i:npad+i+f_w])\n",
    "        \n",
    "        #kernels.append()"
   ]
  },
  {
   "cell_type": "code",
   "execution_count": 190,
   "id": "0b53676e",
   "metadata": {},
   "outputs": [
    {
     "data": {
      "image/png": "[encoded data removed]",
      "text/plain": [
       "<Figure size 648x648 with 9 Axes>"
      ]
     },
     "metadata": {
      "needs_background": "light"
     },
     "output_type": "display_data"
    }
   ],
   "source": [
    "fig, axs = plt.subplots(3,3)\n",
    "fig.set_size_inches(9,9)\n",
    "axs = axs.ravel()\n",
    "for ax, kk in zip(axs, kernels):\n",
    "    annot_heatmap(ax, kk)"
   ]
  },
  {
   "cell_type": "markdown",
   "id": "0c1eba22",
   "metadata": {},
   "source": [
    "커널 준비 끝. "
   ]
  },
  {
   "cell_type": "code",
   "execution_count": 213,
   "id": "20ecfe88",
   "metadata": {},
   "outputs": [
    {
     "name": "stdout",
     "output_type": "stream",
     "text": [
      "[5 6 7 8 0 1 2 3 4]\n",
      "[0 0 0 0 3 4 0 6 7]\n",
      "[ 0  0  0  0  0  4  0 18 28]\n",
      "______________\n",
      "\n",
      "[6 7 8 0 1 2 3 4 5]\n",
      "[0 0 0 3 4 5 6 7 8]\n",
      "[ 0  0  0  0  4 14 18 46 68]\n",
      "______________\n",
      "\n",
      "[7 8 0 1 2 3 4 5 6]\n",
      "[0 0 0 4 5 0 7 8 0]\n",
      "[ 0  0  0  4 14 14 46 86 68]\n",
      "______________\n",
      "\n",
      "[8 0 1 2 3 4 5 6 7]\n",
      "[ 0  3  4  0  6  7  0  9 10]\n",
      "[  0   0   4   4  32  42  46 140 138]\n",
      "______________\n",
      "\n",
      "[0 1 2 3 4 5 6 7 8]\n",
      "[ 3  4  5  6  7  8  9 10 11]\n",
      "[  0   4  14  22  60  82 100 210 226]\n",
      "______________\n",
      "\n",
      "[1 2 3 4 5 6 7 8 0]\n",
      "[ 4  5  0  7  8  0 10 11  0]\n",
      "[  4  14  14  50 100  82 170 298 226]\n",
      "______________\n",
      "\n",
      "[2 3 4 5 6 7 8 0 1]\n",
      "[ 0  6  7  0  9 10  0  0  0]\n",
      "[  4  32  42  50 154 152 170 298 226]\n",
      "______________\n",
      "\n",
      "[3 4 5 6 7 8 0 1 2]\n",
      "[ 6  7  8  9 10 11  0  0  0]\n",
      "[ 22  60  82 104 224 240 170 298 226]\n",
      "______________\n",
      "\n",
      "[4 5 6 7 8 0 1 2 3]\n",
      "[ 7  8  0 10 11  0  0  0  0]\n",
      "[ 50 100  82 174 312 240 170 298 226]\n",
      "______________\n",
      "\n"
     ]
    }
   ],
   "source": [
    "new_img = np.zeros(nx*ny)\n",
    "for rot_img, shifted_kernel in zip(rotated, kernels):\n",
    "    new_img += rot_img * shifted_kernel.ravel()\n",
    "    print(rot_img)\n",
    "    print(shifted_kernel.ravel().astype(int))\n",
    "    print(new_img.astype(int))\n",
    "    print(\"______________\\n\")"
   ]
  },
  {
   "cell_type": "markdown",
   "id": "c1a57a29",
   "metadata": {},
   "source": [
    "원래 이미지에 돌아간 filter를 곱하고 each i 에 대해 sum하면 맞음. \n",
    "\n",
    "그러지 않으려고, 이미지를 돌리고 filter도 돌린 뒤에, element-wise sum을 하면...? "
   ]
  },
  {
   "cell_type": "code",
   "execution_count": 200,
   "id": "085a1503",
   "metadata": {},
   "outputs": [
    {
     "data": {
      "image/png": "[encoded data removed]",
      "text/plain": [
       "<Figure size 432x288 with 1 Axes>"
      ]
     },
     "metadata": {
      "needs_background": "light"
     },
     "output_type": "display_data"
    }
   ],
   "source": [
    "fig, ax = plt.subplots()\n",
    "\n",
    "annot_heatmap(ax, new_img.reshape(3,3))\n",
    "plt.show()"
   ]
  },
  {
   "cell_type": "code",
   "execution_count": 215,
   "id": "ee524902",
   "metadata": {},
   "outputs": [],
   "source": [
    "res_t = torch.conv2d(torch.tensor(img[np.newaxis, np.newaxis,:,:]), \n",
    "             torch.tensor(kernel[np.newaxis, np.newaxis,:,:]), padding=1)\n",
    "img_t = res_t.squeeze().numpy()"
   ]
  },
  {
   "cell_type": "code",
   "execution_count": 216,
   "id": "4786a913",
   "metadata": {},
   "outputs": [
    {
     "data": {
      "text/plain": [
       "array([[ 82, 145, 106],\n",
       "       [195, 312, 213],\n",
       "       [130, 199, 130]])"
      ]
     },
     "execution_count": 216,
     "metadata": {},
     "output_type": "execute_result"
    }
   ],
   "source": [
    "img_t.reshape(3,3)"
   ]
  },
  {
   "cell_type": "code",
   "execution_count": 202,
   "id": "19675795",
   "metadata": {},
   "outputs": [
    {
     "data": {
      "text/plain": [
       "array([[ 3,  4,  5],\n",
       "       [ 6,  7,  8],\n",
       "       [ 9, 10, 11]])"
      ]
     },
     "execution_count": 202,
     "metadata": {},
     "output_type": "execute_result"
    }
   ],
   "source": [
    "kernel"
   ]
  },
  {
   "cell_type": "code",
   "execution_count": 208,
   "id": "99099329",
   "metadata": {},
   "outputs": [
    {
     "data": {
      "text/plain": [
       "130"
      ]
     },
     "execution_count": 208,
     "metadata": {},
     "output_type": "execute_result"
    }
   ],
   "source": [
    "np.sum(np.array([4,5,7,8]) * np.array([3,4,6,7]))"
   ]
  },
  {
   "cell_type": "code",
   "execution_count": 16,
   "id": "2d99c9da",
   "metadata": {},
   "outputs": [],
   "source": [
    "import fase\n",
    "from fase.core import seal_ckks\n",
    "from fase.core.seal_ckks import SEALContext"
   ]
  },
  {
   "cell_type": "markdown",
   "id": "cb49f462",
   "metadata": {},
   "source": [
    "# Polynomial modulus \n",
    "\n",
    "어떻게 결정..?"
   ]
  },
  {
   "cell_type": "code",
   "execution_count": 17,
   "id": "48f93306",
   "metadata": {},
   "outputs": [
    {
     "name": "stdout",
     "output_type": "stream",
     "text": [
      "SEAL CKKS scheme is ready\n"
     ]
    }
   ],
   "source": [
    "poly_modulus_degree = 16384\n",
    "coeff_moduli = [37, 28, 28, 28, 28, 28, 28, 28, 28, 28, 28, 28, 28, 28, 37]\n",
    "\n",
    "#poly_modulus_degree = 2**12\n",
    "#coeff_moduli = [37] + [28] * (11) + [37]\n",
    "\n",
    "sec = SEALContext(poly_modulus_degree=poly_modulus_degree,\n",
    "                             coeff_moduli=coeff_moduli,\n",
    "                             scale_bit=28)"
   ]
  },
  {
   "cell_type": "markdown",
   "id": "353a51e8",
   "metadata": {},
   "source": [
    "- Image is encrypted and fits in a ciphertext \n",
    "- convolution kernel is in plaintext\n",
    "\n",
    "It's Enc_A * x, **not** W * Enc_x as in a FC layer."
   ]
  },
  {
   "cell_type": "code",
   "execution_count": 54,
   "id": "22349b56",
   "metadata": {},
   "outputs": [
    {
     "ename": "NameError",
     "evalue": "name 'nx_i' is not defined",
     "output_type": "error",
     "traceback": [
      "\u001b[0;31m---------------------------------------------------------------------------\u001b[0m",
      "\u001b[0;31mNameError\u001b[0m                                 Traceback (most recent call last)",
      "\u001b[0;32m/tmp/ipykernel_4432/3704693037.py\u001b[0m in \u001b[0;36m<module>\u001b[0;34m\u001b[0m\n\u001b[1;32m      6\u001b[0m \u001b[0;32melif\u001b[0m \u001b[0mpadding\u001b[0m \u001b[0;34m==\u001b[0m \u001b[0;34m\"same\"\u001b[0m\u001b[0;34m:\u001b[0m\u001b[0;34m\u001b[0m\u001b[0;34m\u001b[0m\u001b[0m\n\u001b[1;32m      7\u001b[0m     \u001b[0;31m# pad so that the output shape doesn't change if not for stride\u001b[0m\u001b[0;34m\u001b[0m\u001b[0;34m\u001b[0m\u001b[0m\n\u001b[0;32m----> 8\u001b[0;31m     \u001b[0mnx_o\u001b[0m \u001b[0;34m=\u001b[0m \u001b[0mnx_i\u001b[0m\u001b[0;34m/\u001b[0m\u001b[0ms_w\u001b[0m\u001b[0;34m\u001b[0m\u001b[0;34m\u001b[0m\u001b[0m\n\u001b[0m\u001b[1;32m      9\u001b[0m     \u001b[0mny_o\u001b[0m \u001b[0;34m=\u001b[0m \u001b[0mny_i\u001b[0m\u001b[0;34m/\u001b[0m\u001b[0ms_h\u001b[0m\u001b[0;34m\u001b[0m\u001b[0;34m\u001b[0m\u001b[0m\n\u001b[1;32m     10\u001b[0m \u001b[0;34m\u001b[0m\u001b[0m\n",
      "\u001b[0;31mNameError\u001b[0m: name 'nx_i' is not defined"
     ]
    }
   ],
   "source": [
    "padding = 'same'\n",
    "if padding == \"valid\":\n",
    "    # Use only valid pixels without padding\n",
    "    nx_o = (nx_i - f_w + 1)/s_w\n",
    "    ny_o = (ny_i - f_h + 1)/s_h\n",
    "elif padding == \"same\":\n",
    "    # pad so that the output shape doesn't change if not for stride\n",
    "    nx_o = nx_i/s_w\n",
    "    ny_o = ny_i/s_h\n",
    "    \n",
    "nx_o = int(np.floor(nx_o))\n",
    "ny_o = int(np.floor(ny_o))"
   ]
  },
  {
   "cell_type": "markdown",
   "id": "c5c4ee5b",
   "metadata": {},
   "source": [
    "- Kernel이 아니라 Input image가 encrypt되어야 하니까.. encrypt된 걸 rotate 해야함. \n",
    "- multByConst에서 0을 곱할 수는 없음. (resulting ciphertext is transparent  error 발생). 0 이면 그냥 무시. \n",
    "- 1이어도 곱하기가 필요 없겠지만 scale을 따로 관리해줘야하는 불편함이 있는 반명 CNN filter가 정확히 1이 될 경우가 거의 없을 것라 속도 향상이 작을 것으로 보로 따로 체크하지 않음. \n"
   ]
  },
  {
   "cell_type": "markdown",
   "id": "6a8d0eaa",
   "metadata": {},
   "source": [
    "### rotate 전에 encrypt\n",
    "\n",
    "문제: img pixel보다 더 많은 slot이 있기 때문에, 뒤쪽 슬롯은 전부 0임. rotate하면 0들이 앞쪽 슬롯으로 들어감.   \n",
    "해결: 단순 무식한 방법-- 이미지를 두번 반복해두고 시작하기 -- 반드시 left rotate만 있어야함!  \n",
    "     아니면 더 무식하게 앞, 뒤로 반복해두고 시작..\n",
    "\n",
    "근데 이렇게 하면 두번째 convolution을 어쩌려고...? mask 씌워서 한번 걸러내면 되긴 함. "
   ]
  },
  {
   "cell_type": "code",
   "execution_count": 15,
   "id": "1a344f4e",
   "metadata": {},
   "outputs": [
    {
     "ename": "NameError",
     "evalue": "name 'sec' is not defined",
     "output_type": "error",
     "traceback": [
      "\u001b[0;31m---------------------------------------------------------------------------\u001b[0m",
      "\u001b[0;31mNameError\u001b[0m                                 Traceback (most recent call last)",
      "\u001b[0;32m/tmp/ipykernel_3540/53779228.py\u001b[0m in \u001b[0;36m<module>\u001b[0;34m\u001b[0m\n\u001b[0;32m----> 1\u001b[0;31m \u001b[0mimg_enc\u001b[0m \u001b[0;34m=\u001b[0m \u001b[0msec\u001b[0m\u001b[0;34m.\u001b[0m\u001b[0mencrypt\u001b[0m\u001b[0;34m(\u001b[0m\u001b[0mimg\u001b[0m\u001b[0;34m.\u001b[0m\u001b[0mravel\u001b[0m\u001b[0;34m(\u001b[0m\u001b[0;34m)\u001b[0m\u001b[0;34m)\u001b[0m\u001b[0;34m\u001b[0m\u001b[0;34m\u001b[0m\u001b[0m\n\u001b[0m\u001b[1;32m      2\u001b[0m \u001b[0mimg_aug\u001b[0m \u001b[0;34m=\u001b[0m \u001b[0msec\u001b[0m\u001b[0;34m.\u001b[0m\u001b[0madd\u001b[0m\u001b[0;34m(\u001b[0m\u001b[0mimg_enc\u001b[0m\u001b[0;34m,\u001b[0m \u001b[0msec\u001b[0m\u001b[0;34m.\u001b[0m\u001b[0m_evaluator\u001b[0m\u001b[0;34m.\u001b[0m\u001b[0mrotate_vector\u001b[0m\u001b[0;34m(\u001b[0m\u001b[0mimg_enc\u001b[0m\u001b[0;34m,\u001b[0m \u001b[0;34m-\u001b[0m\u001b[0mnx\u001b[0m\u001b[0;34m*\u001b[0m\u001b[0mny\u001b[0m\u001b[0;34m,\u001b[0m \u001b[0msec\u001b[0m\u001b[0;34m.\u001b[0m\u001b[0mgalois_keys\u001b[0m\u001b[0;34m)\u001b[0m\u001b[0;34m)\u001b[0m\u001b[0;34m\u001b[0m\u001b[0;34m\u001b[0m\u001b[0m\n\u001b[1;32m      3\u001b[0m \u001b[0msec\u001b[0m\u001b[0;34m.\u001b[0m\u001b[0madd\u001b[0m\u001b[0;34m(\u001b[0m\u001b[0mimg_aug\u001b[0m\u001b[0;34m,\u001b[0m \u001b[0msec\u001b[0m\u001b[0;34m.\u001b[0m\u001b[0m_evaluator\u001b[0m\u001b[0;34m.\u001b[0m\u001b[0mrotate_vector\u001b[0m\u001b[0;34m(\u001b[0m\u001b[0mimg_enc\u001b[0m\u001b[0;34m,\u001b[0m \u001b[0mnx\u001b[0m\u001b[0;34m*\u001b[0m\u001b[0mny\u001b[0m\u001b[0;34m,\u001b[0m \u001b[0msec\u001b[0m\u001b[0;34m.\u001b[0m\u001b[0mgalois_keys\u001b[0m\u001b[0;34m)\u001b[0m\u001b[0;34m,\u001b[0m \u001b[0minplace\u001b[0m\u001b[0;34m=\u001b[0m\u001b[0;32mTrue\u001b[0m\u001b[0;34m)\u001b[0m\u001b[0;34m\u001b[0m\u001b[0;34m\u001b[0m\u001b[0m\n",
      "\u001b[0;31mNameError\u001b[0m: name 'sec' is not defined"
     ]
    }
   ],
   "source": [
    "img_enc = sec.encrypt(img.ravel())\n",
    "img_aug = sec.add(img_enc, sec._evaluator.rotate_vector(img_enc, -nx*ny, sec.galois_keys))\n",
    "sec.add(img_aug, sec._evaluator.rotate_vector(img_enc, nx*ny, sec.galois_keys), inplace=True)"
   ]
  },
  {
   "cell_type": "code",
   "execution_count": 109,
   "id": "4fdaf127",
   "metadata": {},
   "outputs": [],
   "source": [
    "tmp = sec.decrypt(img_aug)\n",
    "\n",
    "plt.plot(tmp)"
   ]
  },
  {
   "cell_type": "code",
   "execution_count": 72,
   "id": "00f826b6",
   "metadata": {},
   "outputs": [],
   "source": [
    "# rotate\n",
    "\n",
    "rotated_ctxt= []\n",
    "for i in range(f_w):\n",
    "    for j in range(f_h):\n",
    "        rotated_ctxt.append(sec._evaluator.rotate_vector(img_aug, (i-1)*nx + (j-1), sec.galois_keys))\n",
    "        #print((i-1)*nx + (j-1))"
   ]
  },
  {
   "cell_type": "code",
   "execution_count": 88,
   "id": "9110b516",
   "metadata": {},
   "outputs": [],
   "source": [
    "rkernel = kernel.ravel()\n",
    "    \n",
    "out_fhe = None\n",
    "for i, rr in enumerate(rotated_ctxt):\n",
    "    if rkernel[i] == 0:\n",
    "        continue\n",
    "    if out_fhe is None:\n",
    "        out_fhe = sec.multByConst(rr, rkernel[i], broadcast=True)\n",
    "    else:\n",
    "        dec = sec.decrypt(rr)\n",
    "        plain = np.rint(dec[:nx*ny]).astype(int)\n",
    "\n",
    "        sec.add(out_fhe, sec.multByConst(rr, rkernel[i], broadcast=True), inplace=True)\n",
    "        out_p += plain * rkernel[i]"
   ]
  },
  {
   "cell_type": "code",
   "execution_count": 90,
   "id": "0c1c3f6d",
   "metadata": {},
   "outputs": [
    {
     "data": {
      "image/png": "[encoded data removed]",
      "text/plain": [
       "<Figure size 432x288 with 6 Axes>"
      ]
     },
     "metadata": {
      "needs_background": "light"
     },
     "output_type": "display_data"
    }
   ],
   "source": [
    "dec = np.rint(sec.decrypt(out_fhe)).astype(int)\n",
    "\n",
    "res_fhe = dec[:nx*ny].reshape(nx,ny)\n",
    "\n",
    "fig, axs = plt.subplots(2,3)\n",
    "axs = axs.ravel()\n",
    "\n",
    "axs[0].imshow(img)\n",
    "axs[1].imshow(res_sc)\n",
    "axs[2].imshow(out_p.reshape(nx, ny))\n",
    "axs[3].imshow(out_mat.reshape(nx, ny))\n",
    "axs[4].imshow(res_fhe)\n",
    "\n",
    "\n",
    "axs[0].set_title(\"org\")\n",
    "axs[1].set_title(\"scipy\")\n",
    "axs[2].set_title(\"loop\")\n",
    "axs[3].set_title(\"mat_mult\")\n",
    "axs[4].set_title(\"FHE\")\n",
    "\n",
    "\n",
    "plt.tight_layout()\n",
    "plt.show()"
   ]
  },
  {
   "cell_type": "markdown",
   "id": "abebaa8c",
   "metadata": {},
   "source": [
    "일단 돌아감... \n",
    "\n",
    "### convolution 결과 ctxt 모양"
   ]
  },
  {
   "cell_type": "code",
   "execution_count": 116,
   "id": "c160d3ff",
   "metadata": {},
   "outputs": [
    {
     "data": {
      "text/plain": [
       "[<matplotlib.lines.Line2D at 0x7f49701d7940>]"
      ]
     },
     "execution_count": 116,
     "metadata": {},
     "output_type": "execute_result"
    },
    {
     "data": {
      "image/png": "[encoded data removed]",
      "text/plain": [
       "<Figure size 432x288 with 1 Axes>"
      ]
     },
     "metadata": {
      "needs_background": "light"
     },
     "output_type": "display_data"
    }
   ],
   "source": [
    "plt.plot(dec)"
   ]
  },
  {
   "cell_type": "markdown",
   "id": "33f61b48",
   "metadata": {},
   "source": [
    "#### 함수로"
   ]
  },
  {
   "cell_type": "code",
   "execution_count": 118,
   "id": "fc1e2b36",
   "metadata": {},
   "outputs": [],
   "source": [
    "def aug_ctxt(ctxt):\n",
    "    ctxt_aug = sec.add(ctxt, sec._evaluator.rotate_vector(ctxt, -nx*ny, sec.galois_keys))\n",
    "    sec.add(ctxt_aug, sec._evaluator.rotate_vector(ctxt, nx*ny, sec.galois_keys), inplace=True)\n",
    "    return ctxt_aug"
   ]
  },
  {
   "cell_type": "code",
   "execution_count": 119,
   "id": "48be2938",
   "metadata": {},
   "outputs": [],
   "source": [
    "def rotate_for_conv(ctxt):\n",
    "    rotated_ctxt = []\n",
    "    for i in range(f_w):\n",
    "        for j in range(f_h):\n",
    "            rotated_ctxt.append(sec._evaluator.rotate_vector(ctxt, (i-1)*nx + (j-1), sec.galois_keys))\n",
    "    return rotated_ctxt"
   ]
  },
  {
   "cell_type": "code",
   "execution_count": 123,
   "id": "ebf9b214",
   "metadata": {},
   "outputs": [],
   "source": [
    "def convolve_fhe(rotated_ctxt, kernel):\n",
    "    rkernel = kernel.ravel()\n",
    "    for i, rr in enumerate(rotated_ctxt):\n",
    "#        dec = sec.decrypt(rr)\n",
    "#        plain = np.rint(dec[:nx*ny]).astype(int)\n",
    "\n",
    "        if i == 0:\n",
    "            out_fhe = sec.multByConst(rr, rkernel[i], broadcast=True)\n",
    "#            out_p = plain * rkernel[i]\n",
    "        else:\n",
    "            if rkernel[i] != 0:\n",
    "                sec.add(out_fhe, sec.multByConst(rr, rkernel[i], broadcast=True), inplace=True)\n",
    "#            out_p += plain * rkernel[i]\n",
    "    return out_fhe"
   ]
  },
  {
   "cell_type": "code",
   "execution_count": 129,
   "id": "0b0d14a0",
   "metadata": {},
   "outputs": [],
   "source": [
    "def conv_fhe(img_enc, kernel):\n",
    "    img_aug = aug_ctxt(img_enc)\n",
    "    rotated_ctxt = rotate_for_conv(img_aug)\n",
    "    result = convolve_fhe(rotated_ctxt, kernel)\n",
    "\n",
    "    return result"
   ]
  },
  {
   "cell_type": "code",
   "execution_count": 133,
   "id": "c231886d",
   "metadata": {},
   "outputs": [],
   "source": [
    "img_enc = sec.encrypt(img.ravel())\n",
    "    \n",
    "out_fhe_fun = conv_fhe(img_enc, kernel)"
   ]
  },
  {
   "cell_type": "code",
   "execution_count": 134,
   "id": "8b23f140",
   "metadata": {},
   "outputs": [
    {
     "data": {
      "text/plain": [
       "[<matplotlib.lines.Line2D at 0x7f49701bf280>]"
      ]
     },
     "execution_count": 134,
     "metadata": {},
     "output_type": "execute_result"
    },
    {
     "data": {
      "image/png": "[encoded data removed]",
      "text/plain": [
       "<Figure size 432x288 with 1 Axes>"
      ]
     },
     "metadata": {
      "needs_background": "light"
     },
     "output_type": "display_data"
    }
   ],
   "source": [
    "dec = np.rint(sec.decrypt(out_fhe_fun)).astype(int)\n",
    "\n",
    "plt.plot(dec)"
   ]
  },
  {
   "cell_type": "markdown",
   "id": "e474716f",
   "metadata": {},
   "source": [
    "## CNN 모델\n",
    "\n",
    "        self.conv1 = nn.Conv2d(3, 32, 3, padding=1) # padding = 0\n",
    "        #self.bn1 = nn.BatchNorm2d(8)\n",
    "        self.pool1 = nn.AvgPool2d(2, 2)\n",
    "        self.conv2 = nn.Conv2d(32, 64, 3, padding=1)\n",
    "        self.pool2 = nn.AvgPool2d(2, 2)\n",
    "        \n",
    "        \n",
    "### 1. multi-channel\n",
    "### 2. padding\n",
    "### 3. stridding (== avg pool)"
   ]
  },
  {
   "cell_type": "code",
   "execution_count": null,
   "id": "e89b1a95",
   "metadata": {},
   "outputs": [],
   "source": []
  },
  {
   "cell_type": "markdown",
   "id": "8901d8b6",
   "metadata": {},
   "source": [
    "JoonWoo-Lee 2021"
   ]
  },
  {
   "cell_type": "code",
   "execution_count": null,
   "id": "cba519f6",
   "metadata": {},
   "outputs": [],
   "source": []
  },
  {
   "cell_type": "markdown",
   "id": "db1a6c38",
   "metadata": {},
   "source": [
    "### packed SISO"
   ]
  },
  {
   "cell_type": "code",
   "execution_count": null,
   "id": "c7cdd529",
   "metadata": {},
   "outputs": [],
   "source": []
  },
  {
   "cell_type": "code",
   "execution_count": null,
   "id": "a882daa9",
   "metadata": {},
   "outputs": [],
   "source": []
  },
  {
   "cell_type": "code",
   "execution_count": null,
   "id": "29e79a28",
   "metadata": {},
   "outputs": [],
   "source": []
  },
  {
   "cell_type": "markdown",
   "id": "ec4e1747",
   "metadata": {},
   "source": [
    "### multi-channel\n",
    "\n",
    "GAZELLE은 channel packing을 어떻게 했는가?"
   ]
  },
  {
   "cell_type": "code",
   "execution_count": null,
   "id": "f4420cd1",
   "metadata": {},
   "outputs": [],
   "source": []
  },
  {
   "cell_type": "code",
   "execution_count": null,
   "id": "c848ce2b",
   "metadata": {},
   "outputs": [],
   "source": []
  },
  {
   "cell_type": "code",
   "execution_count": null,
   "id": "7c76120b",
   "metadata": {},
   "outputs": [],
   "source": []
  },
  {
   "cell_type": "code",
   "execution_count": null,
   "id": "48b10bcd",
   "metadata": {},
   "outputs": [],
   "source": []
  },
  {
   "cell_type": "code",
   "execution_count": null,
   "id": "8c903b38",
   "metadata": {},
   "outputs": [],
   "source": []
  },
  {
   "cell_type": "code",
   "execution_count": null,
   "id": "a8d00dee",
   "metadata": {},
   "outputs": [],
   "source": []
  },
  {
   "cell_type": "code",
   "execution_count": 121,
   "id": "4a324028",
   "metadata": {},
   "outputs": [],
   "source": [
    "from fase.core import matrix_seal"
   ]
  },
  {
   "cell_type": "code",
   "execution_count": 118,
   "id": "b6438e40",
   "metadata": {},
   "outputs": [],
   "source": [
    "import importlib"
   ]
  },
  {
   "cell_type": "code",
   "execution_count": 123,
   "id": "676488c8",
   "metadata": {},
   "outputs": [
    {
     "data": {
      "text/plain": [
       "<module 'fase.core.matrix_seal' from '/home/hoseung/Work/fhe-ai-sw-etri/fase/core/matrix_seal.py'>"
      ]
     },
     "execution_count": 123,
     "metadata": {},
     "output_type": "execute_result"
    }
   ],
   "source": [
    "importlib.reload(matrix_seal)"
   ]
  },
  {
   "cell_type": "code",
   "execution_count": 125,
   "id": "f5789941",
   "metadata": {},
   "outputs": [],
   "source": [
    "mm = matrix_seal.Seal_matmult(sec)"
   ]
  },
  {
   "cell_type": "code",
   "execution_count": null,
   "id": "25d82d39",
   "metadata": {},
   "outputs": [],
   "source": [
    "mm()"
   ]
  },
  {
   "cell_type": "markdown",
   "id": "40cc6d55",
   "metadata": {},
   "source": [
    "imag를 rotate해놨는데, kernel을 또 rotate하면서 곱한다?? "
   ]
  },
  {
   "cell_type": "code",
   "execution_count": 126,
   "id": "063113bd",
   "metadata": {},
   "outputs": [],
   "source": [
    "from fase import seal"
   ]
  },
  {
   "cell_type": "code",
   "execution_count": 128,
   "id": "301d1cad",
   "metadata": {},
   "outputs": [],
   "source": [
    "from typing import List\n",
    "def matrix_multiply_diagonals(diagonals: List[seal.Plaintext], ctx: seal.Ciphertext,\n",
    "                              evaluator: seal.Evaluator, galois_keys: seal.GaloisKeys):\n",
    "    output = seal.Ciphertext()\n",
    "\n",
    "    for i in range(len(diagonals)):\n",
    "\n",
    "        temp = seal.Ciphertext()\n",
    "        diagonal = diagonals[i]\n",
    "\n",
    "        temp = evaluator.rotate_vector(ctx, i, galois_keys)\n",
    "\n",
    "        evaluator.mod_switch_to_inplace(diagonal, temp.parms_id())\n",
    "        evaluator.multiply_plain_inplace(temp, diagonal)\n",
    "        evaluator.rescale_to_next_inplace(temp)\n",
    "\n",
    "        if i == 0:\n",
    "            output = temp\n",
    "        else:\n",
    "            evaluator.add_inplace(output, temp)\n",
    "\n",
    "    return output\n"
   ]
  },
  {
   "cell_type": "code",
   "execution_count": null,
   "id": "9293bf53",
   "metadata": {},
   "outputs": [],
   "source": [
    "tmp = seal.Ciphertext()\n",
    "\n",
    "for img in rotated_ctxt:\n",
    "    "
   ]
  },
  {
   "cell_type": "code",
   "execution_count": null,
   "id": "9d366012",
   "metadata": {},
   "outputs": [],
   "source": [
    "smat = Seal_matmult(sec)  "
   ]
  },
  {
   "cell_type": "code",
   "execution_count": null,
   "id": "1cc30413",
   "metadata": {},
   "outputs": [],
   "source": []
  },
  {
   "cell_type": "code",
   "execution_count": null,
   "id": "af9dfd7b",
   "metadata": {},
   "outputs": [],
   "source": []
  },
  {
   "cell_type": "code",
   "execution_count": null,
   "id": "7f8d3d54",
   "metadata": {},
   "outputs": [],
   "source": []
  },
  {
   "cell_type": "code",
   "execution_count": null,
   "id": "d0cb626b",
   "metadata": {},
   "outputs": [],
   "source": []
  },
  {
   "cell_type": "markdown",
   "id": "d48e2312",
   "metadata": {},
   "source": [
    "# FHE version"
   ]
  },
  {
   "cell_type": "code",
   "execution_count": 6,
   "id": "72d60e54",
   "metadata": {},
   "outputs": [
    {
     "data": {
      "text/plain": [
       "array([ 1,  0, -1,  2,  0, -2,  1,  0, -1,  0,  0,  0,  0,  0,  0,  0,  0,\n",
       "        0,  0,  0,  0,  0,  0,  0,  0])"
      ]
     },
     "execution_count": 6,
     "metadata": {},
     "output_type": "execute_result"
    }
   ],
   "source": [
    "kernel_he = np.zeros(5*5, dtype=int)\n",
    "kernel_he[:f_w*f_h] = kernel.ravel()\n",
    "\n",
    "kernel_he"
   ]
  },
  {
   "cell_type": "code",
   "execution_count": 7,
   "id": "be09461d",
   "metadata": {},
   "outputs": [
    {
     "ename": "ValueError",
     "evalue": "could not broadcast input array from shape (6,) into shape (9,)",
     "output_type": "error",
     "traceback": [
      "\u001b[0;31m---------------------------------------------------------------------------\u001b[0m",
      "\u001b[0;31mValueError\u001b[0m                                Traceback (most recent call last)",
      "\u001b[0;32m/tmp/ipykernel_7987/2417861623.py\u001b[0m in \u001b[0;36m<module>\u001b[0;34m\u001b[0m\n\u001b[1;32m      8\u001b[0m     \u001b[0;32mfor\u001b[0m \u001b[0mj\u001b[0m \u001b[0;32min\u001b[0m \u001b[0mrange\u001b[0m\u001b[0;34m(\u001b[0m\u001b[0mwy_h\u001b[0m\u001b[0;34m,\u001b[0m \u001b[0mny\u001b[0m\u001b[0;34m-\u001b[0m\u001b[0mwy_h\u001b[0m\u001b[0;34m+\u001b[0m\u001b[0;36m1\u001b[0m\u001b[0;34m)\u001b[0m\u001b[0;34m:\u001b[0m\u001b[0;34m\u001b[0m\u001b[0;34m\u001b[0m\u001b[0m\n\u001b[1;32m      9\u001b[0m         \u001b[0mtmp\u001b[0m\u001b[0;34m[\u001b[0m\u001b[0;34m:\u001b[0m\u001b[0;34m]\u001b[0m \u001b[0;34m=\u001b[0m \u001b[0;36m0\u001b[0m\u001b[0;34m\u001b[0m\u001b[0;34m\u001b[0m\u001b[0m\n\u001b[0;32m---> 10\u001b[0;31m         \u001b[0mtmp\u001b[0m\u001b[0;34m[\u001b[0m\u001b[0;34m:\u001b[0m\u001b[0mf_w\u001b[0m\u001b[0;34m*\u001b[0m\u001b[0mf_h\u001b[0m\u001b[0;34m]\u001b[0m \u001b[0;34m=\u001b[0m \u001b[0mimg\u001b[0m\u001b[0;34m[\u001b[0m\u001b[0mi\u001b[0m\u001b[0;34m-\u001b[0m\u001b[0;36m1\u001b[0m\u001b[0;34m:\u001b[0m\u001b[0mi\u001b[0m\u001b[0;34m+\u001b[0m\u001b[0;36m2\u001b[0m\u001b[0;34m,\u001b[0m\u001b[0mj\u001b[0m\u001b[0;34m-\u001b[0m\u001b[0;36m1\u001b[0m\u001b[0;34m:\u001b[0m\u001b[0mj\u001b[0m\u001b[0;34m+\u001b[0m\u001b[0;36m2\u001b[0m\u001b[0;34m]\u001b[0m\u001b[0;34m.\u001b[0m\u001b[0mravel\u001b[0m\u001b[0;34m(\u001b[0m\u001b[0;34m)\u001b[0m\u001b[0;34m\u001b[0m\u001b[0;34m\u001b[0m\u001b[0m\n\u001b[0m\u001b[1;32m     11\u001b[0m         \u001b[0mconv_repr_img\u001b[0m\u001b[0;34m.\u001b[0m\u001b[0mappend\u001b[0m\u001b[0;34m(\u001b[0m\u001b[0mtmp\u001b[0m\u001b[0;34m)\u001b[0m\u001b[0;34m\u001b[0m\u001b[0;34m\u001b[0m\u001b[0m\n",
      "\u001b[0;31mValueError\u001b[0m: could not broadcast input array from shape (6,) into shape (9,)"
     ]
    }
   ],
   "source": [
    "conv_repr_img = []\n",
    "\n",
    "wx_h = f_w//2\n",
    "wy_h = f_h//2\n",
    "\n",
    "tmp = np.zeros(nx*ny, dtype=int)\n",
    "for i in range(wx_h,nx-wx_h+1):\n",
    "    for j in range(wy_h, ny-wy_h+1):\n",
    "        tmp[:] = 0 \n",
    "        tmp[:f_w*f_h] = img[i-1:i+2,j-1:j+2].ravel()\n",
    "        conv_repr_img.append(tmp)"
   ]
  },
  {
   "cell_type": "code",
   "execution_count": 90,
   "id": "b4fd08a1",
   "metadata": {},
   "outputs": [
    {
     "data": {
      "text/plain": [
       "[array([ 0,  1,  2,  5,  6,  7, 10, 11, 12,  0,  0,  0,  0,  0,  0,  0,  0,\n",
       "         0,  0,  0,  0,  0,  0,  0,  0]),\n",
       " array([ 1,  2,  3,  6,  7,  8, 11, 12, 13,  0,  0,  0,  0,  0,  0,  0,  0,\n",
       "         0,  0,  0,  0,  0,  0,  0,  0]),\n",
       " array([ 2,  3,  4,  7,  8,  9, 12, 13, 14,  0,  0,  0,  0,  0,  0,  0,  0,\n",
       "         0,  0,  0,  0,  0,  0,  0,  0]),\n",
       " array([ 5,  6,  7, 10, 11, 12, 15, 16, 17,  0,  0,  0,  0,  0,  0,  0,  0,\n",
       "         0,  0,  0,  0,  0,  0,  0,  0]),\n",
       " array([ 6,  7,  8, 11, 12, 13, 16, 17, 18,  0,  0,  0,  0,  0,  0,  0,  0,\n",
       "         0,  0,  0,  0,  0,  0,  0,  0]),\n",
       " array([ 7,  8,  9, 12, 13, 14, 17, 18, 19,  0,  0,  0,  0,  0,  0,  0,  0,\n",
       "         0,  0,  0,  0,  0,  0,  0,  0]),\n",
       " array([10, 11, 12, 15, 16, 17, 20, 21, 22,  0,  0,  0,  0,  0,  0,  0,  0,\n",
       "         0,  0,  0,  0,  0,  0,  0,  0]),\n",
       " array([11, 12, 13, 16, 17, 18, 21, 22, 23,  0,  0,  0,  0,  0,  0,  0,  0,\n",
       "         0,  0,  0,  0,  0,  0,  0,  0]),\n",
       " array([12, 13, 14, 17, 18, 19, 22, 23, 24,  0,  0,  0,  0,  0,  0,  0,  0,\n",
       "         0,  0,  0,  0,  0,  0,  0,  0])]"
      ]
     },
     "execution_count": 90,
     "metadata": {},
     "output_type": "execute_result"
    }
   ],
   "source": [
    "conv_repr_img"
   ]
  },
  {
   "cell_type": "code",
   "execution_count": 31,
   "id": "cd9f1afb",
   "metadata": {},
   "outputs": [],
   "source": [
    "w_mat = np.stack(conv_repr_img).T"
   ]
  },
  {
   "cell_type": "code",
   "execution_count": 32,
   "id": "f9c30cc3",
   "metadata": {},
   "outputs": [
    {
     "name": "stdout",
     "output_type": "stream",
     "text": [
      "(1024, 30) [ 1  0 -1  2  0 -2  1  0 -1]\n"
     ]
    }
   ],
   "source": [
    "print(w_mat.shape, kernel.ravel())"
   ]
  },
  {
   "cell_type": "code",
   "execution_count": 33,
   "id": "6e63b2a7",
   "metadata": {},
   "outputs": [
    {
     "ename": "ValueError",
     "evalue": "matmul: Input operand 1 has a mismatch in its core dimension 0, with gufunc signature (n?,k),(k,m?)->(n?,m?) (size 9 is different from 30)",
     "output_type": "error",
     "traceback": [
      "\u001b[0;31m---------------------------------------------------------------------------\u001b[0m",
      "\u001b[0;31mValueError\u001b[0m                                Traceback (most recent call last)",
      "\u001b[0;32m/tmp/ipykernel_4446/1517356332.py\u001b[0m in \u001b[0;36m<module>\u001b[0;34m\u001b[0m\n\u001b[0;32m----> 1\u001b[0;31m \u001b[0mres_he\u001b[0m \u001b[0;34m=\u001b[0m \u001b[0mnp\u001b[0m\u001b[0;34m.\u001b[0m\u001b[0mmatmul\u001b[0m\u001b[0;34m(\u001b[0m\u001b[0mw_mat\u001b[0m\u001b[0;34m,\u001b[0m \u001b[0mkernel\u001b[0m\u001b[0;34m.\u001b[0m\u001b[0mravel\u001b[0m\u001b[0;34m(\u001b[0m\u001b[0;34m)\u001b[0m\u001b[0;34m)\u001b[0m\u001b[0;34m\u001b[0m\u001b[0;34m\u001b[0m\u001b[0m\n\u001b[0m\u001b[1;32m      2\u001b[0m \u001b[0;34m\u001b[0m\u001b[0m\n\u001b[1;32m      3\u001b[0m \u001b[0mres_he\u001b[0m\u001b[0;34m\u001b[0m\u001b[0;34m\u001b[0m\u001b[0m\n",
      "\u001b[0;31mValueError\u001b[0m: matmul: Input operand 1 has a mismatch in its core dimension 0, with gufunc signature (n?,k),(k,m?)->(n?,m?) (size 9 is different from 30)"
     ]
    }
   ],
   "source": [
    "res_he = np.matmul(w_mat, kernel.ravel())\n",
    "\n",
    "res_he"
   ]
  }
 ],
 "metadata": {
  "kernelspec": {
   "display_name": "Python 3 (ipykernel)",
   "language": "python",
   "name": "python3"
  },
  "language_info": {
   "codemirror_mode": {
    "name": "ipython",
    "version": 3
   },
   "file_extension": ".py",
   "mimetype": "text/x-python",
   "name": "python",
   "nbconvert_exporter": "python",
   "pygments_lexer": "ipython3",
   "version": "3.9.7"
  }
 },
 "nbformat": 4,
 "nbformat_minor": 5
}
