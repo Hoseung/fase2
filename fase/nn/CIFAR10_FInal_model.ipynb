{
 "cells": [
  {
   "cell_type": "markdown",
   "id": "5b8c9bf4",
   "metadata": {},
   "source": [
    "### ctxt Packing\n",
    "Joonwoo Lee et al 2021 paces a channel of an image in a ctxt, \n",
    "using only 1024 slots out of 16384. (sparse packing)\n",
    "\n",
    "### AvgPool\n",
    "마지막에 AvgPool 하나와 FC가 하나 있음. 8x8 이미지를 8x8 kernel로 AvgPool해서 1 x 64-channel 이 됨. \n",
    "그 다음에 64개의 ctxt가 하나의 ctxt로 합쳐짐.  -- 어떻게 잘 합칠까? \n",
    "\n",
    "### Softmax\n",
    "Approximate softmax는 계산량이 상당히 많음. \n",
    "그러다고 softmax 없이 training을 할 수는 없음 (argmax는 differentiable하지 않으므로)\n",
    "1. softmax로 훈련한 뒤에 argmax로 교체해서 evaluate하거나 \n",
    "2.그 전에 decrypt해서 plain text에 softmax 계산하거나\n"
   ]
  },
  {
   "cell_type": "code",
   "execution_count": 1,
   "id": "b95de931",
   "metadata": {},
   "outputs": [],
   "source": [
    "%load_ext autoreload\n",
    "%autoreload 2"
   ]
  },
  {
   "cell_type": "code",
   "execution_count": 2,
   "id": "e4d12902",
   "metadata": {},
   "outputs": [
    {
     "name": "stdout",
     "output_type": "stream",
     "text": [
      "CUDA is available!  Training on GPU ...\n"
     ]
    }
   ],
   "source": [
    "import matplotlib.pyplot as plt \n",
    "import torch\n",
    "import numpy as np\n",
    "from torchvision import datasets\n",
    "import torchvision.transforms as transforms\n",
    "from torch.utils.data.sampler import SubsetRandomSampler\n",
    "from torch import nn\n",
    "import torch.nn.functional as F\n",
    "\n",
    "# check if CUDA is available\n",
    "train_on_gpu = torch.cuda.is_available()\n",
    "\n",
    "if not train_on_gpu:\n",
    "    print('CUDA is not available.  Training on CPU ...')\n",
    "    device = \"cpu\"\n",
    "else:\n",
    "    print('CUDA is available!  Training on GPU ...')\n",
    "    device = \"cuda\""
   ]
  },
  {
   "cell_type": "markdown",
   "id": "6d269571",
   "metadata": {},
   "source": [
    "Prepare Train / test data sets"
   ]
  },
  {
   "cell_type": "code",
   "execution_count": 3,
   "id": "6db2eedd",
   "metadata": {
    "scrolled": false
   },
   "outputs": [
    {
     "name": "stdout",
     "output_type": "stream",
     "text": [
      "Files already downloaded and verified\n",
      "Files already downloaded and verified\n"
     ]
    }
   ],
   "source": [
    "num_workers = 0\n",
    "batch_size = 32\n",
    "valid_size = 0.2\n",
    "\n",
    "\n",
    "## Scale \n",
    "transform = transforms.Compose([\n",
    "     transforms.ToTensor(),\n",
    "     transforms.Normalize((0.5, 0.5, 0.5), (2.5, 2.5, 2.5))\n",
    "     ])\n",
    "\n",
    "train_data = datasets.CIFAR10('data', train=True,\n",
    "                              download=True,\n",
    "                              transform=transform\n",
    "                             )\n",
    "test_data = datasets.CIFAR10('data', train=False,\n",
    "                             download=True, \n",
    "                             transform=transform\n",
    "                            )\n",
    "\n",
    "num_train = len(train_data)\n",
    "indices = list(range(num_train))\n",
    "np.random.shuffle(indices)\n",
    "split = int(np.floor(valid_size * num_train))\n",
    "train_idx, valid_idx = indices[split:], indices[:split]\n",
    "\n",
    "train_sampler = SubsetRandomSampler(train_idx)\n",
    "valid_sampler = SubsetRandomSampler(valid_idx)\n",
    "\n",
    "# prepare data loaders (combine dataset and sampler)\n",
    "train_loader = torch.utils.data.DataLoader(train_data, batch_size=batch_size,\n",
    "    sampler=train_sampler, num_workers=num_workers)\n",
    "valid_loader = torch.utils.data.DataLoader(train_data, batch_size=batch_size, \n",
    "    sampler=valid_sampler, num_workers=num_workers)\n",
    "test_loader = torch.utils.data.DataLoader(test_data, batch_size=batch_size, \n",
    "    num_workers=num_workers)\n",
    "\n",
    "# specify the image classes\n",
    "classes = ['airplane', 'automobile', 'bird', 'cat', 'deer',\n",
    "           'dog', 'frog', 'horse', 'ship', 'truck']"
   ]
  },
  {
   "cell_type": "markdown",
   "id": "6f548961",
   "metadata": {},
   "source": [
    "## For generating Netron diagram "
   ]
  },
  {
   "cell_type": "code",
   "execution_count": 7,
   "id": "42cad877",
   "metadata": {},
   "outputs": [],
   "source": [
    "import torch.onnx\n",
    "\n",
    "model = ConvNeuralNet(num_classes=10, activation = F.relu)\n",
    "model.to(device)\n",
    "torch.onnx.export(model, \n",
    "                  data, \n",
    "                  \"Simple_CNN7.onnx\",\n",
    "                  input_names=[\"input\"],\n",
    "                  output_names=[\"output\"],\n",
    "                  opset_version=12)\n",
    "\n",
    "model"
   ]
  },
  {
   "cell_type": "markdown",
   "id": "b0698b75",
   "metadata": {},
   "source": [
    "## SIMPLE CNN MODEL with 3 activations"
   ]
  },
  {
   "cell_type": "code",
   "execution_count": 4,
   "id": "52dc6a57",
   "metadata": {},
   "outputs": [],
   "source": [
    "from fase.nn.models import ConvNeuralNet"
   ]
  },
  {
   "cell_type": "code",
   "execution_count": 1,
   "id": "37a17f35",
   "metadata": {},
   "outputs": [],
   "source": [
    "from torch import nn"
   ]
  },
  {
   "cell_type": "code",
   "execution_count": 2,
   "id": "f924402a",
   "metadata": {},
   "outputs": [],
   "source": [
    "nn.Softmax?"
   ]
  },
  {
   "cell_type": "code",
   "execution_count": 5,
   "id": "026c9c8b",
   "metadata": {},
   "outputs": [],
   "source": [
    "def run_test():\n",
    "    # track test loss\n",
    "    test_loader = torch.utils.data.DataLoader(test_data, batch_size=32, \n",
    "        num_workers=num_workers)\n",
    "\n",
    "    test_loss = 0.0\n",
    "    class_correct = list(0. for i in range(10))\n",
    "    class_total = list(0. for i in range(10))\n",
    "\n",
    "    model.eval()\n",
    "    # iterate over test data\n",
    "    for data, target in test_loader:\n",
    "        if train_on_gpu:\n",
    "            data, target = data.cuda(), target.cuda()\n",
    "        output = model(data)\n",
    "        loss = criterion(output, target)\n",
    "        test_loss += loss.item()*data.size(0)\n",
    "        _, pred = torch.max(output, 1)    \n",
    "        correct_tensor = pred.eq(target.data.view_as(pred))\n",
    "        correct = np.squeeze(correct_tensor.numpy()) if not train_on_gpu else np.squeeze(correct_tensor.cpu().numpy())\n",
    "\n",
    "        for i in range(len(data)):\n",
    "            label = target.data[i]\n",
    "            class_correct[label] += correct[i].item()\n",
    "            class_total[label] += 1\n",
    "\n",
    "    # average test loss\n",
    "    test_loss = test_loss/len(test_loader.dataset)\n",
    "    print('Test Loss: {:.6f}\\n'.format(test_loss))\n",
    "\n",
    "    for i in range(10):\n",
    "        if class_total[i] > 0:\n",
    "            print('Test Accuracy of %5s: %2d%% (%2d/%2d)' % (\n",
    "                classes[i], 100 * class_correct[i] / class_total[i],\n",
    "                np.sum(class_correct[i]), np.sum(class_total[i])))\n",
    "        else:\n",
    "            print('Test Accuracy of %5s: N/A (no training examples)' % (classes[i]))\n",
    "\n",
    "    print('\\nTest Accuracy (Overall): %2d%% (%2d/%2d)\\n' % (\n",
    "        100. * np.sum(class_correct) / np.sum(class_total),\n",
    "        np.sum(class_correct), np.sum(class_total)))"
   ]
  },
  {
   "cell_type": "code",
   "execution_count": 31,
   "id": "91cac086",
   "metadata": {},
   "outputs": [],
   "source": [
    "from approximate import approx_sign\n",
    "from approximate import approx_relu\n",
    "\n",
    "xfactor = 40\n",
    "\n",
    "activation = lambda x : xfactor * approx_relu(x/xfactor, degree = 5, repeat=4)\n",
    "\n",
    "import torch.optim as optim\n",
    "model = ConvNeuralNet(num_classes=10, activation = activation)\n",
    "model.to(device)\n",
    "# Set Loss function with criterion\n",
    "criterion = nn.CrossEntropyLoss()\n",
    "\n",
    "# Set optimizer with optimizer\n",
    "optimizer = torch.optim.SGD(model.parameters(), lr=0.001, weight_decay = 0.005, momentum = 0.9)  \n",
    "valid_loss_min = np.Inf "
   ]
  },
  {
   "cell_type": "markdown",
   "id": "585db7f0",
   "metadata": {},
   "source": [
    "## Training"
   ]
  },
  {
   "cell_type": "code",
   "execution_count": 32,
   "id": "de6acf62",
   "metadata": {
    "scrolled": true
   },
   "outputs": [
    {
     "name": "stdout",
     "output_type": "stream",
     "text": [
      "Epoch: 1 \tTraining Loss: 1.140274 \tValidation Loss: 0.269360\n",
      "Validation loss decreased (inf --> 0.269360).  Saving model ...\n",
      "Test Loss: 1.360481\n",
      "\n",
      "Test Accuracy of airplane: 50% (506/1000)\n",
      "Test Accuracy of automobile: 44% (444/1000)\n",
      "Test Accuracy of  bird: 14% (142/1000)\n",
      "Test Accuracy of   cat: 52% (521/1000)\n",
      "Test Accuracy of  deer: 65% (653/1000)\n",
      "Test Accuracy of   dog: 44% (441/1000)\n",
      "Test Accuracy of  frog: 85% (857/1000)\n",
      "Test Accuracy of horse: 59% (593/1000)\n",
      "Test Accuracy of  ship: 57% (572/1000)\n",
      "Test Accuracy of truck: 59% (596/1000)\n",
      "\n",
      "Test Accuracy (Overall): 53% (5325/10000)\n",
      "\n",
      "Epoch: 2 \tTraining Loss: 0.803178 \tValidation Loss: 0.189093\n",
      "Validation loss decreased (0.269360 --> 0.189093).  Saving model ...\n",
      "Test Loss: 0.964806\n",
      "\n",
      "Test Accuracy of airplane: 62% (623/1000)\n",
      "Test Accuracy of automobile: 65% (655/1000)\n",
      "Test Accuracy of  bird: 38% (380/1000)\n",
      "Test Accuracy of   cat: 48% (486/1000)\n",
      "Test Accuracy of  deer: 76% (766/1000)\n",
      "Test Accuracy of   dog: 62% (620/1000)\n",
      "Test Accuracy of  frog: 53% (532/1000)\n",
      "Test Accuracy of horse: 79% (790/1000)\n",
      "Test Accuracy of  ship: 86% (860/1000)\n",
      "Test Accuracy of truck: 89% (899/1000)\n",
      "\n",
      "Test Accuracy (Overall): 66% (6611/10000)\n",
      "\n",
      "Epoch: 3 \tTraining Loss: 0.689636 \tValidation Loss: 0.169752\n",
      "Validation loss decreased (0.189093 --> 0.169752).  Saving model ...\n",
      "Test Loss: 0.879121\n",
      "\n",
      "Test Accuracy of airplane: 63% (637/1000)\n",
      "Test Accuracy of automobile: 86% (869/1000)\n",
      "Test Accuracy of  bird: 63% (636/1000)\n",
      "Test Accuracy of   cat: 49% (492/1000)\n",
      "Test Accuracy of  deer: 69% (695/1000)\n",
      "Test Accuracy of   dog: 39% (399/1000)\n",
      "Test Accuracy of  frog: 84% (849/1000)\n",
      "Test Accuracy of horse: 78% (783/1000)\n",
      "Test Accuracy of  ship: 85% (858/1000)\n",
      "Test Accuracy of truck: 71% (712/1000)\n",
      "\n",
      "Test Accuracy (Overall): 69% (6930/10000)\n",
      "\n",
      "Epoch: 4 \tTraining Loss: 0.624050 \tValidation Loss: 0.185798\n",
      "Epoch: 5 \tTraining Loss: 0.578537 \tValidation Loss: 0.164377\n",
      "Validation loss decreased (0.169752 --> 0.164377).  Saving model ...\n",
      "Test Loss: 0.855830\n",
      "\n",
      "Test Accuracy of airplane: 77% (777/1000)\n",
      "Test Accuracy of automobile: 88% (882/1000)\n",
      "Test Accuracy of  bird: 75% (759/1000)\n",
      "Test Accuracy of   cat: 47% (473/1000)\n",
      "Test Accuracy of  deer: 60% (609/1000)\n",
      "Test Accuracy of   dog: 70% (706/1000)\n",
      "Test Accuracy of  frog: 75% (759/1000)\n",
      "Test Accuracy of horse: 73% (738/1000)\n",
      "Test Accuracy of  ship: 69% (699/1000)\n",
      "Test Accuracy of truck: 62% (628/1000)\n",
      "\n",
      "Test Accuracy (Overall): 70% (7030/10000)\n",
      "\n",
      "Epoch: 6 \tTraining Loss: 0.539229 \tValidation Loss: 0.161640\n",
      "Validation loss decreased (0.164377 --> 0.161640).  Saving model ...\n",
      "Test Loss: 0.827009\n",
      "\n",
      "Test Accuracy of airplane: 75% (752/1000)\n",
      "Test Accuracy of automobile: 63% (633/1000)\n",
      "Test Accuracy of  bird: 45% (455/1000)\n",
      "Test Accuracy of   cat: 48% (487/1000)\n",
      "Test Accuracy of  deer: 87% (874/1000)\n",
      "Test Accuracy of   dog: 61% (612/1000)\n",
      "Test Accuracy of  frog: 70% (708/1000)\n",
      "Test Accuracy of horse: 82% (822/1000)\n",
      "Test Accuracy of  ship: 87% (872/1000)\n",
      "Test Accuracy of truck: 89% (899/1000)\n",
      "\n",
      "Test Accuracy (Overall): 71% (7114/10000)\n",
      "\n",
      "Epoch: 7 \tTraining Loss: 0.510343 \tValidation Loss: 0.174675\n",
      "Epoch: 8 \tTraining Loss: 0.482730 \tValidation Loss: 0.221274\n",
      "Epoch: 9 \tTraining Loss: 0.464183 \tValidation Loss: 0.147202\n",
      "Validation loss decreased (0.161640 --> 0.147202).  Saving model ...\n",
      "Test Loss: 0.757016\n",
      "\n",
      "Test Accuracy of airplane: 78% (785/1000)\n",
      "Test Accuracy of automobile: 83% (833/1000)\n",
      "Test Accuracy of  bird: 68% (685/1000)\n",
      "Test Accuracy of   cat: 52% (529/1000)\n",
      "Test Accuracy of  deer: 64% (649/1000)\n",
      "Test Accuracy of   dog: 64% (646/1000)\n",
      "Test Accuracy of  frog: 77% (776/1000)\n",
      "Test Accuracy of horse: 85% (859/1000)\n",
      "Test Accuracy of  ship: 70% (708/1000)\n",
      "Test Accuracy of truck: 88% (881/1000)\n",
      "\n",
      "Test Accuracy (Overall): 73% (7351/10000)\n",
      "\n",
      "Epoch: 10 \tTraining Loss: 0.444913 \tValidation Loss: 0.156547\n",
      "Epoch: 11 \tTraining Loss: 0.424970 \tValidation Loss: 0.131650\n",
      "Validation loss decreased (0.147202 --> 0.131650).  Saving model ...\n",
      "Test Loss: 0.681676\n",
      "\n",
      "Test Accuracy of airplane: 78% (780/1000)\n",
      "Test Accuracy of automobile: 84% (848/1000)\n",
      "Test Accuracy of  bird: 67% (670/1000)\n",
      "Test Accuracy of   cat: 62% (628/1000)\n",
      "Test Accuracy of  deer: 80% (807/1000)\n",
      "Test Accuracy of   dog: 63% (631/1000)\n",
      "Test Accuracy of  frog: 84% (847/1000)\n",
      "Test Accuracy of horse: 73% (734/1000)\n",
      "Test Accuracy of  ship: 87% (872/1000)\n",
      "Test Accuracy of truck: 87% (870/1000)\n",
      "\n",
      "Test Accuracy (Overall): 76% (7687/10000)\n",
      "\n",
      "Epoch: 12 \tTraining Loss: 0.408154 \tValidation Loss: 0.170295\n",
      "Epoch: 13 \tTraining Loss: 0.392835 \tValidation Loss: 0.155966\n",
      "Epoch: 14 \tTraining Loss: 0.381403 \tValidation Loss: 0.162833\n",
      "Epoch: 15 \tTraining Loss: 0.366681 \tValidation Loss: 0.175397\n",
      "Epoch: 16 \tTraining Loss: 0.354431 \tValidation Loss: 0.177474\n",
      "Epoch: 17 \tTraining Loss: 0.347281 \tValidation Loss: 0.166283\n",
      "Epoch: 18 \tTraining Loss: 0.335141 \tValidation Loss: 0.156963\n",
      "Epoch: 19 \tTraining Loss: 0.324397 \tValidation Loss: 0.153244\n",
      "Epoch: 20 \tTraining Loss: 0.314542 \tValidation Loss: 0.174536\n",
      "Epoch: 21 \tTraining Loss: 0.306958 \tValidation Loss: 0.199952\n",
      "Epoch: 22 \tTraining Loss: 0.302628 \tValidation Loss: 0.173273\n",
      "Epoch: 23 \tTraining Loss: 0.292522 \tValidation Loss: 0.149221\n",
      "Epoch: 24 \tTraining Loss: 0.286098 \tValidation Loss: 0.193608\n",
      "Epoch: 25 \tTraining Loss: 0.277618 \tValidation Loss: 0.189345\n",
      "Epoch: 26 \tTraining Loss: 0.273539 \tValidation Loss: 0.182973\n",
      "Epoch: 27 \tTraining Loss: 0.267568 \tValidation Loss: 0.142840\n",
      "Epoch: 28 \tTraining Loss: 0.259066 \tValidation Loss: 0.143463\n",
      "Epoch: 29 \tTraining Loss: 0.254293 \tValidation Loss: 0.156121\n",
      "Epoch: 30 \tTraining Loss: 0.248055 \tValidation Loss: 0.175154\n",
      "Epoch: 31 \tTraining Loss: 0.245283 \tValidation Loss: 0.173580\n",
      "Epoch: 32 \tTraining Loss: 0.242999 \tValidation Loss: 0.160101\n",
      "Epoch: 33 \tTraining Loss: 0.236044 \tValidation Loss: 0.171158\n",
      "Epoch: 34 \tTraining Loss: 0.229796 \tValidation Loss: 0.195664\n",
      "Epoch: 35 \tTraining Loss: 0.230274 \tValidation Loss: 0.174989\n",
      "Epoch: 36 \tTraining Loss: 0.226938 \tValidation Loss: 0.197443\n",
      "Epoch: 37 \tTraining Loss: 0.223341 \tValidation Loss: 0.188178\n",
      "Epoch: 38 \tTraining Loss: 0.219073 \tValidation Loss: 0.174502\n",
      "Epoch: 39 \tTraining Loss: 0.216885 \tValidation Loss: 0.169209\n",
      "Epoch: 40 \tTraining Loss: 0.215251 \tValidation Loss: 0.175173\n"
     ]
    }
   ],
   "source": [
    "n_epochs = 40\n",
    "train_losslist=[]\n",
    "\n",
    "for epoch in range(1, n_epochs+1):\n",
    "\n",
    "    # keep track of training and validation loss\n",
    "    train_loss = 0.0\n",
    "    valid_loss = 0.0\n",
    "    \n",
    "    model.to(device)\n",
    "    model.train()\n",
    "    \n",
    "    for data, target in train_loader:\n",
    "        if train_on_gpu:\n",
    "            data, target = data.cuda(), target.cuda()\n",
    "        optimizer.zero_grad()\n",
    "        output = model(data)\n",
    "        loss = criterion(output, target)\n",
    "        loss.backward()\n",
    "        optimizer.step()\n",
    "        train_loss += loss.item()*data.size(0)\n",
    "        \n",
    "    model.eval()\n",
    "    for data, target in valid_loader:\n",
    "        if train_on_gpu:\n",
    "            data, target = data.cuda(), target.cuda()\n",
    "        #print(\"VALID-------------------------------------------------------------------\")\n",
    "        output = model(data)\n",
    "        loss = criterion(output, target)\n",
    "        valid_loss += loss.item()*data.size(0)\n",
    "    \n",
    "    # calculate average losses\n",
    "    train_loss = train_loss/len(train_loader.dataset)\n",
    "    valid_loss = valid_loss/len(valid_loader.dataset)\n",
    "    train_losslist.append(train_loss)\n",
    "        \n",
    "    print('Epoch: {} \\tTraining Loss: {:.6f} \\tValidation Loss: {:.6f}'.format(\n",
    "        epoch, train_loss, valid_loss))\n",
    "    \n",
    "    if valid_loss <= valid_loss_min:\n",
    "        print('Validation loss decreased ({:.6f} --> {:.6f}).  Saving model ...'.format(\n",
    "        valid_loss_min,\n",
    "        valid_loss))\n",
    "        torch.save(model.state_dict(), 'SimpleCNN_ReLU_minimax_v2_max.pt')\n",
    "        valid_loss_min = valid_loss\n",
    "        # \n",
    "        run_test()"
   ]
  },
  {
   "cell_type": "code",
   "execution_count": 21,
   "id": "32a1f5cc",
   "metadata": {
    "scrolled": true
   },
   "outputs": [
    {
     "data": {
      "text/plain": [
       "<All keys matched successfully>"
      ]
     },
     "execution_count": 21,
     "metadata": {},
     "output_type": "execute_result"
    }
   ],
   "source": [
    "# Load the best one\n",
    "model.load_state_dict(torch.load(\"SimpleCNN_ReLU_minimax_2.pt\"))"
   ]
  },
  {
   "cell_type": "code",
   "execution_count": 25,
   "id": "cbc70ac8",
   "metadata": {},
   "outputs": [
    {
     "name": "stdout",
     "output_type": "stream",
     "text": [
      "Test Loss: 1.967733\n",
      "\n",
      "Test Accuracy of airplane: 91% (916/1000)\n",
      "Test Accuracy of automobile: 45% (457/1000)\n",
      "Test Accuracy of  bird: 15% (151/1000)\n",
      "Test Accuracy of   cat: 61% (616/1000)\n",
      "Test Accuracy of  deer:  3% (33/1000)\n",
      "Test Accuracy of   dog: 11% (113/1000)\n",
      "Test Accuracy of  frog:  1% (13/1000)\n",
      "Test Accuracy of horse: 36% (361/1000)\n",
      "Test Accuracy of  ship: 30% (308/1000)\n",
      "Test Accuracy of truck: 85% (859/1000)\n",
      "\n",
      "Test Accuracy (Overall): 38% (3827/10000)\n",
      "\n"
     ]
    }
   ],
   "source": [
    "#apprx_swish = chebyshev.Chebyshev.fit(xx, swish(xx), deg=42)\n",
    "model = ConvNeuralNet(num_classes=10, activation = F.relu)\n",
    "model.to(device)\n",
    "model.load_state_dict(torch.load(\"SimpleCNN_ReLU_minimax_2.pt\"))\n",
    "run_test()\n",
    "\n",
    "# 16 degree 정도로 비슷한 성능이 유지되는 모델과 apprx 조합을 찾아야함. "
   ]
  },
  {
   "cell_type": "code",
   "execution_count": null,
   "id": "530df056",
   "metadata": {},
   "outputs": [],
   "source": []
  },
  {
   "cell_type": "code",
   "execution_count": 81,
   "id": "33496850",
   "metadata": {},
   "outputs": [
    {
     "name": "stdout",
     "output_type": "stream",
     "text": [
      "Test Loss: 1.076213\n",
      "\n",
      "Test Accuracy of airplane: 72% (724/1000)\n",
      "Test Accuracy of automobile: 73% (738/1000)\n",
      "Test Accuracy of  bird: 50% (507/1000)\n",
      "Test Accuracy of   cat: 59% (594/1000)\n",
      "Test Accuracy of  deer: 36% (365/1000)\n",
      "Test Accuracy of   dog: 54% (548/1000)\n",
      "Test Accuracy of  frog: 78% (788/1000)\n",
      "Test Accuracy of horse: 59% (598/1000)\n",
      "Test Accuracy of  ship: 55% (555/1000)\n",
      "Test Accuracy of truck: 80% (802/1000)\n",
      "\n",
      "Test Accuracy (Overall): 62% (6219/10000)\n"
     ]
    }
   ],
   "source": [
    "run_test()"
   ]
  },
  {
   "cell_type": "markdown",
   "id": "6ffc4ce2",
   "metadata": {},
   "source": [
    "Test Loss: 0.744811\n",
    "\n",
    "Test Accuracy of airplane: 83% (836/1000)\n",
    "Test Accuracy of automobile: 84% (848/1000)\n",
    "Test Accuracy of  bird: 59% (593/1000)\n",
    "Test Accuracy of   cat: 58% (586/1000)\n",
    "Test Accuracy of  deer: 64% (641/1000)\n",
    "Test Accuracy of   dog: 68% (688/1000)\n",
    "Test Accuracy of  frog: 84% (848/1000)\n",
    "Test Accuracy of horse: 77% (771/1000)\n",
    "Test Accuracy of  ship: 81% (812/1000)\n",
    "Test Accuracy of truck: 81% (814/1000)\n",
    "\n",
    "Test Accuracy (Overall): 74% (7437/10000)"
   ]
  },
  {
   "cell_type": "markdown",
   "id": "34ecb343",
   "metadata": {},
   "source": [
    "## 성능 \n",
    "\n",
    "relu + maxpool: ~62%\n",
    "\n",
    "relu + avgpool: ~58% -- OK, maxpool -> avgpool은 큰 문제 없음. \n",
    "\n",
    "approx. relu + avgpool: 52% !! \n",
    "\n",
    "approx. relu + avgpool + BN (2Conv + 3FC, 20 epoch): 58% 정도? \n",
    "\n",
    "approx. relu + avgpool + BN (2Conv + 2FC, 50 epoch: 59% "
   ]
  }
 ],
 "metadata": {
  "kernelspec": {
   "display_name": "Python 3 (ipykernel)",
   "language": "python",
   "name": "python3"
  },
  "language_info": {
   "codemirror_mode": {
    "name": "ipython",
    "version": 3
   },
   "file_extension": ".py",
   "mimetype": "text/x-python",
   "name": "python",
   "nbconvert_exporter": "python",
   "pygments_lexer": "ipython3",
   "version": "3.9.0"
  }
 },
 "nbformat": 4,
 "nbformat_minor": 5
}
