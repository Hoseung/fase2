{
 "cells": [
  {
   "cell_type": "code",
   "execution_count": 1,
   "id": "b86efd50",
   "metadata": {},
   "outputs": [],
   "source": [
    "%load_ext autoreload\n",
    "%autoreload 2"
   ]
  },
  {
   "cell_type": "code",
   "execution_count": 2,
   "id": "9d990b72",
   "metadata": {},
   "outputs": [
    {
     "name": "stdout",
     "output_type": "stream",
     "text": [
      "CUDA is available!  Training on GPU ...\n"
     ]
    }
   ],
   "source": [
    "from time import time\n",
    "import numpy as np\n",
    "from PIL import Image\n",
    "import matplotlib.pyplot as plt \n",
    "import torch\n",
    "\n",
    "from torchvision import datasets\n",
    "import torchvision.transforms as transforms\n",
    "from torch.utils.data.sampler import SubsetRandomSampler\n",
    "from torch import nn\n",
    "import torch.nn.functional as F\n",
    "\n",
    "\n",
    "from fase.nn.conv import *\n",
    "\n",
    "# check if CUDA is available\n",
    "train_on_gpu = torch.cuda.is_available()\n",
    "\n",
    "if not train_on_gpu:\n",
    "    print('CUDA is not available.  Training on CPU ...')\n",
    "    device = \"cpu\"\n",
    "else:\n",
    "    print('CUDA is available!  Training on GPU ...')\n",
    "    device = \"cuda\""
   ]
  },
  {
   "cell_type": "code",
   "execution_count": 3,
   "id": "55e34df6",
   "metadata": {},
   "outputs": [
    {
     "name": "stdout",
     "output_type": "stream",
     "text": [
      "Files already downloaded and verified\n",
      "Files already downloaded and verified\n"
     ]
    }
   ],
   "source": [
    "num_workers = 0\n",
    "batch_size = 32\n",
    "valid_size = 0.2\n",
    "\n",
    "\n",
    "## Scale \n",
    "transform = transforms.Compose([\n",
    "     transforms.ToTensor(),\n",
    "     transforms.Normalize((0.5, 0.5, 0.5), (0.5, 0.5, 0.5))\n",
    "     ])\n",
    "\n",
    "train_data = datasets.CIFAR10('data', train=True,\n",
    "                              download=True,\n",
    "                              transform=transform\n",
    "                             )\n",
    "test_data = datasets.CIFAR10('data', train=False,\n",
    "                             download=True, \n",
    "                             transform=transform\n",
    "                            )\n",
    "\n",
    "num_train = len(train_data)\n",
    "indices = list(range(num_train))\n",
    "np.random.shuffle(indices)\n",
    "split = int(np.floor(valid_size * num_train))\n",
    "train_idx, valid_idx = indices[split:], indices[:split]\n",
    "\n",
    "train_sampler = SubsetRandomSampler(train_idx)\n",
    "valid_sampler = SubsetRandomSampler(valid_idx)\n",
    "\n",
    "# prepare data loaders (combine dataset and sampler)\n",
    "train_loader = torch.utils.data.DataLoader(train_data, batch_size=batch_size,\n",
    "    sampler=train_sampler, num_workers=num_workers)\n",
    "valid_loader = torch.utils.data.DataLoader(train_data, batch_size=batch_size, \n",
    "    sampler=valid_sampler, num_workers=num_workers)\n",
    "test_loader = torch.utils.data.DataLoader(test_data, batch_size=batch_size, \n",
    "    num_workers=num_workers)\n",
    "\n",
    "# specify the image classes\n",
    "classes = ['airplane', 'automobile', 'bird', 'cat', 'deer',\n",
    "           'dog', 'frog', 'horse', 'ship', 'truck']"
   ]
  },
  {
   "cell_type": "code",
   "execution_count": 4,
   "id": "a306ba4d",
   "metadata": {},
   "outputs": [],
   "source": [
    "import ResNet20\n",
    "\n",
    "org_model = ResNet20.ResNet20(activation=F.relu)"
   ]
  },
  {
   "cell_type": "code",
   "execution_count": 14,
   "id": "28a728e2",
   "metadata": {},
   "outputs": [
    {
     "name": "stdout",
     "output_type": "stream",
     "text": [
      "torch.Size([1, 3, 32, 32])\n"
     ]
    }
   ],
   "source": [
    "import torchvision.transforms as transforms\n",
    "\n",
    "img = np.array(Image.open(\"./bird6.png\"))\n",
    "to_tensor = transforms.ToTensor() # [n_channel, nh, nw]\n",
    "img_tensor = to_tensor(img).unsqueeze(0) # [n_batch, n_channel, nh, nw]\n",
    "n_batch, n_channel, nh, nw = img_tensor.shape\n",
    "\n",
    "print(img_tensor.shape)"
   ]
  },
  {
   "cell_type": "code",
   "execution_count": 20,
   "id": "db462855",
   "metadata": {},
   "outputs": [],
   "source": [
    "fn_param = \"ResNet_20.pt\"\n",
    "trained_param = torch.load(fn_param)\n",
    "trained_param = {k: v.cpu() for k, v in trained_param.items()} # to cpu()\n",
    "org_model.load_state_dict(trained_param)\n",
    "org_model.eval()\n",
    "\n",
    "# To numpy\n",
    "params_np = {k: v.numpy() for k, v in trained_param.items()}"
   ]
  },
  {
   "cell_type": "code",
   "execution_count": 16,
   "id": "5572d7c2",
   "metadata": {},
   "outputs": [
    {
     "name": "stdout",
     "output_type": "stream",
     "text": [
      "tensor(2) tensor(2) tensor(True)\n",
      "tensor(9) tensor(9) tensor(True)\n",
      "tensor(6) tensor(6) tensor(True)\n",
      "tensor(8) tensor(8) tensor(True)\n",
      "tensor(9) tensor(9) tensor(True)\n",
      "tensor(6) tensor(6) tensor(True)\n",
      "tensor(7) tensor(7) tensor(True)\n",
      "tensor(4) tensor(4) tensor(True)\n",
      "tensor(1) tensor(1) tensor(True)\n",
      "tensor(1) tensor(1) tensor(True)\n",
      "tensor(9) tensor(9) tensor(True)\n",
      "tensor(4) tensor(4) tensor(True)\n",
      "tensor(2) tensor(2) tensor(True)\n",
      "tensor(4) tensor(4) tensor(True)\n",
      "tensor(5) tensor(5) tensor(True)\n",
      "tensor(0) tensor(0) tensor(True)\n",
      "tensor(4) tensor(4) tensor(True)\n",
      "tensor(4) tensor(4) tensor(True)\n",
      "tensor(7) tensor(7) tensor(True)\n",
      "tensor(2) tensor(2) tensor(True)\n",
      "tensor(9) tensor(9) tensor(True)\n",
      "tensor(3) tensor(3) tensor(True)\n",
      "tensor(1) tensor(1) tensor(True)\n",
      "tensor(3) tensor(3) tensor(True)\n",
      "tensor(5) tensor(5) tensor(True)\n",
      "tensor(3) tensor(3) tensor(True)\n",
      "tensor(9) tensor(9) tensor(True)\n",
      "tensor(5) tensor(5) tensor(True)\n",
      "tensor(7) tensor(7) tensor(True)\n",
      "tensor(4) tensor(4) tensor(True)\n",
      "tensor(8) tensor(1) tensor(False)\n",
      "tensor(9) tensor(9) tensor(True)\n"
     ]
    }
   ],
   "source": [
    "org_model.eval()\n",
    "data, target = next(iter(valid_loader))\n",
    "out = org_model(data)\n",
    "\n",
    "for oo, tt in zip(out, target):\n",
    "    print(torch.argmax(oo),tt, torch.argmax(oo) == tt)"
   ]
  },
  {
   "cell_type": "code",
   "execution_count": 8,
   "id": "55d4e241",
   "metadata": {},
   "outputs": [
    {
     "data": {
      "text/plain": [
       "tensor([[ -2.2855, -12.4620,  -0.1109,  -8.2943,  -8.1648, -10.4066,  -8.1414,\n",
       "          -9.2153,  -6.1039,  -9.2975]], grad_fn=<LogSoftmaxBackward0>)"
      ]
     },
     "execution_count": 8,
     "metadata": {},
     "output_type": "execute_result"
    }
   ],
   "source": [
    "classes = ['airplane', 'automobile', 'bird', 'cat', 'deer',\n",
    "           'dog', 'frog', 'horse', 'ship', 'truck']\n",
    "\n",
    "org_model(img_tensor) # == bird. Correct"
   ]
  },
  {
   "cell_type": "markdown",
   "id": "6c374c59",
   "metadata": {},
   "source": [
    "제대로 작동하는 것 확인 됨. \n",
    "\n",
    "이제 단계별 값 확인"
   ]
  },
  {
   "cell_type": "code",
   "execution_count": 9,
   "id": "b007e254",
   "metadata": {},
   "outputs": [
    {
     "data": {
      "text/plain": [
       "<matplotlib.image.AxesImage at 0x7fed042f4eb0>"
      ]
     },
     "execution_count": 9,
     "metadata": {},
     "output_type": "execute_result"
    },
    {
     "data": {
      "image/png": "[encoded data removed]",
      "text/plain": [
       "<Figure size 432x288 with 1 Axes>"
      ]
     },
     "metadata": {
      "needs_background": "light"
     },
     "output_type": "display_data"
    }
   ],
   "source": [
    "plt.imshow(img_tensor[0,0,:,:])"
   ]
  },
  {
   "cell_type": "code",
   "execution_count": 21,
   "id": "0e4adcd0",
   "metadata": {},
   "outputs": [
    {
     "name": "stdout",
     "output_type": "stream",
     "text": [
      "Parameter containing:\n",
      "tensor([0.4167, 0.5674, 0.5254, 0.4904, 0.4040, 0.6179, 0.6819, 0.5052, 0.6507,\n",
      "        0.6042, 0.5120, 0.5347, 0.4702, 0.5840, 0.5745, 0.5341],\n",
      "       requires_grad=True)\n",
      "Parameter containing:\n",
      "tensor([-0.1335,  0.0700,  0.5526,  0.2468,  0.7745, -0.1431,  0.1565,  0.1638,\n",
      "        -0.1570,  0.6871, -0.1259,  0.2280,  0.5680,  0.6315, -0.0437,  0.5311],\n",
      "       requires_grad=True)\n",
      "tensor([ 0.0704,  0.0975, -0.0129, -0.2320, -0.0304, -0.1205, -0.2488,  0.0247,\n",
      "         0.0958,  0.0092, -0.0702,  0.0783,  0.0499, -0.0231, -0.0906, -0.0539])\n",
      "tensor([0.1392, 0.2570, 0.1766, 0.5015, 0.1291, 0.4963, 0.5788, 0.2135, 0.6493,\n",
      "        0.2608, 0.4600, 0.4252, 0.3255, 0.6826, 0.2330, 0.4586])\n"
     ]
    }
   ],
   "source": [
    "print(org_model.bn1.weight)\n",
    "print(org_model.bn1.bias)\n",
    "print(org_model.bn1.running_mean)\n",
    "print(org_model.bn1.running_var)"
   ]
  },
  {
   "cell_type": "code",
   "execution_count": 17,
   "id": "e859da36",
   "metadata": {},
   "outputs": [
    {
     "name": "stdout",
     "output_type": "stream",
     "text": [
      "1 tensor([[ 1.0504,  1.0917,  1.0055,  0.1926,  0.4031,  0.5378],\n",
      "        [ 1.0340,  1.0909,  0.9432,  0.1620,  0.3170,  0.2667],\n",
      "        [ 1.0259,  1.1038,  0.8893,  0.1088,  0.2203,  0.2540],\n",
      "        [ 1.0364,  1.1122,  0.9169,  0.1100,  0.1197,  0.4240],\n",
      "        [ 1.0494,  1.1174,  0.9736,  0.1685,  0.0231,  0.3745],\n",
      "        [ 1.0493,  1.1267,  1.0446,  0.2650, -0.0136,  0.0934]],\n",
      "       grad_fn=<SliceBackward0>) torch.Size([32, 32])\n",
      "2 tensor([[1.1349, 1.1635, 1.1038, 0.5408, 0.6866, 0.7799],\n",
      "        [1.1235, 1.1630, 1.0607, 0.5197, 0.6270, 0.5921],\n",
      "        [1.1179, 1.1719, 1.0233, 0.4828, 0.5600, 0.5833],\n",
      "        [1.1252, 1.1777, 1.0425, 0.4836, 0.4903, 0.7011],\n",
      "        [1.1342, 1.1813, 1.0817, 0.5242, 0.4234, 0.6668],\n",
      "        [1.1341, 1.1878, 1.1309, 0.5910, 0.3981, 0.4721]],\n",
      "       grad_fn=<SliceBackward0>) torch.Size([32, 32])\n",
      "3 tensor([[1.1349, 1.1635, 1.1038, 0.5408, 0.6866, 0.7799],\n",
      "        [1.1235, 1.1630, 1.0607, 0.5197, 0.6270, 0.5921],\n",
      "        [1.1179, 1.1719, 1.0233, 0.4828, 0.5600, 0.5833],\n",
      "        [1.1252, 1.1777, 1.0425, 0.4836, 0.4903, 0.7011],\n",
      "        [1.1342, 1.1813, 1.0817, 0.5242, 0.4234, 0.6668],\n",
      "        [1.1341, 1.1878, 1.1309, 0.5910, 0.3981, 0.4721]],\n",
      "       grad_fn=<SliceBackward0>) torch.Size([32, 32])\n"
     ]
    }
   ],
   "source": [
    "# Conv1\n",
    "tt0 = org_model.conv1(img_tensor)\n",
    "print(\"1\", tt0[0,3,12:18,12:18], tt0[0,3].shape)\n",
    "tt1 = org_model.bn1(tt0)\n",
    "print(\"2\", tt1[0,3,12:18,12:18], tt1[0,3].shape)\n",
    "tt2 = org_model.activation(tt1)\n",
    "print(\"3\", tt2[0,3,12:18,12:18], tt2[0,3].shape)"
   ]
  },
  {
   "cell_type": "code",
   "execution_count": 45,
   "id": "84d48f6e",
   "metadata": {},
   "outputs": [],
   "source": [
    "out = F.batch_norm(tt1, \n",
    "                   org_model.bn1.running_mean, bb\n",
    "                   org_model.bn1.running_var, \n",
    "                   org_model.bn1.weight,\n",
    "                   org_model.bn1.bias,\n",
    "                   False, \n",
    "                   0.1)"
   ]
  },
  {
   "cell_type": "code",
   "execution_count": 50,
   "id": "39217286",
   "metadata": {},
   "outputs": [],
   "source": [
    "class MyBatchNorm2d(nn.BatchNorm2d):\n",
    "    def __init__(self, num_features, eps=1e-5, momentum=0.1,\n",
    "                 affine=True, track_running_stats=True):\n",
    "        super(MyBatchNorm2d, self).__init__(\n",
    "            num_features, eps, momentum, affine, track_running_stats)\n",
    "\n",
    "    def forward(self, input):\n",
    "        self._check_input_dim(input)\n",
    "\n",
    "        exponential_average_factor = 0.0\n",
    "\n",
    "        if self.training and self.track_running_stats:\n",
    "            if self.num_batches_tracked is not None:\n",
    "                self.num_batches_tracked += 1\n",
    "                if self.momentum is None:  # use cumulative moving average\n",
    "                    exponential_average_factor = 1.0 / float(self.num_batches_tracked)\n",
    "                else:  # use exponential moving average\n",
    "                    exponential_average_factor = self.momentum\n",
    "\n",
    "        # calculate running estimates\n",
    "        if self.training:\n",
    "            mean = input.mean([0, 2, 3])\n",
    "            # use biased var in train\n",
    "            var = input.var([0, 2, 3], unbiased=False)\n",
    "            n = input.numel() / input.size(1)\n",
    "            with torch.no_grad():\n",
    "                self.running_mean = exponential_average_factor * mean\\\n",
    "                    + (1 - exponential_average_factor) * self.running_mean\n",
    "                # update running_var with unbiased var\n",
    "                self.running_var = exponential_average_factor * var * n / (n - 1)\\\n",
    "                    + (1 - exponential_average_factor) * self.running_var\n",
    "        else:\n",
    "            mean = self.running_mean\n",
    "            var = self.running_var\n",
    "\n",
    "        input = (input - mean[None, :, None, None]) / (torch.sqrt(var[None, :, None, None] + self.eps))\n",
    "        if self.affine:\n",
    "            input = input * self.weight[None, :, None, None] + self.bias[None, :, None, None]\n",
    "\n",
    "        return input"
   ]
  },
  {
   "cell_type": "code",
   "execution_count": 53,
   "id": "65df24c6",
   "metadata": {},
   "outputs": [],
   "source": [
    "mmb = MyBatchNorm2d(16)"
   ]
  },
  {
   "cell_type": "code",
   "execution_count": 132,
   "id": "a28b64c9",
   "metadata": {},
   "outputs": [],
   "source": [
    "mmb.running_mean = org_model.bn1.running_mean\n",
    "mmb.running_var = org_model.bn1.running_var\n",
    "mmb.weight = org_model.bn1.weight\n",
    "mmb.bias = org_model.bn1.bias"
   ]
  },
  {
   "cell_type": "code",
   "execution_count": 139,
   "id": "0e504800",
   "metadata": {},
   "outputs": [
    {
     "name": "stdout",
     "output_type": "stream",
     "text": [
      "tensor([[ 1.0504,  1.0917,  1.0055,  0.1926,  0.4031,  0.5378],\n",
      "        [ 1.0340,  1.0909,  0.9432,  0.1620,  0.3170,  0.2667],\n",
      "        [ 1.0259,  1.1038,  0.8893,  0.1088,  0.2203,  0.2540],\n",
      "        [ 1.0364,  1.1122,  0.9169,  0.1100,  0.1197,  0.4240],\n",
      "        [ 1.0494,  1.1174,  0.9736,  0.1685,  0.0231,  0.3745],\n",
      "        [ 1.0493,  1.1267,  1.0446,  0.2650, -0.0136,  0.0934]],\n",
      "       grad_fn=<SliceBackward0>)\n"
     ]
    },
    {
     "data": {
      "text/plain": [
       "tensor([[1.1349, 1.1635, 1.1038, 0.5408, 0.6866, 0.7799],\n",
       "        [1.1235, 1.1630, 1.0607, 0.5197, 0.6270, 0.5921],\n",
       "        [1.1179, 1.1719, 1.0233, 0.4828, 0.5600, 0.5833],\n",
       "        [1.1252, 1.1777, 1.0425, 0.4836, 0.4903, 0.7011],\n",
       "        [1.1342, 1.1813, 1.0817, 0.5242, 0.4234, 0.6668],\n",
       "        [1.1341, 1.1878, 1.1309, 0.5910, 0.3981, 0.4721]],\n",
       "       grad_fn=<SliceBackward0>)"
      ]
     },
     "execution_count": 139,
     "metadata": {},
     "output_type": "execute_result"
    }
   ],
   "source": [
    "print(tt0[0,3,12:18,12:18])\n",
    "zz = mmb(tt0)\n",
    "\n",
    "zz[0,3,12:18,12:18]"
   ]
  },
  {
   "cell_type": "code",
   "execution_count": 151,
   "id": "e0d4e64e",
   "metadata": {},
   "outputs": [
    {
     "data": {
      "text/plain": [
       "tensor([[1.1349, 1.1635, 1.1038, 0.5408, 0.6866, 0.7799],\n",
       "        [1.1235, 1.1630, 1.0607, 0.5197, 0.6270, 0.5921],\n",
       "        [1.1179, 1.1719, 1.0233, 0.4828, 0.5600, 0.5833],\n",
       "        [1.1252, 1.1777, 1.0425, 0.4836, 0.4903, 0.7011],\n",
       "        [1.1342, 1.1813, 1.0817, 0.5242, 0.4234, 0.6668],\n",
       "        [1.1341, 1.1878, 1.1309, 0.5910, 0.3981, 0.4721]],\n",
       "       grad_fn=<SliceBackward0>)"
      ]
     },
     "execution_count": 151,
     "metadata": {},
     "output_type": "execute_result"
    }
   ],
   "source": [
    "tt2[0,3,12:18,12:18]"
   ]
  },
  {
   "cell_type": "code",
   "execution_count": 152,
   "id": "e0a28c63",
   "metadata": {},
   "outputs": [
    {
     "data": {
      "text/plain": [
       "Parameter containing:\n",
       "tensor([[[[ 1.6097e-02,  3.3110e-02,  7.5740e-02],\n",
       "          [-3.9469e-02,  2.1580e-02,  2.2107e-02],\n",
       "          [-1.1981e-02,  1.0342e-01,  1.1450e-01]],\n",
       "\n",
       "         [[ 1.2720e-02, -5.1597e-02, -4.7466e-02],\n",
       "          [-2.0413e-03,  1.0769e-02,  3.7019e-02],\n",
       "          [ 4.6686e-02,  1.3379e-01,  1.4511e-01]],\n",
       "\n",
       "         [[-1.2861e-01, -7.2780e-02, -1.2655e-01],\n",
       "          [-1.8910e-01,  2.4692e-01,  1.1555e-02],\n",
       "          [ 5.5489e-02, -1.5863e-01, -2.1765e-01]],\n",
       "\n",
       "         ...,\n",
       "\n",
       "         [[-8.7224e-02,  6.1674e-02,  1.5211e-01],\n",
       "          [ 1.1667e-01,  1.4851e-01,  4.4324e-02],\n",
       "          [-1.0227e-01,  1.7261e-01,  6.1332e-02]],\n",
       "\n",
       "         [[ 6.2243e-02,  2.5469e-01,  9.4317e-02],\n",
       "          [-6.0358e-02,  8.6461e-02,  9.1269e-02],\n",
       "          [-9.7419e-02, -1.1660e-01,  5.8115e-02]],\n",
       "\n",
       "         [[ 3.2906e-02, -1.7425e-02, -3.4924e-02],\n",
       "          [-6.7983e-02,  1.0223e-01,  6.2429e-02],\n",
       "          [ 7.0090e-02,  7.5114e-02,  1.3424e-03]]],\n",
       "\n",
       "\n",
       "        [[[-5.1614e-02, -3.8458e-02, -4.4402e-02],\n",
       "          [-5.2029e-02, -3.2257e-02, -1.4120e-02],\n",
       "          [-5.7280e-02, -6.9519e-02, -4.4391e-02]],\n",
       "\n",
       "         [[-1.4141e-02, -5.9582e-02, -8.9761e-02],\n",
       "          [-1.2116e-02, -1.1093e-01, -8.7013e-02],\n",
       "          [-7.7228e-02, -1.3997e-01, -1.5884e-01]],\n",
       "\n",
       "         [[ 2.6064e-02,  3.5527e-02,  7.6245e-02],\n",
       "          [ 5.0751e-02,  3.9262e-02, -1.5035e-02],\n",
       "          [ 2.6262e-02, -4.5084e-02, -6.9981e-02]],\n",
       "\n",
       "         ...,\n",
       "\n",
       "         [[-6.1155e-02, -3.9857e-02, -7.4859e-02],\n",
       "          [-3.9705e-02, -1.2798e-01, -8.1415e-02],\n",
       "          [-3.0584e-02, -5.6873e-02, -3.9111e-02]],\n",
       "\n",
       "         [[-9.6056e-02, -4.1650e-02, -5.5873e-02],\n",
       "          [-4.6400e-02, -5.9603e-02, -1.8519e-02],\n",
       "          [-4.1762e-02,  5.2602e-03,  3.7577e-02]],\n",
       "\n",
       "         [[ 1.3066e-02,  6.0069e-02,  8.5069e-03],\n",
       "          [ 3.0187e-02,  2.6169e-02, -2.8334e-02],\n",
       "          [ 5.3494e-02, -1.2131e-02,  3.8073e-03]]],\n",
       "\n",
       "\n",
       "        [[[-1.5597e-02, -3.2188e-02, -3.4318e-02],\n",
       "          [ 1.1306e-02,  8.7397e-03, -1.9707e-02],\n",
       "          [ 5.0042e-03, -1.8699e-04, -3.8022e-02]],\n",
       "\n",
       "         [[-1.3353e-01, -1.0729e-01,  3.6084e-02],\n",
       "          [-3.0020e-02,  1.5180e-02,  9.4602e-02],\n",
       "          [-5.6841e-02, -2.5721e-02, -4.0537e-02]],\n",
       "\n",
       "         [[ 6.2400e-02,  5.8973e-02,  4.8252e-02],\n",
       "          [ 2.2945e-01,  2.8954e-02, -3.6742e-02],\n",
       "          [ 5.2565e-02, -1.1984e-01, -8.4278e-02]],\n",
       "\n",
       "         ...,\n",
       "\n",
       "         [[-7.0389e-02, -2.6340e-02, -7.5443e-02],\n",
       "          [-1.0976e-01, -1.1546e-01, -1.0349e-01],\n",
       "          [-1.3000e-01, -1.0705e-01, -3.1347e-02]],\n",
       "\n",
       "         [[ 7.6469e-02, -1.8462e-02, -4.9048e-02],\n",
       "          [ 7.2545e-02, -2.1044e-02, -2.6518e-02],\n",
       "          [-1.2889e-02, -5.3795e-02,  1.4971e-02]],\n",
       "\n",
       "         [[-1.0599e-02, -2.8471e-02, -5.6025e-02],\n",
       "          [ 1.1442e-01,  1.1496e-01,  1.6101e-02],\n",
       "          [ 1.1208e-01,  1.0467e-02, -3.7524e-02]]],\n",
       "\n",
       "\n",
       "        ...,\n",
       "\n",
       "\n",
       "        [[[ 1.4284e-02, -1.5098e-02,  2.6685e-02],\n",
       "          [ 1.5034e-02,  6.1110e-02,  4.1916e-02],\n",
       "          [-2.1994e-02, -1.1340e-02, -3.9042e-03]],\n",
       "\n",
       "         [[ 1.7454e-01,  1.7355e-02, -1.4745e-01],\n",
       "          [ 8.4331e-02, -2.8713e-02, -2.1147e-01],\n",
       "          [ 1.2797e-02, -7.8193e-02, -1.4409e-01]],\n",
       "\n",
       "         [[-1.8124e-01, -1.2499e-01,  2.2978e-02],\n",
       "          [-2.0880e-01, -1.5428e-01, -2.7026e-03],\n",
       "          [-1.3277e-01, -2.7856e-03,  3.3549e-02]],\n",
       "\n",
       "         ...,\n",
       "\n",
       "         [[-3.6453e-02, -6.8077e-02, -6.2276e-02],\n",
       "          [-9.2542e-02,  3.7907e-02,  1.0831e-01],\n",
       "          [-4.7852e-03,  4.3820e-02,  8.8026e-02]],\n",
       "\n",
       "         [[-1.7049e-02, -1.8080e-02, -3.1079e-02],\n",
       "          [-1.6802e-02, -1.1269e-02,  4.0697e-02],\n",
       "          [-7.9330e-02, -3.6642e-02,  4.0981e-02]],\n",
       "\n",
       "         [[-1.0741e-03, -5.5724e-02, -5.1107e-02],\n",
       "          [-1.4122e-01, -1.8348e-01, -8.9852e-02],\n",
       "          [-1.3665e-01, -1.4890e-01, -1.2228e-01]]],\n",
       "\n",
       "\n",
       "        [[[-1.0977e-01, -5.8301e-02,  1.0597e-01],\n",
       "          [-5.1239e-02, -1.0224e-02,  1.5790e-01],\n",
       "          [-1.3291e-01, -1.4012e-01, -6.1357e-02]],\n",
       "\n",
       "         [[-4.4157e-02,  1.9523e-02,  1.1320e-02],\n",
       "          [ 1.1957e-02,  1.1181e-01, -1.1989e-02],\n",
       "          [-7.1489e-02, -2.0203e-01, -1.2048e-01]],\n",
       "\n",
       "         [[-2.3489e-01,  5.2288e-02,  5.8990e-02],\n",
       "          [ 4.6915e-01, -4.6980e-01, -1.1310e-01],\n",
       "          [-1.8962e-01,  2.5746e-01,  2.5179e-01]],\n",
       "\n",
       "         ...,\n",
       "\n",
       "         [[ 1.2594e-02,  1.0899e-01, -6.0206e-02],\n",
       "          [-3.2339e-01, -4.5526e-02,  7.9081e-02],\n",
       "          [ 2.3191e-02, -8.4328e-02, -9.0295e-02]],\n",
       "\n",
       "         [[ 4.0024e-02, -1.5299e-01, -4.9590e-03],\n",
       "          [ 4.9903e-02, -1.0848e-01, -4.7378e-02],\n",
       "          [-1.3759e-01, -1.3380e-01, -1.5007e-01]],\n",
       "\n",
       "         [[ 1.7118e-02,  9.1404e-02, -8.6644e-02],\n",
       "          [ 2.2647e-01, -1.6108e-01, -2.3822e-01],\n",
       "          [-7.2090e-02, -1.3699e-02, -5.8747e-02]]],\n",
       "\n",
       "\n",
       "        [[[ 8.5515e-02,  3.1328e-02,  1.3863e-02],\n",
       "          [ 1.0954e-01,  1.0204e-01,  1.1508e-01],\n",
       "          [ 2.7533e-02, -5.8563e-04, -3.5514e-03]],\n",
       "\n",
       "         [[ 7.1853e-02,  1.5439e-01,  8.9623e-02],\n",
       "          [ 1.0502e-01,  1.5036e-01,  5.1100e-02],\n",
       "          [ 3.8509e-02, -1.6848e-02,  6.8679e-02]],\n",
       "\n",
       "         [[ 6.2592e-02,  1.1114e-01,  6.1780e-02],\n",
       "          [ 1.1312e-01, -3.1132e-01, -1.2095e-01],\n",
       "          [-1.6080e-02,  1.1356e-01,  2.8526e-02]],\n",
       "\n",
       "         ...,\n",
       "\n",
       "         [[ 2.3859e-01,  1.4083e-01, -1.4918e-01],\n",
       "          [-2.7466e-01,  1.0810e-01, -8.9304e-02],\n",
       "          [-6.2127e-02,  1.2684e-01,  1.3833e-01]],\n",
       "\n",
       "         [[-7.4341e-02, -1.7169e-01,  2.1592e-02],\n",
       "          [ 5.0244e-02, -8.5124e-02,  9.5956e-02],\n",
       "          [-6.9115e-03,  2.8174e-02,  1.2105e-01]],\n",
       "\n",
       "         [[ 9.4536e-02,  1.0739e-01,  1.4524e-01],\n",
       "          [ 5.9986e-02, -2.1565e-01, -6.9837e-02],\n",
       "          [ 6.1322e-02,  2.3975e-03,  1.1546e-02]]]], requires_grad=True)"
      ]
     },
     "execution_count": 152,
     "metadata": {},
     "output_type": "execute_result"
    }
   ],
   "source": [
    "ll11.conv1.weight"
   ]
  },
  {
   "cell_type": "code",
   "execution_count": 149,
   "id": "ae49e1bc",
   "metadata": {},
   "outputs": [
    {
     "data": {
      "text/plain": [
       "<matplotlib.image.AxesImage at 0x7fc9176f4e80>"
      ]
     },
     "execution_count": 149,
     "metadata": {},
     "output_type": "execute_result"
    },
    {
     "data": {
      "image/png": "[encoded data removed]",
      "text/plain": [
       "<Figure size 432x288 with 1 Axes>"
      ]
     },
     "metadata": {
      "needs_background": "light"
     },
     "output_type": "display_data"
    }
   ],
   "source": [
    "# layer1-1\n",
    "ll11 = org_model.layer1._modules['0']\n",
    "\n",
    "tt4 = ll11.conv1(tt2)\n",
    "plt.imshow(tt4[0,3].detach().cpu())"
   ]
  },
  {
   "cell_type": "code",
   "execution_count": 150,
   "id": "a061088c",
   "metadata": {
    "scrolled": false
   },
   "outputs": [
    {
     "name": "stdout",
     "output_type": "stream",
     "text": [
      "4 tensor([[-1.4752, -2.0341, -1.8589, -0.2057, -0.8736, -1.0530],\n",
      "        [-1.4893, -2.0867, -1.7438, -0.1942, -1.0180, -0.7687],\n",
      "        [-1.5190, -2.1275, -1.6479, -0.0357, -0.8300, -0.6085],\n",
      "        [-1.5402, -2.1481, -1.6701, -0.0155, -0.5195, -1.0606],\n",
      "        [-1.5103, -2.1188, -1.6984, -0.0334, -0.2528, -1.2481],\n",
      "        [-1.5070, -2.0801, -1.7340, -0.0946, -0.0685, -0.7609]],\n",
      "       grad_fn=<SliceBackward0>) torch.Size([32, 32])\n"
     ]
    }
   ],
   "source": [
    "print(\"4\", tt4[0,3,12:18,12:18], tt4[0,3].shape)"
   ]
  },
  {
   "cell_type": "code",
   "execution_count": 147,
   "id": "d778fc66",
   "metadata": {},
   "outputs": [
    {
     "name": "stdout",
     "output_type": "stream",
     "text": [
      "5 tensor([[-0.1892, -0.4258, -0.3517,  0.3482,  0.0655, -0.0105],\n",
      "        [-0.1952, -0.4481, -0.3030,  0.3531,  0.0043,  0.1099],\n",
      "        [-0.2077, -0.4654, -0.2624,  0.4202,  0.0839,  0.1777],\n",
      "        [-0.2167, -0.4741, -0.2717,  0.4287,  0.2154, -0.0137],\n",
      "        [-0.2041, -0.4617, -0.2837,  0.4211,  0.3283, -0.0931],\n",
      "        [-0.2027, -0.4453, -0.2988,  0.3952,  0.4063,  0.1132]],\n",
      "       grad_fn=<SliceBackward0>) torch.Size([32, 32])\n",
      "6 tensor([[0.0000, 0.0000, 0.0000, 0.3482, 0.0655, 0.0000],\n",
      "        [0.0000, 0.0000, 0.0000, 0.3531, 0.0043, 0.1099],\n",
      "        [0.0000, 0.0000, 0.0000, 0.4202, 0.0839, 0.1777],\n",
      "        [0.0000, 0.0000, 0.0000, 0.4287, 0.2154, 0.0000],\n",
      "        [0.0000, 0.0000, 0.0000, 0.4211, 0.3283, 0.0000],\n",
      "        [0.0000, 0.0000, 0.0000, 0.3952, 0.4063, 0.1132]],\n",
      "       grad_fn=<SliceBackward0>) torch.Size([32, 32])\n",
      "7 tensor([[-1.7274, -1.5217, -0.5743, -2.9900, -1.6750, -0.2602],\n",
      "        [-1.7636, -1.3766, -0.7448, -2.5874, -1.4740, -1.0487],\n",
      "        [-1.7695, -1.2929, -0.9242, -2.5896, -1.6004, -1.0885],\n",
      "        [-1.7214, -1.2589, -0.9075, -2.3029, -2.0650, -0.5142],\n",
      "        [-1.6840, -1.2673, -0.7432, -2.0559, -2.1960, -0.7696],\n",
      "        [-1.5486, -1.1845, -0.7939, -2.0954, -1.9844, -1.6626]],\n",
      "       grad_fn=<SliceBackward0>) torch.Size([32, 32])\n",
      "8 tensor([[-0.4623, -0.2831,  0.5417, -1.5615, -0.4166,  0.8152],\n",
      "        [-0.4938, -0.1568,  0.3933, -1.2110, -0.2416,  0.1287],\n",
      "        [-0.4990, -0.0840,  0.2371, -1.2129, -0.3517,  0.0940],\n",
      "        [-0.4570, -0.0543,  0.2516, -0.9634, -0.7562,  0.5940],\n",
      "        [-0.4245, -0.0617,  0.3947, -0.7482, -0.8703,  0.3716],\n",
      "        [-0.3066,  0.0104,  0.3505, -0.7827, -0.6860, -0.4059]],\n",
      "       grad_fn=<SliceBackward0>) torch.Size([32, 32])\n",
      "9 tensor([[ 0.6726,  0.8804,  1.6455, -1.0207,  0.2700,  1.5952],\n",
      "        [ 0.6297,  1.0061,  1.4539, -0.6914,  0.3854,  0.7208],\n",
      "        [ 0.6190,  1.0879,  1.2604, -0.7301,  0.2084,  0.6774],\n",
      "        [ 0.6682,  1.1234,  1.2940, -0.4797, -0.2659,  1.2951],\n",
      "        [ 0.7097,  1.1196,  1.4764, -0.2241, -0.4468,  1.0385],\n",
      "        [ 0.8275,  1.1981,  1.4814, -0.1917, -0.2880,  0.0663]],\n",
      "       grad_fn=<SliceBackward0>) torch.Size([32, 32])\n",
      "10 tensor([[0.6726, 0.8804, 1.6455, 0.0000, 0.2700, 1.5952],\n",
      "        [0.6297, 1.0061, 1.4539, 0.0000, 0.3854, 0.7208],\n",
      "        [0.6190, 1.0879, 1.2604, 0.0000, 0.2084, 0.6774],\n",
      "        [0.6682, 1.1234, 1.2940, 0.0000, 0.0000, 1.2951],\n",
      "        [0.7097, 1.1196, 1.4764, 0.0000, 0.0000, 1.0385],\n",
      "        [0.8275, 1.1981, 1.4814, 0.0000, 0.0000, 0.0663]],\n",
      "       grad_fn=<SliceBackward0>) torch.Size([32, 32])\n"
     ]
    }
   ],
   "source": [
    "tt5 = ll11.bn1(tt4)\n",
    "print(\"5\", tt5[0,3,12:18,12:18], tt5[0,3].shape)\n",
    "tt6 = ll11.activation(tt5)\n",
    "print(\"6\", tt6[0,3,12:18,12:18], tt6[0,3].shape)\n",
    "tt7 = ll11.conv2(tt6)\n",
    "print(\"7\", tt7[0,3,12:18,12:18], tt7[0,3].shape)\n",
    "tt8 = ll11.bn2(tt7)\n",
    "print(\"8\", tt8[0,3,12:18,12:18], tt8[0,3].shape)\n",
    "\n",
    "tt9 = tt8 + tt2\n",
    "print(\"9\", tt9[0,3,12:18,12:18], tt9[0,3].shape)\n",
    "tt10 = ll11.activation(tt9)\n",
    "print(\"10\", tt10[0,3,12:18,12:18], tt10[0,3].shape)"
   ]
  },
  {
   "cell_type": "code",
   "execution_count": 31,
   "id": "391b3579",
   "metadata": {},
   "outputs": [
    {
     "name": "stdout",
     "output_type": "stream",
     "text": [
      "1 tensor([-0.1964,  0.2486,  0.2336,  0.2163,  0.1935,  0.1819,  0.1850,  0.1802,\n",
      "         0.1580,  0.1356,  0.1227,  0.1190,  0.1110,  0.1052,  0.0989,  0.0914,\n",
      "         0.0932,  0.1179,  0.1544,  0.1905], grad_fn=<SliceBackward0>) torch.Size([32, 32])\n",
      "2 tensor([-0.4315,  0.0654,  0.0487,  0.0294,  0.0039, -0.0091, -0.0056, -0.0109,\n",
      "        -0.0357, -0.0607, -0.0752, -0.0792, -0.0883, -0.0947, -0.1018, -0.1102,\n",
      "        -0.1082, -0.0805, -0.0398,  0.0006], grad_fn=<SliceBackward0>) torch.Size([32, 32])\n",
      "3 tensor([0.0000, 0.0654, 0.0487, 0.0294, 0.0039, 0.0000, 0.0000, 0.0000, 0.0000,\n",
      "        0.0000, 0.0000, 0.0000, 0.0000, 0.0000, 0.0000, 0.0000, 0.0000, 0.0000,\n",
      "        0.0000, 0.0006], grad_fn=<SliceBackward0>) torch.Size([32, 32])\n",
      "4 tensor([0.6576, 0.7646, 0.5695, 0.5572, 0.5694, 0.5820, 0.5678, 0.5511, 0.4982,\n",
      "        0.4601, 0.4350, 0.4568, 0.4719, 0.4728, 0.4722, 0.5216, 0.5830, 0.6700,\n",
      "        0.6962, 0.7269], grad_fn=<SliceBackward0>) torch.Size([32, 32])\n",
      "5 tensor([-0.2577, -0.1861, -0.3166, -0.3249, -0.3167, -0.3083, -0.3177, -0.3289,\n",
      "        -0.3643, -0.3898, -0.4066, -0.3920, -0.3819, -0.3813, -0.3817, -0.3486,\n",
      "        -0.3076, -0.2494, -0.2319, -0.2113], grad_fn=<SliceBackward0>) torch.Size([32, 32])\n",
      "6 tensor([0., 0., 0., 0., 0., 0., 0., 0., 0., 0., 0., 0., 0., 0., 0., 0., 0., 0., 0., 0.],\n",
      "       grad_fn=<SliceBackward0>) torch.Size([32, 32])\n",
      "7 tensor([0.6576, 0.7646, 0.5695, 0.5572, 0.5694, 0.5820, 0.5678, 0.5511, 0.4982,\n",
      "        0.4601, 0.4350, 0.4568, 0.4719, 0.4728, 0.4722, 0.5216, 0.5830, 0.6700,\n",
      "        0.6962, 0.7269], grad_fn=<SliceBackward0>) torch.Size([32, 32])\n",
      "8 tensor([-0.2577, -0.1861, -0.3166, -0.3249, -0.3167, -0.3083, -0.3177, -0.3289,\n",
      "        -0.3643, -0.3898, -0.4066, -0.3920, -0.3819, -0.3813, -0.3817, -0.3486,\n",
      "        -0.3076, -0.2494, -0.2319, -0.2113], grad_fn=<SliceBackward0>) torch.Size([32, 32])\n",
      "9 tensor([-0.2577, -0.1207, -0.2679, -0.2954, -0.3128, -0.3083, -0.3177, -0.3289,\n",
      "        -0.3643, -0.3898, -0.4066, -0.3920, -0.3819, -0.3813, -0.3817, -0.3486,\n",
      "        -0.3076, -0.2494, -0.2319, -0.2107], grad_fn=<SliceBackward0>) torch.Size([32, 32])\n",
      "10 tensor([0., 0., 0., 0., 0., 0., 0., 0., 0., 0., 0., 0., 0., 0., 0., 0., 0., 0., 0., 0.],\n",
      "       grad_fn=<SliceBackward0>) torch.Size([32, 32])\n"
     ]
    }
   ],
   "source": [
    "# layer1-2\n",
    "ll12 = org_model.layer1._modules['1']\n",
    "\n",
    "tt1 = ll12.conv1(tt)\n",
    "tt1 = ll12.bn1(tt1)\n",
    "tt1 = ll12.activation(tt1)\n",
    "tt1 = ll12.conv1(tt)\n",
    "tt1 = ll12.bn1(tt1)\n",
    "\n",
    "tt1 = tt1 + tt\n",
    "tt1 = ll12.activation(tt1)"
   ]
  },
  {
   "cell_type": "code",
   "execution_count": null,
   "id": "87106b98",
   "metadata": {},
   "outputs": [],
   "source": []
  }
 ],
 "metadata": {
  "kernelspec": {
   "display_name": "Python 3 (ipykernel)",
   "language": "python",
   "name": "python3"
  },
  "language_info": {
   "codemirror_mode": {
    "name": "ipython",
    "version": 3
   },
   "file_extension": ".py",
   "mimetype": "text/x-python",
   "name": "python",
   "nbconvert_exporter": "python",
   "pygments_lexer": "ipython3",
   "version": "3.9.7"
  }
 },
 "nbformat": 4,
 "nbformat_minor": 5
}
