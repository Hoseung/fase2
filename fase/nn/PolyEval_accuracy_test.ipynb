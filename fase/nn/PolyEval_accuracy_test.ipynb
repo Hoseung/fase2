{
 "cells": [
  {
   "cell_type": "code",
   "execution_count": 1,
   "id": "83e11d50",
   "metadata": {},
   "outputs": [],
   "source": [
    "%load_ext autoreload\n",
    "%autoreload 2"
   ]
  },
  {
   "cell_type": "code",
   "execution_count": 2,
   "id": "fbc335ad",
   "metadata": {
    "scrolled": true
   },
   "outputs": [
    {
     "name": "stdout",
     "output_type": "stream",
     "text": [
      "Using CPU version HEAAN\n"
     ]
    }
   ],
   "source": [
    "import numpy as np\n",
    "import matplotlib.pyplot as plt \n",
    "\n",
    "from fase.core.common import HEAANContext\n",
    "\n",
    "from fase import HEAAN as he\n",
    "\n",
    "class Param():\n",
    "    def __init__(self, n=None, logn=None, logp=None, logq=None, logQboot=None):\n",
    "        self.n = n\n",
    "        self.logn = logn\n",
    "        self.logp = logp\n",
    "        self.logq = logq \n",
    "        self.logQboot = logQboot\n",
    "        if self.logn == None:\n",
    "            self.logn = int(np.log2(n))"
   ]
  },
  {
   "cell_type": "code",
   "execution_count": 23,
   "id": "55e93b2f",
   "metadata": {},
   "outputs": [
    {
     "name": "stdout",
     "output_type": "stream",
     "text": [
      "Enc Key:INIT1\n",
      " EncKey.txt\n",
      "conj Key: ConjKey.txt\n"
     ]
    }
   ],
   "source": [
    "logq = 600\n",
    "logp = 50\n",
    "logn = 8\n",
    "n = 1*2**logn\n",
    "slots = n\n",
    "\n",
    "parms = Param(n=n, logp=logp, logq=logq)\n",
    "\n",
    "do_reduction=False\n",
    "\n",
    "\n",
    "ring = he.Ring()\n",
    "secretKey = he.SecretKey(ring)\n",
    "\n",
    "scheme = he.Scheme(secretKey, ring, True)\n",
    "\n",
    "print(\"Enc Key:\", scheme._cpp_EncKeyName)\n",
    "print(\"conj Key:\", scheme._cpp_ConjKeyName)\n",
    "\n",
    "algo = he.SchemeAlgo(scheme)"
   ]
  },
  {
   "cell_type": "code",
   "execution_count": 49,
   "id": "01acbdb8",
   "metadata": {},
   "outputs": [
    {
     "data": {
      "text/plain": [
       "[<matplotlib.lines.Line2D at 0x7f13c8c1c8e0>]"
      ]
     },
     "execution_count": 49,
     "metadata": {},
     "output_type": "execute_result"
    },
    {
     "data": {
      "image/png": "[encoded data removed]",
      "text/plain": [
       "<Figure size 432x288 with 1 Axes>"
      ]
     },
     "metadata": {
      "needs_background": "light"
     },
     "output_type": "display_data"
    }
   ],
   "source": [
    "from numpy.polynomial import chebyshev\n",
    "\n",
    "def sigmoid(x):\n",
    "    return 1./(1.+np.exp(-x))\n",
    "\n",
    "def ReLU(x):\n",
    "    return x * (x > 0)\n",
    "\n",
    "def _exp(x, a=1):\n",
    "    return a*(np.exp(x)-1)\n",
    "\n",
    "def ELU(x, a=1):\n",
    "    return np.piecewise(x, [x<0, x>=0], [lambda x:_exp(x,a=a), lambda x:x])\n",
    "\n",
    "def swish(x):\n",
    "    return x * sigmoid(x)\n",
    "\n",
    "xx = np.linspace(-37, 30, 256)\n",
    "deg = 10\n",
    "#apprx_swish = chebyshev.Chebyshev.fit(xx, swish(xx), deg=deg) # F.elu 64%\n",
    "#apprx_elu = chebyshev.Chebyshev.fit(xx, ELU(xx), deg=deg) # F.elu\n",
    "apprx_relu = chebyshev.Chebyshev.fit(xx, ReLU(xx), deg=deg) # 150 iterations, 63%\n",
    "\n",
    "apprx = apprx_relu\n",
    "\n",
    "plt.plot(xx, apprx(xx))\n",
    "plt.plot(xx, ReLU(xx))"
   ]
  },
  {
   "cell_type": "code",
   "execution_count": 25,
   "id": "b45b2ae2",
   "metadata": {},
   "outputs": [],
   "source": [
    "def encrypt(xx):\n",
    "    # n = nslots\n",
    "    vv = np.zeros(n)\n",
    "    vv[:len(xx)] = xx\n",
    "    ctxt = he.Ciphertext()\n",
    "    scheme.encrypt(ctxt, he.Double(xx), n, logp, logq)\n",
    "    return ctxt\n",
    "    \n",
    "def decrypt(ctxt):\n",
    "    dd = scheme.decrypt(secretKey, ctxt)\n",
    "    arr = np.zeros(ctxt.n, dtype=np.complex128)\n",
    "    dd.__getarr__(arr)\n",
    "    del dd\n",
    "    return arr.real\n"
   ]
  },
  {
   "cell_type": "markdown",
   "id": "a6165101",
   "metadata": {},
   "source": [
    "### function poly \n",
    "\n",
    "If it works, it's the best case."
   ]
  },
  {
   "cell_type": "code",
   "execution_count": 26,
   "id": "03e192aa",
   "metadata": {},
   "outputs": [],
   "source": [
    "ctxt = encrypt(xx)"
   ]
  },
  {
   "cell_type": "code",
   "execution_count": 27,
   "id": "0b5ac684",
   "metadata": {},
   "outputs": [],
   "source": [
    "from numpy import polynomial as P\n",
    "\n",
    "power = apprx_swish.convert(kind=P.Polynomial)\n",
    "\n",
    "coeffs = power.coef"
   ]
  },
  {
   "cell_type": "code",
   "execution_count": 28,
   "id": "23b51768",
   "metadata": {},
   "outputs": [],
   "source": [
    "output = he.Ciphertext()\n",
    "algo.function_poly(output, \n",
    "           ctxt, \n",
    "           he.Double(coeffs), \n",
    "           logp, \n",
    "           len(coeffs)-1)"
   ]
  },
  {
   "cell_type": "code",
   "execution_count": 29,
   "id": "5d22490e",
   "metadata": {},
   "outputs": [
    {
     "data": {
      "text/plain": [
       "350"
      ]
     },
     "execution_count": 29,
     "metadata": {},
     "output_type": "execute_result"
    }
   ],
   "source": [
    "output.logq # 390?"
   ]
  },
  {
   "cell_type": "code",
   "execution_count": 30,
   "id": "b32a1cf8",
   "metadata": {},
   "outputs": [
    {
     "name": "stdout",
     "output_type": "stream",
     "text": [
      "10\n"
     ]
    },
    {
     "data": {
      "image/png": "[encoded data removed]",
      "text/plain": [
       "<Figure size 432x288 with 1 Axes>"
      ]
     },
     "metadata": {
      "needs_background": "light"
     },
     "output_type": "display_data"
    }
   ],
   "source": [
    "val = decrypt(output)\n",
    "\n",
    "plt.plot(xx, val, label = \"FHE\")\n",
    "plt.plot(xx, apprx_swish(xx), label=\"Python Approx\")\n",
    "plt.legend()\n",
    "plt.suptitle(f\"logp = {logp}, logq = {logq}, logn = {logn}\")\n",
    "plt.savefig(f\"FHE_accuracy_deg-{deg}_{logq}_{logp}_{logn}.png\")\n",
    "print(deg)"
   ]
  },
  {
   "cell_type": "markdown",
   "id": "5f7d258a",
   "metadata": {},
   "source": [
    "#### logp를 올리는데 한계가 있다면.. 함수를 나누어서 계산\n",
    "왜 나눠야하는 걸까..."
   ]
  },
  {
   "cell_type": "code",
   "execution_count": 31,
   "id": "fd782605",
   "metadata": {},
   "outputs": [],
   "source": [
    "output2 = he.Ciphertext()\n",
    "algo.function_poly(output2, \n",
    "           output, \n",
    "           he.Double(coeffs), \n",
    "           logp, \n",
    "           len(coeffs)-1)"
   ]
  },
  {
   "cell_type": "code",
   "execution_count": 32,
   "id": "76bc0b0d",
   "metadata": {},
   "outputs": [
    {
     "data": {
      "text/plain": [
       "100"
      ]
     },
     "execution_count": 32,
     "metadata": {},
     "output_type": "execute_result"
    }
   ],
   "source": [
    "output2.logq"
   ]
  },
  {
   "cell_type": "code",
   "execution_count": 33,
   "id": "5d576d2a",
   "metadata": {},
   "outputs": [
    {
     "name": "stdout",
     "output_type": "stream",
     "text": [
      "10\n"
     ]
    },
    {
     "data": {
      "image/png": "[encoded data removed]",
      "text/plain": [
       "<Figure size 432x288 with 1 Axes>"
      ]
     },
     "metadata": {
      "needs_background": "light"
     },
     "output_type": "display_data"
    }
   ],
   "source": [
    "plt.plot(xx, decrypt(output2), label = \"FHE\")\n",
    "plt.plot(xx, apprx_swish(apprx_swish(xx)), label=\"Python Approx\")\n",
    "plt.legend()\n",
    "plt.suptitle(f\"logp = {logp}, logq = {logq}, logn = {logn}\")\n",
    "plt.savefig(f\"FHE_accuracy_deg-{deg}_{logq}_{logp}_{logn}_xx2.png\")\n",
    "print(deg)"
   ]
  },
  {
   "cell_type": "code",
   "execution_count": null,
   "id": "aea2f9dd",
   "metadata": {},
   "outputs": [],
   "source": []
  },
  {
   "cell_type": "code",
   "execution_count": null,
   "id": "f05416e9",
   "metadata": {},
   "outputs": [],
   "source": [
    "plt.plot(xx, decrypt(output2), label = \"FHE\")\n",
    "plt.plot(xx, apprx_swish(apprx_swish(xx)), label=\"Python Approx\")\n",
    "plt.legend()\n",
    "plt.suptitle(f\"logp = {logp}, logq = {logq}, logn = {logn}\")\n",
    "plt.savefig(f\"FHE_accuracy_deg-{deg}_{logq}_{logp}_{logn}_xx2.png\")\n",
    "print(deg)"
   ]
  },
  {
   "cell_type": "code",
   "execution_count": 36,
   "id": "ebabba94",
   "metadata": {},
   "outputs": [],
   "source": [
    "yy = apprx_swish(apprx_swish(xx))"
   ]
  },
  {
   "cell_type": "code",
   "execution_count": 101,
   "id": "2dfcc2b8",
   "metadata": {},
   "outputs": [],
   "source": [
    "xx = np.linspace(-37, 30, 512)\n",
    "deg = 9\n",
    "#apprx_swish = chebyshev.Chebyshev.fit(xx, swish(xx), deg=deg) # F.elu 64%\n",
    "#apprx_elu = chebyshev.Chebyshev.fit(xx, ELU(xx), deg=deg) # F.elu\n",
    "apprx7 = chebyshev.Chebyshev.fit(xx, ReLU(xx-0.1), deg=8) # 150 iterations, 63%\n",
    "apprx8 = chebyshev.Chebyshev.fit(xx, ReLU(xx), deg=8) # 150 iterations, 63%\n",
    "apprx9 = chebyshev.Chebyshev.fit(xx, ReLU(xx+0.1), deg=8) # 150 iterations, 63%\n",
    "\n",
    "#apprx = apprx_relu"
   ]
  },
  {
   "cell_type": "code",
   "execution_count": 131,
   "id": "4672184d",
   "metadata": {},
   "outputs": [
    {
     "data": {
      "image/png": "[encoded data removed]",
      "text/plain": [
       "<Figure size 720x288 with 2 Axes>"
      ]
     },
     "metadata": {
      "needs_background": "light"
     },
     "output_type": "display_data"
    }
   ],
   "source": [
    "xx2 = np.linspace(-37, 17, 512)\n",
    "\n",
    "fig, axs = plt.subplots(1,2, figsize=(10,4))\n",
    "#axs[0].plot(xx2, apprx7(apprx8(apprx9(xx2))), label=\"3\")\n",
    "axs[0].plot(xx2, apprx8(apprx8(apprx8(xx2)))-1.8, label=\"3-1\")\n",
    "axs[0].plot(xx2, apprx8(apprx8(apprx8(apprx8(xx2))))-2.2, label=\"3-2\")\n",
    "#axs[0].plot(xx2, apprx8(apprx9(xx2)), label=\"Python Approx2\")\n",
    "axs[0].plot(xx2, apprx9(xx2), label=\"Python Approx\")\n",
    "axs[0].plot(xx2, ReLU(xx2), label=\"exact\")\n",
    "axs[0].legend()\n",
    "axs[0].set_xlim([-10,2])\n",
    "axs[0].set_ylim([-3,7])\n",
    "\n",
    "#axs[1].plot(xx2, apprx7(apprx8(apprx9(xx2))), label=\"3\")\n",
    "axs[1].plot(xx2, apprx8(apprx8(apprx8(xx2)))-2, label=\"3-1\")\n",
    "axs[1].plot(xx2, apprx8(apprx8(apprx8(apprx8(xx2))))-2.2, label=\"3-2\")\n",
    "#axs[1].plot(xx2, apprx8(apprx9(xx2)), label=\"Python Approx2\")\n",
    "#axs[1].plot(xx2, apprx9(xx2), label=\"Python Approx\")\n",
    "axs[1].plot(xx2, ReLU(xx2), label=\"exact\")\n",
    "axs[1].legend()\n",
    "\n",
    "\n",
    "plt.show()"
   ]
  },
  {
   "cell_type": "code",
   "execution_count": 144,
   "id": "8ba91a7a",
   "metadata": {},
   "outputs": [
    {
     "data": {
      "image/png": "[encoded data removed]",
      "text/plain": [
       "<Figure size 432x288 with 1 Axes>"
      ]
     },
     "metadata": {
      "needs_background": "light"
     },
     "output_type": "display_data"
    }
   ],
   "source": [
    "plt.hist(apprx8(apprx8(apprx8(apprx8(xx2[xx2 < 1]))))-2.3, bins=100)\n",
    "plt.show()"
   ]
  },
  {
   "cell_type": "code",
   "execution_count": null,
   "id": "1b222960",
   "metadata": {},
   "outputs": [],
   "source": [
    "x1 = np.linspace(-37, 0, 512)\n",
    "plt.plot(x1, apprx8(apprx8(apprx8(apprx8(x1))))-2, label=\"3-2\")"
   ]
  },
  {
   "cell_type": "code",
   "execution_count": null,
   "id": "cc942724",
   "metadata": {},
   "outputs": [],
   "source": []
  },
  {
   "cell_type": "code",
   "execution_count": null,
   "id": "d59f9361",
   "metadata": {},
   "outputs": [],
   "source": []
  },
  {
   "cell_type": "code",
   "execution_count": null,
   "id": "f13df3d5",
   "metadata": {},
   "outputs": [],
   "source": []
  },
  {
   "cell_type": "markdown",
   "id": "07a121ae",
   "metadata": {},
   "source": [
    "### HEAANContext... "
   ]
  },
  {
   "cell_type": "code",
   "execution_count": null,
   "id": "19436b40",
   "metadata": {},
   "outputs": [],
   "source": [
    "ckks_he = HEAANContext(5, 30, 150, boot=True)"
   ]
  },
  {
   "cell_type": "code",
   "execution_count": null,
   "id": "636e260a",
   "metadata": {},
   "outputs": [],
   "source": []
  }
 ],
 "metadata": {
  "kernelspec": {
   "display_name": "Python 3 (ipykernel)",
   "language": "python",
   "name": "python3"
  },
  "language_info": {
   "codemirror_mode": {
    "name": "ipython",
    "version": 3
   },
   "file_extension": ".py",
   "mimetype": "text/x-python",
   "name": "python",
   "nbconvert_exporter": "python",
   "pygments_lexer": "ipython3",
   "version": "3.9.0"
  }
 },
 "nbformat": 4,
 "nbformat_minor": 5
}
