{
 "cells": [
  {
   "cell_type": "code",
   "execution_count": 4,
   "id": "881350bd",
   "metadata": {},
   "outputs": [],
   "source": [
    "import numpy as np \n",
    "import torch\n",
    "from torch import nn"
   ]
  },
  {
   "cell_type": "code",
   "execution_count": 2,
   "id": "a6baa079",
   "metadata": {},
   "outputs": [
    {
     "name": "stderr",
     "output_type": "stream",
     "text": [
      "/tmp/ipykernel_510474/1667822165.py:1: UserWarning: Creating a tensor from a list of numpy.ndarrays is extremely slow. Please consider converting the list to a single numpy.ndarray with numpy.array() before converting to a tensor. (Triggered internally at  /opt/conda/conda-bld/pytorch_1634272204863/work/torch/csrc/utils/tensor_new.cpp:201.)\n",
      "  tt = torch.Tensor([np.arange(4), np.arange(1,5), np.arange(2,6)])\n"
     ]
    }
   ],
   "source": [
    "tt = torch.Tensor([np.arange(4), np.arange(1,5), np.arange(2,6)])"
   ]
  },
  {
   "cell_type": "code",
   "execution_count": 3,
   "id": "a192e8cc",
   "metadata": {},
   "outputs": [
    {
     "data": {
      "text/plain": [
       "tensor([[0., 1., 2., 3.],\n",
       "        [1., 2., 3., 4.],\n",
       "        [2., 3., 4., 5.]])"
      ]
     },
     "execution_count": 3,
     "metadata": {},
     "output_type": "execute_result"
    }
   ],
   "source": [
    "tt"
   ]
  },
  {
   "cell_type": "code",
   "execution_count": 8,
   "id": "fcd3a040",
   "metadata": {},
   "outputs": [],
   "source": [
    "fc1 = nn.Linear(4, 5, bias=True)"
   ]
  },
  {
   "cell_type": "code",
   "execution_count": 10,
   "id": "32a3dc08",
   "metadata": {},
   "outputs": [
    {
     "data": {
      "text/plain": [
       "Parameter containing:\n",
       "tensor([[ 0.3798, -0.4213,  0.2521,  0.0033],\n",
       "        [-0.1171, -0.4543,  0.1561,  0.1094],\n",
       "        [-0.2132,  0.3703,  0.0283, -0.4095],\n",
       "        [ 0.1693, -0.0315,  0.1906,  0.0009],\n",
       "        [-0.1772, -0.3147,  0.2925,  0.1102]], requires_grad=True)"
      ]
     },
     "execution_count": 10,
     "metadata": {},
     "output_type": "execute_result"
    }
   ],
   "source": [
    "fc1.weight"
   ]
  },
  {
   "cell_type": "code",
   "execution_count": 9,
   "id": "8d8041ff",
   "metadata": {},
   "outputs": [
    {
     "data": {
      "text/plain": [
       "tensor([[-0.1546,  0.3140, -1.0286, -0.0135,  0.3454],\n",
       "        [ 0.0592,  0.0081, -1.2526,  0.3157,  0.2563],\n",
       "        [ 0.2730, -0.2977, -1.4767,  0.6449,  0.1671]],\n",
       "       grad_fn=<AddmmBackward0>)"
      ]
     },
     "execution_count": 9,
     "metadata": {},
     "output_type": "execute_result"
    }
   ],
   "source": [
    "fc1(tt)"
   ]
  },
  {
   "cell_type": "code",
   "execution_count": 12,
   "id": "dd34ca31",
   "metadata": {},
   "outputs": [
    {
     "data": {
      "text/plain": [
       "Parameter containing:\n",
       "tensor([-0.2474,  0.1279, -0.2272, -0.3657, -0.2555], requires_grad=True)"
      ]
     },
     "execution_count": 12,
     "metadata": {},
     "output_type": "execute_result"
    }
   ],
   "source": [
    "fc1.bias"
   ]
  },
  {
   "cell_type": "code",
   "execution_count": 11,
   "id": "1848a2f2",
   "metadata": {},
   "outputs": [
    {
     "data": {
      "text/plain": [
       "0.09279999999999997"
      ]
     },
     "execution_count": 11,
     "metadata": {},
     "output_type": "execute_result"
    }
   ],
   "source": [
    "-0.4213 + 2*0.2521 + 3*0.0033"
   ]
  },
  {
   "cell_type": "code",
   "execution_count": 20,
   "id": "67199b5d",
   "metadata": {},
   "outputs": [],
   "source": [
    "w = fc1.weight.detach().numpy()\n",
    "\n",
    "x = tt.detach().numpy()\n",
    "\n",
    "b = fc1.bias.detach().numpy()"
   ]
  },
  {
   "cell_type": "code",
   "execution_count": 21,
   "id": "3d909d09",
   "metadata": {},
   "outputs": [
    {
     "data": {
      "text/plain": [
       "array([[-0.15463936,  0.3140058 , -1.0286276 , -0.01346123,  0.34543788],\n",
       "       [ 0.0591796 ,  0.00813413, -1.2526481 ,  0.3157277 ,  0.25625777],\n",
       "       [ 0.2729985 , -0.29773754, -1.4766684 ,  0.6449167 ,  0.16707772]],\n",
       "      dtype=float32)"
      ]
     },
     "execution_count": 21,
     "metadata": {},
     "output_type": "execute_result"
    }
   ],
   "source": [
    "np.matmul(x, w.T) + b"
   ]
  },
  {
   "cell_type": "code",
   "execution_count": null,
   "id": "6e55df26",
   "metadata": {},
   "outputs": [],
   "source": []
  },
  {
   "cell_type": "code",
   "execution_count": 23,
   "id": "cb0672b7",
   "metadata": {},
   "outputs": [],
   "source": [
    "import pickle"
   ]
  },
  {
   "cell_type": "code",
   "execution_count": 24,
   "id": "cc72ecb7",
   "metadata": {},
   "outputs": [],
   "source": [
    "mat = pickle.load(open(\"AfterConv5.picle\", \"rb\"))\n",
    "fc1 = pickle.load(open(\"fc1.pickle\", \"rb\"))\n",
    "\n",
    "org_tt9 = pickle.load(open(\"org_tt9.pickle\", \"rb\"))\n",
    "\n",
    "ww, bb = fc1"
   ]
  },
  {
   "cell_type": "code",
   "execution_count": null,
   "id": "b00724d7",
   "metadata": {},
   "outputs": [],
   "source": [
    "org_tt"
   ]
  }
 ],
 "metadata": {
  "kernelspec": {
   "display_name": "Python 3 (ipykernel)",
   "language": "python",
   "name": "python3"
  },
  "language_info": {
   "codemirror_mode": {
    "name": "ipython",
    "version": 3
   },
   "file_extension": ".py",
   "mimetype": "text/x-python",
   "name": "python",
   "nbconvert_exporter": "python",
   "pygments_lexer": "ipython3",
   "version": "3.9.0"
  }
 },
 "nbformat": 4,
 "nbformat_minor": 5
}
