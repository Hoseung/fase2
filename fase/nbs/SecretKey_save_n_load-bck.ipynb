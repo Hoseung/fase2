{
 "cells": [
  {
   "cell_type": "markdown",
   "id": "94ef4437",
   "metadata": {},
   "source": [
    "# Key and Ciphertext saving"
   ]
  },
  {
   "cell_type": "markdown",
   "id": "9b7bd91a",
   "metadata": {},
   "source": [
    "Load packages "
   ]
  },
  {
   "cell_type": "code",
   "execution_count": 7,
   "id": "abf2370c",
   "metadata": {},
   "outputs": [
    {
     "name": "stdout",
     "output_type": "stream",
     "text": [
      "Using CPU version HEAAN\n",
      "The autoreload extension is already loaded. To reload it, use:\n",
      "  %reload_ext autoreload\n"
     ]
    }
   ],
   "source": [
    "%load_ext autoreload\n",
    "%autoreload 2"
   ]
  },
  {
   "cell_type": "code",
   "execution_count": 31,
   "id": "61170858",
   "metadata": {},
   "outputs": [
    {
     "name": "stdout",
     "output_type": "stream",
     "text": [
      "Using CPU version HEAAN\n"
     ]
    }
   ],
   "source": [
    "from time import time\n",
    "import numpy as np\n",
    "import fase\n",
    "from fase import HEAAN as he\n",
    "from fase.core.common import HEAANContext"
   ]
  },
  {
   "cell_type": "markdown",
   "id": "5cca01f2",
   "metadata": {},
   "source": [
    "Set up FHE context.  \n",
    "Secret key is automatically stored."
   ]
  },
  {
   "cell_type": "code",
   "execution_count": 32,
   "id": "61b27b11",
   "metadata": {},
   "outputs": [
    {
     "name": "stdout",
     "output_type": "stream",
     "text": [
      "saving secret key done.\n",
      "HEAAN CKKS setup is ready\n",
      "Generating HEAAN context took 9.384517431259155 seonds\n",
      "logn  14,  logp 30,  logq120\n"
     ]
    }
   ],
   "source": [
    "logq = 120\n",
    "logp = 30\n",
    "logn = 14 # small logn for quick test\n",
    "n = 1*2**logn\n",
    "slots = n\n",
    "\n",
    "t0 = time()\n",
    "hec = HEAANContext(logn, logp, logq, boot=False, key_path=\"SecretKey.txt\", rot_l=[1,2])\n",
    "print(f\"Generating HEAAN context took {time() - t0} seonds\")\n",
    "print(f\"logn  {logn},  logp {logp},  logq{logq}\")"
   ]
  },
  {
   "cell_type": "markdown",
   "id": "3c1912b7",
   "metadata": {},
   "source": [
    "Generate a ctxt and save to a file"
   ]
  },
  {
   "cell_type": "code",
   "execution_count": 33,
   "id": "56b593f5",
   "metadata": {},
   "outputs": [
    {
     "data": {
      "text/plain": [
       "array([ 9.99998476e-01,  2.00000937e+00,  2.99999915e+00, ...,\n",
       "        3.20836457e-07, -1.80759889e-06, -1.00124951e-06])"
      ]
     },
     "execution_count": 33,
     "metadata": {},
     "output_type": "execute_result"
    }
   ],
   "source": [
    "ctxt = hec.encrypt([1,2,3])\n",
    "\n",
    "he.SerializationUtils.writeCiphertext(ctxt, \"ctxt.dat\")\n",
    "\n",
    "hec.decrypt(ctxt)"
   ]
  },
  {
   "cell_type": "markdown",
   "id": "bb555172",
   "metadata": {},
   "source": [
    "Second scheme using the stored key"
   ]
  },
  {
   "cell_type": "code",
   "execution_count": 38,
   "id": "e90ebedd",
   "metadata": {},
   "outputs": [
    {
     "name": "stdout",
     "output_type": "stream",
     "text": [
      "HEAAN CKKS setup is ready\n",
      "loading secret key done.\n"
     ]
    }
   ],
   "source": [
    "hec2 = HEAANContext(logn, logp, logq, boot=False, is_owner=False)\n",
    "\n",
    "do_reduction=False\n",
    "\n",
    "ring2 = he.Ring()\n",
    "scheme2 = he.Scheme(ring2, True)\n",
    "\n",
    "sk2 = he.SecretKey('SecretKey.txt')"
   ]
  },
  {
   "cell_type": "code",
   "execution_count": 39,
   "id": "80da087d",
   "metadata": {
    "scrolled": true
   },
   "outputs": [
    {
     "data": {
      "text/plain": [
       "(0.999998, 0.000002)"
      ]
     },
     "execution_count": 39,
     "metadata": {},
     "output_type": "execute_result"
    }
   ],
   "source": [
    "scheme2.decrypt(sk2, ctxt)"
   ]
  },
  {
   "cell_type": "markdown",
   "id": "f00c122c",
   "metadata": {},
   "source": [
    "## Client"
   ]
  },
  {
   "cell_type": "code",
   "execution_count": 7,
   "id": "bf335a00",
   "metadata": {},
   "outputs": [],
   "source": [
    "#from fase import HEAAN\n",
    "import fase.HEAAN as he\n",
    "import numpy as np\n",
    "import os \n",
    "import pickle\n",
    "from fase.hnrf.hetree import HNRF\n",
    "from fase.hnrf import heaan_nrf\n",
    "from fase.hnrf.tree import NeuralTreeMaker\n",
    "import torch\n",
    "\n",
    "from time import time\n",
    "\n",
    "PATH_SK = \"./\"\n",
    "CAM_NAMES= {1: \"e\",\n",
    "           2: \"e\",\n",
    "           3: \"a\",\n",
    "           4: \"e\",\n",
    "           5: \"e\",\n",
    "           6: \"e\",\n",
    "           7: \"e\",\n",
    "           8: \"a\",\n",
    "           9: \"a\",\n",
    "           10:\"e\",\n",
    "           11:\"e\",\n",
    "           12:\"e\",\n",
    "           13:\"a\",\n",
    "           14:\"e\"}\n",
    "DEBUG = False\n",
    "\n",
    "class HETreeFeaturizer:\n",
    "    \"\"\"Featurizer used by the client to encode and encrypt data.\n",
    "       모든 Context 정보를 다 필요로 함. \n",
    "       이것만 따로 class를 만들고 CKKS context 보내기 좀 귀찮은데? \n",
    "    \"\"\"\n",
    "    def __init__(self, comparator: np.ndarray,\n",
    "                 scheme, \n",
    "                 ckks_parms,\n",
    "                 use_symmetric_key=False):\n",
    "        self.comparator = comparator\n",
    "        self.scheme = scheme\n",
    "        #self.encoder = encoder\n",
    "        self._parms = ckks_parms\n",
    "        self.use_symmetric_key = use_symmetric_key\n",
    "\n",
    "    def encrypt(self, x: np.ndarray):\n",
    "        features = x[self.comparator]\n",
    "        features[self.comparator == -1] = 0\n",
    "        features = list(features)\n",
    "\n",
    "        ctx = self._encrypt(features)\n",
    "        return ctx\n",
    "\n",
    "    def _encrypt(self, val, n=None, logp=None, logq=None):\n",
    "        if n == None: n = self._parms.n\n",
    "        if logp == None: logp = self._parms.logp\n",
    "        if logq == None: logq = self._parms.logq\n",
    "\n",
    "        ctxt = he.Ciphertext()#logp, logq, n)\n",
    "        vv = np.zeros(n) # Need to initialize to zero or will cause \"unbound\"\n",
    "        vv[:len(val)] = val\n",
    "        self.scheme.encrypt(ctxt, he.Double(vv), n, logp, logq)\n",
    "        del vv\n",
    "        return ctxt\n",
    "\n",
    "    def save(self, path:str):\n",
    "        pickle.dump(self.comparator, open(path, \"wb\"))\n",
    "\n",
    "\n",
    "class Param():\n",
    "    def __init__(self, n=None, logn=None, logp=None, logq=None, logQboot=None):\n",
    "        self.n = n\n",
    "        self.logn = logn\n",
    "        self.logp = logp\n",
    "        self.logq = logq \n",
    "        self.logQboot = logQboot\n",
    "        if self.logn == None:\n",
    "            self.logn = int(np.log2(n))\n",
    "\n",
    "\n",
    "def decrypt(scheme, secretKey, enc, parms):\n",
    "    featurized = scheme.decrypt(secretKey, enc)\n",
    "    arr = np.zeros(parms.n, dtype=np.complex128)\n",
    "    featurized.__getarr__(arr)\n",
    "    return arr.real\n",
    "\n",
    "def encrypt(scheme, val, parms):\n",
    "    ctxt = he.Ciphertext()#logp, logq, n)\n",
    "    vv = np.zeros(parms.n) # Need to initialize to zero or will cause \"unbound\"\n",
    "    vv[:len(val)] = val\n",
    "    scheme.encrypt(ctxt, he.Double(vv), parms.n, parms.logp, parms.logq)\n",
    "    del vv\n",
    "    return ctxt"
   ]
  },
  {
   "cell_type": "code",
   "execution_count": 8,
   "id": "e76403ac",
   "metadata": {},
   "outputs": [],
   "source": [
    "class HEAAN_Encryptor():\n",
    "    def __init__(self, key_path, \n",
    "                debug=True, tar=False):\n",
    "\n",
    "        logq = 540\n",
    "        logp = 30\n",
    "        logn = 14\n",
    "        n = 1*2**logn\n",
    "        is_serialized = True\n",
    "        self.model_dir = \"/home/hoseung/Work/Kinect_BBS_demo/models/\"\n",
    "\n",
    "        self.parms = Param(n=n, logp=logp, logq=logq)\n",
    "        self.key_path = key_path\n",
    "        if debug: print(\"[ENCRYPTOR] key path\", key_path)\n",
    "\n",
    "        self.ring = he.Ring()\n",
    "        self.secretKey = he.SecretKey(PATH_SK)\n",
    "        #self.secretKey = he.SecretKey(self.ring, PATH_SK)\n",
    "        #self.scheme = he.Scheme(self.secretKey, self.ring, is_serialized, key_path)\n",
    "        #self.scheme.addLeftRotKey(self.secretKey, 1)\n",
    "        self.scheme = he.Scheme(self.ring, is_serialized, key_path)\n",
    "        self.algo = he.SchemeAlgo(self.scheme)\n",
    "        self.scheme.loadLeftRotKey(1)\n",
    "        \n",
    "        # q_text ={\"root_path\":key_path + 'serkey/',\n",
    "        #             \"keys_to_share\":FN_KEYS}\n",
    "        # e_key.set()\n",
    "\n",
    "        self.set_featurizers()\n",
    "        self.load_scalers()\n",
    "\n",
    "        if debug: print(\"[Encryptor] HEAAN is ready\")\n",
    "\n",
    "    def set_featurizers(self):\n",
    "        scheme = self.scheme\n",
    "        parms = self.parms\n",
    "\n",
    "        featurizers =[]\n",
    "        for action in range(1,15):\n",
    "            cam = CAM_NAMES[action]\n",
    "            Nmodel = pickle.load(open(self.model_dir+f\"Nmodel_{action}_{cam}.pickle\", \"rb\"))\n",
    "            h_rf = HNRF(Nmodel)\n",
    "            featurizers.append((f\"{action}_{cam}\", HETreeFeaturizer(h_rf.return_comparator(), scheme, parms)))\n",
    "                \n",
    "        self.featurizers = dict(featurizers)\n",
    "\n",
    "    def load_scalers(self):\n",
    "        \n",
    "        scalers =[]\n",
    "        for action in range(1,15):\n",
    "            cam = CAM_NAMES[action]\n",
    "            sc = pickle.load(open(self.model_dir+f'scaler_{action}_{cam}.pickle', \"rb\"))\n",
    "            scalers.append((f\"{action}_{cam}\", sc))\n",
    "            \n",
    "        self.scalers = dict(scalers)\n",
    "\n",
    "\n",
    "    def test_encrypt(self):\n",
    "        scheme = self.scheme\n",
    "        parms = self.parms\n",
    "        from glob import glob\n",
    "        #from bbsQt.model import kinect_utils as ku \n",
    "        from bbsQt.model import rec_utils as ru\n",
    "        from bbsQt.model import data_preprocessing as dpre\n",
    "\n",
    "        # Load test dataset\n",
    "        testdata_dir = \"/home/hoseung/Dropbox/DeepInsight/2021ETRI/BBS_data/TestDataset/\"\n",
    "        action = 1\n",
    "        cam = CAM_NAMES[action]\n",
    "        fns = glob(testdata_dir + f\"{cam}_*_{action}_2_skeleton.pickle\")\n",
    "        skarr= pickle.load(open(fns[0], \"rb\"))\n",
    "\n",
    "        sub = ru.smoothed_frame_N(skarr, \n",
    "                        nframe=8, \n",
    "                        shift=1)\n",
    "\n",
    "        new_sks = ru.ravel_rec(sub)[np.newaxis, :]\n",
    "        skeleton = new_sks[0]\n",
    "\n",
    "        # Standardize\n",
    "        skeleton = dpre.shift_to_zero(skeleton)\n",
    "        body = dpre.measure_lengths(skeleton)\n",
    "        skeleton /= body['body']\n",
    "\n",
    "        #action = int(sk['action'])\n",
    "        #cam = sk['cam']\n",
    "\n",
    "        sc = self.scalers[f\"{action}_{cam}\"]\n",
    "        fn = f\"ctx_{action:02d}_{cam}.dat\"\n",
    "        \n",
    "        featurizer = self.featurizers[f\"{action}_{cam}\"]\n",
    "        \n",
    "        print(\"Featurizing skeleton...\")\n",
    "\n",
    "        #skeleton = sk['skeleton']\n",
    "\n",
    "        if DEBUG:\n",
    "            scaled = sc.transform(skeleton)\n",
    "        else:\n",
    "            rav_sub = skeleton#[0]\n",
    "            print(\"rav_sub\", rav_sub.min(), rav_sub.max())\n",
    "            scaled = sc.transform(rav_sub.reshape(1,-1))\n",
    "        \n",
    "        print(\"scaled\", scaled.shape)\n",
    "        print(scaled.min(), scaled.max())\n",
    "        \n",
    "        # Still some values can surpass 1.0. \n",
    "        # I need a more strict rule for standardization.. \n",
    "        # The following is an ad-hoc measure.\n",
    "        \n",
    "        sc0 = scaled[0]\n",
    "        sc_min = min((sc0.min(), 0)) # shift if min is negative \n",
    "        sc0 -= sc_min\n",
    "        sc0 /= sc0.max()*1.02 # Just to give some padding area\n",
    "\n",
    "        #sc0 = (sc0 - sc0.min()) / (2*(sc0.max() - sc0.min())) + 0.5*np.mean(sc0)\n",
    "        #print(\"MIN\", sc0.min(), \"MAX\", sc0.max())\n",
    "        \n",
    "        print(\"finally scaled\", sc0.min(), sc0.max())\n",
    "        ctx1 = featurizer.encrypt(sc0)\n",
    "        print(\"Saving this values...\")\n",
    "        he.SerializationUtils.writeCiphertext(ctx1, fn)\n",
    "\n",
    "\n",
    "    def start_encrypt_loop(self, q1, q_text, q_answer, e_sk, e_enc, e_ans, e_enc_ans, debug=True):\n",
    "        \"\"\"\n",
    "        When skeleton is ready (e_sk), get the skeleton from q1, \n",
    "        encrypt, and store it as ctx_{i}.dat file. \n",
    "        \"\"\"\n",
    "        scheme = self.scheme\n",
    "        parms = self.parms\n",
    "\n",
    "        i=0 # 이거 필요 있음? 원본 스켈레톤은 pickle로 저장 될 테니까 암호화된 버전을 굳이 따로따로 저장할 이유가? \n",
    "        while True:\n",
    "            e_sk.wait()  ## FLOW CONTROL\n",
    "            print(\"[Encryptor] good to go\") \n",
    "            sk = q1.get()  ## FLOW CONTROL\n",
    "            \"++++++++++++++++++++++++++ SKELETON POINTS ++++++++++++++++++++++\"\n",
    "            print(sk)\n",
    "            \n",
    "            e_sk.clear()  ## FLOW CONTROL: reset skeleton event\n",
    "            \n",
    "            if not 'skeleton' in sk.keys():\n",
    "                raise LookupError(\"Can't find skeleton in queue\")    \n",
    "            if debug: print(\"[Encryptor] Got a skeleton, Encrypting...\")\n",
    "            if debug: print(\"[Encryptor] Length of the skeleton:\", len(sk[\"skeleton\"]))\n",
    "            action = int(sk['action'])\n",
    "            cam = sk['cam']\n",
    "\n",
    "            sc = self.scalers[f\"{action}_{cam}\"]\n",
    "            fn = f\"ctx_{action:02d}_{cam}_{i}.dat\"\n",
    "           \n",
    "            featurizer = self.featurizers[f\"{action}_{cam}\"]\n",
    "            if debug: print(\"Featurizing skeleton...\")\n",
    "            t0 = time()            \n",
    "\n",
    "            skeleton = sk['skeleton']\n",
    "\n",
    "            if DEBUG:\n",
    "                scaled = sc.transform(skeleton)\n",
    "            else:\n",
    "                rav_sub = skeleton[0]\n",
    "                scaled = sc.transform(rav_sub.reshape(1,-1))\n",
    "            \n",
    "            sc0 = scaled[0]\n",
    "            sc0 = (sc0 - sc0.min()) / (2*(sc0.max() - sc0.min())) + 0.5*np.mean(sc0)\n",
    "            print(\"MIN\", sc0.min(), \"MAX\", sc0.max())\n",
    "            ctx1 = featurizer.encrypt(sc0)\n",
    "            pickle.dump(sc0, open(\"scaled.pickle\", \"wb\"))\n",
    "            if debug: print(f\"Featurizing done in {time() - t0:.2f}s\")\n",
    "            if debug: print(ctx1.n, ctx1.logp, ctx1.logq)\n",
    "            if debug: print(\"[Encryptor] Ctxt encrypted\")\n",
    "\n",
    "\n",
    "            he.SerializationUtils.writeCiphertext(ctx1, fn)\n",
    "            if debug: print(\"[Encryptor] Ctxt wrote\")\n",
    "\n",
    "            if DEBUG:\n",
    "                self.setup_eval(server_path=\"./\")\n",
    "                dec=decrypt(self.scheme, self.secretKey, ctx1, self.parms)\n",
    "                print(\"[encryptor] decrypt ctxt1\", dec[:20])\n",
    "                del ctx1\n",
    "                ctx1 = he.Ciphertext(self.parms.logp, self.parms.logq, self.parms.n)\n",
    "                he.SerializationUtils.readCiphertext(ctx1, fn)\n",
    "                dec=decrypt(self.scheme, self.secretKey, ctx1, self.parms)\n",
    "                print(\"[encryptor] decrypt ctxt1 again\", dec[:20])\n",
    "                #show_file_content(fn)\n",
    "                #t0 =time()\n",
    "                results = self.run_model(action, cam, ctx1)\n",
    "                print(f\"Prediction took {time()-t0:.2f} seconds\")\n",
    "\n",
    "                # Save prediction\n",
    "                fn_preds = []\n",
    "                for i, pred in enumerate(results):\n",
    "                    print(\"PRED\", i, pred)\n",
    "                    #fn = self.server_path+f\"pred_{i}.dat\"\n",
    "                    fn = f\"pred_{i}.dat\"\n",
    "                    he.SerializationUtils.writeCiphertext(pred, fn)\n",
    "                    fn_preds.append(fn)\n",
    "                    print(pred)\n",
    "                \n",
    "                #fn_preds = [f\"pred_{i}.dat\" for i in range(5)]\n",
    "                # Load predictions\n",
    "                print(\"fn_preds\", fn_preds)\n",
    "                logq = 180\n",
    "                preds=[]\n",
    "                for fn_ctx in fn_preds:\n",
    "                    print(\"[encryptor] make an empty ctxt\")\n",
    "                    ctx_pred = he.Ciphertext(ctx1.logp, logq, ctx1.n) # 나중에 오는 애는 logq가 다를 수도 있음\n",
    "                    print(\"[encryptor] load ctxt\", fn_ctx)\n",
    "                    he.SerializationUtils.readCiphertext(ctx_pred, fn_ctx)\n",
    "                    print(\"[encryptor] decrypt ctxt\", ctx_pred)\n",
    "                    dec=decrypt(self.scheme, self.secretKey, ctx_pred, self.parms)\n",
    "                    print(\"[encryptor] append decrypted ctxt\")\n",
    "                    preds.append(np.sum(dec))# Must sum the whole vector. partial sum gives wrong answer\n",
    "                    print(\"[encryptor] decrypted prediction array\", dec[:10])\n",
    "                    del ctx_pred\n",
    "                del ctx1 \n",
    "            \n",
    "                print(f\"Predicted score: {np.argmax(preds)}\")\n",
    "\n",
    "            q1.put({\"fn_enc_skeleton\": fn})  ## FLOW CONTROL\n",
    "            if debug: print(\"[Encryptor] skeleton encrypted and saved as\", fn)\n",
    "            e_enc.set()  ## FLOW CONTROL: encryption is done and file is ready\n",
    "            \n",
    "            if debug: print(\"[Encryptor] Waiting for prediction...\")\n",
    "\n",
    "            # Decrypt answer\n",
    "            e_enc_ans.wait()  ## FLOW CONTROL\n",
    "            preds = []\n",
    "            fn_preds = q_text.get()  ## FLOW CONTROL\n",
    "\n",
    "            #fn_preds = [f\"pred_{i}.dat\" for i in range(5)]\n",
    "            # Load predictions\n",
    "            print(\"fn_preds\", fn_preds)\n",
    "            logq = 180\n",
    "            preds=[]\n",
    "            for fn_ctx in fn_preds:\n",
    "                print(\"[encryptor] make an empty ctxt\")\n",
    "                ctx_pred = he.Ciphertext(ctx1.logp, logq, ctx1.n) # 나중에 오는 애는 logq가 다를 수도 있음\n",
    "                print(\"[encryptor] load ctxt\", fn_ctx)\n",
    "                he.SerializationUtils.readCiphertext(ctx_pred, fn_ctx)\n",
    "                print(\"[encryptor] decrypt ctxt\", ctx_pred)\n",
    "                dec=decrypt(self.scheme, self.secretKey, ctx_pred, self.parms)\n",
    "                print(\"[encryptor] append decrypted ctxt\")\n",
    "                preds.append(np.sum(dec))# Must sum the whole vector. partial sum gives wrong answer\n",
    "                print(\"[encryptor] decrypted prediction array\", dec[:10])\n",
    "                del ctx_pred\n",
    "            del ctx1 \n",
    "\n",
    "            print(\"preds\", preds)\n",
    "            ans_str = f\"Predicted score: {np.argmax(preds)}\"\n",
    "            print(ans_str)\n",
    "            e_enc_ans.clear()  ## FLOW CONTROL\n",
    "            \n",
    "            # 복호화된 결과 QT로 전송\n",
    "            q_answer.put(ans_str)  ## FLOW CONTROL\n",
    "            e_ans.set()  ## FLOW CONTROL\n",
    "\n",
    "            i+=1\n",
    "    \n",
    "    def setup_eval(self, server_path=\"./\"):\n",
    "        logq = 540\n",
    "        logp = 30\n",
    "        logn = 14\n",
    "        n = 1*2**logn\n",
    "\n",
    "        self.parms2 = Param(n=n, logp=logp, logq=logq)\n",
    "        self.server_path2 = server_path\n",
    "        self.key_path2 = server_path + 'serkey/'\n",
    "        print(\"[ENCRYPTOR] key path\", self.key_path2)\n",
    "\n",
    "        self.ring2 = he.Ring()\n",
    "        \n",
    "        self.scheme2 = he.Scheme(self.ring2, True, self.server_path2)\n",
    "        self.algo2 = he.SchemeAlgo(self.scheme2)\n",
    "        self.scheme2.loadLeftRotKey(1)\n",
    "\n",
    "    def load_models(self):\n",
    "        self.models = {}\n",
    "        dilatation_factor = 10\n",
    "        polynomial_degree = 10\n",
    "\n",
    "        self.my_tm_tanh = NeuralTreeMaker(torch.tanh, \n",
    "                            use_polynomial=True,\n",
    "                            dilatation_factor=dilatation_factor, \n",
    "                            polynomial_degree=polynomial_degree)\n",
    "        \n",
    "    def load_model(self, action, cam):\n",
    "        \n",
    "        print(\"[Evaluator] Loading trained NRF models\")\n",
    "\n",
    "        t0 = time()\n",
    "        fn = f\"./models/Nmodel_{action}_{cam}.pickle\"\n",
    "        Nmodel = pickle.load(open(fn, \"rb\"))\n",
    "        #print(\"Loaded a model...\", fn)\n",
    "        \n",
    "        h_rf = HNRF(Nmodel)\n",
    "        #print(\"[EVAL.model_loader] HRF loaded for class\", action)\n",
    "        nrf_evaluator = heaan_nrf.HETreeEvaluator.from_model(h_rf,\n",
    "                                                            self.scheme2,\n",
    "                                                            self.parms2,\n",
    "                                                            self.my_tm_tanh.coeffs,\n",
    "                                                            do_reduction = False,\n",
    "                                                            #save_check=True\n",
    "                                                            )\n",
    "        print(\"[EVAL.model_loader] HNRF model loaded for class\", action)\n",
    "            \n",
    "        #allmodels.append((f\"{action}\",nrf_evaluator))\n",
    "        self.models.update({f\"{action}_{cam}\":nrf_evaluator})    \n",
    "        \n",
    "        print(\"updated models\", self.models)    \n",
    "\n",
    "\n",
    "    def run_model(self, action, cam, ctx):\n",
    "        self.load_models()\n",
    "        print(\"Running model for class\", action)\n",
    "        try:\n",
    "            model = self.models[f\"{action}_{cam}\"]\n",
    "        except:\n",
    "            self.load_model(action, cam)\n",
    "            print(f\"Loading model for class {action} and camera {cam}\")\n",
    "            model = self.models[f\"{action}_{cam}\"]\n",
    "\n",
    "        #featurizer = self.models[f\"{cc}\"]['featurizer']\n",
    "        print(\"[Evaluator] running model...\")\n",
    "        #ctx = featurizer.encrypt(data)\n",
    "        return model(ctx)\n",
    "        #return self.predict(data)\n"
   ]
  },
  {
   "cell_type": "code",
   "execution_count": 9,
   "id": "4bd4c81e",
   "metadata": {},
   "outputs": [
    {
     "name": "stdout",
     "output_type": "stream",
     "text": [
      "[ENCRYPTOR] key path ./\n",
      "loading secret key done.\n",
      "[Encryptor] HEAAN is ready\n"
     ]
    }
   ],
   "source": [
    "encryptor = HEAAN_Encryptor(\"./\")"
   ]
  },
  {
   "cell_type": "code",
   "execution_count": 10,
   "id": "32048138",
   "metadata": {},
   "outputs": [
    {
     "name": "stdout",
     "output_type": "stream",
     "text": [
      "Featurizing skeleton...\n",
      "rav_sub -1.7155419709998272 1.588739030602214\n",
      "scaled (1, 240)\n",
      "0.08759097299201701 1.15995010857075\n",
      "finally scaled 0.07403206594735384 0.9803921568627451\n",
      "VV\n",
      "[0.67849136 0.68550511 0.66578847 ... 0.         0.         0.        ]\n",
      "16384 30 540\n",
      "Saving this values...\n"
     ]
    }
   ],
   "source": [
    "encryptor.test_encrypt()"
   ]
  },
  {
   "cell_type": "code",
   "execution_count": 35,
   "id": "ae1913c9",
   "metadata": {},
   "outputs": [
    {
     "ename": "AttributeError",
     "evalue": "'HEAAN_Encryptor' object has no attribute 'models'",
     "output_type": "error",
     "traceback": [
      "\u001b[0;31m---------------------------------------------------------------------------\u001b[0m",
      "\u001b[0;31mAttributeError\u001b[0m                            Traceback (most recent call last)",
      "\u001b[0;32m/tmp/ipykernel_189805/2441182251.py\u001b[0m in \u001b[0;36m<module>\u001b[0;34m\u001b[0m\n\u001b[0;32m----> 1\u001b[0;31m \u001b[0mmodel\u001b[0m \u001b[0;34m=\u001b[0m \u001b[0mencryptor\u001b[0m\u001b[0;34m.\u001b[0m\u001b[0mmodels\u001b[0m\u001b[0;34m[\u001b[0m\u001b[0;36m1\u001b[0m\u001b[0;34m]\u001b[0m\u001b[0;34m\u001b[0m\u001b[0;34m\u001b[0m\u001b[0m\n\u001b[0m",
      "\u001b[0;31mAttributeError\u001b[0m: 'HEAAN_Encryptor' object has no attribute 'models'"
     ]
    }
   ],
   "source": [
    "model = encryptor.models[1]"
   ]
  },
  {
   "cell_type": "code",
   "execution_count": 6,
   "id": "0e0da14b",
   "metadata": {},
   "outputs": [],
   "source": [
    "from time import time\n",
    "import numpy as np\n",
    "import fase\n",
    "from fase import HEAAN as he\n",
    "from fase.core.common import HEAANContext\n",
    "\n",
    "logq = 540\n",
    "logp = 30\n",
    "logn = 14\n",
    "n = 1*2**logn\n",
    "is_serialized = True\n"
   ]
  },
  {
   "cell_type": "markdown",
   "id": "5177dc3d",
   "metadata": {},
   "source": [
    "# Bare heaan"
   ]
  },
  {
   "cell_type": "code",
   "execution_count": 32,
   "id": "d6bcb420",
   "metadata": {},
   "outputs": [],
   "source": [
    "if not os.path.isdir(\"./serkey/\"): os.mkdir(\"./serkey/\")"
   ]
  },
  {
   "cell_type": "code",
   "execution_count": 29,
   "id": "077427e0",
   "metadata": {},
   "outputs": [],
   "source": [
    "\n",
    "import os\n"
   ]
  },
  {
   "cell_type": "code",
   "execution_count": 30,
   "id": "471e16e4",
   "metadata": {},
   "outputs": [],
   "source": []
  },
  {
   "cell_type": "code",
   "execution_count": 12,
   "id": "c78c0026",
   "metadata": {},
   "outputs": [
    {
     "name": "stdout",
     "output_type": "stream",
     "text": [
      "saving secret key done.\n"
     ]
    }
   ],
   "source": [
    "\n",
    "ring = he.Ring()\n",
    "\n",
    "secretKey = he.SecretKey(ring, \"./serkey/sk.dat\")\n",
    "#self.secretKey = he.SecretKey(self.ring, PATH_SK)\n",
    "scheme = he.Scheme(secretKey, ring, is_serialized, './serkey/')\n",
    "scheme.addLeftRotKey(secretKey, 1)"
   ]
  },
  {
   "cell_type": "code",
   "execution_count": 9,
   "id": "9be4e0d8",
   "metadata": {},
   "outputs": [
    {
     "name": "stdout",
     "output_type": "stream",
     "text": [
      "loading secret key done.\n"
     ]
    }
   ],
   "source": [
    "\n",
    "ring = he.Ring()\n",
    "scheme = he.Scheme(ring, True, './')\n",
    "secretKey = he.SecretKey(\"./\")"
   ]
  },
  {
   "cell_type": "code",
   "execution_count": 14,
   "id": "51b27797",
   "metadata": {},
   "outputs": [
    {
     "name": "stdout",
     "output_type": "stream",
     "text": [
      "VV\n",
      "[0.67849136 0.68550511 0.66578847 ... 0.         0.         0.        ]\n"
     ]
    }
   ],
   "source": [
    "val = [0.67849136, 0.68550511, 0.66578847]\n",
    "\n",
    "ctxt = he.Ciphertext()#logp, logq, n)\n",
    "vv = np.zeros(n) # Need to initialize to zero or will cause \"unbound\"\n",
    "vv[:len(val)] = val\n",
    "print(\"VV\")\n",
    "print(vv)\n"
   ]
  },
  {
   "cell_type": "code",
   "execution_count": 15,
   "id": "b6762b3f",
   "metadata": {},
   "outputs": [],
   "source": [
    "\n",
    "scheme.encrypt(ctxt, he.Double(vv), n, logp, logq)"
   ]
  },
  {
   "cell_type": "code",
   "execution_count": 23,
   "id": "5a871b2e",
   "metadata": {},
   "outputs": [],
   "source": [
    "he.SerializationUtils.writeCiphertext(ctxt, \"test.dat\")"
   ]
  },
  {
   "cell_type": "code",
   "execution_count": 6,
   "id": "3d81a221",
   "metadata": {},
   "outputs": [],
   "source": [
    "scheme.loadLeftRotKey(1)"
   ]
  },
  {
   "cell_type": "markdown",
   "id": "391e21ca",
   "metadata": {},
   "source": [
    "## Server"
   ]
  },
  {
   "cell_type": "markdown",
   "id": "70bc9140",
   "metadata": {},
   "source": [
    "### scheme without secretkey"
   ]
  },
  {
   "cell_type": "code",
   "execution_count": 2,
   "id": "56c4f028",
   "metadata": {},
   "outputs": [
    {
     "name": "stdout",
     "output_type": "stream",
     "text": [
      "loading secret key done.\n"
     ]
    }
   ],
   "source": [
    "ring2 = he.Ring()\n",
    "       \n",
    "scheme2 = he.Scheme(ring2, True, \"./\")\n",
    "algo2 = he.SchemeAlgo(scheme2)\n",
    "scheme2.loadLeftRotKey(1)\n",
    "\n",
    "# Do some computation including rotation.\n",
    "secretKey = he.SecretKey(\"./sk.dat\")"
   ]
  },
  {
   "cell_type": "code",
   "execution_count": 25,
   "id": "f8e5abb1",
   "metadata": {},
   "outputs": [],
   "source": [
    "ctxt2 = he.Ciphertext(logp, logq, n)\n",
    "he.SerializationUtils.readCiphertext(ctxt2, \"test.dat\")"
   ]
  },
  {
   "cell_type": "code",
   "execution_count": 16,
   "id": "750c00a0",
   "metadata": {},
   "outputs": [
    {
     "data": {
      "text/plain": [
       "(0.678486, -0.000002)"
      ]
     },
     "execution_count": 16,
     "metadata": {},
     "output_type": "execute_result"
    }
   ],
   "source": [
    "scheme2.decrypt(secretKey, ctxt)"
   ]
  },
  {
   "cell_type": "code",
   "execution_count": 14,
   "id": "9d26b1c8",
   "metadata": {},
   "outputs": [
    {
     "data": {
      "text/plain": [
       "(0.678489, -0.000001)"
      ]
     },
     "execution_count": 14,
     "metadata": {},
     "output_type": "execute_result"
    }
   ],
   "source": [
    "scheme2.decrypt(secretKey, ctxt)"
   ]
  },
  {
   "cell_type": "code",
   "execution_count": 27,
   "id": "c398b58c",
   "metadata": {},
   "outputs": [],
   "source": [
    "scheme2.leftRotateFastAndEqual(ctxt, 1)"
   ]
  },
  {
   "cell_type": "code",
   "execution_count": 28,
   "id": "d54618af",
   "metadata": {},
   "outputs": [
    {
     "data": {
      "text/plain": [
       "(0.685504, -0.000002)"
      ]
     },
     "execution_count": 28,
     "metadata": {},
     "output_type": "execute_result"
    }
   ],
   "source": [
    "scheme2.decrypt(secretKey, ctxt)"
   ]
  },
  {
   "cell_type": "code",
   "execution_count": null,
   "id": "414b5d7e",
   "metadata": {},
   "outputs": [],
   "source": []
  },
  {
   "cell_type": "markdown",
   "id": "6670548e",
   "metadata": {},
   "source": [
    "## MultPlain test"
   ]
  },
  {
   "cell_type": "markdown",
   "id": "43e30801",
   "metadata": {},
   "source": [
    "### multByConst"
   ]
  },
  {
   "cell_type": "code",
   "execution_count": 17,
   "id": "3d735aab",
   "metadata": {},
   "outputs": [
    {
     "name": "stdout",
     "output_type": "stream",
     "text": [
      "[1. 2. 3. ... 0. 0. 0.]\n"
     ]
    }
   ],
   "source": [
    "val = [1,2,3,4,5,6,7]\n",
    "\n",
    "ctxt = he.Ciphertext()#logp, logq, n)\n",
    "vv = np.zeros(n) # Need to initialize to zero or will cause \"unbound\"\n",
    "vv[:len(val)] = val\n",
    "print(vv)\n",
    "\n",
    "scheme.encrypt(ctxt, he.Double(vv), n, logp, logq)\n",
    "\n"
   ]
  },
  {
   "cell_type": "code",
   "execution_count": 34,
   "id": "1c4de6c4",
   "metadata": {},
   "outputs": [
    {
     "name": "stdout",
     "output_type": "stream",
     "text": [
      "\u001b[0;31mDocstring:\u001b[0m multByConstVecAndEqual(self: fase.HEAAN.Scheme, arg0: Ciphertext, arg1: fase.HEAAN.ComplexDouble, arg2: int) -> None\n",
      "\u001b[0;31mType:\u001b[0m      method\n"
     ]
    }
   ],
   "source": [
    "scheme.multByConstVecAndEqual?"
   ]
  },
  {
   "cell_type": "code",
   "execution_count": 18,
   "id": "6eaabb06",
   "metadata": {},
   "outputs": [
    {
     "name": "stdout",
     "output_type": "stream",
     "text": [
      "[10.  9.  8. ...  0.  0.  0.]\n"
     ]
    }
   ],
   "source": [
    "val2 = [10,9,8,7,6,5,4]\n",
    "v2 = np.zeros(n) # Need to initialize to zero or will cause \"unbound\"\n",
    "v2[:len(val2)] = val2\n",
    "print(v2)\n",
    "\n",
    "scheme.multByConstVecAndEqual(ctxt, he.Double(v2), logp)"
   ]
  },
  {
   "cell_type": "code",
   "execution_count": 19,
   "id": "c7d1e5ac",
   "metadata": {},
   "outputs": [
    {
     "data": {
      "text/plain": [
       "(10.000018, 0.000011)"
      ]
     },
     "execution_count": 19,
     "metadata": {},
     "output_type": "execute_result"
    }
   ],
   "source": []
  },
  {
   "cell_type": "code",
   "execution_count": 24,
   "id": "bad86232",
   "metadata": {},
   "outputs": [],
   "source": [
    "ddd = scheme.decrypt(secretKey, ctxt)\n",
    "arr = np.zeros(n, dtype=np.complex128)\n",
    "ddd.__getarr__(arr)\n",
    "res = arr.real"
   ]
  },
  {
   "cell_type": "code",
   "execution_count": 25,
   "id": "5f1b2a54",
   "metadata": {},
   "outputs": [
    {
     "data": {
      "text/plain": [
       "array([ 1.00000177e+01,  1.80000062e+01,  2.39999894e+01, ...,\n",
       "        2.70124330e-16, -4.24238630e-13,  3.34435018e-14])"
      ]
     },
     "execution_count": 25,
     "metadata": {},
     "output_type": "execute_result"
    }
   ],
   "source": [
    "res"
   ]
  },
  {
   "cell_type": "code",
   "execution_count": 23,
   "id": "dad70bf0",
   "metadata": {},
   "outputs": [
    {
     "name": "stdout",
     "output_type": "stream",
     "text": [
      "[(10,1.07766e-05), (18,-2.05715e-05), (24,2.17227e-05), (28,-1.73329e-05), (30,-7.05997e-06), (30,-1.77465e-05), (28,1.50483e-06), (-2.90546e-13,-2.07096e-13), (9.3802e-14,2.66266e-13), (-1.72765e-13,8.31416e-14)]\n"
     ]
    }
   ],
   "source": [
    "ddd.print(10)"
   ]
  },
  {
   "cell_type": "code",
   "execution_count": 45,
   "id": "28117d55",
   "metadata": {},
   "outputs": [],
   "source": [
    "dd = he.Double(v2)"
   ]
  },
  {
   "cell_type": "code",
   "execution_count": 47,
   "id": "824ee15b",
   "metadata": {},
   "outputs": [],
   "source": [
    "scheme.encrypt(ctxt, he.Double(v2), n, logp, logq)"
   ]
  },
  {
   "cell_type": "code",
   "execution_count": 51,
   "id": "3d213819",
   "metadata": {},
   "outputs": [
    {
     "ename": "TypeError",
     "evalue": "encrypt(): incompatible function arguments. The following argument types are supported:\n    1. (self: fase.HEAAN.Scheme, arg0: Ciphertext, arg1: fase.HEAAN.ComplexDouble, arg2: int, arg3: int, arg4: int) -> None\n    2. (self: fase.HEAAN.Scheme, arg0: Ciphertext, arg1: fase.HEAAN.Double, arg2: int, arg3: int, arg4: int) -> None\n\nInvoked with: <fase.HEAAN.Scheme object at 0x7fe3ebb2f7b0>, <class.Ciphertext logp: 30 logq: 540 n: 16384>, 10.000000, 16384, 30, [1, 2, 3]",
     "output_type": "error",
     "traceback": [
      "\u001b[0;31m---------------------------------------------------------------------------\u001b[0m",
      "\u001b[0;31mTypeError\u001b[0m                                 Traceback (most recent call last)",
      "\u001b[0;32m/tmp/ipykernel_203812/769242525.py\u001b[0m in \u001b[0;36m<module>\u001b[0;34m\u001b[0m\n\u001b[0;32m----> 1\u001b[0;31m \u001b[0mscheme\u001b[0m\u001b[0;34m.\u001b[0m\u001b[0mencrypt\u001b[0m\u001b[0;34m(\u001b[0m\u001b[0mctxt\u001b[0m\u001b[0;34m,\u001b[0m \u001b[0mhe\u001b[0m\u001b[0;34m.\u001b[0m\u001b[0mDouble\u001b[0m\u001b[0;34m(\u001b[0m\u001b[0mv2\u001b[0m\u001b[0;34m)\u001b[0m\u001b[0;34m,\u001b[0m \u001b[0mn\u001b[0m\u001b[0;34m,\u001b[0m \u001b[0mlogp\u001b[0m\u001b[0;34m,\u001b[0m \u001b[0;34m[\u001b[0m\u001b[0;36m1\u001b[0m\u001b[0;34m,\u001b[0m\u001b[0;36m2\u001b[0m\u001b[0;34m,\u001b[0m\u001b[0;36m3\u001b[0m\u001b[0;34m]\u001b[0m\u001b[0;34m)\u001b[0m\u001b[0;34m\u001b[0m\u001b[0;34m\u001b[0m\u001b[0m\n\u001b[0m",
      "\u001b[0;31mTypeError\u001b[0m: encrypt(): incompatible function arguments. The following argument types are supported:\n    1. (self: fase.HEAAN.Scheme, arg0: Ciphertext, arg1: fase.HEAAN.ComplexDouble, arg2: int, arg3: int, arg4: int) -> None\n    2. (self: fase.HEAAN.Scheme, arg0: Ciphertext, arg1: fase.HEAAN.Double, arg2: int, arg3: int, arg4: int) -> None\n\nInvoked with: <fase.HEAAN.Scheme object at 0x7fe3ebb2f7b0>, <class.Ciphertext logp: 30 logq: 540 n: 16384>, 10.000000, 16384, 30, [1, 2, 3]"
     ]
    }
   ],
   "source": [
    "scheme.encrypt(ctxt, he.Double(v2), n, logp, [1,2,3])"
   ]
  },
  {
   "cell_type": "code",
   "execution_count": 53,
   "id": "4851d970",
   "metadata": {},
   "outputs": [],
   "source": [
    "scheme.multByConstVecAndEqual(ctxt, he.ComplexDouble(v2), logp)"
   ]
  },
  {
   "cell_type": "code",
   "execution_count": 54,
   "id": "80274b3c",
   "metadata": {},
   "outputs": [
    {
     "data": {
      "text/plain": [
       "(99.999995, 0.000031)"
      ]
     },
     "execution_count": 54,
     "metadata": {},
     "output_type": "execute_result"
    }
   ],
   "source": [
    "scheme.decrypt(secretKey, ctxt)"
   ]
  },
  {
   "cell_type": "code",
   "execution_count": null,
   "id": "d43405e3",
   "metadata": {},
   "outputs": [],
   "source": []
  }
 ],
 "metadata": {
  "kernelspec": {
   "display_name": "Python 3 (ipykernel)",
   "language": "python",
   "name": "python3"
  },
  "language_info": {
   "codemirror_mode": {
    "name": "ipython",
    "version": 3
   },
   "file_extension": ".py",
   "mimetype": "text/x-python",
   "name": "python",
   "nbconvert_exporter": "python",
   "pygments_lexer": "ipython3",
   "version": "3.9.9"
  }
 },
 "nbformat": 4,
 "nbformat_minor": 5
}
