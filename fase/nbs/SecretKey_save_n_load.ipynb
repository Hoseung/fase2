{
 "cells": [
  {
   "cell_type": "code",
   "execution_count": 1,
   "id": "2913be24",
   "metadata": {},
   "outputs": [],
   "source": [
    "%load_ext autoreload\n",
    "%autoreload 2"
   ]
  },
  {
   "cell_type": "markdown",
   "id": "32ea7b43",
   "metadata": {},
   "source": [
    "# Key and Ciphertext saving"
   ]
  },
  {
   "cell_type": "markdown",
   "id": "c1989885",
   "metadata": {},
   "source": [
    "Load packages "
   ]
  },
  {
   "cell_type": "code",
   "execution_count": 2,
   "id": "61170858",
   "metadata": {},
   "outputs": [
    {
     "name": "stdout",
     "output_type": "stream",
     "text": [
      "Using CPU version HEAAN\n"
     ]
    }
   ],
   "source": [
    "from time import time\n",
    "import numpy as np\n",
    "import fase\n",
    "from fase import HEAAN as he\n",
    "from fase.core.common import HEAANContext"
   ]
  },
  {
   "cell_type": "markdown",
   "id": "c9eb34a5",
   "metadata": {},
   "source": [
    "Set up FHE context.  \n",
    "Secret key is automatically stored."
   ]
  },
  {
   "cell_type": "code",
   "execution_count": 47,
   "id": "61b27b11",
   "metadata": {},
   "outputs": [
    {
     "name": "stdout",
     "output_type": "stream",
     "text": [
      "saving secret key done.\n",
      "HEAAN CKKS setup is ready \n",
      "Generating HEAAN context took 9.487056732177734 seonds\n",
      "logn  4,  logp 30,  logq120\n"
     ]
    }
   ],
   "source": [
    "logq = 120\n",
    "logp = 30\n",
    "logn = 4 # small logn for quick test\n",
    "n = 1*2**logn\n",
    "slots = n\n",
    "\n",
    "t0 = time()\n",
    "hec = HEAANContext(logn, logp, logq, boot=False, \n",
    "                   key_path=\"./\", rot_l=[1,2])\n",
    "print(f\"Generating HEAAN context took {time() - t0} seonds\")\n",
    "print(f\"logn  {logn},  logp {logp},  logq{logq}\")"
   ]
  },
  {
   "cell_type": "markdown",
   "id": "b24c7b43",
   "metadata": {},
   "source": [
    "Generate a ctxt and save it to a file"
   ]
  },
  {
   "cell_type": "code",
   "execution_count": 55,
   "id": "2cf5ec77",
   "metadata": {},
   "outputs": [],
   "source": [
    "def compare(expected, calculated, eps=1e-4):\n",
    "    print(\"Two arrays are close enough\", np.all(np.isclose(expected, calculated[:len(expected)], atol=eps)))"
   ]
  },
  {
   "cell_type": "code",
   "execution_count": 50,
   "id": "ce1b7c97",
   "metadata": {},
   "outputs": [],
   "source": [
    "val = np.random.rand(n)\n",
    "ctxt = hec.encrypt(val)\n",
    "\n",
    "he.SerializationUtils.writeCiphertext(ctxt, \"ctxt.dat\")\n",
    "\n",
    "decrypted = hec.decrypt(ctxt)"
   ]
  },
  {
   "cell_type": "code",
   "execution_count": 56,
   "id": "56b593f5",
   "metadata": {},
   "outputs": [
    {
     "name": "stdout",
     "output_type": "stream",
     "text": [
      "Two arrays are close enough True\n"
     ]
    }
   ],
   "source": [
    "# encrypted and decrypted value\n",
    "compare(val, decrypted, eps=1e-4) # But, isn't it too large an error??"
   ]
  },
  {
   "cell_type": "markdown",
   "id": "d772b6f5",
   "metadata": {},
   "source": [
    "==> First of all, encryption and decryption works."
   ]
  },
  {
   "cell_type": "code",
   "execution_count": 57,
   "id": "c1bd31ff",
   "metadata": {},
   "outputs": [
    {
     "name": "stdout",
     "output_type": "stream",
     "text": [
      "HEAAN CKKS setup is ready loading secret key done.\n",
      "\n",
      "Two arrays are close enough True\n"
     ]
    }
   ],
   "source": [
    "# Load the secret key and try decrypting\n",
    "hec2 = HEAANContext(logn, logp, logq, boot=False, is_owner=True, load_sk=True)\n",
    "compare(val, hec2.decrypt(ctxt))"
   ]
  },
  {
   "cell_type": "markdown",
   "id": "d91bb2bb",
   "metadata": {},
   "source": [
    "Loaded secret key works as expected."
   ]
  },
  {
   "cell_type": "markdown",
   "id": "d8cca45c",
   "metadata": {},
   "source": [
    "## Rotation"
   ]
  },
  {
   "cell_type": "code",
   "execution_count": 64,
   "id": "3f63ff74",
   "metadata": {},
   "outputs": [
    {
     "name": "stdout",
     "output_type": "stream",
     "text": [
      "Two arrays are close enough False\n"
     ]
    }
   ],
   "source": [
    "hec.lrot(ctxt, 1, inplace=True)\n",
    "\n",
    "compare(hec.decrypt(ctxt), np.roll(val, -1))"
   ]
  },
  {
   "cell_type": "markdown",
   "id": "8c9440ca",
   "metadata": {},
   "source": [
    "### Multilply two ctxts"
   ]
  },
  {
   "cell_type": "code",
   "execution_count": 67,
   "id": "29a15520",
   "metadata": {},
   "outputs": [
    {
     "name": "stdout",
     "output_type": "stream",
     "text": [
      "Two arrays are close enough True\n"
     ]
    }
   ],
   "source": [
    "val = np.random.rand(n)\n",
    "val2 = np.arange(n)\n",
    "\n",
    "# FHE\n",
    "ctxt = hec.encrypt(val)\n",
    "ctxt2 = hec.encrypt(val2)\n",
    "ctxt3 = hec.mult(ctxt, ctxt2, inplace=False)\n",
    "\n",
    "# ordinary\n",
    "val *= val2\n",
    "\n",
    "compare(hec.decrypt(ctxt3), val)"
   ]
  },
  {
   "cell_type": "markdown",
   "id": "383bf8d4",
   "metadata": {},
   "source": [
    "### Multiply with plain text"
   ]
  },
  {
   "cell_type": "code",
   "execution_count": 71,
   "id": "43b34eef",
   "metadata": {},
   "outputs": [
    {
     "name": "stdout",
     "output_type": "stream",
     "text": [
      "Two arrays are close enough True\n"
     ]
    }
   ],
   "source": [
    "ctxt4 = hec.multByVec(ctxt, val2, inplace=False)\n",
    "\n",
    "compare(hec.decrypt(ctxt4), val)"
   ]
  },
  {
   "cell_type": "code",
   "execution_count": null,
   "id": "b82540f2",
   "metadata": {},
   "outputs": [],
   "source": []
  }
 ],
 "metadata": {
  "kernelspec": {
   "display_name": "Python 3 (ipykernel)",
   "language": "python",
   "name": "python3"
  },
  "language_info": {
   "codemirror_mode": {
    "name": "ipython",
    "version": 3
   },
   "file_extension": ".py",
   "mimetype": "text/x-python",
   "name": "python",
   "nbconvert_exporter": "python",
   "pygments_lexer": "ipython3",
   "version": "3.9.9"
  }
 },
 "nbformat": 4,
 "nbformat_minor": 5
}
