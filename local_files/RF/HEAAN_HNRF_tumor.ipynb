{
 "cells": [
  {
   "cell_type": "code",
   "execution_count": 1,
   "id": "58f42b13",
   "metadata": {},
   "outputs": [
    {
     "name": "stdout",
     "output_type": "stream",
     "text": [
      "Using CPU version HEAAN\n"
     ]
    }
   ],
   "source": [
    "from fase.RF.sktree import TumorRF\n",
    "import pickle\n",
    "import numpy as np\n",
    "from fase.hnrf.preprocessing import Featurizer"
   ]
  },
  {
   "cell_type": "code",
   "execution_count": 2,
   "id": "62ab3d9a",
   "metadata": {},
   "outputs": [
    {
     "name": "stdout",
     "output_type": "stream",
     "text": [
      "Preprocessing done and train data are ready\n",
      "Saved Training set as tumor_train.pickle\n",
      "Saved Validation set as tumor_valid.pickle\n"
     ]
    }
   ],
   "source": [
    "#if __name__==\"__main__\":\n",
    "data_dir = \"/home/hoseung/Dropbox/DeepInsight/2021ETRI/RF_Tumor_Classification/data/\"\n",
    "\n",
    "# Init TumorRf class\n",
    "# Pre-defined preprocessing steps are taken automatically. \n",
    "tumor_rf = TumorRF(data_dir)\n",
    "\n",
    "# Split the data and keep validation data separately. \n",
    "X_train, X_valid, Y_train, Y_valid = tumor_rf.split_data(fn_dump=\"tumor_\")"
   ]
  },
  {
   "cell_type": "code",
   "execution_count": 3,
   "id": "ff4085f1",
   "metadata": {},
   "outputs": [
    {
     "name": "stdout",
     "output_type": "stream",
     "text": [
      "Training a Random Forest with 20 trees of depth 7.\n",
      "Trained model saved at: trained_RF.pickle\n",
      "Train Done: train accuracy = 57.837%\n",
      "Test accuracy 57.817%\n"
     ]
    }
   ],
   "source": [
    "# Train the model\n",
    "tumor_rf.train(X_train, Y_train, ntree=20, depth=7)\n",
    "\n",
    "tumor_rf.save_model(\"tumor_trained_RF.pickle\")\n",
    "\n",
    "# Test the model against validation dataset.\n",
    "y_preds = tumor_rf.predict(X_valid)\n",
    "\n",
    "# Caculate validation performance \n",
    "tumor_rf.accuracy(Y_valid, y_preds)\n",
    "\n",
    "#pickle.dump({\"train_x\":X_train, \"train_y\":Y_train}, open(\"trainset.pickle\", \"wb\"))\n",
    "pickle.dump(tumor_rf, open(\"whole_tumor_rf.pickle\", \"wb\"))"
   ]
  },
  {
   "cell_type": "code",
   "execution_count": 4,
   "id": "26ad7bf9",
   "metadata": {},
   "outputs": [
    {
     "data": {
      "text/plain": [
       "1.0"
      ]
     },
     "execution_count": 4,
     "metadata": {},
     "output_type": "execute_result"
    }
   ],
   "source": [
    "X_train.max()"
   ]
  },
  {
   "cell_type": "markdown",
   "id": "f1893f41",
   "metadata": {},
   "source": [
    "# Convert to Neural RF and finetune"
   ]
  },
  {
   "cell_type": "code",
   "execution_count": 2,
   "id": "e9b94fe2",
   "metadata": {},
   "outputs": [],
   "source": [
    "rf_model = pickle.load(open(\"tumor_trained_RF.pickle\", \"rb\"))\n",
    "\n",
    "dd = pickle.load(open(\"tumor_train.pickle\", \"rb\"))\n",
    "X_train, y_train = dd['train_x'], dd['train_y']\n",
    "\n",
    "dd = pickle.load(open(\"tumor_valid.pickle\", \"rb\"))\n",
    "X_valid, y_valid = dd['valid_x'], dd['valid_y']"
   ]
  },
  {
   "cell_type": "code",
   "execution_count": 3,
   "id": "5b7a81a4",
   "metadata": {},
   "outputs": [
    {
     "name": "stdout",
     "output_type": "stream",
     "text": [
      "min max of input dataset\n",
      "0.0 1.0\n",
      "0.0 1.0\n"
     ]
    }
   ],
   "source": [
    "print(\"min max of input dataset\")\n",
    "print(X_train.min(), X_train.max())\n",
    "print(X_valid.min(), X_valid.max())"
   ]
  },
  {
   "cell_type": "code",
   "execution_count": 4,
   "id": "bdd82fdd",
   "metadata": {},
   "outputs": [],
   "source": [
    "import torch\n",
    "from sklearn.tree import BaseDecisionTree\n",
    "from fase.hnrf.tree import NeuralRF\n",
    "from fase.hnrf.tree import NeuralTreeMaker\n",
    "\n",
    "dilatation_factor = 10\n",
    "polynomial_degree = 10\n",
    "\n",
    "#rf_model = tumor_rf#.rf\n",
    "estimators = rf_model#.estimators_\n",
    "\n",
    "my_tm_tanh = NeuralTreeMaker(torch.tanh, \n",
    "                            use_polynomial=True,\n",
    "                            dilatation_factor=dilatation_factor, \n",
    "                            polynomial_degree=polynomial_degree)\n",
    "\n",
    "Nmodel = NeuralRF(estimators, my_tm_tanh)"
   ]
  },
  {
   "cell_type": "code",
   "execution_count": 5,
   "id": "750665db",
   "metadata": {},
   "outputs": [
    {
     "name": "stdout",
     "output_type": "stream",
     "text": [
      "Original accuracy : 0.5831295843520783\n",
      "Accuracy of tanh : 0.3526894865525672\n",
      "Match between tanh and original : 0.4712713936430318\n"
     ]
    }
   ],
   "source": [
    "ind = slice(0,-1,1000)\n",
    "\n",
    "# NRF 성능 테스트\n",
    "\n",
    "with torch.no_grad():\n",
    "    neural_pred = Nmodel(torch.tensor(X_train[ind]).float()).argmax(dim=1).numpy()\n",
    "    \n",
    "pred = rf_model.predict(X_train[ind])\n",
    "print(f\"Original accuracy : {(pred == y_train[ind]).mean()}\")\n",
    "print(f\"Accuracy of tanh : {(neural_pred == y_train[ind]).mean()}\")\n",
    "print(f\"Match between tanh and original : {(neural_pred == pred).mean()}\")"
   ]
  },
  {
   "cell_type": "code",
   "execution_count": null,
   "id": "2062b071",
   "metadata": {},
   "outputs": [],
   "source": []
  },
  {
   "cell_type": "markdown",
   "id": "77fdba92",
   "metadata": {},
   "source": [
    "## Fine tune"
   ]
  },
  {
   "cell_type": "code",
   "execution_count": 6,
   "id": "819eaffc",
   "metadata": {},
   "outputs": [],
   "source": [
    "from torch.utils import data\n",
    "\n",
    "class TabularDataset(data.Dataset):\n",
    "    'Characterizes a dataset for PyTorch'\n",
    "    def __init__(self, X: np.ndarray, y: np.ndarray):\n",
    "        'Initialization'\n",
    "        self.X, self.y = X,y\n",
    "\n",
    "    def __len__(self):\n",
    "        'Denotes the total number of samples'\n",
    "        return len(self.X)\n",
    "\n",
    "    def __getitem__(self, index):\n",
    "        'Generates one sample of data'\n",
    "\n",
    "        # Load data and get label\n",
    "        X = torch.tensor(self.X[index]).float()\n",
    "        y = torch.tensor(self.y[index])\n",
    "\n",
    "        return X, y"
   ]
  },
  {
   "cell_type": "code",
   "execution_count": 7,
   "id": "5502b603",
   "metadata": {},
   "outputs": [],
   "source": [
    "bs = 128\n",
    "\n",
    "train_ds = TabularDataset(X_train, y_train)\n",
    "valid_ds = TabularDataset(X_valid, y_valid)\n",
    "\n",
    "train_dl = data.DataLoader(train_ds, batch_size=bs, shuffle=True)\n",
    "valid_dl = data.DataLoader(valid_ds, batch_size=bs)\n",
    "fix_dl = data.DataLoader(train_ds, batch_size=bs, shuffle=False)"
   ]
  },
  {
   "cell_type": "code",
   "execution_count": 8,
   "id": "b44d8a3a",
   "metadata": {},
   "outputs": [
    {
     "name": "stdout",
     "output_type": "stream",
     "text": [
      "1.0.58\n"
     ]
    }
   ],
   "source": [
    "import fastai\n",
    "print(fastai.__version__)\n",
    "\n",
    "from fastai.basic_data import DataBunch\n",
    "from fastai.tabular.learner import Learner\n",
    "from fastai.metrics import accuracy\n",
    "\n",
    "from fase.hnrf.tree import CrossEntropyLabelSmoothing\n",
    "import torch.nn as nn\n",
    "\n",
    "data = DataBunch(train_dl, valid_dl, fix_dl=fix_dl)\n",
    "\n",
    "criterion = CrossEntropyLabelSmoothing()\n",
    "\n",
    "learn = Learner(data, Nmodel, loss_func=criterion, metrics=accuracy)"
   ]
  },
  {
   "cell_type": "code",
   "execution_count": 9,
   "id": "d4789724",
   "metadata": {},
   "outputs": [
    {
     "data": {
      "text/html": [
       "\n",
       "    <div>\n",
       "        <style>\n",
       "            /* Turns off some styling */\n",
       "            progress {\n",
       "                /* gets rid of default border in Firefox and Opera. */\n",
       "                border: none;\n",
       "                /* Needs to be in here for Safari polyfill so background images work as expected. */\n",
       "                background-size: auto;\n",
       "            }\n",
       "            .progress-bar-interrupted, .progress-bar-interrupted::-webkit-progress-bar {\n",
       "                background: #F44336;\n",
       "            }\n",
       "        </style>\n",
       "      <progress value='0' class='' max='1' style='width:300px; height:20px; vertical-align: middle;'></progress>\n",
       "      0.00% [0/1 00:00<00:00]\n",
       "    </div>\n",
       "    \n",
       "<table border=\"1\" class=\"dataframe\">\n",
       "  <thead>\n",
       "    <tr style=\"text-align: left;\">\n",
       "      <th>epoch</th>\n",
       "      <th>train_loss</th>\n",
       "      <th>valid_loss</th>\n",
       "      <th>accuracy</th>\n",
       "      <th>time</th>\n",
       "    </tr>\n",
       "  </thead>\n",
       "  <tbody>\n",
       "  </tbody>\n",
       "</table><p>\n",
       "\n",
       "    <div>\n",
       "        <style>\n",
       "            /* Turns off some styling */\n",
       "            progress {\n",
       "                /* gets rid of default border in Firefox and Opera. */\n",
       "                border: none;\n",
       "                /* Needs to be in here for Safari polyfill so background images work as expected. */\n",
       "                background-size: auto;\n",
       "            }\n",
       "            .progress-bar-interrupted, .progress-bar-interrupted::-webkit-progress-bar {\n",
       "                background: #F44336;\n",
       "            }\n",
       "        </style>\n",
       "      <progress value='57' class='' max='12778' style='width:300px; height:20px; vertical-align: middle;'></progress>\n",
       "      0.45% [57/12778 00:00<03:16 2.1861]\n",
       "    </div>\n",
       "    "
      ],
      "text/plain": [
       "<IPython.core.display.HTML object>"
      ]
     },
     "metadata": {},
     "output_type": "display_data"
    },
    {
     "name": "stdout",
     "output_type": "stream",
     "text": [
      "LR Finder is complete, type {learner_name}.recorder.plot() to see the graph.\n"
     ]
    },
    {
     "data": {
      "image/png": "[encoded data removed]",
      "text/plain": [
       "<Figure size 432x288 with 1 Axes>"
      ]
     },
     "metadata": {
      "needs_background": "light"
     },
     "output_type": "display_data"
    }
   ],
   "source": [
    "learn.lr_find()\n",
    "learn.recorder.plot()"
   ]
  },
  {
   "cell_type": "code",
   "execution_count": null,
   "id": "1fbe155b",
   "metadata": {},
   "outputs": [
    {
     "data": {
      "text/html": [
       "\n",
       "    <div>\n",
       "        <style>\n",
       "            /* Turns off some styling */\n",
       "            progress {\n",
       "                /* gets rid of default border in Firefox and Opera. */\n",
       "                border: none;\n",
       "                /* Needs to be in here for Safari polyfill so background images work as expected. */\n",
       "                background-size: auto;\n",
       "            }\n",
       "            .progress-bar-interrupted, .progress-bar-interrupted::-webkit-progress-bar {\n",
       "                background: #F44336;\n",
       "            }\n",
       "        </style>\n",
       "      <progress value='0' class='' max='10' style='width:300px; height:20px; vertical-align: middle;'></progress>\n",
       "      0.00% [0/10 00:00<00:00]\n",
       "    </div>\n",
       "    \n",
       "<table border=\"1\" class=\"dataframe\">\n",
       "  <thead>\n",
       "    <tr style=\"text-align: left;\">\n",
       "      <th>epoch</th>\n",
       "      <th>train_loss</th>\n",
       "      <th>valid_loss</th>\n",
       "      <th>accuracy</th>\n",
       "      <th>time</th>\n",
       "    </tr>\n",
       "  </thead>\n",
       "  <tbody>\n",
       "  </tbody>\n",
       "</table><p>\n",
       "\n",
       "    <div>\n",
       "        <style>\n",
       "            /* Turns off some styling */\n",
       "            progress {\n",
       "                /* gets rid of default border in Firefox and Opera. */\n",
       "                border: none;\n",
       "                /* Needs to be in here for Safari polyfill so background images work as expected. */\n",
       "                background-size: auto;\n",
       "            }\n",
       "            .progress-bar-interrupted, .progress-bar-interrupted::-webkit-progress-bar {\n",
       "                background: #F44336;\n",
       "            }\n",
       "        </style>\n",
       "      <progress value='4124' class='' max='12778' style='width:300px; height:20px; vertical-align: middle;'></progress>\n",
       "      32.27% [4124/12778 03:19<06:58 1.4391]\n",
       "    </div>\n",
       "    "
      ],
      "text/plain": [
       "<IPython.core.display.HTML object>"
      ]
     },
     "metadata": {},
     "output_type": "display_data"
    }
   ],
   "source": [
    "#learn.fit_one_cycle(10, 0.2)\n",
    "learn.fit_one_cycle(10, 0.002)"
   ]
  },
  {
   "cell_type": "code",
   "execution_count": null,
   "id": "eec01eb2",
   "metadata": {},
   "outputs": [],
   "source": []
  },
  {
   "cell_type": "code",
   "execution_count": 14,
   "id": "dbc61f01",
   "metadata": {},
   "outputs": [],
   "source": [
    "pickle.dump(Nmodel, open(\"trained_Nmodel_RF.pickle\", \"wb\"))"
   ]
  },
  {
   "cell_type": "markdown",
   "id": "d45bb698",
   "metadata": {},
   "source": [
    "# FHE"
   ]
  },
  {
   "cell_type": "code",
   "execution_count": 13,
   "id": "64a63cb1",
   "metadata": {},
   "outputs": [],
   "source": [
    "import numpy as np\n",
    "import pickle\n",
    "import torch\n",
    "\n",
    "from fase.core import heaan\n",
    "\n",
    "from time import time\n",
    "from fase import HEAAN as he\n",
    "#from typing import List, Callable\n",
    "\n",
    "from fase.hnrf.tree import NeuralTreeMaker\n",
    "from fase.hnrf import heaan_nrf \n",
    "from fase.hnrf.hetree import HNRF\n",
    "\n",
    "import importlib\n",
    "\n",
    "class Param():\n",
    "    def __init__(self, n=None, logn=None, logp=None, logq=None, logQboot=None):\n",
    "        self.n = n\n",
    "        self.logn = logn\n",
    "        self.logp = logp\n",
    "        self.logq = logq \n",
    "        self.logQboot = logQboot\n",
    "        if self.logn == None:\n",
    "            self.logn = int(np.log2(n))\n",
    "\n",
    "class HNRF_builder():\n",
    "    def __init__(self, Nmodel, do_reduction=False, device=\"cpu\"):\n",
    "        \n",
    "        self._do_reduction = do_reduction\n",
    "        logq = 540\n",
    "        logp = 30\n",
    "        logn = 14\n",
    "        n = 1*2**logn\n",
    "        parms = Param(n=n, logp=logp, logq=logq)\n",
    "\n",
    "        self.parms = Param(n=n, logp=logp, logq=logq)\n",
    "        self.ring = he.Ring()\n",
    "        self.secretKey = he.SecretKey(self.ring)\n",
    "        self.scheme = he.Scheme(self.secretKey, self.ring, False)\n",
    "        self.algo = he.SchemeAlgo(self.scheme)\n",
    "        \n",
    "        # reduction때는 right rotation N_class개 필요. \n",
    "        Nclass = len(Nmodel.head_bias)\n",
    "        if self._do_reduction:\n",
    "            self.scheme.addLeftRotKeys(self.secretKey)\n",
    "            for i in range(Nclass):\n",
    "                self.scheme.addRightRotKey(self.secretKey, i+1) # \n",
    "        else:\n",
    "            # reduction 안 하면 하나짜리 rotation만 여러번 반복.\n",
    "            self.scheme.addLeftRotKey(self.secretKey, 1)\n",
    "\n",
    "        Nmodel.to_device(device)\n",
    "        self.construct_hnrf(Nmodel, device=device)\n",
    "            \n",
    "            \n",
    "    def construct_hnrf(self, Nmodel, device=\"cpu\"):\n",
    "        t0 = time()\n",
    "        h_rf = HNRF(Nmodel, device)\n",
    "        self.nrf_evaluator = heaan_nrf.HETreeEvaluator.from_model(h_rf,\n",
    "                                                            self.scheme,\n",
    "                                                            self.parms,\n",
    "                                                            Nmodel.activation.coef,\n",
    "                                                            #self.my_tm_tanh.coeffs, dilated or not?\n",
    "                                                            do_reduction = self._do_reduction,\n",
    "                                                            )\n",
    "        print(f\"HNRF model is ready in {time() - t0:.2f}seconds\")\n",
    "        #allmodels.append((f\"{action}\",nrf_evaluator))\n",
    "        self.featurizer = heaan_nrf.HETreeFeaturizer(h_rf.return_comparator(), self.scheme, self.parms)\n",
    "\n",
    "    def predict(self, ctx):\n",
    "        return self.nrf_evaluator(ctx)\n",
    "    \n",
    "    \n",
    "    "
   ]
  },
  {
   "cell_type": "code",
   "execution_count": 15,
   "id": "b030c144",
   "metadata": {},
   "outputs": [
    {
     "name": "stdout",
     "output_type": "stream",
     "text": [
      "CKKS paramters:\n",
      "---------------------------\n",
      "n = 16384\n",
      "logp = 30\n",
      "logq = 540\n",
      "tanh activation polynomial coeffs = [ 5.046468e-17  1.263836e+00  5.235711e-17 -3.961554e-01  3.229740e-16  2.072633e-01  1.614870e-16 -1.145040e-01\n",
      "  1.251524e-15  5.200031e-02  2.503048e-15]\n",
      "tanh activation polynomial degree = 10\n",
      "\n",
      "Neural RF\n",
      "---------------------------\n",
      "\n",
      "HNRF model is ready in 344.82seconds\n"
     ]
    }
   ],
   "source": [
    "tumor_hnrf = HNRF_builder(Nmodel, device=\"cpu\")"
   ]
  },
  {
   "cell_type": "code",
   "execution_count": 16,
   "id": "ff73e2fd",
   "metadata": {},
   "outputs": [],
   "source": [
    "def decrypt(context, enc):\n",
    "    featurized = context.scheme.decrypt(context.secretKey, enc)\n",
    "    arr = np.zeros(context.parms.n, dtype=np.complex128)\n",
    "    featurized.__getarr__(arr)\n",
    "    return arr.real"
   ]
  },
  {
   "cell_type": "code",
   "execution_count": 18,
   "id": "0128cf13",
   "metadata": {},
   "outputs": [
    {
     "ename": "KeyboardInterrupt",
     "evalue": "",
     "output_type": "error",
     "traceback": [
      "\u001b[0;31m---------------------------------------------------------------------------\u001b[0m",
      "\u001b[0;31mKeyboardInterrupt\u001b[0m                         Traceback (most recent call last)",
      "\u001b[0;32m/tmp/ipykernel_67687/2797127959.py\u001b[0m in \u001b[0;36m<module>\u001b[0;34m\u001b[0m\n\u001b[1;32m      1\u001b[0m \u001b[0;32mfor\u001b[0m \u001b[0mxx\u001b[0m\u001b[0;34m,\u001b[0m \u001b[0myy\u001b[0m \u001b[0;32min\u001b[0m \u001b[0mzip\u001b[0m\u001b[0;34m(\u001b[0m\u001b[0mX_valid\u001b[0m\u001b[0;34m[\u001b[0m\u001b[0;34m:\u001b[0m\u001b[0;36m4\u001b[0m\u001b[0;34m]\u001b[0m\u001b[0;34m,\u001b[0m \u001b[0my_valid\u001b[0m\u001b[0;34m[\u001b[0m\u001b[0;34m:\u001b[0m\u001b[0;36m4\u001b[0m\u001b[0;34m]\u001b[0m\u001b[0;34m)\u001b[0m\u001b[0;34m:\u001b[0m\u001b[0;34m\u001b[0m\u001b[0;34m\u001b[0m\u001b[0m\n\u001b[0;32m----> 2\u001b[0;31m     \u001b[0mctx\u001b[0m \u001b[0;34m=\u001b[0m \u001b[0mtumor_hnrf\u001b[0m\u001b[0;34m.\u001b[0m\u001b[0mfeaturizer\u001b[0m\u001b[0;34m.\u001b[0m\u001b[0mencrypt\u001b[0m\u001b[0;34m(\u001b[0m\u001b[0mxx\u001b[0m\u001b[0;34m)\u001b[0m\u001b[0;34m\u001b[0m\u001b[0;34m\u001b[0m\u001b[0m\n\u001b[0m\u001b[1;32m      3\u001b[0m     \u001b[0mt0\u001b[0m \u001b[0;34m=\u001b[0m \u001b[0mtime\u001b[0m\u001b[0;34m(\u001b[0m\u001b[0;34m)\u001b[0m\u001b[0;34m\u001b[0m\u001b[0;34m\u001b[0m\u001b[0m\n\u001b[1;32m      4\u001b[0m     \u001b[0mresult\u001b[0m \u001b[0;34m=\u001b[0m \u001b[0mtumor_hnrf\u001b[0m\u001b[0;34m.\u001b[0m\u001b[0mpredict\u001b[0m\u001b[0;34m(\u001b[0m\u001b[0mctx\u001b[0m\u001b[0;34m)\u001b[0m\u001b[0;34m\u001b[0m\u001b[0;34m\u001b[0m\u001b[0m\n\u001b[1;32m      5\u001b[0m     \u001b[0mprint\u001b[0m\u001b[0;34m(\u001b[0m\u001b[0;34mf\"Took {time() - t0:.2f} seconds\"\u001b[0m\u001b[0;34m)\u001b[0m\u001b[0;34m\u001b[0m\u001b[0;34m\u001b[0m\u001b[0m\n",
      "\u001b[0;32m~/Work/fhe-ai-sw-etri/fase/hnrf/heaan_nrf.py\u001b[0m in \u001b[0;36mencrypt\u001b[0;34m(self, x)\u001b[0m\n\u001b[1;32m     28\u001b[0m         \u001b[0mfeatures\u001b[0m \u001b[0;34m=\u001b[0m \u001b[0mlist\u001b[0m\u001b[0;34m(\u001b[0m\u001b[0mfeatures\u001b[0m\u001b[0;34m)\u001b[0m\u001b[0;34m\u001b[0m\u001b[0;34m\u001b[0m\u001b[0m\n\u001b[1;32m     29\u001b[0m \u001b[0;34m\u001b[0m\u001b[0m\n\u001b[0;32m---> 30\u001b[0;31m         \u001b[0mctx\u001b[0m \u001b[0;34m=\u001b[0m \u001b[0mself\u001b[0m\u001b[0;34m.\u001b[0m\u001b[0m_encrypt\u001b[0m\u001b[0;34m(\u001b[0m\u001b[0mfeatures\u001b[0m\u001b[0;34m)\u001b[0m\u001b[0;34m\u001b[0m\u001b[0;34m\u001b[0m\u001b[0m\n\u001b[0m\u001b[1;32m     31\u001b[0m         \u001b[0;32mreturn\u001b[0m \u001b[0mctx\u001b[0m\u001b[0;34m\u001b[0m\u001b[0;34m\u001b[0m\u001b[0m\n\u001b[1;32m     32\u001b[0m \u001b[0;34m\u001b[0m\u001b[0m\n",
      "\u001b[0;32m~/Work/fhe-ai-sw-etri/fase/hnrf/heaan_nrf.py\u001b[0m in \u001b[0;36m_encrypt\u001b[0;34m(self, val, n, logp, logq)\u001b[0m\n\u001b[1;32m     39\u001b[0m         \u001b[0mvv\u001b[0m \u001b[0;34m=\u001b[0m \u001b[0mnp\u001b[0m\u001b[0;34m.\u001b[0m\u001b[0mzeros\u001b[0m\u001b[0;34m(\u001b[0m\u001b[0mn\u001b[0m\u001b[0;34m)\u001b[0m \u001b[0;31m# Need to initialize to zero or will cause \"unbound\"\u001b[0m\u001b[0;34m\u001b[0m\u001b[0;34m\u001b[0m\u001b[0m\n\u001b[1;32m     40\u001b[0m         \u001b[0mvv\u001b[0m\u001b[0;34m[\u001b[0m\u001b[0;34m:\u001b[0m\u001b[0mlen\u001b[0m\u001b[0;34m(\u001b[0m\u001b[0mval\u001b[0m\u001b[0;34m)\u001b[0m\u001b[0;34m]\u001b[0m \u001b[0;34m=\u001b[0m \u001b[0mval\u001b[0m\u001b[0;34m\u001b[0m\u001b[0;34m\u001b[0m\u001b[0m\n\u001b[0;32m---> 41\u001b[0;31m         \u001b[0mself\u001b[0m\u001b[0;34m.\u001b[0m\u001b[0mscheme\u001b[0m\u001b[0;34m.\u001b[0m\u001b[0mencrypt\u001b[0m\u001b[0;34m(\u001b[0m\u001b[0mctxt\u001b[0m\u001b[0;34m,\u001b[0m \u001b[0mhe\u001b[0m\u001b[0;34m.\u001b[0m\u001b[0mDouble\u001b[0m\u001b[0;34m(\u001b[0m\u001b[0mvv\u001b[0m\u001b[0;34m)\u001b[0m\u001b[0;34m,\u001b[0m \u001b[0mn\u001b[0m\u001b[0;34m,\u001b[0m \u001b[0mlogp\u001b[0m\u001b[0;34m,\u001b[0m \u001b[0mlogq\u001b[0m\u001b[0;34m)\u001b[0m\u001b[0;34m\u001b[0m\u001b[0;34m\u001b[0m\u001b[0m\n\u001b[0m\u001b[1;32m     42\u001b[0m         \u001b[0;32mdel\u001b[0m \u001b[0mvv\u001b[0m\u001b[0;34m\u001b[0m\u001b[0;34m\u001b[0m\u001b[0m\n\u001b[1;32m     43\u001b[0m         \u001b[0;32mreturn\u001b[0m \u001b[0mctxt\u001b[0m\u001b[0;34m\u001b[0m\u001b[0;34m\u001b[0m\u001b[0m\n",
      "\u001b[0;31mKeyboardInterrupt\u001b[0m: "
     ]
    }
   ],
   "source": [
    "for xx, yy in zip(X_valid[:4], y_valid[:4]):\n",
    "    ctx = tumor_hnrf.featurizer.encrypt(xx)\n",
    "    t0 = time()\n",
    "    result = tumor_hnrf.predict(ctx)\n",
    "    print(f\"Took {time() - t0:.2f} seconds\")\n",
    "\n",
    "    pred = []\n",
    "    for res in result:\n",
    "        dec = decrypt(tumor_hnrf, res)\n",
    "        pred.append(np.sum(dec))\n",
    "\n",
    "    print(f\"Prediction: {np.argmax(pred)} == {yy}?\")"
   ]
  },
  {
   "cell_type": "code",
   "execution_count": null,
   "id": "a77d47ae",
   "metadata": {},
   "outputs": [],
   "source": []
  }
 ],
 "metadata": {
  "kernelspec": {
   "display_name": "Python 3 (ipykernel)",
   "language": "python",
   "name": "python3"
  },
  "language_info": {
   "codemirror_mode": {
    "name": "ipython",
    "version": 3
   },
   "file_extension": ".py",
   "mimetype": "text/x-python",
   "name": "python",
   "nbconvert_exporter": "python",
   "pygments_lexer": "ipython3",
   "version": "3.9.9"
  }
 },
 "nbformat": 4,
 "nbformat_minor": 5
}
