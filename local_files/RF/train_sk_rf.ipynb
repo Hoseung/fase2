{
 "cells": [
  {
   "cell_type": "code",
   "execution_count": 1,
   "id": "cb5f3de7",
   "metadata": {},
   "outputs": [
    {
     "ename": "ModuleNotFoundError",
     "evalue": "No module named 'RF'",
     "output_type": "error",
     "traceback": [
      "\u001b[0;31m---------------------------------------------------------------------------\u001b[0m",
      "\u001b[0;31mModuleNotFoundError\u001b[0m                       Traceback (most recent call last)",
      "\u001b[0;32m/tmp/ipykernel_132513/2196413338.py\u001b[0m in \u001b[0;36m<module>\u001b[0;34m\u001b[0m\n\u001b[1;32m      9\u001b[0m \u001b[0;32mimport\u001b[0m \u001b[0margparse\u001b[0m\u001b[0;34m\u001b[0m\u001b[0;34m\u001b[0m\u001b[0m\n\u001b[1;32m     10\u001b[0m \u001b[0;34m\u001b[0m\u001b[0m\n\u001b[0;32m---> 11\u001b[0;31m \u001b[0;32mfrom\u001b[0m \u001b[0mRF\u001b[0m\u001b[0;34m.\u001b[0m\u001b[0mutils_pure\u001b[0m \u001b[0;32mimport\u001b[0m \u001b[0mextract_sk_dt\u001b[0m\u001b[0;34m\u001b[0m\u001b[0;34m\u001b[0m\u001b[0m\n\u001b[0m",
      "\u001b[0;31mModuleNotFoundError\u001b[0m: No module named 'RF'"
     ]
    }
   ],
   "source": [
    "import numpy as np\n",
    "import pandas as pd\n",
    "import pickle\n",
    "import sklearn\n",
    "from sklearn.preprocessing import LabelEncoder, StandardScaler\n",
    "from sklearn.ensemble import RandomForestClassifier\n",
    "from sklearn.tree import DecisionTreeClassifier\n",
    "from sklearn.metrics import accuracy_score\n",
    "import argparse\n",
    "\n",
    "from RF.utils_pure import extract_sk_dt"
   ]
  },
  {
   "cell_type": "code",
   "execution_count": 6,
   "id": "0eb1cfff",
   "metadata": {},
   "outputs": [],
   "source": [
    "def letter2int(letter):\n",
    "    out = ord(letter) - 65.\n",
    "    if out > 25:\n",
    "        out -= 32.\n",
    "    return out\n",
    "\n",
    "def chromosome2num(obj):\n",
    "    if obj == 'X':\n",
    "        return 23.\n",
    "    elif obj == 'Y':\n",
    "        return 24.\n",
    "    else:\n",
    "        return float(obj)    \n",
    "\n",
    "def preprocess_df(df0):\n",
    "    \"\"\"preprocessing tumor data\n",
    "    \"\"\"\n",
    "    \n",
    "    # 결측값 추가\n",
    "    df0 = df0.fillna(0)\n",
    "    \n",
    "    geneNameNum = []\n",
    "    for letter in df0[\"geneName\"].tolist():\n",
    "        geneNameNum.append(letter2int(letter[0]))\n",
    "\n",
    "    chromosomeNum = []\n",
    "    for letter in df0[\"chromosome\"].tolist():\n",
    "        chromosomeNum.append(chromosome2num(letter))\n",
    "\n",
    "    df = df0.copy()\n",
    "    df[\"sampleID\"]      = le.fit_transform(df[\"sampleID\"]).astype('float')\n",
    "    df[\"location\"]      = le.fit_transform(df[\"location\"]).astype('float')\n",
    "    df[\"geneName\"]      = le.fit_transform(df[\"geneName\"]).astype('float')\n",
    "    ####\n",
    "    df[\"geneNameNum\"]   = geneNameNum\n",
    "    df[\"chromosomeNum\"] = chromosomeNum\n",
    "    df[\"location\"]      = le.fit_transform(df[\"location\"]).astype('float')\n",
    "\n",
    "    df[\"mutationType\"]  = le.fit_transform(df[\"mutationType\"]).astype('float')\n",
    "    df[\"SNP?\"]          = le.fit_transform(df[\"SNP?\"]).astype('float')\n",
    "    df[\"mutationsEffect_1\"] = le.fit_transform(df[\"mutationsEffect_1\"]).astype('float')\n",
    "    df[\"mutationsEffect_2\"] = le.fit_transform(df[\"mutationsEffect_2\"]).astype('float')\n",
    "    data_label = np.array(le.fit_transform(df[\"tumorLOC\"]).tolist())\n",
    "\n",
    "    del df[\"geneName\"]\n",
    "    del df[\"chromosome\"]\n",
    "    del df['location']\n",
    "    \n",
    "    data = df.copy()\n",
    "    del data['tumorLOC']\n",
    "    \n",
    "    return data, data_label\n",
    "\n",
    "def train(X_train, Y_train, fn_out=\"trained_RF.pickle\", ntree=21, depth=8, class_weight=None):\n",
    "    random_forest = RandomForestClassifier(n_estimators=ntree, max_depth = depth, class_weight=class_weight)\n",
    "    random_forest.fit(X_train, Y_train)\n",
    "    print(\"Train accuracy\", random_forest.score(X_train, Y_train))\n",
    "    \n",
    "    return random_forest\n",
    "\n",
    "def load_all_files(data_dir):\n",
    "    filenames = [\"Bladder\", \n",
    "                 \"Breast\",\n",
    "                 \"Bronchusandlung\", \n",
    "                 \"Cervixuteri\", \n",
    "                 \"Colon\",\n",
    "                 \"Corpusuteri\", \n",
    "                 \"Kidney\", \n",
    "                 \"Liverandintrahepaticbileducts\", \n",
    "                 \"Ovary\", \n",
    "                 \"Skin\", \n",
    "                 \"Stomach\"]\n",
    "\n",
    "    variants_ext = \"_challenge_variants.txt\"\n",
    "\n",
    "    col_Names = [\"sampleID\", \"geneName\", \"chromosome\", \n",
    "                 \"location\",\"mutationType\",\"SNP?\",\n",
    "                 \"mutationsEffect_1\",\"mutationsEffect_2\"]\n",
    "    \n",
    "    df0 = pd.DataFrame(columns=col_Names)\n",
    "\n",
    "    for filename in filenames:\n",
    "        dataframe = pd.read_csv(data_dir + filename+variants_ext, sep='\\t', names = col_Names)\n",
    "        dataframe['tumorLOC'] = filename\n",
    "        df0 = pd.concat([df0, dataframe], axis = 0)\n",
    "\n",
    "    del dataframe\n",
    "    return df0\n"
   ]
  },
  {
   "cell_type": "code",
   "execution_count": 3,
   "id": "c1610de0",
   "metadata": {},
   "outputs": [
    {
     "name": "stderr",
     "output_type": "stream",
     "text": [
      "usage: ipykernel_launcher.py [-h] [-n NTREE] [-d DEPTH] data_dir\n",
      "ipykernel_launcher.py: error: unrecognized arguments: -f\n"
     ]
    },
    {
     "ename": "SystemExit",
     "evalue": "2",
     "output_type": "error",
     "traceback": [
      "An exception has occurred, use %tb to see the full traceback.\n",
      "\u001b[0;31mSystemExit\u001b[0m\u001b[0;31m:\u001b[0m 2\n"
     ]
    },
    {
     "name": "stderr",
     "output_type": "stream",
     "text": [
      "/home/hoseung/anaconda3/envs/deepinsight/lib/python3.9/site-packages/IPython/core/interactiveshell.py:3449: UserWarning: To exit: use 'exit', 'quit', or Ctrl-D.\n",
      "  warn(\"To exit: use 'exit', 'quit', or Ctrl-D.\", stacklevel=1)\n"
     ]
    }
   ],
   "source": [
    "if __name__==\"__main__\":\n",
    "    parser = argparse.ArgumentParser()\n",
    "    \n",
    "    parser.add_argument(\"data_dir\", help=\"data path\")\n",
    "    parser.add_argument(\"-n\", \"--ntree\", default=21, help=\"Number of RF trees\")\n",
    "    parser.add_argument(\"-d\", \"--depth\", default=8, help=\"Depth of RF trees\")\n",
    "    \n",
    "    args = parser.parse_args()\n",
    "\n",
    "    data_dir = args.data_dir\n",
    "    ntree = args.ntree\n",
    "    depth = args.depth\n",
    "    \n",
    "    \n",
    "\n",
    "    le = LabelEncoder()\n",
    "    sc = StandardScaler()\n",
    "    np.random.seed(123) # 결과 재현이 가능하도록 시드를 설정합니다.\n",
    "    \n",
    "\n",
    "    data_dir = \"/home/hoseung/Dropbox/DeepInsight/1. Random Forest Tumor Classification/data/\"\n",
    "    ntree=21\n",
    "    depth=8\n",
    "    \n",
    "    df0 = load_all_files(data_dir)\n",
    "    \n",
    "    data, data_label = preprocess_df(df0)\n",
    "    \n",
    "    # Standardize\n",
    "    data = sc.fit_transform(data)\n",
    "    \n",
    "    # Split train and valid dataset\n",
    "    X_train, X_test, Y_train, Y_test = sklearn.model_selection.train_test_split(data, \n",
    "                                                                                data_label, \n",
    "                                                                                test_size=0.15, \n",
    "                                                                                stratify=data_label)\n",
    "\n",
    "    pickle.dump((X_test, Y_test, le), open(\"tumor_testset.pickle\", \"wb\"))\n",
    "    \n",
    "    # Train RF model\n",
    "    random_forest = train(X_train, Y_train, fn_out=\"trained_RF.pickle\", ntree=ntree, depth=depth)\n",
    "    \n",
    "    # Test accuracy of the original model \n",
    "    y_preds = random_forest.predict(X_test)\n",
    "    print(\"Test accuracy\", accuracy_score(Y_test, y_preds))\n",
    "    \n",
    "    # dump tree questions\n",
    "    RF = [extract_sk_dt(dt) for dt in random_forest]\n",
    "    pickle.dump(RF, open(fn_out, \"wb\"))\n",
    "    \n",
    "    parser.add_argument(\"n\", \"--ntree\", help=\"Number of RF trees\")"
   ]
  },
  {
   "cell_type": "code",
   "execution_count": null,
   "id": "caaa7c56",
   "metadata": {},
   "outputs": [],
   "source": [
    "le = LabelEncoder()\n",
    "sc = StandardScaler()\n",
    "np.random.seed(123) # 결과 재현이 가능하도록 시드를 설정합니다.\n",
    "\n",
    "\n",
    "data_dir = \"/home/hoseung/Dropbox/DeepInsight/1. Random Forest Tumor Classification/data/\"\n",
    "ntree=21\n",
    "depth=8\n",
    "\n",
    "df0 = load_all_files(data_dir)\n",
    "\n",
    "data, data_label = preprocess_df(df0)\n",
    "\n",
    "# Standardize\n",
    "data = sc.fit_transform(data)\n",
    "\n",
    "# Split train and valid dataset\n",
    "X_train, X_test, Y_train, Y_test = sklearn.model_selection.train_test_split(data, \n",
    "                                                                            data_label, \n",
    "                                                                            test_size=0.15, \n",
    "                                                                            stratify=data_label)\n",
    "\n",
    "pickle.dump((X_test, Y_test, le), open(\"tumor_testset.pickle\", \"wb\"))"
   ]
  },
  {
   "cell_type": "code",
   "execution_count": 8,
   "id": "4da1f98b",
   "metadata": {},
   "outputs": [
    {
     "name": "stdout",
     "output_type": "stream",
     "text": [
      "Train accuracy 0.5347014809418086\n",
      "balanced Test accuracy 0.5335953040926137\n",
      "Train accuracy 0.586469990412493\n",
      "balanced_subsample Test accuracy 0.5862481656611772\n",
      "Train accuracy 0.581108813025198\n",
      "None Test accuracy 0.5799347790640795\n"
     ]
    }
   ],
   "source": [
    "# Train RF model\n",
    "for cw in ['balanced', 'balanced_subsample', None]:\n",
    "    random_forest = train(X_train, Y_train,\n",
    "                          fn_out=\"trained_RF.pickle\",\n",
    "                          ntree=ntree,\n",
    "                          depth=depth, \n",
    "                          class_weight=cw)\n",
    "\n",
    "    # Test accuracy of the original model \n",
    "    y_preds = random_forest.predict(X_test)\n",
    "    print(cw,  \"Test accuracy\", accuracy_score(Y_test, y_preds))\n",
    "\n",
    "# dump tree questions\n",
    "#RF = [extract_sk_dt(dt) for dt in random_forest]\n",
    "#pickle.dump(RF, open(fn_out, \"wb\"))"
   ]
  },
  {
   "cell_type": "code",
   "execution_count": 9,
   "id": "8469c3cb",
   "metadata": {},
   "outputs": [],
   "source": [
    "dt = random_forest.estimators_[0]"
   ]
  },
  {
   "cell_type": "code",
   "execution_count": 14,
   "id": "a0143ce3",
   "metadata": {},
   "outputs": [
    {
     "data": {
      "text/plain": [
       "(465, 11)"
      ]
     },
     "execution_count": 14,
     "metadata": {},
     "output_type": "execute_result"
    }
   ],
   "source": [
    "dt.tree_.value.squeeze(1).shape"
   ]
  },
  {
   "cell_type": "code",
   "execution_count": 19,
   "id": "035b1d35",
   "metadata": {},
   "outputs": [],
   "source": [
    "leaf = np.where(dt.tree_.feature >= 0)[0]"
   ]
  },
  {
   "cell_type": "code",
   "execution_count": 21,
   "id": "91bf3e02",
   "metadata": {},
   "outputs": [
    {
     "data": {
      "text/plain": [
       "232"
      ]
     },
     "execution_count": 21,
     "metadata": {},
     "output_type": "execute_result"
    }
   ],
   "source": [
    "len(leaf)"
   ]
  },
  {
   "cell_type": "code",
   "execution_count": 15,
   "id": "8ceca4b1",
   "metadata": {},
   "outputs": [],
   "source": [
    "import matplotlib.pyplot as plt "
   ]
  },
  {
   "cell_type": "code",
   "execution_count": 24,
   "id": "1be34db8",
   "metadata": {},
   "outputs": [
    {
     "data": {
      "image/png": "[encoded data removed]",
      "text/plain": [
       "<Figure size 432x288 with 1 Axes>"
      ]
     },
     "metadata": {
      "needs_background": "light"
     },
     "output_type": "display_data"
    }
   ],
   "source": [
    "fig, ax = plt.subplots()\n",
    "ax.imshow(dt.tree_.value[leaf].squeeze(1), interpolation='none')\n",
    "ax.set_aspect(\"auto\")\n",
    "plt.show()"
   ]
  },
  {
   "cell_type": "markdown",
   "id": "bbbba6a6",
   "metadata": {},
   "source": [
    "RF 결과를 낼 때 value 값 node당으로 Normalize된 뒤에 곱해지는데,  \n",
    "전체 class = 5인 샘플 중 얼마다 node x에 들어갔는지 비율을 봐야하는게 아닐까? "
   ]
  }
 ],
 "metadata": {
  "kernelspec": {
   "display_name": "Python 3 (ipykernel)",
   "language": "python",
   "name": "python3"
  },
  "language_info": {
   "codemirror_mode": {
    "name": "ipython",
    "version": 3
   },
   "file_extension": ".py",
   "mimetype": "text/x-python",
   "name": "python",
   "nbconvert_exporter": "python",
   "pygments_lexer": "ipython3",
   "version": "3.9.0"
  }
 },
 "nbformat": 4,
 "nbformat_minor": 5
}
