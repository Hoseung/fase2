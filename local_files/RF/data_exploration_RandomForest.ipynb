{
 "cells": [
  {
   "cell_type": "markdown",
   "metadata": {},
   "source": [
    "# 라이브러리 설치"
   ]
  },
  {
   "cell_type": "markdown",
   "metadata": {},
   "source": [
    "!pip install pandas\n",
    "!pip install sklearn\n",
    "!pip install seaborn\n",
    "!pip install matplotlib"
   ]
  },
  {
   "cell_type": "markdown",
   "metadata": {},
   "source": [
    "# 관련 라이브러리 호출"
   ]
  },
  {
   "cell_type": "code",
   "execution_count": 1,
   "metadata": {},
   "outputs": [],
   "source": [
    "import numpy as np\n",
    "import pandas as pd\n",
    "#import tensorflow as tf\n",
    "#import keras\n",
    "import sklearn\n",
    "from sklearn.preprocessing import LabelEncoder\n",
    "le = LabelEncoder()\n",
    "\n",
    "from sklearn.preprocessing import StandardScaler\n",
    "sc = StandardScaler()\n",
    "\n",
    "from sklearn.ensemble import RandomForestClassifier\n",
    "\n",
    "import seaborn as sns\n",
    "import matplotlib.pyplot as plt\n",
    "\n",
    "np.random.seed(123) # 결과 재현이 가능하도록 시드를 설정합니다."
   ]
  },
  {
   "cell_type": "markdown",
   "metadata": {},
   "source": [
    "# 데이터 취합을 위한 파일명 및 파라미터 명 정의"
   ]
  },
  {
   "cell_type": "code",
   "execution_count": 2,
   "metadata": {},
   "outputs": [],
   "source": [
    "data_dir = \"/home/hoseung/Dropbox/DeepInsight/1. Random Forest Tumor Classification/data/\"\n",
    "\n",
    "filenames = [\"Bladder\", \n",
    "             \"Breast\",\n",
    "             \"Bronchusandlung\", \n",
    "             \"Cervixuteri\", \n",
    "             \"Colon\",\n",
    "             \"Corpusuteri\", \n",
    "             \"Kidney\", \n",
    "             \"Liverandintrahepaticbileducts\", \n",
    "             \"Ovary\", \n",
    "             \"Skin\", \n",
    "             \"Stomach\"]\n",
    "\n",
    "variants_ext = \"_challenge_variants.txt\"\n",
    "\n",
    "col_Names = [\"sampleID\", \"geneName\", \"chromosome\", \"location\",\"mutationType\",\"SNP?\",\"mutationsEffect_1\",\"mutationsEffect_2\"]"
   ]
  },
  {
   "cell_type": "markdown",
   "metadata": {},
   "source": [
    "# 문자형 변수를 숫자형으로 교체하기 위한 함수 정의"
   ]
  },
  {
   "cell_type": "code",
   "execution_count": 3,
   "metadata": {},
   "outputs": [],
   "source": [
    "# letter2int: 알파벳을 숫자로 변환 (a or A -> 0, b or B -> 1, etc.)\n",
    "# chromosome2num: X -> 23, Y -> 24\n",
    "\n",
    "def letter2int(letter):\n",
    "    out = ord(letter) - 65.\n",
    "    if out > 25:\n",
    "        out -= 32.\n",
    "    return out\n",
    "\n",
    "def chromosome2num(obj):\n",
    "    if obj == 'X':\n",
    "        return 23.\n",
    "    elif obj == 'Y':\n",
    "        return 24.\n",
    "    else:\n",
    "        return float(obj)    \n",
    "\n",
    "    "
   ]
  },
  {
   "cell_type": "markdown",
   "metadata": {},
   "source": [
    "# pandas 모듈을 이용한 원본 데이터 구축 (df0)"
   ]
  },
  {
   "cell_type": "code",
   "execution_count": 4,
   "metadata": {},
   "outputs": [],
   "source": [
    "df0 = pd.DataFrame(columns=col_Names)\n",
    "\n",
    "for filename in filenames:\n",
    "    dataframe = pd.read_csv(data_dir + filename+variants_ext, sep='\\t', names = col_Names)\n",
    "    dataframe['tumorLOC'] = filename\n",
    "    df0 = pd.concat([df0, dataframe], axis = 0)\n",
    "\n",
    "del dataframe"
   ]
  },
  {
   "cell_type": "code",
   "execution_count": 5,
   "metadata": {},
   "outputs": [
    {
     "data": {
      "text/html": [
       "<div>\n",
       "<style scoped>\n",
       "    .dataframe tbody tr th:only-of-type {\n",
       "        vertical-align: middle;\n",
       "    }\n",
       "\n",
       "    .dataframe tbody tr th {\n",
       "        vertical-align: top;\n",
       "    }\n",
       "\n",
       "    .dataframe thead th {\n",
       "        text-align: right;\n",
       "    }\n",
       "</style>\n",
       "<table border=\"1\" class=\"dataframe\">\n",
       "  <thead>\n",
       "    <tr style=\"text-align: right;\">\n",
       "      <th></th>\n",
       "      <th>sampleID</th>\n",
       "      <th>geneName</th>\n",
       "      <th>chromosome</th>\n",
       "      <th>location</th>\n",
       "      <th>mutationType</th>\n",
       "      <th>SNP?</th>\n",
       "      <th>mutationsEffect_1</th>\n",
       "      <th>mutationsEffect_2</th>\n",
       "      <th>tumorLOC</th>\n",
       "    </tr>\n",
       "  </thead>\n",
       "  <tbody>\n",
       "    <tr>\n",
       "      <th>0</th>\n",
       "      <td>TCGA-2F-A9KO-01</td>\n",
       "      <td>ABCA12</td>\n",
       "      <td>2</td>\n",
       "      <td>215914405</td>\n",
       "      <td>Missense_Mutation</td>\n",
       "      <td>SNP</td>\n",
       "      <td>deleterious(0)</td>\n",
       "      <td>MODERATE</td>\n",
       "      <td>Bladder</td>\n",
       "    </tr>\n",
       "    <tr>\n",
       "      <th>1</th>\n",
       "      <td>TCGA-2F-A9KO-01</td>\n",
       "      <td>ABCB4</td>\n",
       "      <td>7</td>\n",
       "      <td>87035681</td>\n",
       "      <td>Missense_Mutation</td>\n",
       "      <td>SNP</td>\n",
       "      <td>deleterious(0.01)</td>\n",
       "      <td>MODERATE</td>\n",
       "      <td>Bladder</td>\n",
       "    </tr>\n",
       "    <tr>\n",
       "      <th>2</th>\n",
       "      <td>TCGA-2F-A9KO-01</td>\n",
       "      <td>ABCB6</td>\n",
       "      <td>2</td>\n",
       "      <td>220079684</td>\n",
       "      <td>Silent</td>\n",
       "      <td>SNP</td>\n",
       "      <td>.</td>\n",
       "      <td>LOW</td>\n",
       "      <td>Bladder</td>\n",
       "    </tr>\n",
       "    <tr>\n",
       "      <th>3</th>\n",
       "      <td>TCGA-2F-A9KO-01</td>\n",
       "      <td>ABCB8</td>\n",
       "      <td>7</td>\n",
       "      <td>150737372</td>\n",
       "      <td>Missense_Mutation</td>\n",
       "      <td>SNP</td>\n",
       "      <td>deleterious(0.03)</td>\n",
       "      <td>MODERATE</td>\n",
       "      <td>Bladder</td>\n",
       "    </tr>\n",
       "    <tr>\n",
       "      <th>4</th>\n",
       "      <td>TCGA-2F-A9KO-01</td>\n",
       "      <td>ABCD4</td>\n",
       "      <td>14</td>\n",
       "      <td>74753127</td>\n",
       "      <td>3'UTR</td>\n",
       "      <td>SNP</td>\n",
       "      <td>.</td>\n",
       "      <td>MODIFIER</td>\n",
       "      <td>Bladder</td>\n",
       "    </tr>\n",
       "    <tr>\n",
       "      <th>...</th>\n",
       "      <td>...</td>\n",
       "      <td>...</td>\n",
       "      <td>...</td>\n",
       "      <td>...</td>\n",
       "      <td>...</td>\n",
       "      <td>...</td>\n",
       "      <td>...</td>\n",
       "      <td>...</td>\n",
       "      <td>...</td>\n",
       "    </tr>\n",
       "    <tr>\n",
       "      <th>146761</th>\n",
       "      <td>TCGA-VQ-AA6G-01</td>\n",
       "      <td>ZNF429</td>\n",
       "      <td>19</td>\n",
       "      <td>21719208</td>\n",
       "      <td>Missense_Mutation</td>\n",
       "      <td>SNP</td>\n",
       "      <td>tolerated(0.1)</td>\n",
       "      <td>MODERATE</td>\n",
       "      <td>Stomach</td>\n",
       "    </tr>\n",
       "    <tr>\n",
       "      <th>146762</th>\n",
       "      <td>TCGA-VQ-AA6G-01</td>\n",
       "      <td>ZNF500</td>\n",
       "      <td>16</td>\n",
       "      <td>4802667</td>\n",
       "      <td>Missense_Mutation</td>\n",
       "      <td>SNP</td>\n",
       "      <td>tolerated(0.07)</td>\n",
       "      <td>MODERATE</td>\n",
       "      <td>Stomach</td>\n",
       "    </tr>\n",
       "    <tr>\n",
       "      <th>146763</th>\n",
       "      <td>TCGA-VQ-AA6G-01</td>\n",
       "      <td>ZNF598</td>\n",
       "      <td>16</td>\n",
       "      <td>2048486</td>\n",
       "      <td>Missense_Mutation</td>\n",
       "      <td>SNP</td>\n",
       "      <td>.</td>\n",
       "      <td>MODERATE</td>\n",
       "      <td>Stomach</td>\n",
       "    </tr>\n",
       "    <tr>\n",
       "      <th>146764</th>\n",
       "      <td>TCGA-VQ-AA6G-01</td>\n",
       "      <td>ZNF623</td>\n",
       "      <td>8</td>\n",
       "      <td>144732057</td>\n",
       "      <td>Silent</td>\n",
       "      <td>SNP</td>\n",
       "      <td>.</td>\n",
       "      <td>LOW</td>\n",
       "      <td>Stomach</td>\n",
       "    </tr>\n",
       "    <tr>\n",
       "      <th>146765</th>\n",
       "      <td>TCGA-VQ-AA6G-01</td>\n",
       "      <td>ZNF658</td>\n",
       "      <td>9</td>\n",
       "      <td>40774526</td>\n",
       "      <td>Missense_Mutation</td>\n",
       "      <td>SNP</td>\n",
       "      <td>tolerated(0.13)</td>\n",
       "      <td>MODERATE</td>\n",
       "      <td>Stomach</td>\n",
       "    </tr>\n",
       "  </tbody>\n",
       "</table>\n",
       "<p>2044328 rows × 9 columns</p>\n",
       "</div>"
      ],
      "text/plain": [
       "               sampleID geneName chromosome   location       mutationType  \\\n",
       "0       TCGA-2F-A9KO-01   ABCA12          2  215914405  Missense_Mutation   \n",
       "1       TCGA-2F-A9KO-01    ABCB4          7   87035681  Missense_Mutation   \n",
       "2       TCGA-2F-A9KO-01    ABCB6          2  220079684             Silent   \n",
       "3       TCGA-2F-A9KO-01    ABCB8          7  150737372  Missense_Mutation   \n",
       "4       TCGA-2F-A9KO-01    ABCD4         14   74753127              3'UTR   \n",
       "...                 ...      ...        ...        ...                ...   \n",
       "146761  TCGA-VQ-AA6G-01   ZNF429         19   21719208  Missense_Mutation   \n",
       "146762  TCGA-VQ-AA6G-01   ZNF500         16    4802667  Missense_Mutation   \n",
       "146763  TCGA-VQ-AA6G-01   ZNF598         16    2048486  Missense_Mutation   \n",
       "146764  TCGA-VQ-AA6G-01   ZNF623          8  144732057             Silent   \n",
       "146765  TCGA-VQ-AA6G-01   ZNF658          9   40774526  Missense_Mutation   \n",
       "\n",
       "       SNP?  mutationsEffect_1 mutationsEffect_2 tumorLOC  \n",
       "0       SNP     deleterious(0)          MODERATE  Bladder  \n",
       "1       SNP  deleterious(0.01)          MODERATE  Bladder  \n",
       "2       SNP                  .               LOW  Bladder  \n",
       "3       SNP  deleterious(0.03)          MODERATE  Bladder  \n",
       "4       SNP                  .          MODIFIER  Bladder  \n",
       "...     ...                ...               ...      ...  \n",
       "146761  SNP     tolerated(0.1)          MODERATE  Stomach  \n",
       "146762  SNP    tolerated(0.07)          MODERATE  Stomach  \n",
       "146763  SNP                  .          MODERATE  Stomach  \n",
       "146764  SNP                  .               LOW  Stomach  \n",
       "146765  SNP    tolerated(0.13)          MODERATE  Stomach  \n",
       "\n",
       "[2044328 rows x 9 columns]"
      ]
     },
     "execution_count": 5,
     "metadata": {},
     "output_type": "execute_result"
    }
   ],
   "source": [
    "df0"
   ]
  },
  {
   "cell_type": "markdown",
   "metadata": {},
   "source": [
    "# 파라미터 별 변수들을 숫자형으로 변환 및 불필요 항목(sampleID, geneName, chromosome) 제거 -> 데이터 정제"
   ]
  },
  {
   "cell_type": "code",
   "execution_count": 6,
   "metadata": {},
   "outputs": [],
   "source": [
    "geneNameNum = []\n",
    "for letter in df0[\"geneName\"].tolist():\n",
    "    geneNameNum.append(letter2int(letter[0]))\n",
    "\n",
    "chromosomeNum = []\n",
    "\n",
    "for letter in df0[\"chromosome\"].tolist():\n",
    "    chromosomeNum.append(chromosome2num(letter))\n",
    "\n",
    "df = df0.copy()\n",
    "\n",
    "df[\"sampleID\"]      = le.fit_transform(df[\"sampleID\"]).astype('float')\n",
    "df[\"location\"]      = le.fit_transform(df[\"location\"]).astype('float')\n",
    "df[\"tumorLOC\"]      = le.fit_transform(df[\"tumorLOC\"]).astype('float')\n",
    "df[\"geneName\"]      = le.fit_transform(df[\"geneName\"]).astype('float')\n",
    "df[\"geneNameNum\"]   = geneNameNum\n",
    "df[\"chromosomeNum\"] = chromosomeNum\n",
    "df[\"SNP?\"]          = le.fit_transform(df[\"SNP?\"]).astype('float')\n",
    "df[\"mutationType\"]  = le.fit_transform(df[\"mutationType\"]).astype('float')\n",
    "\n",
    "df[\"mutationsEffect_1\"] = le.fit_transform(df[\"mutationsEffect_1\"]).astype('float')\n",
    "df[\"mutationsEffect_2\"] = le.fit_transform(df[\"mutationsEffect_2\"]).astype('float')\n",
    "\n",
    "\n",
    "del df[\"sampleID\"]\n",
    "del df[\"geneName\"]\n",
    "del df[\"chromosome\"]\n",
    "\n",
    "#del df[\"geneNameNum\"]\n",
    "#del df[\"chromosomeNum\"]\n",
    "#del df[\"location\"]\n",
    "#del df[\"SNP?\"]\n",
    "#del df[\"mutationType\"]\n",
    "# del df[\"mutationsEffect_1\"]\n",
    "# del df[\"mutationsEffect_2\"]\n"
   ]
  },
  {
   "cell_type": "markdown",
   "metadata": {},
   "source": [
    "# 데이터 정제 결과 (df)"
   ]
  },
  {
   "cell_type": "code",
   "execution_count": 7,
   "metadata": {},
   "outputs": [
    {
     "data": {
      "text/html": [
       "<div>\n",
       "<style scoped>\n",
       "    .dataframe tbody tr th:only-of-type {\n",
       "        vertical-align: middle;\n",
       "    }\n",
       "\n",
       "    .dataframe tbody tr th {\n",
       "        vertical-align: top;\n",
       "    }\n",
       "\n",
       "    .dataframe thead th {\n",
       "        text-align: right;\n",
       "    }\n",
       "</style>\n",
       "<table border=\"1\" class=\"dataframe\">\n",
       "  <thead>\n",
       "    <tr style=\"text-align: right;\">\n",
       "      <th></th>\n",
       "      <th>location</th>\n",
       "      <th>mutationType</th>\n",
       "      <th>SNP?</th>\n",
       "      <th>mutationsEffect_1</th>\n",
       "      <th>mutationsEffect_2</th>\n",
       "      <th>tumorLOC</th>\n",
       "      <th>geneNameNum</th>\n",
       "      <th>chromosomeNum</th>\n",
       "    </tr>\n",
       "  </thead>\n",
       "  <tbody>\n",
       "    <tr>\n",
       "      <th>0</th>\n",
       "      <td>1792962.0</td>\n",
       "      <td>9.0</td>\n",
       "      <td>3.0</td>\n",
       "      <td>1.0</td>\n",
       "      <td>2.0</td>\n",
       "      <td>0.0</td>\n",
       "      <td>0.0</td>\n",
       "      <td>2.0</td>\n",
       "    </tr>\n",
       "    <tr>\n",
       "      <th>1</th>\n",
       "      <td>1139518.0</td>\n",
       "      <td>9.0</td>\n",
       "      <td>3.0</td>\n",
       "      <td>2.0</td>\n",
       "      <td>2.0</td>\n",
       "      <td>0.0</td>\n",
       "      <td>0.0</td>\n",
       "      <td>7.0</td>\n",
       "    </tr>\n",
       "    <tr>\n",
       "      <th>2</th>\n",
       "      <td>1798776.0</td>\n",
       "      <td>13.0</td>\n",
       "      <td>3.0</td>\n",
       "      <td>0.0</td>\n",
       "      <td>1.0</td>\n",
       "      <td>0.0</td>\n",
       "      <td>0.0</td>\n",
       "      <td>2.0</td>\n",
       "    </tr>\n",
       "    <tr>\n",
       "      <th>3</th>\n",
       "      <td>1600474.0</td>\n",
       "      <td>9.0</td>\n",
       "      <td>3.0</td>\n",
       "      <td>4.0</td>\n",
       "      <td>2.0</td>\n",
       "      <td>0.0</td>\n",
       "      <td>0.0</td>\n",
       "      <td>7.0</td>\n",
       "    </tr>\n",
       "    <tr>\n",
       "      <th>4</th>\n",
       "      <td>1044439.0</td>\n",
       "      <td>1.0</td>\n",
       "      <td>3.0</td>\n",
       "      <td>0.0</td>\n",
       "      <td>3.0</td>\n",
       "      <td>0.0</td>\n",
       "      <td>0.0</td>\n",
       "      <td>14.0</td>\n",
       "    </tr>\n",
       "    <tr>\n",
       "      <th>...</th>\n",
       "      <td>...</td>\n",
       "      <td>...</td>\n",
       "      <td>...</td>\n",
       "      <td>...</td>\n",
       "      <td>...</td>\n",
       "      <td>...</td>\n",
       "      <td>...</td>\n",
       "      <td>...</td>\n",
       "    </tr>\n",
       "    <tr>\n",
       "      <th>146761</th>\n",
       "      <td>299440.0</td>\n",
       "      <td>9.0</td>\n",
       "      <td>3.0</td>\n",
       "      <td>18.0</td>\n",
       "      <td>2.0</td>\n",
       "      <td>10.0</td>\n",
       "      <td>25.0</td>\n",
       "      <td>19.0</td>\n",
       "    </tr>\n",
       "    <tr>\n",
       "      <th>146762</th>\n",
       "      <td>78680.0</td>\n",
       "      <td>9.0</td>\n",
       "      <td>3.0</td>\n",
       "      <td>15.0</td>\n",
       "      <td>2.0</td>\n",
       "      <td>10.0</td>\n",
       "      <td>25.0</td>\n",
       "      <td>16.0</td>\n",
       "    </tr>\n",
       "    <tr>\n",
       "      <th>146763</th>\n",
       "      <td>37542.0</td>\n",
       "      <td>9.0</td>\n",
       "      <td>3.0</td>\n",
       "      <td>0.0</td>\n",
       "      <td>2.0</td>\n",
       "      <td>10.0</td>\n",
       "      <td>25.0</td>\n",
       "      <td>16.0</td>\n",
       "    </tr>\n",
       "    <tr>\n",
       "      <th>146764</th>\n",
       "      <td>1568897.0</td>\n",
       "      <td>13.0</td>\n",
       "      <td>3.0</td>\n",
       "      <td>0.0</td>\n",
       "      <td>1.0</td>\n",
       "      <td>10.0</td>\n",
       "      <td>25.0</td>\n",
       "      <td>8.0</td>\n",
       "    </tr>\n",
       "    <tr>\n",
       "      <th>146765</th>\n",
       "      <td>581906.0</td>\n",
       "      <td>9.0</td>\n",
       "      <td>3.0</td>\n",
       "      <td>21.0</td>\n",
       "      <td>2.0</td>\n",
       "      <td>10.0</td>\n",
       "      <td>25.0</td>\n",
       "      <td>9.0</td>\n",
       "    </tr>\n",
       "  </tbody>\n",
       "</table>\n",
       "<p>2044328 rows × 8 columns</p>\n",
       "</div>"
      ],
      "text/plain": [
       "         location  mutationType  SNP?  mutationsEffect_1  mutationsEffect_2  \\\n",
       "0       1792962.0           9.0   3.0                1.0                2.0   \n",
       "1       1139518.0           9.0   3.0                2.0                2.0   \n",
       "2       1798776.0          13.0   3.0                0.0                1.0   \n",
       "3       1600474.0           9.0   3.0                4.0                2.0   \n",
       "4       1044439.0           1.0   3.0                0.0                3.0   \n",
       "...           ...           ...   ...                ...                ...   \n",
       "146761   299440.0           9.0   3.0               18.0                2.0   \n",
       "146762    78680.0           9.0   3.0               15.0                2.0   \n",
       "146763    37542.0           9.0   3.0                0.0                2.0   \n",
       "146764  1568897.0          13.0   3.0                0.0                1.0   \n",
       "146765   581906.0           9.0   3.0               21.0                2.0   \n",
       "\n",
       "        tumorLOC  geneNameNum  chromosomeNum  \n",
       "0            0.0          0.0            2.0  \n",
       "1            0.0          0.0            7.0  \n",
       "2            0.0          0.0            2.0  \n",
       "3            0.0          0.0            7.0  \n",
       "4            0.0          0.0           14.0  \n",
       "...          ...          ...            ...  \n",
       "146761      10.0         25.0           19.0  \n",
       "146762      10.0         25.0           16.0  \n",
       "146763      10.0         25.0           16.0  \n",
       "146764      10.0         25.0            8.0  \n",
       "146765      10.0         25.0            9.0  \n",
       "\n",
       "[2044328 rows x 8 columns]"
      ]
     },
     "execution_count": 7,
     "metadata": {},
     "output_type": "execute_result"
    }
   ],
   "source": [
    "df"
   ]
  },
  {
   "cell_type": "markdown",
   "metadata": {},
   "source": [
    "# Correlation Cofficient 값을 이용한 데이터 간 상관도 파악"
   ]
  },
  {
   "cell_type": "code",
   "execution_count": 8,
   "metadata": {},
   "outputs": [
    {
     "data": {
      "image/png": "[encoded data removed]",
      "text/plain": [
       "<Figure size 720x720 with 2 Axes>"
      ]
     },
     "metadata": {
      "needs_background": "light"
     },
     "output_type": "display_data"
    }
   ],
   "source": [
    "plt.figure(figsize=(10, 10))\n",
    "sns.heatmap(df.corr(), linewidths=0.01, square=True,\n",
    "            annot=True, cmap=plt.cm.viridis, linecolor=\"white\")\n",
    "plt.title('Correlation between features')\n",
    "plt.show()"
   ]
  },
  {
   "cell_type": "markdown",
   "metadata": {},
   "source": [
    "# 정제된 데이터(data)를 입력 변수(X) 및 라벨 값(Y)로 분리"
   ]
  },
  {
   "cell_type": "code",
   "execution_count": 9,
   "metadata": {},
   "outputs": [],
   "source": [
    "data = df.copy()\n",
    "data_label = np.array(data['tumorLOC'].tolist())\n",
    "del data['tumorLOC']\n",
    "\n",
    "X_train, X_test, Y_train, Y_test = sklearn.model_selection.train_test_split(data, data_label, test_size=0.33, random_state=42)"
   ]
  },
  {
   "cell_type": "markdown",
   "metadata": {},
   "source": [
    "# 데이터 정규화"
   ]
  },
  {
   "cell_type": "code",
   "execution_count": 10,
   "metadata": {},
   "outputs": [],
   "source": [
    "X_train = sc.fit_transform(X_train)\n",
    "X_test  = sc.fit_transform(X_test)"
   ]
  },
  {
   "cell_type": "markdown",
   "metadata": {},
   "source": [
    "# RandomForestClassifier 호출 및 하이퍼 파라미터 설정"
   ]
  },
  {
   "cell_type": "code",
   "execution_count": 11,
   "metadata": {},
   "outputs": [],
   "source": [
    "random_forest = RandomForestClassifier(n_estimators=100)"
   ]
  },
  {
   "cell_type": "markdown",
   "metadata": {},
   "source": [
    "# 훈련 시작"
   ]
  },
  {
   "cell_type": "code",
   "execution_count": 12,
   "metadata": {},
   "outputs": [
    {
     "data": {
      "text/plain": [
       "RandomForestClassifier()"
      ]
     },
     "execution_count": 12,
     "metadata": {},
     "output_type": "execute_result"
    }
   ],
   "source": [
    "random_forest.fit(X_train, Y_train)"
   ]
  },
  {
   "cell_type": "markdown",
   "metadata": {},
   "source": [
    "# 훈련 정확도 계산"
   ]
  },
  {
   "cell_type": "code",
   "execution_count": 13,
   "metadata": {},
   "outputs": [
    {
     "name": "stdout",
     "output_type": "stream",
     "text": [
      "0.9680886092491854\n"
     ]
    }
   ],
   "source": [
    "print(random_forest.score(X_train, Y_train))"
   ]
  },
  {
   "cell_type": "code",
   "execution_count": 14,
   "metadata": {},
   "outputs": [
    {
     "name": "stdout",
     "output_type": "stream",
     "text": [
      "0.24578397904626098\n"
     ]
    }
   ],
   "source": [
    "print(random_forest.score(X_test, Y_test))"
   ]
  },
  {
   "cell_type": "markdown",
   "metadata": {},
   "source": [
    "# 훈련 모델 파라미터 호출"
   ]
  },
  {
   "cell_type": "code",
   "execution_count": 19,
   "metadata": {},
   "outputs": [],
   "source": [
    "params = random_forest.get_params(True)"
   ]
  },
  {
   "cell_type": "code",
   "execution_count": 20,
   "metadata": {},
   "outputs": [
    {
     "data": {
      "text/plain": [
       "{'bootstrap': True,\n",
       " 'ccp_alpha': 0.0,\n",
       " 'class_weight': None,\n",
       " 'criterion': 'gini',\n",
       " 'max_depth': None,\n",
       " 'max_features': 'auto',\n",
       " 'max_leaf_nodes': None,\n",
       " 'max_samples': None,\n",
       " 'min_impurity_decrease': 0.0,\n",
       " 'min_impurity_split': None,\n",
       " 'min_samples_leaf': 1,\n",
       " 'min_samples_split': 2,\n",
       " 'min_weight_fraction_leaf': 0.0,\n",
       " 'n_estimators': 100,\n",
       " 'n_jobs': None,\n",
       " 'oob_score': False,\n",
       " 'random_state': None,\n",
       " 'verbose': 0,\n",
       " 'warm_start': False}"
      ]
     },
     "execution_count": 20,
     "metadata": {},
     "output_type": "execute_result"
    }
   ],
   "source": [
    "params"
   ]
  },
  {
   "cell_type": "code",
   "execution_count": null,
   "metadata": {},
   "outputs": [],
   "source": []
  }
 ],
 "metadata": {
  "kernelspec": {
   "display_name": "Python 3 (ipykernel)",
   "language": "python",
   "name": "python3"
  },
  "language_info": {
   "codemirror_mode": {
    "name": "ipython",
    "version": 3
   },
   "file_extension": ".py",
   "mimetype": "text/x-python",
   "name": "python",
   "nbconvert_exporter": "python",
   "pygments_lexer": "ipython3",
   "version": "3.9.0"
  }
 },
 "nbformat": 4,
 "nbformat_minor": 4
}
