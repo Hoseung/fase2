{
 "cells": [
  {
   "cell_type": "code",
   "execution_count": 6,
   "id": "2c39caa4",
   "metadata": {},
   "outputs": [
    {
     "name": "stdout",
     "output_type": "stream",
     "text": [
      "The autoreload extension is already loaded. To reload it, use:\n",
      "  %reload_ext autoreload\n"
     ]
    }
   ],
   "source": [
    "%load_ext autoreload\n",
    "%autoreload 2"
   ]
  },
  {
   "cell_type": "markdown",
   "id": "0586955c",
   "metadata": {},
   "source": [
    "# Palisade BGV Test"
   ]
  },
  {
   "cell_type": "markdown",
   "id": "d8aba1e4",
   "metadata": {},
   "source": [
    "### BGV Context"
   ]
  },
  {
   "cell_type": "code",
   "execution_count": 1,
   "id": "c76b778f",
   "metadata": {},
   "outputs": [],
   "source": [
    "import numpy as np\n",
    "\n",
    "from fase.core.palisade_bgv import PalisadeBGVContext\n",
    "\n",
    "plaintextModulus = 536903681\n",
    "sigma = 3.2\n",
    "multDepth = 3\n",
    "maxdepth = 3\n",
    "\n",
    "context = PalisadeBGVContext(plaintextModulus,\n",
    "                             multDepth,\n",
    "                             maxdepth, \n",
    "                             sigma,\n",
    "                             )"
   ]
  },
  {
   "cell_type": "markdown",
   "id": "76bece16",
   "metadata": {},
   "source": [
    "list of integers or ndarray of integers, or integers in float format are supported.  \n",
    "But real number that can't unambiguosly converted to int is NOT supported"
   ]
  },
  {
   "cell_type": "code",
   "execution_count": 2,
   "id": "608e9d39",
   "metadata": {},
   "outputs": [
    {
     "name": "stdout",
     "output_type": "stream",
     "text": [
      "No Error\n"
     ]
    }
   ],
   "source": [
    "ctxt1 = context.encrypt([1,2,3,4])\n",
    "ctxt2 = context.encrypt(np.array([1,2,3,4]))\n",
    "ctxt3 = context.encrypt(np.array([1.,2.,3.,4.]))\n",
    "print(\"No Error\")"
   ]
  },
  {
   "cell_type": "code",
   "execution_count": 3,
   "id": "05a3a636",
   "metadata": {
    "collapsed": true
   },
   "outputs": [
    {
     "name": "stdout",
     "output_type": "stream",
     "text": [
      "Will raise an error\n"
     ]
    },
    {
     "ename": "ValueError",
     "evalue": "Only a list of integers is allowed",
     "output_type": "error",
     "traceback": [
      "\u001b[0;31m---------------------------------------------------------------------------\u001b[0m",
      "\u001b[0;31mValueError\u001b[0m                                Traceback (most recent call last)",
      "\u001b[0;32m~/Work/fhe-ai-sw-etri/fase/core/palisade_bgv.py\u001b[0m in \u001b[0;36m_to_int_list\u001b[0;34m(val)\u001b[0m\n\u001b[1;32m     76\u001b[0m             \u001b[0;32melse\u001b[0m\u001b[0;34m:\u001b[0m\u001b[0;34m\u001b[0m\u001b[0;34m\u001b[0m\u001b[0m\n\u001b[0;32m---> 77\u001b[0;31m                 \u001b[0;32mraise\u001b[0m \u001b[0mValueError\u001b[0m\u001b[0;34m(\u001b[0m\u001b[0;34m\"Can't be converted to integer list\"\u001b[0m\u001b[0;34m)\u001b[0m\u001b[0;34m\u001b[0m\u001b[0;34m\u001b[0m\u001b[0m\n\u001b[0m\u001b[1;32m     78\u001b[0m         \u001b[0;32mexcept\u001b[0m \u001b[0mValueError\u001b[0m\u001b[0;34m:\u001b[0m\u001b[0;34m\u001b[0m\u001b[0;34m\u001b[0m\u001b[0m\n",
      "\u001b[0;31mValueError\u001b[0m: Can't be converted to integer list",
      "\nDuring handling of the above exception, another exception occurred:\n",
      "\u001b[0;31mValueError\u001b[0m                                Traceback (most recent call last)",
      "\u001b[0;32m/tmp/ipykernel_6658/3156584216.py\u001b[0m in \u001b[0;36m<module>\u001b[0;34m\u001b[0m\n\u001b[1;32m      1\u001b[0m \u001b[0mprint\u001b[0m\u001b[0;34m(\u001b[0m\u001b[0;34m\"Will raise an error\"\u001b[0m\u001b[0;34m)\u001b[0m\u001b[0;34m\u001b[0m\u001b[0;34m\u001b[0m\u001b[0m\n\u001b[0;32m----> 2\u001b[0;31m \u001b[0mctxt4\u001b[0m \u001b[0;34m=\u001b[0m \u001b[0mcontext\u001b[0m\u001b[0;34m.\u001b[0m\u001b[0mencrypt\u001b[0m\u001b[0;34m(\u001b[0m\u001b[0mnp\u001b[0m\u001b[0;34m.\u001b[0m\u001b[0marray\u001b[0m\u001b[0;34m(\u001b[0m\u001b[0;34m[\u001b[0m\u001b[0;36m1.1\u001b[0m\u001b[0;34m,\u001b[0m\u001b[0;36m2.\u001b[0m\u001b[0;34m,\u001b[0m\u001b[0;36m3.\u001b[0m\u001b[0;34m,\u001b[0m\u001b[0;36m4.\u001b[0m\u001b[0;34m]\u001b[0m\u001b[0;34m)\u001b[0m\u001b[0;34m)\u001b[0m\u001b[0;34m\u001b[0m\u001b[0;34m\u001b[0m\u001b[0m\n\u001b[0m",
      "\u001b[0;32m~/Work/fhe-ai-sw-etri/fase/core/palisade_bgv.py\u001b[0m in \u001b[0;36mencrypt\u001b[0;34m(self, val)\u001b[0m\n\u001b[1;32m     34\u001b[0m \u001b[0;34m\u001b[0m\u001b[0m\n\u001b[1;32m     35\u001b[0m     \u001b[0;32mdef\u001b[0m \u001b[0mencrypt\u001b[0m\u001b[0;34m(\u001b[0m\u001b[0mself\u001b[0m\u001b[0;34m,\u001b[0m \u001b[0mval\u001b[0m\u001b[0;34m:\u001b[0m \u001b[0mlist\u001b[0m\u001b[0;34m)\u001b[0m\u001b[0;34m:\u001b[0m\u001b[0;34m\u001b[0m\u001b[0;34m\u001b[0m\u001b[0m\n\u001b[0;32m---> 36\u001b[0;31m         \u001b[0;32mreturn\u001b[0m \u001b[0mself\u001b[0m\u001b[0;34m.\u001b[0m\u001b[0m_scheme\u001b[0m\u001b[0;34m.\u001b[0m\u001b[0mEncrypt\u001b[0m\u001b[0;34m(\u001b[0m\u001b[0mself\u001b[0m\u001b[0;34m.\u001b[0m\u001b[0m_to_int_list\u001b[0m\u001b[0;34m(\u001b[0m\u001b[0mval\u001b[0m\u001b[0;34m)\u001b[0m\u001b[0;34m)\u001b[0m\u001b[0;34m\u001b[0m\u001b[0;34m\u001b[0m\u001b[0m\n\u001b[0m\u001b[1;32m     37\u001b[0m \u001b[0;34m\u001b[0m\u001b[0m\n\u001b[1;32m     38\u001b[0m     \u001b[0;32mdef\u001b[0m \u001b[0mdecrypt\u001b[0m\u001b[0;34m(\u001b[0m\u001b[0mself\u001b[0m\u001b[0;34m,\u001b[0m \u001b[0mctxt\u001b[0m\u001b[0;34m)\u001b[0m\u001b[0;34m:\u001b[0m\u001b[0;34m\u001b[0m\u001b[0;34m\u001b[0m\u001b[0m\n",
      "\u001b[0;32m~/Work/fhe-ai-sw-etri/fase/core/palisade_bgv.py\u001b[0m in \u001b[0;36m_to_int_list\u001b[0;34m(val)\u001b[0m\n\u001b[1;32m     77\u001b[0m                 \u001b[0;32mraise\u001b[0m \u001b[0mValueError\u001b[0m\u001b[0;34m(\u001b[0m\u001b[0;34m\"Can't be converted to integer list\"\u001b[0m\u001b[0;34m)\u001b[0m\u001b[0;34m\u001b[0m\u001b[0;34m\u001b[0m\u001b[0m\n\u001b[1;32m     78\u001b[0m         \u001b[0;32mexcept\u001b[0m \u001b[0mValueError\u001b[0m\u001b[0;34m:\u001b[0m\u001b[0;34m\u001b[0m\u001b[0;34m\u001b[0m\u001b[0m\n\u001b[0;32m---> 79\u001b[0;31m             \u001b[0;32mraise\u001b[0m \u001b[0mValueError\u001b[0m\u001b[0;34m(\u001b[0m\u001b[0;34m\"Only a list of integers is allowed\"\u001b[0m\u001b[0;34m)\u001b[0m\u001b[0;34m\u001b[0m\u001b[0;34m\u001b[0m\u001b[0m\n\u001b[0m",
      "\u001b[0;31mValueError\u001b[0m: Only a list of integers is allowed"
     ]
    }
   ],
   "source": [
    "print(\"Will raise an error\")\n",
    "ctxt4 = context.encrypt(np.array([1.1,2.,3.,4.]))"
   ]
  },
  {
   "cell_type": "markdown",
   "id": "38531ab8",
   "metadata": {},
   "source": [
    "### Basic operations"
   ]
  },
  {
   "cell_type": "code",
   "execution_count": 4,
   "id": "125c6464",
   "metadata": {},
   "outputs": [
    {
     "name": "stdout",
     "output_type": "stream",
     "text": [
      "[1 2 3 4 0]\n",
      "[2 4 6 8 0]\n",
      "[ 1  4  9 16  0]\n",
      "[5 8 9 8 0]\n"
     ]
    }
   ],
   "source": [
    "res = context.decrypt(ctxt1)\n",
    "print(res[:5])\n",
    "ctxt3 = context.add(ctxt1, ctxt2)\n",
    "\n",
    "print(context.decrypt(ctxt3)[:5])\n",
    "\n",
    "# Mult & Mult by Plain\n",
    "ctxt3 = context.mult(ctxt1, ctxt2)\n",
    "ctxt4 = context.multByVec(ctxt1, [5,4,3,2])\n",
    "\n",
    "print(context.decrypt(ctxt3)[:5])\n",
    "print(context.decrypt(ctxt4)[:5])"
   ]
  },
  {
   "cell_type": "markdown",
   "id": "6b60e963",
   "metadata": {},
   "source": [
    "### Rotation"
   ]
  },
  {
   "cell_type": "code",
   "execution_count": 5,
   "id": "1f864062",
   "metadata": {
    "collapsed": true
   },
   "outputs": [
    {
     "name": "stdout",
     "output_type": "stream",
     "text": [
      "Can't rotate until rotation keys are ready\n"
     ]
    },
    {
     "ename": "AssertionError",
     "evalue": "rotation key for 2 not ready",
     "output_type": "error",
     "traceback": [
      "\u001b[0;31m---------------------------------------------------------------------------\u001b[0m",
      "\u001b[0;31mAssertionError\u001b[0m                            Traceback (most recent call last)",
      "\u001b[0;32m/tmp/ipykernel_6658/3994184525.py\u001b[0m in \u001b[0;36m<module>\u001b[0;34m\u001b[0m\n\u001b[1;32m      1\u001b[0m \u001b[0;31m# Trying to rotate before generating rotation key\u001b[0m\u001b[0;34m\u001b[0m\u001b[0;34m\u001b[0m\u001b[0m\n\u001b[1;32m      2\u001b[0m \u001b[0mprint\u001b[0m\u001b[0;34m(\u001b[0m\u001b[0;34m\"Can't rotate until rotation keys are ready\"\u001b[0m\u001b[0;34m)\u001b[0m\u001b[0;34m\u001b[0m\u001b[0;34m\u001b[0m\u001b[0m\n\u001b[0;32m----> 3\u001b[0;31m \u001b[0mcrot1\u001b[0m \u001b[0;34m=\u001b[0m \u001b[0mcontext\u001b[0m\u001b[0;34m.\u001b[0m\u001b[0mrot\u001b[0m\u001b[0;34m(\u001b[0m\u001b[0mctxt3\u001b[0m\u001b[0;34m,\u001b[0m \u001b[0;36m2\u001b[0m\u001b[0;34m)\u001b[0m\u001b[0;34m\u001b[0m\u001b[0;34m\u001b[0m\u001b[0m\n\u001b[0m\u001b[1;32m      4\u001b[0m \u001b[0mprint\u001b[0m\u001b[0;34m(\u001b[0m\u001b[0mcontext\u001b[0m\u001b[0;34m.\u001b[0m\u001b[0mdecrypt\u001b[0m\u001b[0;34m(\u001b[0m\u001b[0mcrot1\u001b[0m\u001b[0;34m)\u001b[0m\u001b[0;34m[\u001b[0m\u001b[0;34m:\u001b[0m\u001b[0;36m5\u001b[0m\u001b[0;34m]\u001b[0m\u001b[0;34m)\u001b[0m\u001b[0;34m\u001b[0m\u001b[0;34m\u001b[0m\u001b[0m\n",
      "\u001b[0;32m~/Work/fhe-ai-sw-etri/fase/core/palisade_bgv.py\u001b[0m in \u001b[0;36mrot\u001b[0;34m(self, ctxt, r, inplace)\u001b[0m\n\u001b[1;32m     60\u001b[0m         \"\"\"rotate left by r (negative r for right rotation)\n\u001b[1;32m     61\u001b[0m         \"\"\"\n\u001b[0;32m---> 62\u001b[0;31m         \u001b[0;32massert\u001b[0m \u001b[0mr\u001b[0m \u001b[0;32min\u001b[0m \u001b[0mself\u001b[0m\u001b[0;34m.\u001b[0m\u001b[0m_rot_indices\u001b[0m\u001b[0;34m,\u001b[0m \u001b[0;34mf\"rotation key for {r} not ready\"\u001b[0m\u001b[0;34m\u001b[0m\u001b[0;34m\u001b[0m\u001b[0m\n\u001b[0m\u001b[1;32m     63\u001b[0m         \u001b[0;32mif\u001b[0m \u001b[0minplace\u001b[0m \u001b[0;32mand\u001b[0m \u001b[0;32mnot\u001b[0m \u001b[0mself\u001b[0m\u001b[0;34m.\u001b[0m\u001b[0m_silent\u001b[0m\u001b[0;34m:\u001b[0m \u001b[0mprint\u001b[0m\u001b[0;34m(\u001b[0m\u001b[0;34m\"'inplace' not supported!\"\u001b[0m\u001b[0;34m)\u001b[0m\u001b[0;34m\u001b[0m\u001b[0;34m\u001b[0m\u001b[0m\n\u001b[1;32m     64\u001b[0m         \u001b[0;32mreturn\u001b[0m \u001b[0mself\u001b[0m\u001b[0;34m.\u001b[0m\u001b[0m_scheme\u001b[0m\u001b[0;34m.\u001b[0m\u001b[0mEvalAtIndex\u001b[0m\u001b[0;34m(\u001b[0m\u001b[0mctxt\u001b[0m\u001b[0;34m,\u001b[0m \u001b[0mr\u001b[0m\u001b[0;34m)\u001b[0m\u001b[0;34m\u001b[0m\u001b[0;34m\u001b[0m\u001b[0m\n",
      "\u001b[0;31mAssertionError\u001b[0m: rotation key for 2 not ready"
     ]
    }
   ],
   "source": [
    "# Trying to rotate before generating rotation key\n",
    "print(\"Can't rotate until rotation keys are ready\")\n",
    "crot1 = context.rot(ctxt3, 2)\n",
    "print(context.decrypt(crot1)[:5])"
   ]
  },
  {
   "cell_type": "code",
   "execution_count": 7,
   "id": "1b6e7278",
   "metadata": {},
   "outputs": [
    {
     "name": "stdout",
     "output_type": "stream",
     "text": [
      "[ 9 16  0  0  0]\n",
      "rotation working\n"
     ]
    }
   ],
   "source": [
    "# generate rotation key and try again\n",
    "context.add_rotKey([-3,-2,-1,1,2,3])\n",
    "crot1 = context.rot(ctxt3, 2)\n",
    "print(context.decrypt(crot1)[:5])\n",
    "\n",
    "print(\"rotation working\")"
   ]
  },
  {
   "cell_type": "markdown",
   "id": "b6089a9a",
   "metadata": {},
   "source": [
    "### BFV: encrypt, decrypt, add, mult, rotation all work correctly!"
   ]
  }
 ],
 "metadata": {
  "kernelspec": {
   "display_name": "Python 3 (ipykernel)",
   "language": "python",
   "name": "python3"
  },
  "language_info": {
   "codemirror_mode": {
    "name": "ipython",
    "version": 3
   },
   "file_extension": ".py",
   "mimetype": "text/x-python",
   "name": "python",
   "nbconvert_exporter": "python",
   "pygments_lexer": "ipython3",
   "version": "3.9.7"
  }
 },
 "nbformat": 4,
 "nbformat_minor": 5
}
