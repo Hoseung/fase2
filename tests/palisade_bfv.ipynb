{
 "cells": [
  {
   "cell_type": "code",
   "execution_count": 1,
   "id": "1d284a09",
   "metadata": {},
   "outputs": [],
   "source": [
    "from fase import pycrypto\n",
    "\n",
    "import numpy as np\n",
    "\n",
    "from fase.core.palisade_bfv import PalisadeBFVContext"
   ]
  },
  {
   "cell_type": "markdown",
   "id": "1ae774d7",
   "metadata": {},
   "source": [
    "# Palisade BGV Test\n",
    "\n",
    "### BFV Context"
   ]
  },
  {
   "cell_type": "code",
   "execution_count": 2,
   "id": "ea73346c",
   "metadata": {},
   "outputs": [],
   "source": [
    "plaintextModulus = 536903681\n",
    "sigma = 3.2\n",
    "numAdds = 0\n",
    "numMults = 3\n",
    "numKeyswitches = 0\n",
    "maxdepth = 3\n",
    "\n",
    "context = PalisadeBFVContext(plaintextModulus,\n",
    "                             numAdds,\n",
    "                             numMults,\n",
    "                             numKeyswitches)"
   ]
  },
  {
   "cell_type": "markdown",
   "id": "a40156ac",
   "metadata": {},
   "source": [
    "#### Input conversion\n",
    "1) a list of integers  \n",
    "2) a ndarray of integers and  \n",
    "3) a ndarray of float containig only exact integer values   \n",
    "are convertible to a list of integers.  \n",
    "But 1.1 can't be unambiguously converted to an integer and raises an error."
   ]
  },
  {
   "cell_type": "code",
   "execution_count": 7,
   "id": "fb57ddd8",
   "metadata": {
    "scrolled": true
   },
   "outputs": [],
   "source": [
    "ctxt1 = context.encrypt([1,2,3,4])\n",
    "ctxt2 = context.encrypt(np.array([1,2,3,4]))\n",
    "ctxt3 = context.encrypt(np.array([1.,2.,3.,4.]))\n",
    "ctxt4 = context.encrypt([1,2,3.,4.])\n",
    "#ctxt5 = context.encrypt(np.array([1.1,2.,3.,4.]))"
   ]
  },
  {
   "cell_type": "code",
   "execution_count": 11,
   "id": "802cfad3",
   "metadata": {},
   "outputs": [
    {
     "name": "stdout",
     "output_type": "stream",
     "text": [
      "[1 2 3 4 0]\n"
     ]
    }
   ],
   "source": [
    "res = context.decrypt(ctxt1)\n",
    "print(res[:5])"
   ]
  },
  {
   "cell_type": "markdown",
   "id": "155ebc9b",
   "metadata": {},
   "source": [
    "### Basic operations"
   ]
  },
  {
   "cell_type": "code",
   "execution_count": 12,
   "id": "4a8e6c7b",
   "metadata": {},
   "outputs": [
    {
     "name": "stdout",
     "output_type": "stream",
     "text": [
      "[2 4 6 8 0]\n",
      "[ 1  4  9 16  0]\n",
      "[5 8 9 8 0]\n"
     ]
    }
   ],
   "source": [
    "# Addition\n",
    "ctxt3 = context.add(ctxt1, ctxt2)\n",
    "print(context.decrypt(ctxt3)[:5])\n",
    "\n",
    "# Mult & Mult by Plain\n",
    "ctxt3 = context.mult(ctxt1, ctxt2)\n",
    "ctxt4 = context.multByVec(ctxt1, [5,4,3,2])\n",
    "\n",
    "print(context.decrypt(ctxt3)[:5])\n",
    "print(context.decrypt(ctxt4)[:5])"
   ]
  },
  {
   "cell_type": "markdown",
   "id": "cbf15ee8",
   "metadata": {},
   "source": [
    "### Rotation"
   ]
  },
  {
   "cell_type": "code",
   "execution_count": 13,
   "id": "6d3ea9d5",
   "metadata": {
    "collapsed": true
   },
   "outputs": [
    {
     "ename": "AssertionError",
     "evalue": "rotation key for 2 not ready",
     "output_type": "error",
     "traceback": [
      "\u001b[0;31m---------------------------------------------------------------------------\u001b[0m",
      "\u001b[0;31mAssertionError\u001b[0m                            Traceback (most recent call last)",
      "\u001b[0;32m/tmp/ipykernel_6482/259751096.py\u001b[0m in \u001b[0;36m<module>\u001b[0;34m\u001b[0m\n\u001b[1;32m      1\u001b[0m \u001b[0;31m# Trying to rotate before generating rotation key\u001b[0m\u001b[0;34m\u001b[0m\u001b[0;34m\u001b[0m\u001b[0m\n\u001b[0;32m----> 2\u001b[0;31m \u001b[0mcrot1\u001b[0m \u001b[0;34m=\u001b[0m \u001b[0mcontext\u001b[0m\u001b[0;34m.\u001b[0m\u001b[0mrot\u001b[0m\u001b[0;34m(\u001b[0m\u001b[0mctxt3\u001b[0m\u001b[0;34m,\u001b[0m \u001b[0;36m2\u001b[0m\u001b[0;34m)\u001b[0m\u001b[0;34m\u001b[0m\u001b[0;34m\u001b[0m\u001b[0m\n\u001b[0m\u001b[1;32m      3\u001b[0m \u001b[0mprint\u001b[0m\u001b[0;34m(\u001b[0m\u001b[0mcontext\u001b[0m\u001b[0;34m.\u001b[0m\u001b[0mdecrypt\u001b[0m\u001b[0;34m(\u001b[0m\u001b[0mcrot1\u001b[0m\u001b[0;34m)\u001b[0m\u001b[0;34m[\u001b[0m\u001b[0;34m:\u001b[0m\u001b[0;36m5\u001b[0m\u001b[0;34m]\u001b[0m\u001b[0;34m)\u001b[0m\u001b[0;34m\u001b[0m\u001b[0;34m\u001b[0m\u001b[0m\n",
      "\u001b[0;32m~/Work/fhe-ai-sw-etri/fase/core/palisade_bfv.py\u001b[0m in \u001b[0;36mrot\u001b[0;34m(self, ctxt, r, inplace)\u001b[0m\n\u001b[1;32m     60\u001b[0m         \"\"\"rotate left by r (negative r for right rotation)\n\u001b[1;32m     61\u001b[0m         \"\"\"\n\u001b[0;32m---> 62\u001b[0;31m         \u001b[0;32massert\u001b[0m \u001b[0mr\u001b[0m \u001b[0;32min\u001b[0m \u001b[0mself\u001b[0m\u001b[0;34m.\u001b[0m\u001b[0m_rot_indices\u001b[0m\u001b[0;34m,\u001b[0m \u001b[0;34mf\"rotation key for {r} not ready\"\u001b[0m\u001b[0;34m\u001b[0m\u001b[0;34m\u001b[0m\u001b[0m\n\u001b[0m\u001b[1;32m     63\u001b[0m         \u001b[0;32mif\u001b[0m \u001b[0minplace\u001b[0m \u001b[0;32mand\u001b[0m \u001b[0;32mnot\u001b[0m \u001b[0mself\u001b[0m\u001b[0;34m.\u001b[0m\u001b[0m_silent\u001b[0m\u001b[0;34m:\u001b[0m \u001b[0mprint\u001b[0m\u001b[0;34m(\u001b[0m\u001b[0;34m\"'inplace' not supported!\"\u001b[0m\u001b[0;34m)\u001b[0m\u001b[0;34m\u001b[0m\u001b[0;34m\u001b[0m\u001b[0m\n\u001b[1;32m     64\u001b[0m         \u001b[0;32mreturn\u001b[0m \u001b[0mself\u001b[0m\u001b[0;34m.\u001b[0m\u001b[0m_scheme\u001b[0m\u001b[0;34m.\u001b[0m\u001b[0mEvalAtIndex\u001b[0m\u001b[0;34m(\u001b[0m\u001b[0mctxt\u001b[0m\u001b[0;34m,\u001b[0m \u001b[0mr\u001b[0m\u001b[0;34m)\u001b[0m\u001b[0;34m\u001b[0m\u001b[0;34m\u001b[0m\u001b[0m\n",
      "\u001b[0;31mAssertionError\u001b[0m: rotation key for 2 not ready"
     ]
    }
   ],
   "source": [
    "# Trying to rotate before generating rotation key\n",
    "crot1 = context.rot(ctxt3, 2)\n",
    "print(context.decrypt(crot1)[:5])"
   ]
  },
  {
   "cell_type": "code",
   "execution_count": 7,
   "id": "275f53a9",
   "metadata": {},
   "outputs": [
    {
     "name": "stdout",
     "output_type": "stream",
     "text": [
      "[9, 16, 0, 0, 0]\n"
     ]
    }
   ],
   "source": [
    "# generate rotation key and try again\n",
    "context.add_rotKey([-3,-2,-1,1,2,3])\n",
    "crot1 = context.rot(ctxt3, 2)\n",
    "print(context.decrypt(crot1)[:5])"
   ]
  }
 ],
 "metadata": {
  "kernelspec": {
   "display_name": "Python 3 (ipykernel)",
   "language": "python",
   "name": "python3"
  },
  "language_info": {
   "codemirror_mode": {
    "name": "ipython",
    "version": 3
   },
   "file_extension": ".py",
   "mimetype": "text/x-python",
   "name": "python",
   "nbconvert_exporter": "python",
   "pygments_lexer": "ipython3",
   "version": "3.9.0"
  }
 },
 "nbformat": 4,
 "nbformat_minor": 5
}
