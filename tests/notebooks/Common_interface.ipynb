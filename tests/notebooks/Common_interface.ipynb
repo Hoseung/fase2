{
 "cells": [
  {
   "cell_type": "markdown",
   "id": "ec9374dd",
   "metadata": {},
   "source": [
    "# Example of using either HEAAN or SEAL\n",
    "\n",
    "\n",
    "HEAAN과 MS-SEAL은 모두 CKKS scheme을 지원한다. 그러나 implementation간 기능의 차이가 존재하며, 라이브러리의 구조와 지향하는 바도 조금씩 다르다. \n",
    "따라서 완전한 통합은 어렵고, 기본적인 기능을 동일한 interface로 활용하도록 하는데 목표를 둔다. "
   ]
  },
  {
   "cell_type": "code",
   "execution_count": 6,
   "id": "95e70a02",
   "metadata": {},
   "outputs": [
    {
     "name": "stdout",
     "output_type": "stream",
     "text": [
      "The autoreload extension is already loaded. To reload it, use:\n",
      "  %reload_ext autoreload\n"
     ]
    }
   ],
   "source": [
    "%load_ext autoreload\n",
    "%autoreload 2"
   ]
  },
  {
   "cell_type": "code",
   "execution_count": 5,
   "id": "fd464cf9",
   "metadata": {},
   "outputs": [
    {
     "name": "stdout",
     "output_type": "stream",
     "text": [
      "The autoreload extension is already loaded. To reload it, use:\n",
      "  %reload_ext autoreload\n"
     ]
    }
   ],
   "source": [
    "from fase.core import common\n",
    "import numpy as np\n",
    "\n",
    "from fase import seal\n",
    "from fase import HEAAN as he\n",
    "\n",
    "from fase.core.common import HEAANContext, HEAANParameters, SEALContext"
   ]
  },
  {
   "cell_type": "markdown",
   "id": "15daae3e",
   "metadata": {},
   "source": [
    "### SEAL과 HEAN의 CKKS Context를 만든 뒤, 두 context에 대해 동일한 interface로 작업을 수행 \n",
    "\n",
    "* SEAL은 BFV와 CKKS를 공통적으로 지원하는 라이브러이기이 때문에 SEAL과 HEAAN의 파라미터 구성에 상당한 차이가 있다.\n",
    "* 파라미터 구성은 어플리케이션 마다 사용자가 직접 지정해주어야한다. "
   ]
  },
  {
   "cell_type": "code",
   "execution_count": 7,
   "id": "284c97d4",
   "metadata": {},
   "outputs": [
    {
     "name": "stdout",
     "output_type": "stream",
     "text": [
      "SEAL CKKS scheme is ready\n",
      "saving secret key done.\n",
      "HEAAN CKKS setup is ready \n"
     ]
    }
   ],
   "source": [
    "# SEAL setup\n",
    "poly_modulus_degree = 16384\n",
    "coeff_moduli = [37, 28, 28, 28, 28, 28, 28, 28, 28, 28, 28, 28, 28, 28, 37]\n",
    "\n",
    "ckks_se = SEALContext(poly_modulus_degree=poly_modulus_degree,\n",
    "                             coeff_moduli=coeff_moduli,\n",
    "                             scale_bit=28)\n",
    "# HEAAN setup\n",
    "ckks_he = HEAANContext(2, 30, 150)"
   ]
  },
  {
   "cell_type": "markdown",
   "id": "770f4ce3",
   "metadata": {},
   "source": [
    "## encrypt and decrypt"
   ]
  },
  {
   "cell_type": "code",
   "execution_count": 8,
   "id": "1bda8078",
   "metadata": {},
   "outputs": [
    {
     "name": "stdout",
     "output_type": "stream",
     "text": [
      "[1.00000003 2.00000002 2.99999998 3.99999997]\n",
      "HEAAN\n",
      "[1.00002571 2.0000022  3.00000298 4.00000428]\n",
      "SEAL\n"
     ]
    }
   ],
   "source": [
    "for ckks in [ckks_he, ckks_se]:\n",
    "    val = [1,2,3,4]\n",
    "    ctxt = ckks.encrypt(val)\n",
    "    dec = ckks.decrypt(ctxt)\n",
    "    print(dec[:len(val)])\n",
    "    print(ckks._name)"
   ]
  },
  {
   "cell_type": "markdown",
   "id": "2bee5ad1",
   "metadata": {},
   "source": [
    "## Add\n",
    "\n",
    "* ckks supports direct addition and subtraction between Ciphertext and Plaintext"
   ]
  },
  {
   "cell_type": "code",
   "execution_count": 9,
   "id": "ea81f3fe",
   "metadata": {},
   "outputs": [
    {
     "name": "stdout",
     "output_type": "stream",
     "text": [
      "[ 6.          7.99999998  9.99999999 11.99999994]\n",
      "[ 6.          7.99999998  9.99999999 11.99999994]\n",
      "HEAAN\n",
      "[ 5.99997846  8.00000222 10.0000105  11.99998789]\n",
      "[ 5.99997846  8.00000222 10.0000105  11.99998789]\n",
      "SEAL\n"
     ]
    }
   ],
   "source": [
    "for ckks in [ckks_he, ckks_se]:\n",
    "    v1 = [1,2,3,4]\n",
    "    v2 = [5,6,7,8]\n",
    "    ctxt1 = ckks.encrypt(v1)\n",
    "    ctxt2 = ckks.encrypt(v2)\n",
    "    ctxt3 = ckks.add(ctxt1, ctxt2)\n",
    "    print(ckks.decrypt(ctxt3)[:len(v1)])\n",
    "    \n",
    "    # inplace option\n",
    "    ckks.add(ctxt1, ctxt2, inplace=True)\n",
    "    print(ckks.decrypt(ctxt1)[:len(v1)])\n",
    "    \n",
    "    print(ckks._name)"
   ]
  },
  {
   "cell_type": "markdown",
   "id": "0ee7490d",
   "metadata": {},
   "source": [
    "# Subtract "
   ]
  },
  {
   "cell_type": "code",
   "execution_count": 10,
   "id": "263dcb31",
   "metadata": {},
   "outputs": [
    {
     "name": "stdout",
     "output_type": "stream",
     "text": [
      "[-4.         -3.99999995 -4.00000011 -4.00000019]\n",
      "[0.99999995 2.00000009 2.99999995 3.99999989]\n",
      "HEAAN\n",
      "[-3.99999977 -3.99999598 -4.00000245 -3.99999218]\n",
      "[-3.99999977 -3.99999598 -4.00000245 -3.99999218]\n",
      "SEAL\n"
     ]
    }
   ],
   "source": [
    "for ckks in [ckks_he, ckks_se]:\n",
    "    v1 = [1,2,3,4]\n",
    "    v2 = [5,6,7,8]\n",
    "    ctxt1 = ckks.encrypt(v1)\n",
    "    ctxt2 = ckks.encrypt(v2)\n",
    "    ctxt3 = ckks.sub(ctxt1, ctxt2)\n",
    "    print(ckks.decrypt(ctxt3)[:len(v1)])\n",
    "    \n",
    "    # inplace option\n",
    "    ckks.sub(ctxt1, ctxt2, inplace=True)\n",
    "    print(ckks.decrypt(ctxt1)[:len(v1)])\n",
    "    \n",
    "    print(ckks._name)"
   ]
  },
  {
   "cell_type": "markdown",
   "id": "82ac0b1f",
   "metadata": {},
   "source": [
    "## Multiply by const value\n",
    "\n",
    "CKKS scheme은 *plain number* **-(encode)->** *plain text* **-(encrypt)>** *cipher text* 순서로 변환이 진행된다.  \n",
    "Plaintext는 plain number와 Ciphertext의 중간 단계로 생각할 수 있다.  \n",
    "\n",
    "SEAL은 Ciphertext와 plaintext 사이의 계산도 지원함.  \n",
    "HEAAN은 plaintext 단계를 implicit하게 지나감.  "
   ]
  },
  {
   "cell_type": "code",
   "execution_count": 11,
   "id": "3b93b00e",
   "metadata": {},
   "outputs": [
    {
     "name": "stdout",
     "output_type": "stream",
     "text": [
      "[ 5.00000024 10.00000026 15.00000025 20.00000009]\n",
      "[ 5.00000024 10.00000026 15.00000025 20.00000009] inplace=True\n",
      "HEAAN\n",
      "[ 5.00007507 11.99998222 20.99999925 32.00002732]\n",
      "[ 5.00007507 11.99998222 20.99999925 32.00002732] inplace=True\n",
      "SEAL\n"
     ]
    }
   ],
   "source": [
    "for ckks in [ckks_he, ckks_se]:\n",
    "    v1 = [1,2,3,4]\n",
    "    v2 = [5,6,7,8]\n",
    "    ctxt1 = ckks.encrypt(v1)\n",
    "    ctxt2 = ckks.multByConst(ctxt1, v2)\n",
    "    print(ckks.decrypt(ctxt2)[:len(v1)])\n",
    "    \n",
    "    ckks.multByConst(ctxt1, v2, inplace=True)\n",
    "    print(ckks.decrypt(ctxt1)[:len(v1)], \"inplace=True\")\n",
    "    print(ckks._name)"
   ]
  },
  {
   "cell_type": "markdown",
   "id": "c5b481bb",
   "metadata": {},
   "source": [
    "## Multiply by Ciphertext"
   ]
  },
  {
   "cell_type": "code",
   "execution_count": 12,
   "id": "a2476a98",
   "metadata": {},
   "outputs": [
    {
     "name": "stdout",
     "output_type": "stream",
     "text": [
      "[ 4.99999932 12.00000052 21.0000002  31.99999971]\n",
      "[ 4.99999932 12.00000052 21.0000002  31.99999971]\n",
      "HEAAN\n"
     ]
    },
    {
     "ename": "TypeError",
     "evalue": "relin() takes 2 positional arguments but 3 were given",
     "output_type": "error",
     "traceback": [
      "\u001b[0;31m---------------------------------------------------------------------------\u001b[0m",
      "\u001b[0;31mTypeError\u001b[0m                                 Traceback (most recent call last)",
      "\u001b[0;32m/tmp/ipykernel_16583/2990686313.py\u001b[0m in \u001b[0;36m<module>\u001b[0;34m\u001b[0m\n\u001b[1;32m      4\u001b[0m     \u001b[0mctxt1\u001b[0m \u001b[0;34m=\u001b[0m \u001b[0mckks\u001b[0m\u001b[0;34m.\u001b[0m\u001b[0mencrypt\u001b[0m\u001b[0;34m(\u001b[0m\u001b[0mv1\u001b[0m\u001b[0;34m)\u001b[0m\u001b[0;34m\u001b[0m\u001b[0;34m\u001b[0m\u001b[0m\n\u001b[1;32m      5\u001b[0m     \u001b[0mctxt2\u001b[0m \u001b[0;34m=\u001b[0m \u001b[0mckks\u001b[0m\u001b[0;34m.\u001b[0m\u001b[0mencrypt\u001b[0m\u001b[0;34m(\u001b[0m\u001b[0mv2\u001b[0m\u001b[0;34m)\u001b[0m\u001b[0;34m\u001b[0m\u001b[0;34m\u001b[0m\u001b[0m\n\u001b[0;32m----> 6\u001b[0;31m     \u001b[0mctxt3\u001b[0m \u001b[0;34m=\u001b[0m \u001b[0mckks\u001b[0m\u001b[0;34m.\u001b[0m\u001b[0mmult\u001b[0m\u001b[0;34m(\u001b[0m\u001b[0mctxt1\u001b[0m\u001b[0;34m,\u001b[0m \u001b[0mctxt2\u001b[0m\u001b[0;34m,\u001b[0m \u001b[0minplace\u001b[0m\u001b[0;34m=\u001b[0m\u001b[0;32mFalse\u001b[0m\u001b[0;34m)\u001b[0m\u001b[0;34m\u001b[0m\u001b[0;34m\u001b[0m\u001b[0m\n\u001b[0m\u001b[1;32m      7\u001b[0m     \u001b[0mprint\u001b[0m\u001b[0;34m(\u001b[0m\u001b[0mckks\u001b[0m\u001b[0;34m.\u001b[0m\u001b[0mdecrypt\u001b[0m\u001b[0;34m(\u001b[0m\u001b[0mctxt3\u001b[0m\u001b[0;34m)\u001b[0m\u001b[0;34m[\u001b[0m\u001b[0;34m:\u001b[0m\u001b[0mlen\u001b[0m\u001b[0;34m(\u001b[0m\u001b[0mv1\u001b[0m\u001b[0;34m)\u001b[0m\u001b[0;34m]\u001b[0m\u001b[0;34m)\u001b[0m\u001b[0;34m\u001b[0m\u001b[0;34m\u001b[0m\u001b[0m\n\u001b[1;32m      8\u001b[0m \u001b[0;34m\u001b[0m\u001b[0m\n",
      "\u001b[0;32m~/Work/fhe-ai-sw-etri/fase/core/seal_ckks.py\u001b[0m in \u001b[0;36mmult\u001b[0;34m(self, ctxt1, ctxt2, inplace, relin)\u001b[0m\n\u001b[1;32m    189\u001b[0m         \u001b[0;32melse\u001b[0m\u001b[0;34m:\u001b[0m\u001b[0;34m\u001b[0m\u001b[0;34m\u001b[0m\u001b[0m\n\u001b[1;32m    190\u001b[0m             \u001b[0mctxt_out\u001b[0m \u001b[0;34m=\u001b[0m \u001b[0mself\u001b[0m\u001b[0;34m.\u001b[0m\u001b[0m_evaluator\u001b[0m\u001b[0;34m.\u001b[0m\u001b[0mmultiply\u001b[0m\u001b[0;34m(\u001b[0m\u001b[0mctxt1\u001b[0m\u001b[0;34m,\u001b[0m \u001b[0mctxt2\u001b[0m\u001b[0;34m)\u001b[0m\u001b[0;34m\u001b[0m\u001b[0;34m\u001b[0m\u001b[0m\n\u001b[0;32m--> 191\u001b[0;31m             \u001b[0;32mif\u001b[0m \u001b[0mrelin\u001b[0m\u001b[0;34m:\u001b[0m \u001b[0mself\u001b[0m\u001b[0;34m.\u001b[0m\u001b[0mrelin\u001b[0m\u001b[0;34m(\u001b[0m\u001b[0mctxt_out\u001b[0m\u001b[0;34m,\u001b[0m \u001b[0mself\u001b[0m\u001b[0;34m.\u001b[0m\u001b[0mrelin_keys\u001b[0m\u001b[0;34m)\u001b[0m\u001b[0;34m\u001b[0m\u001b[0;34m\u001b[0m\u001b[0m\n\u001b[0m\u001b[1;32m    192\u001b[0m             \u001b[0;32mreturn\u001b[0m \u001b[0mctxt_out\u001b[0m\u001b[0;34m\u001b[0m\u001b[0;34m\u001b[0m\u001b[0m\n\u001b[1;32m    193\u001b[0m \u001b[0;34m\u001b[0m\u001b[0m\n",
      "\u001b[0;31mTypeError\u001b[0m: relin() takes 2 positional arguments but 3 were given"
     ]
    }
   ],
   "source": [
    "for ckks in [ckks_he, ckks_se]:\n",
    "    v1 = [1,2,3,4]\n",
    "    v2 = [5,6,7,8]\n",
    "    ctxt1 = ckks.encrypt(v1)\n",
    "    ctxt2 = ckks.encrypt(v2)\n",
    "    ctxt3 = ckks.mult(ctxt1, ctxt2, inplace=False)\n",
    "    print(ckks.decrypt(ctxt3)[:len(v1)])\n",
    "    \n",
    "    # inplace option\n",
    "    ckks.mult(ctxt1, ctxt2, inplace=True)\n",
    "    print(ckks.decrypt(ctxt1)[:len(v1)])\n",
    "    \n",
    "    print(ckks._name)"
   ]
  },
  {
   "cell_type": "markdown",
   "id": "b28d7319",
   "metadata": {},
   "source": [
    "## Square"
   ]
  },
  {
   "cell_type": "code",
   "execution_count": null,
   "id": "296466c5",
   "metadata": {},
   "outputs": [],
   "source": [
    "for ckks in [ckks_he, ckks_se]:\n",
    "    v1 = [1,2,3,4]\n",
    "    ctxt1 = ckks.encrypt(v1)\n",
    "    ctxt3 = ckks.square(ctxt1)\n",
    "    print(ckks.decrypt(ctxt3)[:len(v1)])\n",
    "    \n",
    "    #inplace option\n",
    "    ckks.square(ctxt1, inplace=True)\n",
    "    print(ckks.decrypt(ctxt1)[:len(v1)])\n",
    "    \n",
    "    print(ckks._name)"
   ]
  },
  {
   "cell_type": "markdown",
   "id": "d025388f",
   "metadata": {},
   "source": [
    "## Rescale\n",
    "HEAAN과 SEAL은 rescaling 방식이 조금 다르다.  \n",
    "\n",
    "SEAL은 momulus switch로 coeff_moduli에서 설정해준 다음 modulus로 넘어가는 방식이고, \n",
    "HEAAN은 자동적으로 ctxt.logp 만큼의 scale을 줄인다.  \n",
    "이에 따라 HEAAN은 ctxt.logq가 noise budget이 되고, SEAL에서는 coeff_moduli의 개수로 multiplication depth가 정해진다. \n",
    "\n",
    "* rescale()은 inplace=True를 기본으로 가정한다 "
   ]
  },
  {
   "cell_type": "code",
   "execution_count": 13,
   "id": "13e517eb",
   "metadata": {},
   "outputs": [
    {
     "name": "stdout",
     "output_type": "stream",
     "text": [
      "initial scale 30\n",
      "scale after suqare() 60\n",
      "scale after rescaling() 30\n",
      "\n",
      "\n",
      "Initial Scale 28.0\n",
      "Scale after square 56.0\n",
      "Scale after rescaling 28.0\n",
      "after manual fix 28.0\n",
      "\n",
      "\n"
     ]
    }
   ],
   "source": [
    "# Different approach to checking scale \n",
    "for ckks in [ckks_he, ckks_se]:\n",
    "    v1 = [1,2,3,4]\n",
    "    ctxt1 = ckks.encrypt(v1)\n",
    "\n",
    "    if ckks._name == \"HEAAN\":\n",
    "        print(\"initial scale\", ctxt1.logp)\n",
    "        ctxt3 = ckks.square(ctxt1)\n",
    "\n",
    "        print(\"scale after suqare()\", ctxt3.logp)\n",
    "        ckks.rescale(ctxt3)\n",
    "        print(\"scale after rescaling()\", ctxt3.logp)\n",
    "        print('\\n')\n",
    "        \n",
    "    elif ckks._name == \"SEAL\":\n",
    "        print(\"Initial Scale\", np.log2(ctxt1.scale()))\n",
    "        ckks.square(ctxt1, inplace=True)\n",
    "        ckks._evaluator.relinearize_inplace(ctxt1, ckks_se.relin_keys) # relinearization\n",
    "        print(\"Scale after square\", np.log2(ctxt1.scale()))\n",
    "\n",
    "        # Rescale\n",
    "        ckks.rescale(ctxt1)\n",
    "        print(\"Scale after rescaling\", np.log2(ctxt1.scale()))\n",
    "        \n",
    "        print(\"after manual fix\", np.log2(ctxt1.scale()))\n",
    "        print('\\n')"
   ]
  },
  {
   "cell_type": "markdown",
   "id": "e843501e",
   "metadata": {},
   "source": [
    "## Mod switch\n",
    "\n",
    "Rescaling은 Ciphertext의 scale을 줄이는 대신 noise budget을 감소시켜 rescaling을 겪지 않은 Ciphertext와 추가적인 계산을 불가능하게 만든다.  \n",
    "이를 해결하려면 새 Ciphertext의 mod를 다른 Ciphertext의 mod에 맞춰 변경해줘야한다.  \n",
    "\n",
    "SEAL에서는 modulus chain의 index가 같은지 확인해야하고, HEAAN은 ctxt.logq가 같은지 확인 해야함. "
   ]
  },
  {
   "cell_type": "code",
   "execution_count": 14,
   "id": "2da0cc43",
   "metadata": {},
   "outputs": [
    {
     "name": "stdout",
     "output_type": "stream",
     "text": [
      "initial scale and mod 30 150\n",
      "scale after suqare() 60\n",
      "scale and mod after rescaling() 30 120\n",
      "new_ct's mod 150\n",
      "new_ct's mod switched 120\n",
      "[ 3.99999999  8.0000002  13.99999997 21.99999996]\n",
      "Correct result = [4,8,14,22]\n",
      "\n",
      "\n",
      "Initial Scale 28.0\n",
      "Scale after square 56.0\n",
      "Scale after rescaling 28.0\n",
      "after manual fix 28.0\n",
      "modulus after rescaling 12\n",
      "new_ct's modulus index 13\n",
      "new_ct's modulus index after mod switch 12\n",
      "\n",
      "\n",
      "[ 4.00029153  8.00096052 14.00221702 22.00385786]\n",
      "Correct result = [4,8,14,22]\n",
      "\n",
      "\n"
     ]
    }
   ],
   "source": [
    "# Different approach to checking scale \n",
    "for ckks in [ckks_he, ckks_se]:\n",
    "    v1 = [1,2,3,4]\n",
    "    ctxt1 = ckks.encrypt(v1)\n",
    "    new_ct = ckks.encrypt([3,4,5,6])\n",
    "\n",
    "    if ckks._name == \"HEAAN\":\n",
    "        print(\"initial scale and mod\", ctxt1.logp, ctxt1.logq)\n",
    "        ctxt1 = ckks.square(ctxt1)\n",
    "\n",
    "        print(\"scale after suqare()\", ctxt1.logp)\n",
    "        ckks.rescale(ctxt1)\n",
    "        print(\"scale and mod after rescaling()\", ctxt1.logp, ctxt1.logq)\n",
    "        print(\"new_ct's mod\", new_ct.logq)\n",
    "        \n",
    "        ckks.match_mod(new_ct, ctxt1)\n",
    "        print(\"new_ct's mod switched\", new_ct.logq)\n",
    "        \n",
    "    elif ckks._name == \"SEAL\":\n",
    "        print(\"Initial Scale\", np.log2(ctxt1.scale()))\n",
    "        ckks.square(ctxt1, inplace=True)\n",
    "        ckks._evaluator.relinearize_inplace(ctxt1, ckks_se.relin_keys) # relinearization\n",
    "        print(\"Scale after square\", np.log2(ctxt1.scale()))\n",
    "\n",
    "        # Rescale\n",
    "        ckks.rescale(ctxt1)\n",
    "        print(\"Scale after rescaling\", np.log2(ctxt1.scale()))\n",
    "        \n",
    "        print(\"after manual fix\", np.log2(ctxt1.scale()))\n",
    "        print(\"modulus after rescaling\", ckks.context.get_context_data(ctxt1.parms_id()).chain_index())\n",
    "        \n",
    "        print(\"new_ct's modulus index\", ckks.context.get_context_data(new_ct.parms_id()).chain_index())\n",
    "        \n",
    "        ckks.match_mod(new_ct, ctxt1)\n",
    "        print(\"new_ct's modulus index after mod switch\", ckks.context.get_context_data(new_ct.parms_id()).chain_index())\n",
    "        print('\\n')\n",
    "    \n",
    "    \n",
    "    ckks.add(new_ct, ctxt1, inplace=True)\n",
    "    print(ckks.decrypt(new_ct)[:len(v1)])\n",
    "    print(\"Correct result = [4,8,14,22]\")\n",
    "    print('\\n')\n"
   ]
  },
  {
   "cell_type": "code",
   "execution_count": null,
   "id": "6f221580",
   "metadata": {},
   "outputs": [],
   "source": []
  }
 ],
 "metadata": {
  "kernelspec": {
   "display_name": "Python 3 (ipykernel)",
   "language": "python",
   "name": "python3"
  },
  "language_info": {
   "codemirror_mode": {
    "name": "ipython",
    "version": 3
   },
   "file_extension": ".py",
   "mimetype": "text/x-python",
   "name": "python",
   "nbconvert_exporter": "python",
   "pygments_lexer": "ipython3",
   "version": "3.9.0"
  }
 },
 "nbformat": 4,
 "nbformat_minor": 5
}
