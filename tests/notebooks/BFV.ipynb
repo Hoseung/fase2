{
 "cells": [
  {
   "cell_type": "code",
   "execution_count": 26,
   "id": "49d7f26a",
   "metadata": {},
   "outputs": [],
   "source": [
    "import numpy as np\n",
    "from fase import seal"
   ]
  },
  {
   "cell_type": "markdown",
   "id": "81f94afc",
   "metadata": {},
   "source": [
    "계산을 시작하기 전 scheme의 context를 설정해야함.  \n",
    "설정에 필요한 parameter들은 `EncryptionParameters`로 설정가능.  \n",
    "주요한 parameter는 다음과 같음 :\n",
    "- poly_modulus_degree\n",
    "- coeff_modulus ([ciphertext] coefficient modulus)\n",
    "- plain_modulus (plaintext modulus; only for the BFV scheme)."
   ]
  },
  {
   "cell_type": "code",
   "execution_count": 2,
   "id": "579e06c9",
   "metadata": {},
   "outputs": [],
   "source": [
    "parms = seal.EncryptionParameters(seal.scheme_type.bfv)"
   ]
  },
  {
   "cell_type": "markdown",
   "id": "e2cc6211",
   "metadata": {},
   "source": [
    "### Noise budget\n",
    "FHE scheme들은 inverse 계산을 불가능하게 하기 위해 계산에 noise를 집어넣음.  \n",
    "그런데 연산이 진행되면 noise가 점점 증가함 (특히 ciphertext * ciphertext) 그래서 noise budget이라는 개념이 사용됨.  \n",
    "문제의 Multilication depth를 미리 확인하고 적절한 noise budget을 설정해야함.\n",
    "\n",
    "#### poly_modulus_degree\n",
    "Polynomical modulus의 degree를 뜻하며, 2^x 형태임. 일반적으로 2^10, ^11, .. ^15정도를 사용함. "
   ]
  },
  {
   "cell_type": "code",
   "execution_count": 3,
   "id": "1f4d3c22",
   "metadata": {},
   "outputs": [],
   "source": [
    "p = 4096\n",
    "parms.set_poly_modulus_degree(p)"
   ]
  },
  {
   "cell_type": "markdown",
   "id": "42af372c",
   "metadata": {},
   "source": [
    "#### (Ciphertext) coefficient modulus\n",
    "서로 다른 prime number의 곱인 어떤 수이며, 각각의 prime number는 최대 60bit임.  \n",
    "coeff_modulus가 클 수록 noise budget이 커짐.\n",
    "coeff_modulus의 최대치는 poly_modulus_degree로 결정 됨.  \n",
    "\n",
    "\n",
    "        +----------------------------------------------------+\n",
    "        | poly_modulus_degree | max coeff_modulus bit-length |\n",
    "        +---------------------+------------------------------+\n",
    "        | 1024                | 27                           |\n",
    "        | 2048                | 54                           |\n",
    "        | 4096                | 109                          |\n",
    "        | 8192                | 218                          |\n",
    "        | 16384               | 438                          |\n",
    "        | 32768               | 881                          |\n",
    "        +---------------------+------------------------------+\n"
   ]
  },
  {
   "cell_type": "code",
   "execution_count": 4,
   "id": "4fe227af",
   "metadata": {},
   "outputs": [
    {
     "data": {
      "text/plain": [
       "109"
      ]
     },
     "execution_count": 4,
     "metadata": {},
     "output_type": "execute_result"
    }
   ],
   "source": [
    "parms.set_coeff_modulus(seal.CoeffModulus.BFVDefault(p))\n",
    "\n",
    "## 참고) poly_modulus_degree에 따른 max coeff_modulus 계산해주는 함수\n",
    "seal.CoeffModulus.MaxBitCount(p)"
   ]
  },
  {
   "cell_type": "markdown",
   "id": "b335c979",
   "metadata": {},
   "source": [
    "### Plain_modulus\n",
    "plaintext modulus는 BFV에서 사용됨. 모든 정수가 가능하지만 prime number면 더 좋음.  \n",
    "plaintext modulus는 plaintext의 최대 크기를 결정하고, 거기에 따라 곱하기때 noise consumption이 결정 됨.  \n",
    "Plaintext를 가능한 작게 잡아야 좋음.  \n",
    "\n",
    "noise budget = log2(coeff mod/plain mod) (bits)"
   ]
  },
  {
   "cell_type": "code",
   "execution_count": 5,
   "id": "a33ccc4f",
   "metadata": {},
   "outputs": [],
   "source": [
    "parms.set_plain_modulus(1024)"
   ]
  },
  {
   "cell_type": "markdown",
   "id": "89ddb4c8",
   "metadata": {},
   "source": [
    "(곱하기때) noise consumption = log2(plain_modulus) + (other terms) 이므로, 지금 상태론 곱하기 불가능! "
   ]
  },
  {
   "cell_type": "code",
   "execution_count": 6,
   "id": "54dfd56d",
   "metadata": {},
   "outputs": [],
   "source": [
    "context = seal.SEALContext(parms) # parameters are internally validated. "
   ]
  },
  {
   "cell_type": "markdown",
   "id": "153727b7",
   "metadata": {},
   "source": [
    "### Key generation\n",
    "SEAL의 scheme들은 public key - sceret key 쌍으로 동작함. Secret key를 가진 사람만 원본 데이터를 볼 수 있음. (우리 과제는 한대의 컴퓨터에서 계산되므로 어느 키가 어디로 어떻게 가는지 신경 안 써도 됨.)"
   ]
  },
  {
   "cell_type": "code",
   "execution_count": 7,
   "id": "d05e9b80",
   "metadata": {},
   "outputs": [],
   "source": [
    "keygen = seal.KeyGenerator(context)\n",
    "secret_key = keygen.secret_key()\n",
    "public_key = keygen.create_public_key()\n",
    "\n",
    "# 근데 key를 만들때 쓰는 random number는 seed와 무관하겠지?"
   ]
  },
  {
   "cell_type": "markdown",
   "id": "f2b2224b",
   "metadata": {},
   "source": [
    "### Agents\n",
    "\n",
    "encryption / decryption / ciphertext 계산을 위한 agent가 있음. \n",
    "\n",
    "encryptor는 public key를 사용하고,   \n",
    "decryptor는 secret key를 사용함."
   ]
  },
  {
   "cell_type": "code",
   "execution_count": 8,
   "id": "d390aa22",
   "metadata": {},
   "outputs": [],
   "source": [
    "encryptor = seal.Encryptor(context, public_key)\n",
    "evaluator = seal.Evaluator(context)\n",
    "decryptor = seal.Decryptor(context, secret_key)"
   ]
  },
  {
   "cell_type": "markdown",
   "id": "ddebe391",
   "metadata": {},
   "source": [
    "### Encoding to ptext\n",
    "\n",
    "CKKS는 CKKSEncoder()가 따로 있으나, BFV에서는 integer를 hex로 바꾸어 넣어줌."
   ]
  },
  {
   "cell_type": "code",
   "execution_count": 9,
   "id": "644f2974",
   "metadata": {},
   "outputs": [],
   "source": [
    "def int_to_hex_string(vv):\n",
    "    return f\"{vv:x}\""
   ]
  },
  {
   "cell_type": "code",
   "execution_count": 10,
   "id": "cb37730f",
   "metadata": {},
   "outputs": [
    {
     "name": "stdout",
     "output_type": "stream",
     "text": [
      "3\n"
     ]
    }
   ],
   "source": [
    "vv = 3\n",
    "x_plain = seal.Plaintext(int_to_hex_string(vv))\n",
    "print(x_plain.to_string()) # supposed to be the same as int_to_hex_string(vv)"
   ]
  },
  {
   "cell_type": "markdown",
   "id": "e193668e",
   "metadata": {},
   "source": [
    "#### Encrypting to ctext"
   ]
  },
  {
   "cell_type": "code",
   "execution_count": 11,
   "id": "dfa78631",
   "metadata": {},
   "outputs": [],
   "source": [
    "def check_budget(ctxt):\n",
    "    print(f\"The size of encrypted text:, {ctxt.size()} bits\") \n",
    "    print(f\"Noise budget: {decryptor.invariant_noise_budget(ctxt)} bits\")"
   ]
  },
  {
   "cell_type": "code",
   "execution_count": 12,
   "id": "5cbeb181",
   "metadata": {},
   "outputs": [
    {
     "name": "stdout",
     "output_type": "stream",
     "text": [
      "The size of encrypted text:, 2 bits\n",
      "Noise budget: 55 bits\n"
     ]
    }
   ],
   "source": [
    "x_enc = encryptor.encrypt(x_plain)\n",
    "check_budget(x_enc)\n",
    "# 한참 남음. "
   ]
  },
  {
   "cell_type": "code",
   "execution_count": 13,
   "id": "a500b9c2",
   "metadata": {},
   "outputs": [
    {
     "name": "stdout",
     "output_type": "stream",
     "text": [
      "3 == 3\n",
      "Seems to encrypt and decrypt correctly!\n"
     ]
    }
   ],
   "source": [
    "x_dec = decryptor.decrypt(x_enc)\n",
    "print(x_dec.to_string(), \"==\", int_to_hex_string(vv))\n",
    "print(\"Seems to encrypt and decrypt correctly!\")"
   ]
  },
  {
   "cell_type": "markdown",
   "id": "514c822f",
   "metadata": {},
   "source": [
    "### 곱하기 depth 줄이기 \n",
    "계산을 짤때 곱하기 수를 줄이는게 좋음. x^4 + 2x^2 + 1은 곱하기가 최대 4번 되지만, (x^2+1) * (x^2+1)은 곱하기가 최대 3번임. \n",
    "\n",
    "우리는 $$4x^4 + 8x^3 + 8x^2 + 8x + 4 = 4(x + 1)^2 \\times (x^2 + 1)$$ 계산할것."
   ]
  },
  {
   "cell_type": "code",
   "execution_count": 14,
   "id": "f56f1bf2",
   "metadata": {},
   "outputs": [
    {
     "name": "stdout",
     "output_type": "stream",
     "text": [
      "Compute x^2+1\n",
      "The size of encrypted text:, 3 bits\n",
      "Noise budget: 33 bits\n"
     ]
    }
   ],
   "source": [
    "print(\"Compute x^2+1\")\n",
    "x_sq = evaluator.square(x_enc)\n",
    "x_sq_plus_one = evaluator.add_plain(x_sq, seal.Plaintext(\"1\")) # 1은 hex로도 1\n",
    "\n",
    "check_budget(x_sq_plus_one)"
   ]
  },
  {
   "cell_type": "markdown",
   "id": "a914125c",
   "metadata": {},
   "source": [
    "budget이 좀 줄어들었음. "
   ]
  },
  {
   "cell_type": "code",
   "execution_count": 15,
   "id": "935e1be3",
   "metadata": {},
   "outputs": [
    {
     "name": "stdout",
     "output_type": "stream",
     "text": [
      "A\n"
     ]
    }
   ],
   "source": [
    "decrypted = decryptor.decrypt(x_sq_plus_one).to_string()\n",
    "print(decrypted)"
   ]
  },
  {
   "cell_type": "code",
   "execution_count": 16,
   "id": "55c00f8b",
   "metadata": {},
   "outputs": [
    {
     "name": "stdout",
     "output_type": "stream",
     "text": [
      "10 10\n"
     ]
    }
   ],
   "source": [
    "# are they the same?\n",
    "print(vv**2+1, int(decrypted, base=16))"
   ]
  },
  {
   "cell_type": "markdown",
   "id": "1b36ef7e",
   "metadata": {},
   "source": [
    "***plain_modulus를 1024로 설정했기 때문에 결과값이 정답 % 1024로 표기됨. "
   ]
  },
  {
   "cell_type": "code",
   "execution_count": 17,
   "id": "479bcdfb",
   "metadata": {},
   "outputs": [
    {
     "name": "stdout",
     "output_type": "stream",
     "text": [
      "The size of encrypted text:, 3 bits\n",
      "Noise budget: 33 bits\n"
     ]
    }
   ],
   "source": [
    "# compute (x+1)^2\n",
    "x_plus_1_sq = evaluator.add_plain(x_enc, seal.Plaintext('1'))\n",
    "evaluator.square_inplace(x_plus_1_sq) # in_place 버전도 있음\n",
    "check_budget(x_plus_1_sq)"
   ]
  },
  {
   "cell_type": "code",
   "execution_count": 18,
   "id": "9a07cd7f",
   "metadata": {},
   "outputs": [
    {
     "name": "stdout",
     "output_type": "stream",
     "text": [
      "The size of encrypted text:, 5 bits\n",
      "Noise budget: 3 bits\n"
     ]
    }
   ],
   "source": [
    "# multiply (x^2+1) * (x+1)^2 * 4\n",
    "result = evaluator.multiply(x_sq_plus_one, x_plus_1_sq)\n",
    "evaluator.multiply_plain_inplace(result, seal.Plaintext('4'))\n",
    "check_budget(result)"
   ]
  },
  {
   "cell_type": "markdown",
   "id": "d688db8a",
   "metadata": {},
   "source": [
    "budget 거의 다 씀."
   ]
  },
  {
   "cell_type": "code",
   "execution_count": 19,
   "id": "9f471b50",
   "metadata": {},
   "outputs": [
    {
     "name": "stdout",
     "output_type": "stream",
     "text": [
      "640 640\n"
     ]
    }
   ],
   "source": [
    "dec_result = decryptor.decrypt(result)\n",
    "print(4*vv**4+8*vv**3+8*vv**2+8*vv+4, int(dec_result.to_string(), base=16))\n",
    "# 같음?"
   ]
  },
  {
   "cell_type": "markdown",
   "id": "b28c7175",
   "metadata": {},
   "source": [
    "## Budget 관리: Relinearization\n",
    "계산 중간중간 (곱하기 할때마다) relinearization을 해주면 ctxt 크기가 작아지고, 계산이 빨라지고, budget consumption이 줄어듬.   \n",
    "* Relinearization은 3bit polynomial을 2bit로 줄이는 것만 가능.\n",
    "* 'Relinearization key'가 따로 필요함. 한번에 하나씩\n",
    "* BFV와 CKKS에서 비슷하게 사용됨. "
   ]
  },
  {
   "cell_type": "code",
   "execution_count": 20,
   "id": "84529e7c",
   "metadata": {},
   "outputs": [],
   "source": [
    "vv = 10\n",
    "x_plain = seal.Plaintext(int_to_hex_string(vv))\n",
    "x_enc = encryptor.encrypt(x_plain)"
   ]
  },
  {
   "cell_type": "code",
   "execution_count": 21,
   "id": "241e0fa0",
   "metadata": {},
   "outputs": [
    {
     "name": "stdout",
     "output_type": "stream",
     "text": [
      "The size of encrypted text:, 2 bits\n",
      "Noise budget: 33 bits\n",
      "The size of encrypted text:, 2 bits\n",
      "Noise budget: 33 bits\n",
      "The size of encrypted text:, 2 bits\n",
      "Noise budget: 10 bits\n",
      "결과확인\n",
      "48884 756\n"
     ]
    }
   ],
   "source": [
    "relin_keys = keygen.create_relin_keys()\n",
    "\n",
    "# 아까랑 같은데 군데군데 relin을 섞어줌.\n",
    "x_sq = evaluator.square(x_enc)\n",
    "evaluator.relinearize_inplace(x_sq, relin_keys)\n",
    "x_sq_plus_one = evaluator.add_plain(x_sq, seal.Plaintext(\"1\"))\n",
    "check_budget(x_sq_plus_one)\n",
    "\n",
    "x_plus_1_sq = evaluator.add_plain(x_enc, seal.Plaintext('1'))\n",
    "evaluator.square_inplace(x_plus_1_sq)\n",
    "evaluator.relinearize_inplace(x_plus_1_sq, relin_keys)\n",
    "\n",
    "check_budget(x_plus_1_sq)\n",
    "\n",
    "result = evaluator.multiply(x_sq_plus_one, x_plus_1_sq)\n",
    "evaluator.relinearize_inplace(result, relin_keys)\n",
    "evaluator.multiply_plain_inplace(result, seal.Plaintext('4'))\n",
    "check_budget(result)\n",
    "\n",
    "\n",
    "dec_result = decryptor.decrypt(result)\n",
    "print(\"결과확인\")\n",
    "print(4*vv**4+8*vv**3+8*vv**2+8*vv+4, int(dec_result.to_string(), base=16))"
   ]
  },
  {
   "cell_type": "markdown",
   "id": "192a7faf",
   "metadata": {},
   "source": [
    "## Batch encoding"
   ]
  },
  {
   "cell_type": "code",
   "execution_count": 23,
   "id": "b45f046e",
   "metadata": {},
   "outputs": [],
   "source": [
    "parms = seal.EncryptionParameters(seal.scheme_type.bfv)\n",
    "p = 8192\n",
    "parms.set_poly_modulus_degree(p)\n",
    "parms.set_coeff_modulus(seal.CoeffModulus.BFVDefault(p))\n",
    "\n",
    "parms.set_plain_modulus(seal.PlainModulus.Batching(p, 20)) # .Batching for batch encoder.\n",
    "context = seal.SEALContext(parms)\n",
    "\n",
    "keygen = seal.KeyGenerator(context)\n",
    "secret_key = keygen.secret_key()\n",
    "public_key = keygen.create_public_key()\n",
    "\n",
    "encryptor = seal.Encryptor(context, public_key)\n",
    "evaluator = seal.Evaluator(context)\n",
    "decryptor = seal.Decryptor(context, secret_key)\n"
   ]
  },
  {
   "cell_type": "code",
   "execution_count": 24,
   "id": "15ba3a38",
   "metadata": {},
   "outputs": [],
   "source": [
    "bec = seal.BatchEncoder(context)"
   ]
  },
  {
   "cell_type": "code",
   "execution_count": 29,
   "id": "28140031",
   "metadata": {},
   "outputs": [],
   "source": [
    "pod_matrix = np.arange(12)"
   ]
  },
  {
   "cell_type": "code",
   "execution_count": 30,
   "id": "45a0b59e",
   "metadata": {},
   "outputs": [],
   "source": [
    "plain_matrix = bec.encode(pod_matrix)"
   ]
  },
  {
   "cell_type": "code",
   "execution_count": 31,
   "id": "977f7584",
   "metadata": {},
   "outputs": [],
   "source": [
    "enc_matrix = encryptor.encrypt(plain_matrix)"
   ]
  },
  {
   "cell_type": "code",
   "execution_count": 36,
   "id": "35ec4cab",
   "metadata": {},
   "outputs": [
    {
     "data": {
      "text/plain": [
       "array([0, 1, 2, ..., 0, 0, 0])"
      ]
     },
     "execution_count": 36,
     "metadata": {},
     "output_type": "execute_result"
    }
   ],
   "source": [
    "zz = decryptor.decrypt(enc_matrix)\n",
    "bec.decode(zz)"
   ]
  },
  {
   "cell_type": "code",
   "execution_count": 38,
   "id": "690558e9",
   "metadata": {},
   "outputs": [],
   "source": [
    "g_keys = keygen.create_galois_keys()"
   ]
  },
  {
   "cell_type": "code",
   "execution_count": 39,
   "id": "818493ca",
   "metadata": {},
   "outputs": [],
   "source": [
    "evaluator.rotate_rows_inplace(enc_matrix, 3, g_keys)"
   ]
  },
  {
   "cell_type": "code",
   "execution_count": 40,
   "id": "ac586e57",
   "metadata": {},
   "outputs": [
    {
     "data": {
      "text/plain": [
       "array([3, 4, 5, ..., 0, 0, 0])"
      ]
     },
     "execution_count": 40,
     "metadata": {},
     "output_type": "execute_result"
    }
   ],
   "source": [
    "zz = decryptor.decrypt(enc_matrix)\n",
    "bec.decode(zz)"
   ]
  },
  {
   "cell_type": "code",
   "execution_count": 42,
   "id": "760be804",
   "metadata": {},
   "outputs": [],
   "source": [
    "evaluator.rotate_columns_inplace(enc_matrix, g_keys)"
   ]
  },
  {
   "cell_type": "code",
   "execution_count": 43,
   "id": "d199b685",
   "metadata": {},
   "outputs": [
    {
     "data": {
      "text/plain": [
       "array([0, 0, 0, ..., 0, 1, 2])"
      ]
     },
     "execution_count": 43,
     "metadata": {},
     "output_type": "execute_result"
    }
   ],
   "source": [
    "zz = decryptor.decrypt(enc_matrix)\n",
    "bec.decode(zz)"
   ]
  },
  {
   "cell_type": "code",
   "execution_count": null,
   "id": "c5cd6789",
   "metadata": {},
   "outputs": [],
   "source": [
    "seal"
   ]
  },
  {
   "cell_type": "code",
   "execution_count": 46,
   "id": "0de78549",
   "metadata": {},
   "outputs": [],
   "source": [
    "evaluator.exponentiate_inplace"
   ]
  },
  {
   "cell_type": "code",
   "execution_count": 14,
   "id": "d2b08ae3",
   "metadata": {},
   "outputs": [
    {
     "name": "stdout",
     "output_type": "stream",
     "text": [
      "[SEALBFVContext] coeff_moduli is not given. Defaulting to a suggested set\n",
      "SEAL BFV scheme is ready\n"
     ]
    },
    {
     "data": {
      "text/plain": [
       "array([1, 2, 3, ..., 0, 0, 0])"
      ]
     },
     "execution_count": 14,
     "metadata": {},
     "output_type": "execute_result"
    }
   ],
   "source": [
    "from fase.core.seal_BFV import SEALBFVContext\n",
    "\n",
    "sec = SEALBFVContext(poly_modulus_degree=p, prime_bit=20)\n",
    "\n",
    "out = sec.encrypt([1,2,3,4,5, ])\n",
    "\n",
    "sec.decrypt(out)"
   ]
  },
  {
   "cell_type": "code",
   "execution_count": 17,
   "id": "30300d40",
   "metadata": {},
   "outputs": [
    {
     "ename": "RuntimeError",
     "evalue": "unsupported scheme",
     "output_type": "error",
     "traceback": [
      "\u001b[0;31m---------------------------------------------------------------------------\u001b[0m",
      "\u001b[0;31mRuntimeError\u001b[0m                              Traceback (most recent call last)",
      "\u001b[0;32m/tmp/ipykernel_25191/3113892333.py\u001b[0m in \u001b[0;36m<module>\u001b[0;34m\u001b[0m\n\u001b[0;32m----> 1\u001b[0;31m \u001b[0mnew_ctxt\u001b[0m \u001b[0;34m=\u001b[0m \u001b[0msec\u001b[0m\u001b[0;34m.\u001b[0m\u001b[0m_evaluator\u001b[0m\u001b[0;34m.\u001b[0m\u001b[0mrotate_vector\u001b[0m\u001b[0;34m(\u001b[0m\u001b[0mout\u001b[0m\u001b[0;34m,\u001b[0m \u001b[0;34m-\u001b[0m\u001b[0;36m1\u001b[0m\u001b[0;34m,\u001b[0m \u001b[0msec\u001b[0m\u001b[0;34m.\u001b[0m\u001b[0mgalois_keys\u001b[0m\u001b[0;34m)\u001b[0m\u001b[0;34m\u001b[0m\u001b[0;34m\u001b[0m\u001b[0m\n\u001b[0m",
      "\u001b[0;31mRuntimeError\u001b[0m: unsupported scheme"
     ]
    }
   ],
   "source": [
    "new_ctxt = sec._evaluator.rotate_vector(out, -1, sec.galois_keys)"
   ]
  },
  {
   "cell_type": "code",
   "execution_count": null,
   "id": "581bfb78",
   "metadata": {},
   "outputs": [],
   "source": []
  }
 ],
 "metadata": {
  "kernelspec": {
   "display_name": "Python 3 (ipykernel)",
   "language": "python",
   "name": "python3"
  },
  "language_info": {
   "codemirror_mode": {
    "name": "ipython",
    "version": 3
   },
   "file_extension": ".py",
   "mimetype": "text/x-python",
   "name": "python",
   "nbconvert_exporter": "python",
   "pygments_lexer": "ipython3",
   "version": "3.9.0"
  }
 },
 "nbformat": 4,
 "nbformat_minor": 5
}
