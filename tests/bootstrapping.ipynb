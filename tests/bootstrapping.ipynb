{
 "cells": [
  {
   "cell_type": "code",
   "execution_count": 1,
   "id": "0340ff07",
   "metadata": {},
   "outputs": [
    {
     "name": "stdout",
     "output_type": "stream",
     "text": [
      "Using CPU version HEAAN\n"
     ]
    }
   ],
   "source": [
    "import numpy as np\n",
    "import fase\n",
    "fase.USE_CUDA = False\n",
    "from fase.core import heaan\n",
    "from typing import List, Callable\n",
    "from time import time"
   ]
  },
  {
   "cell_type": "code",
   "execution_count": 2,
   "id": "c8b59e11",
   "metadata": {},
   "outputs": [
    {
     "name": "stdout",
     "output_type": "stream",
     "text": [
      "Initializing the scheme as the data owner\n",
      "Loading a secret key from:  ./SecretKey.txt\n",
      "loading secret key done.\n",
      "loading boot keys done\n",
      "HEAAN CKKS setup is ready \n"
     ]
    }
   ],
   "source": [
    "hec = heaan.HEAANContext(3, 30, 35, boot=True, load_sk=True, rot_l=\"all\")"
   ]
  },
  {
   "cell_type": "code",
   "execution_count": 3,
   "id": "5ef68a2d",
   "metadata": {},
   "outputs": [
    {
     "name": "stdout",
     "output_type": "stream",
     "text": [
      "30 35\n",
      "[ 1.00000010e+00  2.00000013e+00  3.00000005e+00  3.99999993e+00\n",
      "  4.99999993e+00  6.00000000e+00 -7.51357534e-08 -9.23106391e-08]\n",
      "bootstrap done\n",
      "took: 84.394s\n",
      "30 310 [ 0.88986044  1.89953942  2.86884189  3.87471778  4.87882552  5.86551191\n",
      " -0.09561194 -0.09920957]\n"
     ]
    }
   ],
   "source": [
    "mask = np.zeros(hec.parms.n)\n",
    "mask[3] = 1.\n",
    "\n",
    "ctxt = hec.encrypt([1,2,3,4,5,6])\n",
    "\n",
    "print(ctxt.logp, ctxt.logq)\n",
    "print(hec.decrypt(ctxt))\n",
    "t0 = time()\n",
    "hec.bootstrap(ctxt, 35)\n",
    "print(f\"took: {time() - t0:.3f}s\")\n",
    "print(ctxt.logp, ctxt.logq, hec.decrypt(ctxt))"
   ]
  },
  {
   "cell_type": "code",
   "execution_count": 10,
   "id": "a4ba5a7b",
   "metadata": {},
   "outputs": [
    {
     "name": "stdout",
     "output_type": "stream",
     "text": [
      "30 45\n",
      "[ 1.00000005e+00  1.99999991e+00  3.00000003e+00  4.00000004e+00\n",
      "  5.00000011e+00  6.00000005e+00  9.58499369e-09 -1.26143399e-07]\n",
      "30 190 [ 1.00090656e+00  2.00032759e+00  3.00139772e+00  3.99838740e+00\n",
      "  4.99917503e+00  5.99990655e+00 -1.49959758e-03  1.39448195e-03]\n"
     ]
    }
   ],
   "source": [
    "mask = np.zeros(hec.parms.n)\n",
    "mask[3] = 1.\n",
    "\n",
    "ctxt = hec.encrypt([1,2,3,4,5,6])\n",
    "\n",
    "print(ctxt.logp, ctxt.logq)\n",
    "print(hec.decrypt(ctxt))\n",
    "hec.bootstrap(ctxt, 45)\n",
    "\n",
    "print(ctxt.logp, ctxt.logq, hec.decrypt(ctxt))"
   ]
  },
  {
   "cell_type": "code",
   "execution_count": null,
   "id": "9f1f6b47",
   "metadata": {},
   "outputs": [],
   "source": []
  },
  {
   "cell_type": "code",
   "execution_count": null,
   "id": "a226ba7a",
   "metadata": {},
   "outputs": [],
   "source": []
  },
  {
   "cell_type": "code",
   "execution_count": 9,
   "id": "5039186a",
   "metadata": {},
   "outputs": [
    {
     "name": "stdout",
     "output_type": "stream",
     "text": [
      "30 45\n",
      "[ 1.00000000e+00  2.00000004e+00  3.00000009e+00  4.00000003e+00\n",
      "  5.00000002e+00  6.00000008e+00 -2.58107891e-09  3.53198994e-08]\n",
      "30 190 [-2310.29216199 11129.43141057 -1524.38820675  1578.47634066\n",
      "  5273.66785834 -2135.56540824  -127.53168293 -3723.73920102]\n"
     ]
    }
   ],
   "source": [
    "mask = np.zeros(hec.parms.n)\n",
    "mask[3] = 1.\n",
    "\n",
    "ctxt = hec.encrypt([1,2,3,4,5,6])\n",
    "\n",
    "print(ctxt.logp, ctxt.logq)\n",
    "print(hec.decrypt(ctxt))\n",
    "hec.bootstrap(ctxt, 40)\n",
    "\n",
    "print(ctxt.logp, ctxt.logq, hec.decrypt(ctxt))"
   ]
  },
  {
   "cell_type": "code",
   "execution_count": 7,
   "id": "d9382d08",
   "metadata": {},
   "outputs": [
    {
     "name": "stdout",
     "output_type": "stream",
     "text": [
      "30 40\n",
      "[1.00000003e+00 2.00000007e+00 3.00000000e+00 3.99999994e+00\n",
      " 5.00000000e+00 6.00000000e+00 5.66006646e-08 1.11661689e-07]\n",
      "30 250 [ 9.99836783e-01  1.99986472e+00  2.99985833e+00  3.99983420e+00\n",
      "  4.99992344e+00  5.99988808e+00 -8.66847151e-05 -5.74658920e-05]\n"
     ]
    }
   ],
   "source": [
    "mask = np.zeros(hec.parms.n)\n",
    "mask[3] = 1.\n",
    "\n",
    "ctxt = hec.encrypt([1,2,3,4,5,6])\n",
    "\n",
    "print(ctxt.logp, ctxt.logq)\n",
    "print(hec.decrypt(ctxt))\n",
    "hec.bootstrap(ctxt, 40)\n",
    "\n",
    "print(ctxt.logp, ctxt.logq, hec.decrypt(ctxt))"
   ]
  },
  {
   "cell_type": "code",
   "execution_count": 4,
   "id": "7ed93438",
   "metadata": {},
   "outputs": [
    {
     "name": "stdout",
     "output_type": "stream",
     "text": [
      "30 220\n",
      "[ 2.63662619e-09 -5.71255766e-09 -1.04170188e-08  3.99925799e+00\n",
      "  3.23433690e-10 -3.31509185e-09  9.13468933e-09 -3.27272431e-09]\n",
      "30 190\n",
      "[-6.99152033e-10 -7.03365848e-10 -1.30954556e-08  3.99925800e+00\n",
      "  2.20307859e-09 -1.69388921e-09 -6.26109873e-09 -1.00019104e-09]\n",
      "30 160\n",
      "[-8.68883142e-09  4.05726977e-09  4.66257251e-09  3.99925800e+00\n",
      "  4.48074625e-09  3.66053441e-09 -7.71775980e-10 -2.58497224e-10]\n",
      "30 130\n",
      "[-8.96438965e-09 -1.00907529e-08 -5.64846466e-09  3.99925800e+00\n",
      " -2.41125325e-10  3.91157591e-09  3.36081988e-09  1.69976744e-09]\n",
      "30 100\n",
      "[-3.90978290e-09 -3.83946555e-09  5.59386726e-09  3.99925799e+00\n",
      "  1.23098354e-09 -2.70747344e-09 -2.78040318e-09  1.52661750e-09]\n",
      "30 70\n",
      "[-5.98254290e-09 -7.24634414e-09  6.47672341e-09  3.99925800e+00\n",
      "  1.04374859e-08  5.18244842e-09 -9.70588918e-09 -3.25108607e-10]\n",
      "30 40\n",
      "[-6.82312967e-09  1.03098861e-08 -1.47681894e-09  3.99925800e+00\n",
      "  3.04314187e-09  1.30230179e-08  2.94449884e-09  3.86038468e-09]\n",
      "30 250\n",
      "[1.86476404e-03 1.86033875e-03 1.86616162e-03 4.00111529e+00\n",
      " 1.86697594e-03 1.86125592e-03 1.86465884e-03 1.86033461e-03]\n",
      "30 220\n",
      "[ 5.62523859e-09 -7.16842839e-09 -1.14678076e-08  4.00111529e+00\n",
      "  1.85530125e-09  4.80280159e-09 -7.09277804e-09 -1.31273081e-08]\n",
      "30 190\n",
      "[ 1.93013799e-09  2.10586520e-09 -8.37014872e-09  4.00111529e+00\n",
      "  4.52856573e-09 -7.30892540e-09 -1.18027785e-08 -8.32687697e-09]\n",
      "30 160\n",
      "[-6.31655661e-09  1.42597110e-09  6.58347587e-09  4.00111529e+00\n",
      " -1.90881232e-09  1.21511537e-08  1.28576460e-09 -2.14550644e-09]\n",
      "30 130\n",
      "[-1.58803858e-08  4.06627808e-09  3.63352050e-09  4.00111528e+00\n",
      "  3.97467624e-09 -5.70322332e-09 -6.25632065e-10  5.13177856e-09]\n",
      "30 100\n",
      "[-8.16691077e-10 -8.39282262e-09 -6.73239363e-09  4.00111527e+00\n",
      "  1.45600036e-09 -1.04991241e-08  7.09281620e-09  1.08256959e-09]\n",
      "30 70\n",
      "[-8.87658450e-09  2.52261851e-09 -1.51963825e-08  4.00111528e+00\n",
      "  8.87994657e-09  1.07406347e-08 -5.16222399e-10  4.53959448e-09]\n",
      "30 40\n",
      "[-6.34571531e-09  7.67069048e-09 -2.92006096e-09  4.00111528e+00\n",
      " -1.14138821e-09  3.59297107e-09  5.23463363e-09 -5.37385425e-09]\n",
      "30 250\n",
      "[ 3.33106049e-04 -3.47788451e-04 -6.47481791e-04  4.00119724e+00\n",
      " -3.27980131e-04 -7.34475274e-04 -7.09906061e-04 -6.18404228e-04]\n"
     ]
    }
   ],
   "source": [
    "masked = hec.multByVec(ctxt, mask, rescale=True)\n",
    "\n",
    "print(masked.logp, masked.logq)\n",
    "print(hec.decrypt(masked))\n",
    "\n",
    "for _ in range(6):\n",
    "    masked = hec.multByVec(masked, mask, rescale=True)\n",
    "    print(masked.logp, masked.logq)\n",
    "    print(hec.decrypt(masked))\n",
    "\n",
    "hec.bootstrap(masked, 40)\n",
    "print(masked.logp, masked.logq)\n",
    "print(hec.decrypt(masked))\n",
    "\n",
    "for _ in range(7):\n",
    "    masked = hec.multByVec(masked, mask, rescale=True)\n",
    "    print(masked.logp, masked.logq)\n",
    "    print(hec.decrypt(masked))\n",
    "\n",
    "hec.bootstrap(masked, 40)\n",
    "print(masked.logp, masked.logq)\n",
    "print(hec.decrypt(masked))\n"
   ]
  },
  {
   "cell_type": "markdown",
   "id": "a6144270",
   "metadata": {},
   "source": [
    "hec = heaan.HEAANContext(3, 30, 40, boot=True, load_sk=True, rot_l=\"all\").  \n",
    "bootstrap 먼저 한 뒤, logq = 40까지 계산 진행.   \n",
    "이 후 다시 bootstrap 하면 성공. \n"
   ]
  },
  {
   "cell_type": "markdown",
   "id": "0c38dd62",
   "metadata": {},
   "source": [
    "## 처음부터 logq = 250으로 시작..\n",
    "\n",
    "안 됨. ㅠ\n",
    "hec 만들 때 logq를 logqBoot으로 줘버렸음. \n",
    "HEAANContext 수정 필요"
   ]
  },
  {
   "cell_type": "code",
   "execution_count": 2,
   "id": "0c9e2784",
   "metadata": {},
   "outputs": [
    {
     "name": "stdout",
     "output_type": "stream",
     "text": [
      "Initializing the scheme as the data owner\n",
      "Loading a secret key from:  ./SecretKey.txt\n",
      "loading secret key done.\n",
      "loading boot keys done\n",
      "HEAAN CKKS setup is ready \n"
     ]
    }
   ],
   "source": [
    "hec = heaan.HEAANContext(3, 30, 250, boot=True, load_sk=True, rot_l=\"all\")"
   ]
  },
  {
   "cell_type": "code",
   "execution_count": 3,
   "id": "94568407",
   "metadata": {},
   "outputs": [
    {
     "name": "stdout",
     "output_type": "stream",
     "text": [
      "30 250\n",
      "[ 9.99999931e-01  1.99999993e+00  2.99999982e+00  4.00000003e+00\n",
      "  4.99999984e+00  5.99999998e+00 -8.20384871e-08 -1.15338481e-08]\n",
      "30 220\n",
      "[-8.34222666e-09 -2.43971204e-09 -8.78860819e-11  4.00000003e+00\n",
      "  1.53887494e-08 -3.42038526e-09 -1.00605402e-08 -4.79142415e-09]\n"
     ]
    }
   ],
   "source": [
    "mask = np.zeros(hec.parms.n)\n",
    "mask[3] = 1.\n",
    "\n",
    "ctxt = hec.encrypt([1,2,3,4,5,6])\n",
    "\n",
    "print(ctxt.logp, ctxt.logq)\n",
    "print(hec.decrypt(ctxt))\n",
    "\n",
    "masked = hec.multByVec(ctxt, mask, rescale=True)\n",
    "\n",
    "print(masked.logp, masked.logq)\n",
    "print(hec.decrypt(masked))"
   ]
  },
  {
   "cell_type": "code",
   "execution_count": 4,
   "id": "7a881a38",
   "metadata": {},
   "outputs": [
    {
     "name": "stdout",
     "output_type": "stream",
     "text": [
      "30 190\n",
      "[-4.27049300e-09  7.07383000e-10  1.32797585e-09  4.00000003e+00\n",
      " -6.57047441e-09 -1.00314285e-08 -1.04850925e-08  1.15314176e-08]\n",
      "30 160\n",
      "[-2.90037874e-10 -1.18801030e-09  1.32085269e-08  4.00000002e+00\n",
      " -5.74571680e-09 -1.10323068e-09  7.71261670e-09 -2.98698843e-09]\n",
      "30 130\n",
      "[-2.37515021e-09  2.70115895e-09  5.84637957e-09  4.00000002e+00\n",
      " -7.07412100e-09  2.87637814e-10  5.00988015e-10 -5.95342797e-09]\n",
      "30 100\n",
      "[ 4.65641576e-09 -8.65136221e-09  6.97166832e-09  4.00000002e+00\n",
      " -1.79200076e-08 -4.29839683e-09  2.09890732e-09  3.43450601e-10]\n",
      "30 70\n",
      "[ 3.25648788e-09 -2.61050106e-09 -7.88554304e-09  4.00000002e+00\n",
      " -6.26473605e-10 -1.57368616e-09  8.51309321e-09 -1.52594071e-09]\n",
      "30 40\n",
      "[-1.52169609e-09  5.81587782e-09  4.97324190e-09  4.00000001e+00\n",
      "  5.95765255e-10 -6.07712584e-10  7.53319050e-10 -7.10640613e-09]\n"
     ]
    }
   ],
   "source": [
    "for _ in range(6):\n",
    "    masked = hec.multByVec(masked, mask, rescale=True)\n",
    "    print(masked.logp, masked.logq)\n",
    "    print(hec.decrypt(masked))"
   ]
  },
  {
   "cell_type": "code",
   "execution_count": null,
   "id": "e817a86d",
   "metadata": {},
   "outputs": [],
   "source": [
    "hec.bootstrap(masked, 40) \n",
    "print(masked.logp, masked.logq)\n",
    "print(hec.decrypt(masked))"
   ]
  },
  {
   "cell_type": "code",
   "execution_count": null,
   "id": "18f11fcb",
   "metadata": {},
   "outputs": [],
   "source": []
  },
  {
   "cell_type": "code",
   "execution_count": 2,
   "id": "699408ab",
   "metadata": {},
   "outputs": [
    {
     "name": "stdout",
     "output_type": "stream",
     "text": [
      "Initializing the scheme as the data owner\n",
      "Loading a secret key from:  ./SecretKey.txt\n",
      "loading secret key done.\n",
      "loading boot keys done\n",
      "HEAAN CKKS setup is ready \n"
     ]
    }
   ],
   "source": [
    "hec = heaan.HEAANContext(4, 27, 450, boot=True, load_sk=True, rot_l=\"all\")"
   ]
  },
  {
   "cell_type": "code",
   "execution_count": 3,
   "id": "f2dc4e44",
   "metadata": {},
   "outputs": [
    {
     "name": "stdout",
     "output_type": "stream",
     "text": [
      "27 450\n"
     ]
    }
   ],
   "source": [
    "ctxt = hec.encrypt([1,2,3,4,5,6])\n",
    "\n",
    "print(ctxt.logp, ctxt.logq)"
   ]
  },
  {
   "cell_type": "code",
   "execution_count": 4,
   "id": "d6247be4",
   "metadata": {},
   "outputs": [
    {
     "name": "stdout",
     "output_type": "stream",
     "text": [
      "27 423\n"
     ]
    }
   ],
   "source": [
    "mask = np.zeros(hec.parms.n)\n",
    "mask[3] = 1.\n",
    "masked = hec.multByVec(ctxt, mask, rescale=True)\n",
    "print(masked.logp, masked.logq)\n",
    "\n",
    "for _ in range(15):\n",
    "    masked = hec.multByVec(masked, mask, rescale=True)"
   ]
  },
  {
   "cell_type": "code",
   "execution_count": 5,
   "id": "165eaf9b",
   "metadata": {},
   "outputs": [
    {
     "name": "stdout",
     "output_type": "stream",
     "text": [
      "27 18\n"
     ]
    }
   ],
   "source": [
    "print(masked.logp, masked.logq)"
   ]
  },
  {
   "cell_type": "code",
   "execution_count": null,
   "id": "0570301e",
   "metadata": {},
   "outputs": [],
   "source": [
    "hec.bootstrap(masked, 37)"
   ]
  },
  {
   "cell_type": "code",
   "execution_count": null,
   "id": "6f75e9e3",
   "metadata": {},
   "outputs": [],
   "source": []
  },
  {
   "cell_type": "code",
   "execution_count": null,
   "id": "84bee3eb",
   "metadata": {},
   "outputs": [],
   "source": [
    "print(masked.logp, masked.logq)\n",
    "hec.decrypt(masked)"
   ]
  },
  {
   "cell_type": "code",
   "execution_count": null,
   "id": "ccb567a3",
   "metadata": {},
   "outputs": [],
   "source": []
  },
  {
   "cell_type": "code",
   "execution_count": null,
   "id": "3b097336",
   "metadata": {},
   "outputs": [],
   "source": []
  },
  {
   "cell_type": "code",
   "execution_count": 19,
   "id": "c6928795",
   "metadata": {},
   "outputs": [
    {
     "ename": "NameError",
     "evalue": "name 'he' is not defined",
     "output_type": "error",
     "traceback": [
      "\u001b[0;31m---------------------------------------------------------------------------\u001b[0m",
      "\u001b[0;31mNameError\u001b[0m                                 Traceback (most recent call last)",
      "\u001b[0;32m/tmp/ipykernel_11635/3214750579.py\u001b[0m in \u001b[0;36m<module>\u001b[0;34m\u001b[0m\n\u001b[0;32m----> 1\u001b[0;31m \u001b[0mring\u001b[0m \u001b[0;34m=\u001b[0m \u001b[0mhe\u001b[0m\u001b[0;34m.\u001b[0m\u001b[0mRing\u001b[0m\u001b[0;34m(\u001b[0m\u001b[0;34m)\u001b[0m\u001b[0;34m\u001b[0m\u001b[0;34m\u001b[0m\u001b[0m\n\u001b[0m\u001b[1;32m      2\u001b[0m \u001b[0;34m\u001b[0m\u001b[0m\n\u001b[1;32m      3\u001b[0m \u001b[0msk\u001b[0m \u001b[0;34m=\u001b[0m \u001b[0mhe\u001b[0m\u001b[0;34m.\u001b[0m\u001b[0mSecretKey\u001b[0m\u001b[0;34m(\u001b[0m\u001b[0mring\u001b[0m\u001b[0;34m)\u001b[0m\u001b[0;34m\u001b[0m\u001b[0;34m\u001b[0m\u001b[0m\n\u001b[1;32m      4\u001b[0m \u001b[0;34m\u001b[0m\u001b[0m\n\u001b[1;32m      5\u001b[0m \u001b[0mscheme\u001b[0m \u001b[0;34m=\u001b[0m \u001b[0mhe\u001b[0m\u001b[0;34m.\u001b[0m\u001b[0mScheme\u001b[0m\u001b[0;34m(\u001b[0m\u001b[0msk\u001b[0m\u001b[0;34m,\u001b[0m \u001b[0mring\u001b[0m\u001b[0;34m,\u001b[0m \u001b[0;32mFalse\u001b[0m\u001b[0;34m)\u001b[0m\u001b[0;34m\u001b[0m\u001b[0;34m\u001b[0m\u001b[0m\n",
      "\u001b[0;31mNameError\u001b[0m: name 'he' is not defined"
     ]
    }
   ],
   "source": [
    "ring = he.Ring()\n",
    "\n",
    "sk = he.SecretKey(ring)\n",
    "\n",
    "scheme = he.Scheme(sk, ring, False)"
   ]
  },
  {
   "cell_type": "code",
   "execution_count": 4,
   "id": "964766a4",
   "metadata": {},
   "outputs": [
    {
     "name": "stdout",
     "output_type": "stream",
     "text": [
      "INIT1\n"
     ]
    }
   ],
   "source": [
    "scheme = he.Scheme(sk, ring, False)"
   ]
  },
  {
   "cell_type": "code",
   "execution_count": 6,
   "id": "f1000c28",
   "metadata": {},
   "outputs": [],
   "source": [
    "logn = 8\n",
    "logq = 300\n",
    "logI = 4\n",
    "\n",
    "scheme.addBootKey(sk, logn, logq+logI)"
   ]
  },
  {
   "cell_type": "code",
   "execution_count": 9,
   "id": "cd79c225",
   "metadata": {},
   "outputs": [],
   "source": [
    "n = 2**logn\n",
    "logp = 30"
   ]
  },
  {
   "cell_type": "code",
   "execution_count": 14,
   "id": "66a8aaab",
   "metadata": {},
   "outputs": [],
   "source": [
    "ctx = he.Ciphertext()\n",
    "vv = np.zeros(n)\n",
    "vv[:10] = np.arange(10,20)\n",
    "scheme.encrypt(ctx, he.Double(vv), n, logp, logq)"
   ]
  },
  {
   "cell_type": "code",
   "execution_count": 15,
   "id": "97d815d1",
   "metadata": {},
   "outputs": [],
   "source": [
    "ptx = scheme.decrypt(sk, ctx)"
   ]
  },
  {
   "cell_type": "code",
   "execution_count": 16,
   "id": "8df2c3ec",
   "metadata": {},
   "outputs": [
    {
     "data": {
      "text/plain": [
       "(10.000000, -0.000000)"
      ]
     },
     "execution_count": 16,
     "metadata": {},
     "output_type": "execute_result"
    }
   ],
   "source": [
    "ptx"
   ]
  },
  {
   "cell_type": "code",
   "execution_count": 17,
   "id": "654cf3dd",
   "metadata": {},
   "outputs": [],
   "source": [
    "logQ = 800\n",
    "logT = 2"
   ]
  },
  {
   "cell_type": "code",
   "execution_count": null,
   "id": "381a728f",
   "metadata": {},
   "outputs": [],
   "source": [
    "scheme.bootstrapAndEqual(ctx, \n",
    "                         logq,\n",
    "                         logQ,\n",
    "                         logT,\n",
    "                         logI)"
   ]
  },
  {
   "cell_type": "code",
   "execution_count": null,
   "id": "2c6bcf44",
   "metadata": {},
   "outputs": [],
   "source": []
  }
 ],
 "metadata": {
  "kernelspec": {
   "display_name": "Python 3 (ipykernel)",
   "language": "python",
   "name": "python3"
  },
  "language_info": {
   "codemirror_mode": {
    "name": "ipython",
    "version": 3
   },
   "file_extension": ".py",
   "mimetype": "text/x-python",
   "name": "python",
   "nbconvert_exporter": "python",
   "pygments_lexer": "ipython3",
   "version": "3.9.0"
  }
 },
 "nbformat": 4,
 "nbformat_minor": 5
}
