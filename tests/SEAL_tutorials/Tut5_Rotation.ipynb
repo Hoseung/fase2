{
 "cells": [
  {
   "cell_type": "markdown",
   "id": "e6cdffc4",
   "metadata": {},
   "source": [
    "Both BFV (with batchencoder)and CKKS can perform (slot-wise) vectorized computation.  \n",
    "In addition to that, it can *rotate* the vector cyclically. (shift the index)"
   ]
  },
  {
   "cell_type": "markdown",
   "id": "df8410da",
   "metadata": {},
   "source": [
    "Skip BFV example"
   ]
  },
  {
   "cell_type": "code",
   "execution_count": 1,
   "id": "73d12576",
   "metadata": {},
   "outputs": [],
   "source": [
    "import seal\n",
    "import numpy as np"
   ]
  },
  {
   "cell_type": "code",
   "execution_count": 26,
   "id": "7911b1b2",
   "metadata": {},
   "outputs": [],
   "source": [
    "class scheme():\n",
    "    def __init__(self, poly_modulus_degrees, coeff_mod_bits, scheme=\"ckks\"):\n",
    "        self.parms = seal.EncryptionParameters(getattr(seal.scheme_type, scheme))\n",
    "        self.parms.set_poly_modulus_degree(poly_modulus_degrees)\n",
    "        self.parms.set_coeff_modulus(seal.CoeffModulus.Create(poly_modulus_degrees,\n",
    "                                                         coeff_mod_bits))\n",
    "\n",
    "        self.context = seal.SEALContext(parms)\n",
    "\n",
    "        self.keygen = seal.KeyGenerator(context)\n",
    "        self.secret_key = self.keygen.secret_key()\n",
    "        self.public_key = self.keygen.create_public_key()\n",
    "        self.galois_key = self.keygen.create_galois_keys()\n",
    "        self.relin_keys = self.keygen.create_relin_keys()\n",
    "\n",
    "        self.encryptor = seal.Encryptor(self.context, self.public_key)\n",
    "        self.evaluator = seal.Evaluator(self.context)\n",
    "        self.decryptor = seal.Decryptor(self.context, self.secret_key)\n",
    "\n",
    "        self.encoder = seal.CKKSEncoder(self.context)\n",
    "        print(\"all set\")\n",
    "        \n",
    "    def encode(self, *args):\n",
    "        return self.encoder.encode(*args)\n",
    "    \n",
    "    def decode(self, *args):\n",
    "        return self.encoder.decode(*args)\n",
    "    \n",
    "    def encrypt(self, *args):\n",
    "        return self.encryptor.encrypt(*args)\n",
    "\n",
    "    def decrypt(self, *args):\n",
    "        return self.decryptor.decrypt(*args)\n",
    "    "
   ]
  },
  {
   "cell_type": "code",
   "execution_count": 27,
   "id": "5a4f49ee",
   "metadata": {},
   "outputs": [
    {
     "name": "stdout",
     "output_type": "stream",
     "text": [
      "all set\n"
     ]
    }
   ],
   "source": [
    "poly_modulus_degrees = 8192\n",
    "\n",
    "coeff_mod_bits = [40,40,40,40,40]\n",
    "\n",
    "ck = scheme(poly_modulus_degrees, coeff_mod_bits, scheme=\"ckks\")"
   ]
  },
  {
   "cell_type": "code",
   "execution_count": 28,
   "id": "f3e991e4",
   "metadata": {},
   "outputs": [
    {
     "name": "stdout",
     "output_type": "stream",
     "text": [
      "slot count 4096\n"
     ]
    }
   ],
   "source": [
    "n_slot = ck.encoder.slot_count()\n",
    "print(\"slot count\", n_slot)"
   ]
  },
  {
   "cell_type": "code",
   "execution_count": 29,
   "id": "ecc7ebc9",
   "metadata": {},
   "outputs": [
    {
     "name": "stdout",
     "output_type": "stream",
     "text": [
      "[0.00000000e+00 2.44200244e-04 4.88400488e-04 ... 9.99511600e-01\n",
      " 9.99755800e-01 1.00000000e+00]\n"
     ]
    }
   ],
   "source": [
    "vec = np.linspace(0, 1, n_slot)\n",
    "print(vec)"
   ]
  },
  {
   "cell_type": "code",
   "execution_count": 30,
   "id": "d872b15b",
   "metadata": {},
   "outputs": [],
   "source": [
    "scale = 2.**50"
   ]
  },
  {
   "cell_type": "code",
   "execution_count": 35,
   "id": "bdda9cd7",
   "metadata": {},
   "outputs": [],
   "source": [
    "ptxt = ck.encode(vec, scale)\n",
    "ctxt = ck.encrypt(ptxt)"
   ]
  },
  {
   "cell_type": "code",
   "execution_count": 36,
   "id": "88cdef82",
   "metadata": {},
   "outputs": [],
   "source": [
    "rotated = ck.evaluator.rotate_vector(ctxt, 2, ck.galois_key)"
   ]
  },
  {
   "cell_type": "code",
   "execution_count": 37,
   "id": "f579fc2c",
   "metadata": {},
   "outputs": [],
   "source": [
    "rot_plain = ck.decrypt(rotated)"
   ]
  },
  {
   "cell_type": "code",
   "execution_count": 39,
   "id": "709bfc0c",
   "metadata": {},
   "outputs": [
    {
     "name": "stdout",
     "output_type": "stream",
     "text": [
      "[ 4.88400534e-04  7.32600647e-04  9.76800981e-04 ...  1.00000000e+00\n",
      " -1.78246307e-13  2.44200240e-04]\n"
     ]
    }
   ],
   "source": [
    "print(ck.decode(rot_plain))"
   ]
  },
  {
   "cell_type": "code",
   "execution_count": 40,
   "id": "c4db678c",
   "metadata": {},
   "outputs": [
    {
     "data": {
      "text/plain": [
       "array([0.00000000e+00, 2.44200244e-04, 4.88400488e-04, ...,\n",
       "       9.99511600e-01, 9.99755800e-01, 1.00000000e+00])"
      ]
     },
     "execution_count": 40,
     "metadata": {},
     "output_type": "execute_result"
    }
   ],
   "source": [
    "vec"
   ]
  },
  {
   "cell_type": "markdown",
   "id": "d9c1d857",
   "metadata": {},
   "source": [
    "Index가 두칸 옮겨짐. \n",
    "\n",
    "이걸 어디에 쓸까..? \n",
    "어째어째 잘 하면 slot-wise vector계산을 유지하면서 matrix 계산할 진행할 수 있음. \n",
    "좀 많이 복잡하겠지만?"
   ]
  },
  {
   "cell_type": "code",
   "execution_count": null,
   "id": "642afb3a",
   "metadata": {},
   "outputs": [],
   "source": []
  }
 ],
 "metadata": {
  "kernelspec": {
   "display_name": "Python 3 (ipykernel)",
   "language": "python",
   "name": "python3"
  },
  "language_info": {
   "codemirror_mode": {
    "name": "ipython",
    "version": 3
   },
   "file_extension": ".py",
   "mimetype": "text/x-python",
   "name": "python",
   "nbconvert_exporter": "python",
   "pygments_lexer": "ipython3",
   "version": "3.9.7"
  }
 },
 "nbformat": 4,
 "nbformat_minor": 5
}
