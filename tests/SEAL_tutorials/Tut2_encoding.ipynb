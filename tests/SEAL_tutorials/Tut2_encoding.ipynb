{
 "cells": [
  {
   "cell_type": "markdown",
   "id": "6c13ba72",
   "metadata": {},
   "source": [
    "튜토리얼 1번에서는  \n",
    "1. modulo 계산만 했음. 더 실용적인 계산을 해볼 것임.  \n",
    "2. Plaintext polynomial coefficient중 하나만 사용했음 (몰랐네..?) 이번엔 다 사용해볼 것."
   ]
  },
  {
   "cell_type": "markdown",
   "id": "8b34d37e",
   "metadata": {},
   "source": [
    "## Modulo 결과 처리 \n",
    "plain_modulus를 올리면 안 되나? --> budget consumption이 커지고, initial noise budget은 작아짐.  "
   ]
  },
  {
   "cell_type": "code",
   "execution_count": 2,
   "id": "a6443604",
   "metadata": {},
   "outputs": [],
   "source": [
    "from fase import seal\n",
    "import numpy as np"
   ]
  },
  {
   "cell_type": "markdown",
   "id": "7bac4193",
   "metadata": {},
   "source": [
    "## Batch encoder (for BFV only)\n",
    "N: poly_modulus_degree  \n",
    "T: plain_modulus 일 때,  \n",
    "batching은 plaintext를  2 X (N/2) matrix로 봄.... \n",
    "음 일단 스킵 "
   ]
  },
  {
   "cell_type": "markdown",
   "id": "584f86a9",
   "metadata": {},
   "source": [
    "## CKKS Encoder\n",
    "BFV와 다른 점\n",
    "1. plain_podulus parameter 없음.\n",
    "2. coeff_modulus를 잘 설정해야함. -- tutorial4에서 추가 설명"
   ]
  },
  {
   "cell_type": "code",
   "execution_count": 3,
   "id": "1d2e6bb2",
   "metadata": {},
   "outputs": [],
   "source": [
    "parms = seal.EncryptionParameters(seal.scheme_type.ckks)"
   ]
  },
  {
   "cell_type": "code",
   "execution_count": 9,
   "id": "16f854eb",
   "metadata": {},
   "outputs": [],
   "source": [
    "poly_modulus_degree = 8192\n",
    "parms.set_poly_modulus_degree(poly_modulus_degree)\n",
    "parms.set_coeff_modulus(seal.CoeffModulus.Create(poly_modulus_degree, [40, 40, 40, 40, 40]))"
   ]
  },
  {
   "cell_type": "markdown",
   "id": "6fe08290",
   "metadata": {},
   "source": [
    "[40, 40, 40, 40, 40] <- 이거 중요 (coeff_modulus bits)  \n",
    "여기서 중요한건 prime의 정확한 값이 아니라 prime의 크기 (비트수)임 -- 나중에 ciphertext의 scale이 곱하기 연산으로 커지는 효과와 rescaling으로 prime만큼 나누어 효과로 ciphertext의 scale을 조정해줘야함  \n",
    "따라서 prime 값을 입력하는게 아니라(40bit 프라임을 직접 정하기도 어렵겠지만) bit수를 입력하면 내부적으로 적당한 값을 골라줌. (seal.CoeffModulus.Create()함수)"
   ]
  },
  {
   "cell_type": "code",
   "execution_count": 10,
   "id": "0810668a",
   "metadata": {},
   "outputs": [],
   "source": [
    "context = seal.SEALContext(parms)\n",
    "\n",
    "keygen = seal.KeyGenerator(context)\n",
    "secret_key = keygen.secret_key() # 이건 create_가 아니네.\n",
    "public_key = keygen.create_public_key()\n",
    "relin_keys = keygen.create_relin_keys()"
   ]
  },
  {
   "cell_type": "code",
   "execution_count": 11,
   "id": "3bf5ead7",
   "metadata": {},
   "outputs": [],
   "source": [
    "encryptor = seal.Encryptor(context, public_key)\n",
    "evaluator = seal.Evaluator(context)\n",
    "decryptor = seal.Decryptor(context, secret_key)"
   ]
  },
  {
   "cell_type": "code",
   "execution_count": 12,
   "id": "690510e3",
   "metadata": {},
   "outputs": [
    {
     "name": "stdout",
     "output_type": "stream",
     "text": [
      "Number of slots: 4096\n"
     ]
    }
   ],
   "source": [
    "encoder = seal.CKKSEncoder(context)\n",
    "slot_count = encoder.slot_count()\n",
    "\n",
    "print(\"Number of slots:\", slot_count)\n",
    "# N slots = poly_modulus_degree / 2\n",
    "# 하나의 slot은 하나의 숫자를 encode함. "
   ]
  },
  {
   "cell_type": "code",
   "execution_count": 13,
   "id": "2c0a675e",
   "metadata": {},
   "outputs": [],
   "source": [
    "vector = [0.0, 1.1, 2.2, 3.3] "
   ]
  },
  {
   "cell_type": "markdown",
   "id": "58fef33c",
   "metadata": {},
   "source": [
    "**floating-point coefficient**는 'scale'만큼 확대될 것임. CKKS에서도 BFV와 마찬가지로 plaintext는 integer coefficient를 갖는 polynomial이라 생각할 수 있음. 따라서 **floating-point coefficient** (혹은 **significand**)가 달랑 한 두 자리여서는 정확한 계산이 불가능함.  \n",
    "\n",
    "CKKS에서 메세지는 coeff_modulus의 modulo로 저장됨 (BFV에서는 plain_modulus(튜토리얼1에서 1024)의 modulo였음).  \n",
    "지금 coeff_modulus는 총 200bit (40 * 5)이므로 충분한 메세지를 저장할 수 있음.  "
   ]
  },
  {
   "cell_type": "code",
   "execution_count": 19,
   "id": "a3692321",
   "metadata": {},
   "outputs": [
    {
     "name": "stdout",
     "output_type": "stream",
     "text": [
      "[-4.48651637e-08  1.09999997e+00  2.19999998e+00 ... -4.97447471e-09\n",
      "  1.92651125e-08 -6.42916600e-09]\n",
      "4096\n"
     ]
    }
   ],
   "source": [
    "scale = 2**30\n",
    "\n",
    "ptxt = encoder.encode(vector, scale)\n",
    "\n",
    "\n",
    "p_decoded=encoder.decode(ptxt)\n",
    "print(p_decoded)\n",
    "print(len(p_decoded))"
   ]
  },
  {
   "cell_type": "markdown",
   "id": "63654641",
   "metadata": {},
   "source": [
    "decode한 결과, 첫 네 자리는 vector와 (거의)같은 값이 나오고, 나머지는 0에 가까운 빈칸임.  \n",
    "총 slot_count만큼의 길이."
   ]
  },
  {
   "cell_type": "markdown",
   "id": "0153f76e",
   "metadata": {},
   "source": [
    "### relinearization\n",
    "\n"
   ]
  },
  {
   "cell_type": "code",
   "execution_count": 35,
   "id": "4cbdc91b",
   "metadata": {},
   "outputs": [
    {
     "name": "stdout",
     "output_type": "stream",
     "text": [
      "Scale in the squared input: 1.152921504606847e+18,  60.0 bits\n"
     ]
    }
   ],
   "source": [
    "encrypted = encryptor.encrypt(ptxt)\n",
    "\n",
    "evaluator.square_inplace(encrypted)\n",
    "evaluator.relinearize_inplace(encrypted, relin_keys)\n",
    "\n",
    "print(\"Scale in the squared input: {},  {} bits\".format(encrypted.scale(), np.log2(encrypted.scale())))"
   ]
  },
  {
   "cell_type": "code",
   "execution_count": 43,
   "id": "07800d68",
   "metadata": {},
   "outputs": [
    {
     "name": "stdout",
     "output_type": "stream",
     "text": [
      "[-8.59260881e-13  1.20999920e+00  4.83999952e+00 ... -2.21708419e-12\n",
      "  2.48388727e-14  2.17232644e-14]\n",
      "Error [-8.59260881e-13 -7.99265035e-07 -4.80676399e-07 -7.68770187e-07]\n"
     ]
    }
   ],
   "source": [
    "# Decrypt할 때 scale은 알아서 보정됨. \n",
    "ptext_ = decryptor.decrypt(encrypted)\n",
    "output = encoder.decode(ptext_)\n",
    "print(output)\n",
    "print(\"Error\", output[:len(vector)] - np.square(vector))"
   ]
  },
  {
   "cell_type": "markdown",
   "id": "f6f00c49",
   "metadata": {},
   "source": [
    "끝."
   ]
  }
 ],
 "metadata": {
  "kernelspec": {
   "display_name": "Python 3 (ipykernel)",
   "language": "python",
   "name": "python3"
  },
  "language_info": {
   "codemirror_mode": {
    "name": "ipython",
    "version": 3
   },
   "file_extension": ".py",
   "mimetype": "text/x-python",
   "name": "python",
   "nbconvert_exporter": "python",
   "pygments_lexer": "ipython3",
   "version": "3.9.7"
  }
 },
 "nbformat": 4,
 "nbformat_minor": 5
}
