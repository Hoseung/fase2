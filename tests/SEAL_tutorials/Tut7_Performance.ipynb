{
 "cells": [
  {
   "cell_type": "markdown",
   "id": "b0a46ee9",
   "metadata": {},
   "source": [
    "C++ 버전과 Python wrapper 버전 비교해보자.  \n",
    "지금 말고 담에.. \n"
   ]
  }
 ],
 "metadata": {
  "kernelspec": {
   "display_name": "Python 3 (ipykernel)",
   "language": "python",
   "name": "python3"
  },
  "language_info": {
   "codemirror_mode": {
    "name": "ipython",
    "version": 3
   },
   "file_extension": ".py",
   "mimetype": "text/x-python",
   "name": "python",
   "nbconvert_exporter": "python",
   "pygments_lexer": "ipython3",
   "version": "3.9.7"
  }
 },
 "nbformat": 4,
 "nbformat_minor": 5
}
