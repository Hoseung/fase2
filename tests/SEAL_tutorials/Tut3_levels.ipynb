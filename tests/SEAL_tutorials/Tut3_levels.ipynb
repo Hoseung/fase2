{
 "cells": [
  {
   "cell_type": "markdown",
   "id": "53046eca",
   "metadata": {},
   "source": [
    "## Levels\n",
    "\n",
    "\n",
    "### parms_id (MS-SEAL-specific)\n",
    "256-bit has to identify a set of parameters.\n",
    "\n",
    "### modulus switching chain (MS-SEAL-specific)\n",
    "On creating a SEALContext, a 'modulus switching chain' is also generated. It's a chain of parameters where the size of **coefficient modulus is decreasing** going down the chain.  \n",
    "계산의 validity를 확인하기 위한 도구. 계산이 진행됨에 따라 chain을 타고 내려가다가 parameter set이 invalid해지면 멈추는 용도.  \n",
    "각각의 chain은 chain index가 있고 또 고유의 parms_id가 있음.  \n",
    "Chain의 앞에 있으면 = Chain index가 크면 = high level이라고 부르기로 정함. :: level == chain index"
   ]
  },
  {
   "cell_type": "code",
   "execution_count": 1,
   "id": "c1936b7a",
   "metadata": {},
   "outputs": [],
   "source": [
    "from fase import seal\n",
    "import numpy as np"
   ]
  },
  {
   "cell_type": "code",
   "execution_count": 2,
   "id": "7bf22443",
   "metadata": {},
   "outputs": [],
   "source": [
    "parms = seal.EncryptionParameters(seal.scheme_type.bfv)\n",
    "poly_modulus_degree = 8192\n",
    "parms.set_poly_modulus_degree(poly_modulus_degree)\n",
    "coeff_modulus_bits = [50, 30, 30, 50, 50]\n",
    "parms.set_coeff_modulus(seal.CoeffModulus.Create(poly_modulus_degree, coeff_modulus_bits))\n",
    "\n",
    "parms.set_plain_modulus(seal.PlainModulus.Batching(poly_modulus_degree, 20))\n",
    "\n",
    "context = seal.SEALContext(parms)"
   ]
  },
  {
   "cell_type": "code",
   "execution_count": 3,
   "id": "3c23b546",
   "metadata": {},
   "outputs": [
    {
     "name": "stdout",
     "output_type": "stream",
     "text": [
      "Max bit count = 218 > 210\n"
     ]
    }
   ],
   "source": [
    "print(f\"Max bit count = {seal.CoeffModulus.MaxBitCount(8192)} > {np.sum(coeff_modulus_bits)}\")"
   ]
  },
  {
   "cell_type": "markdown",
   "id": "ebe13189",
   "metadata": {},
   "source": [
    "coeff_modulus 순서가 매우 중요함. \n",
    "\n",
    "              special prime +---------+\n",
    "                                      |\n",
    "                                      v\n",
    "    coeff_modulus: { 50, 30, 30, 50, 50 }  +---+  Level 4 (all keys; `key level')\n",
    "                                               |\n",
    "                                               |\n",
    "        coeff_modulus: { 50, 30, 30, 50 }  +---+  Level 3 (highest `data level')\n",
    "                                               |\n",
    "                                               |\n",
    "            coeff_modulus: { 50, 30, 30 }  +---+  Level 2\n",
    "                                               |\n",
    "                                               |\n",
    "                coeff_modulus: { 50, 30 }  +---+  Level 1\n",
    "                                               |\n",
    "                                               |\n",
    "                    coeff_modulus: { 50 }  +---+  Level 0 (lowest level)\n",
    "\n",
    "Special prime은 key들 계산할 때 쓰이며, coeff_modulus 중에서 가장 크게 잡는 것을 권장.  \n",
    "Ciphertext들은 그 다음 level의 coeff_modulus부터 사용함. "
   ]
  },
  {
   "cell_type": "code",
   "execution_count": 4,
   "id": "d378303c",
   "metadata": {},
   "outputs": [
    {
     "name": "stdout",
     "output_type": "stream",
     "text": [
      "----> Level (chain index):  4\n",
      " ...... key_context_data()\n",
      "      parms_id:  [2796926214238341906, 7385196832706630708, 1778331432907072121, 9574839751679865602]\n",
      "      coeff_modulus primes: \n"
     ]
    }
   ],
   "source": [
    "context_data = context.key_context_data()\n",
    "print(\"----> Level (chain index): \",context_data.chain_index())\n",
    "print(\" ...... key_context_data()\")\n",
    "print(\"      parms_id: \", context_data.parms_id())\n",
    "print(\"      coeff_modulus primes: \")"
   ]
  },
  {
   "cell_type": "code",
   "execution_count": 7,
   "id": "60f3cf58",
   "metadata": {},
   "outputs": [
    {
     "name": "stdout",
     "output_type": "stream",
     "text": [
      "----> Level (chain index):  4\n",
      "      parms_id:  [2796926214238341906, 7385196832706630708, 1778331432907072121, 9574839751679865602]\n",
      "      coeff_modulus primes: \n",
      "----> Level (chain index):  3\n",
      ".... first_context_data()\n",
      "----> Level (chain index):  2\n",
      "      parms_id:  [9611362035343820607, 16250750482064473934, 11666325943188447289, 11197906540159540193]\n",
      "      coeff_modulus primes: \n",
      "----> Level (chain index):  1\n",
      "      parms_id:  [8338375294373729721, 6255090713888968186, 9221042086196212239, 13262945982911515329]\n",
      "      coeff_modulus primes: \n",
      "----> Level (chain index):  0\n",
      ".... last_context_data()\n",
      "End of chanin reached\n"
     ]
    }
   ],
   "source": [
    "while context_data:\n",
    "    print(\"----> Level (chain index): \",context_data.chain_index())\n",
    "    if context_data.parms_id() == context.first_parms_id():\n",
    "        print(\".... first_context_data()\")\n",
    "    elif context_data.parms_id() == context.last_parms_id():\n",
    "        print(\".... last_context_data()\")\n",
    "    else:\n",
    "        print(\"      parms_id: \", context_data.parms_id())\n",
    "        print(\"      coeff_modulus primes: \")\n",
    "        \n",
    "    context_data = context_data.next_context_data()\n",
    "print(\"End of chanin reached\")"
   ]
  },
  {
   "cell_type": "code",
   "execution_count": 8,
   "id": "e8603ca2",
   "metadata": {},
   "outputs": [],
   "source": [
    "keygen = seal.KeyGenerator(context)\n",
    "\n",
    "secret_key = keygen.secret_key()\n",
    "public_key = keygen.create_public_key()\n",
    "relin_keys = keygen.create_relin_keys()"
   ]
  },
  {
   "cell_type": "code",
   "execution_count": 9,
   "id": "f8ca002b",
   "metadata": {},
   "outputs": [
    {
     "name": "stdout",
     "output_type": "stream",
     "text": [
      "[2796926214238341906, 7385196832706630708, 1778331432907072121, 9574839751679865602] [2796926214238341906, 7385196832706630708, 1778331432907072121, 9574839751679865602] [2796926214238341906, 7385196832706630708, 1778331432907072121, 9574839751679865602]\n"
     ]
    }
   ],
   "source": [
    "print(secret_key.parms_id(), public_key.parms_id(), relin_keys.parms_id())"
   ]
  },
  {
   "cell_type": "markdown",
   "id": "d7987562",
   "metadata": {},
   "source": [
    "4 level이 있으므로, key도 4개씩 "
   ]
  },
  {
   "cell_type": "code",
   "execution_count": 10,
   "id": "fa1417a4",
   "metadata": {},
   "outputs": [],
   "source": [
    "encryptor = seal.Encryptor(context, public_key)\n",
    "evaluator = seal.Evaluator(context)\n",
    "decryptor = seal.Decryptor(context, secret_key)"
   ]
  },
  {
   "cell_type": "code",
   "execution_count": 12,
   "id": "a94fbdf9",
   "metadata": {},
   "outputs": [
    {
     "name": "stdout",
     "output_type": "stream",
     "text": [
      "[0, 0, 0, 0] Not set in BFV\n",
      "[2386594185047272216, 3177129986462177089, 5264335169243394227, 3608211254040463884]\n"
     ]
    }
   ],
   "source": [
    "ptxt = seal.Plaintext(\"1x^3 + 2x^2 + 3x^1 + 4\") # 이렇게 polynomial 식으로 넣어도 됨.\n",
    "enc = encryptor.encrypt(ptxt)\n",
    "\n",
    "print(ptxt.parms_id(), \"Not set in BFV\")\n",
    "print(enc.parms_id())"
   ]
  },
  {
   "cell_type": "markdown",
   "id": "9b285dd1",
   "metadata": {},
   "source": [
    "## Modulus switching\n",
    "\n",
    "위에서 확인한 여러 level의 parameter chain을 활용.\n",
    "#### <modulus switching을 쓰는 이유>\n",
    "ctxt의 size를 줄여서 계산을 빠르게 함... modulus switch는 BFV보다 CKKS에서 훨씬 중요... Tutorial 4 참고. \n",
    "\n",
    "`Evaluator.mod_switch_to_next()`"
   ]
  },
  {
   "cell_type": "code",
   "execution_count": 14,
   "id": "d2f2604f",
   "metadata": {},
   "outputs": [
    {
     "name": "stdout",
     "output_type": "stream",
     "text": [
      "----> Level (chain index):  3\n",
      "      parms_id:  [2386594185047272216, 3177129986462177089, 5264335169243394227, 3608211254040463884]\n",
      "      Noise budget at this level 132\n",
      "Modulus switching\n",
      "----> Level (chain index):  2\n",
      "      parms_id:  [9611362035343820607, 16250750482064473934, 11666325943188447289, 11197906540159540193]\n",
      "      Noise budget at this level 82\n",
      "Modulus switching\n",
      "----> Level (chain index):  1\n",
      "      parms_id:  [8338375294373729721, 6255090713888968186, 9221042086196212239, 13262945982911515329]\n",
      "      Noise budget at this level 52\n",
      "Modulus switching\n",
      "----> Level (chain index):  0\n",
      "      parms_id:  [12645946865612918007, 3410116064097512307, 265341692546732382, 11895432757488484810]\n",
      "      Noise budget at this level 22\n",
      "End of chanin reached\n"
     ]
    }
   ],
   "source": [
    "context_data = context.first_context_data()\n",
    "\n",
    "while context_data.next_context_data():\n",
    "    print(\"----> Level (chain index): \",context_data.chain_index())\n",
    "    print(\"      parms_id: \", context_data.parms_id())\n",
    "    print(\"      Noise budget at this level\", decryptor.invariant_noise_budget(enc))\n",
    "    \n",
    "    print(\"Modulus switching\")\n",
    "    evaluator.mod_switch_to_next_inplace(enc)\n",
    "    context_data = context_data.next_context_data()\n",
    "    \n",
    "\n",
    "print(\"----> Level (chain index): \",context_data.chain_index())\n",
    "print(\"      parms_id: \", context_data.parms_id())\n",
    "print(\"      Noise budget at this level\", decryptor.invariant_noise_budget(enc))\n",
    "print(\"End of chanin reached\")"
   ]
  },
  {
   "cell_type": "markdown",
   "id": "cd5fe557",
   "metadata": {},
   "source": [
    "Noise budget이 (앞으로 계산이 필요한 만큼) 점진적으로 줄어들었음. ctxt의 크기가 coefficient modulus에 linearly depend하므로 그만큼 noise consumption을 줄일 수 있음.   "
   ]
  },
  {
   "cell_type": "code",
   "execution_count": 19,
   "id": "15ab6d13",
   "metadata": {},
   "outputs": [
    {
     "name": "stdout",
     "output_type": "stream",
     "text": [
      "Compute the 8th power\n",
      "Noise budget fresh: 132\n",
      "Noise budget of the 2nd power: 100\n",
      "Noise budget of the 4nd power: 67\n"
     ]
    }
   ],
   "source": [
    "enc_x = encryptor.encrypt(ptxt)\n",
    "print(\"Compute the 8th power\")\n",
    "print(\"Noise budget fresh:\", decryptor.invariant_noise_budget(enc_x))\n",
    "evaluator.square_inplace(enc_x)\n",
    "evaluator.relinearize_inplace(enc_x, relin_keys)\n",
    "print(\"Noise budget of the 2nd power:\", decryptor.invariant_noise_budget(enc_x))\n",
    "evaluator.square_inplace(enc_x)\n",
    "evaluator.relinearize_inplace(enc_x, relin_keys)\n",
    "print(\"Noise budget of the 4nd power:\", decryptor.invariant_noise_budget(enc_x))"
   ]
  },
  {
   "cell_type": "markdown",
   "id": "f8a56dab",
   "metadata": {},
   "source": [
    "몇 번의 계산 후에는 modulus swith해도 noise budget이 더 안 내려감. (67 -> 67)  \n",
    "Q:'몇 번의' 계산이란 무엇인가..? "
   ]
  },
  {
   "cell_type": "code",
   "execution_count": 20,
   "id": "81a02392",
   "metadata": {},
   "outputs": [
    {
     "name": "stdout",
     "output_type": "stream",
     "text": [
      "Noise budget afte modulus switching: 67\n"
     ]
    }
   ],
   "source": [
    "evaluator.mod_switch_to_next_inplace(enc_x)\n",
    "print(\"Noise budget afte modulus switching:\", decryptor.invariant_noise_budget(enc_x))"
   ]
  },
  {
   "cell_type": "code",
   "execution_count": 21,
   "id": "d59c6b1e",
   "metadata": {},
   "outputs": [
    {
     "name": "stdout",
     "output_type": "stream",
     "text": [
      "Noise budget of the 8th power 34\n",
      "Noise budget after modulus switching 34\n"
     ]
    }
   ],
   "source": [
    "evaluator.square_inplace(enc_x)\n",
    "evaluator.relinearize_inplace(enc_x, relin_keys)\n",
    "print(\"Noise budget of the 8th power\", decryptor.invariant_noise_budget(enc_x))\n",
    "evaluator.mod_switch_to_next_inplace(enc_x)\n",
    "print(\"Noise budget after modulus switching\", decryptor.invariant_noise_budget(enc_x))\n"
   ]
  },
  {
   "cell_type": "code",
   "execution_count": 22,
   "id": "72bbc64d",
   "metadata": {},
   "outputs": [
    {
     "name": "stdout",
     "output_type": "stream",
     "text": [
      "result (hex): 1x^24 + 10x^23 + 88x^22 + 330x^21 + EFCx^20 + 3A30x^19 + C0B8x^18 + 22BB0x^17 + 58666x^16 + C88D0x^15 + 9C377x^14 + F4C0Ex^13 + E8B38x^12 + 5EE89x^11 + F8BFFx^10 + 30304x^9 + 5B9D4x^8 + 12653x^7 + 4DFB5x^6 + 879F8x^5 + 825FBx^4 + F1FFEx^3 + 3FFFFx^2 + 60000x^1 + 10000\n"
     ]
    }
   ],
   "source": [
    "recovered = decryptor.decrypt(enc_x)\n",
    "print(\"result (hex):\", recovered.to_string())\n",
    "# 맞겠지 뭐..."
   ]
  },
  {
   "cell_type": "markdown",
   "id": "294d89e2",
   "metadata": {},
   "source": [
    "마지막으로, modulus chain을 안 만들고싶으면   \n",
    "`context = SEALContext(parms, False)`\n",
    "\n",
    "\n",
    "끝."
   ]
  }
 ],
 "metadata": {
  "kernelspec": {
   "display_name": "Python 3 (ipykernel)",
   "language": "python",
   "name": "python3"
  },
  "language_info": {
   "codemirror_mode": {
    "name": "ipython",
    "version": 3
   },
   "file_extension": ".py",
   "mimetype": "text/x-python",
   "name": "python",
   "nbconvert_exporter": "python",
   "pygments_lexer": "ipython3",
   "version": "3.9.7"
  }
 },
 "nbformat": 4,
 "nbformat_minor": 5
}
