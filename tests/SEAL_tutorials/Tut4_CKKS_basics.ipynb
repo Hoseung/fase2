{
 "cells": [
  {
   "cell_type": "markdown",
   "id": "48bf673c",
   "metadata": {},
   "source": [
    "# Rescaling (done by switching modulus)\n",
    "\n",
    "Rescaling(modulus switching)이랑 relinearizaion이랑 다름! \n",
    "Modulus switching을 하면 coeff_modulus에서 prime이 하나씩 사라지고, side-effect로 ctxt의 스케일이 prime만큼씩 줄어듬. (scale은 significand의 크기, 즉 계산의 정확도를 결정)  \n",
    "따라서 coeff_modulus의 prime들을 잘~~ 정해줘야함.  \n",
    "coeff_modulus = [p1,p2,p3,p4,p5]라고 하면, 한번 곱하기를 할 때마다 /p4 /p3 /p2 /p1 만큼씩 작아짐.  \n",
    "반대로, ctxt끼리 곱하기가 된다면 둘의 scale만큼 scale이 커짐.  \n",
    "제곱을 할 경우, scale -> scale^2/p로 바뀜. 이 과정에서 scale이 어느정도 유지되도록 하는게 중요. \n",
    "\n",
    "initial scale S와 prime P를 비슷한 크기로 두면 계산 depth가 깊어지면서 scale이 유지될 수 있음. \n",
    "\n",
    "### CKKS coeff modulus bits 결정\n",
    "1. 첫 번째 prime은 60bit 권장. Multiplicative depth를 정확히 맞췄다고 가정할 때, 마지막으로 남는 prime이 이 값임. 이 값이 마지막 ctxt의 scale보다 몇 bit 더 커야 decrypt후의 정확도를 보장할 수 있음. \n",
    "2. last prime (special prime)도 60bit 권장. Special prime은 prime중 가장 크거나 같아야함.\n",
    "3. 중간 prime들은 서로 비슷한 값으로. Scale이 곱해서 커지고, mod switch해서 줄어드는 과정을 거치며 가능한 일정하게 유지. \n",
    "\n",
    "예) [60, 40, 40, 40, 60]\n",
    "\n",
    "\n",
    "\n",
    "\n",
    "\n",
    "\n",
    "### (!) rescale_to_next_inplace Vs.  mod_switch_to_inplace\n",
    "sss\n"
   ]
  },
  {
   "cell_type": "code",
   "execution_count": 1,
   "id": "e4263653",
   "metadata": {},
   "outputs": [],
   "source": [
    "import numpy as np\n",
    "from fase import seal"
   ]
  },
  {
   "cell_type": "code",
   "execution_count": 2,
   "id": "0d6fbf09",
   "metadata": {},
   "outputs": [],
   "source": [
    "parms = seal.EncryptionParameters(seal.scheme_type.ckks)\n",
    "poly_modulus_degree = 8192\n",
    "parms.set_poly_modulus_degree(poly_modulus_degree)\n",
    "parms.set_coeff_modulus(seal.CoeffModulus.Create(poly_modulus_degree, [60, 40, 40, 60]))"
   ]
  },
  {
   "cell_type": "code",
   "execution_count": 3,
   "id": "0eac9fbe",
   "metadata": {},
   "outputs": [],
   "source": [
    "# ciphertext를 40bit 만큼 키울 것.\n",
    "# Initial coeffModulus가 60bit이므로 40bit은 significand, 20bit은 exponent....?\n",
    "# 몰라 헷갈려\n",
    "# encoder.encode에서 scale = float을 기대함. 2**40하면 integer라 에러. \n",
    "# 근데 에러가 \"E101: Number of dimensions must be one\"라고 나와서 헷갈리니 주의. \n",
    "scale = 2.**40 \n",
    "context = seal.SEALContext(parms)"
   ]
  },
  {
   "cell_type": "code",
   "execution_count": 4,
   "id": "cbb7f7bf",
   "metadata": {},
   "outputs": [
    {
     "name": "stdout",
     "output_type": "stream",
     "text": [
      "Number of slots: 4096\n"
     ]
    }
   ],
   "source": [
    "# Generate keys and initiate Agents\n",
    "keygen = seal.KeyGenerator(context)\n",
    "secret_key = keygen.secret_key()\n",
    "public_key = keygen.create_public_key()\n",
    "relin_keys = keygen.create_relin_keys()\n",
    "Galoiskeys = keygen.create_galois_keys()\n",
    "\n",
    "encryptor = seal.Encryptor(context, public_key) # Use public key\n",
    "evaluator = seal.Evaluator(context)\n",
    "decryptor = seal.Decryptor(context, secret_key) # Use secret key\n",
    "encoder   = seal.CKKSEncoder(context)\n",
    "\n",
    "slot_count = encoder.slot_count()\n",
    "print(\"Number of slots:\", slot_count)"
   ]
  },
  {
   "cell_type": "markdown",
   "id": "f33c72f0",
   "metadata": {},
   "source": [
    "Slot number 만큼의 vector 계산을 한번에 할 수 있음. "
   ]
  },
  {
   "cell_type": "code",
   "execution_count": 5,
   "id": "1924d03d",
   "metadata": {},
   "outputs": [
    {
     "name": "stdout",
     "output_type": "stream",
     "text": [
      "(4096,)\n"
     ]
    }
   ],
   "source": [
    "vec = np.random.rand(slot_count)\n",
    "print(vec.shape)"
   ]
  },
  {
   "cell_type": "markdown",
   "id": "50d86053",
   "metadata": {},
   "source": [
    "Evaluating polynomial $$\\pi \\, x^3 + 0.4x + 1$$"
   ]
  },
  {
   "cell_type": "code",
   "execution_count": 6,
   "id": "819c22b6",
   "metadata": {},
   "outputs": [],
   "source": [
    "p_coeff3 = encoder.encode(np.pi, scale)\n",
    "p_coeff1 = encoder.encode(0.4, scale)\n",
    "p_coeff0 = encoder.encode(1., scale)"
   ]
  },
  {
   "cell_type": "code",
   "execution_count": 7,
   "id": "b2e01caa",
   "metadata": {},
   "outputs": [],
   "source": [
    "x_plain = encoder.encode(vec, scale)\n",
    "x_enc = encryptor.encrypt(x_plain)"
   ]
  },
  {
   "cell_type": "code",
   "execution_count": 8,
   "id": "03367cc8",
   "metadata": {},
   "outputs": [
    {
     "name": "stdout",
     "output_type": "stream",
     "text": [
      "Scale after square 80.0\n",
      "Scale after rescaling 40.00000019347918\n"
     ]
    }
   ],
   "source": [
    "# First calculate x^2 (then multiply by x again.)\n",
    "x3_enc = evaluator.square(x_enc)\n",
    "evaluator.relinearize_inplace(x3_enc, relin_keys) # relinearization\n",
    "print(\"Scale after square\", np.log2(x3_enc.scale()))\n",
    "\n",
    "# Rescale\n",
    "evaluator.rescale_to_next_inplace(x3_enc)\n",
    "print(\"Scale after rescaling\", np.log2(x3_enc.scale()))"
   ]
  },
  {
   "cell_type": "markdown",
   "id": "d973523b",
   "metadata": {},
   "source": [
    "80bit에서 coeff modulus 하나인 40bit 만큼이 줄어듬. (나누기 2가 아니라 -40임)"
   ]
  },
  {
   "cell_type": "code",
   "execution_count": 9,
   "id": "1000b991",
   "metadata": {},
   "outputs": [
    {
     "name": "stdout",
     "output_type": "stream",
     "text": [
      "Scale of PI * x before rescale 80.0\n",
      "Scale of PI * x after rescale 40.00000019347918\n"
     ]
    }
   ],
   "source": [
    "x1_coeff3 = evaluator.multiply_plain(x_enc, p_coeff3)\n",
    "print(\"Scale of PI * x before rescale\", np.log2(x1_coeff3.scale()))\n",
    "evaluator.rescale_to_next_inplace(x1_coeff3)\n",
    "print(\"Scale of PI * x after rescale\", np.log2(x1_coeff3.scale()))"
   ]
  },
  {
   "cell_type": "markdown",
   "id": "65bc64e2",
   "metadata": {},
   "source": [
    "#### multipying two cipher texts \n",
    "두 ciphertext의 스케일과 level이 동일해야 곱하기 가능. "
   ]
  },
  {
   "cell_type": "code",
   "execution_count": 10,
   "id": "2f874c68",
   "metadata": {},
   "outputs": [
    {
     "name": "stdout",
     "output_type": "stream",
     "text": [
      "Scale of pi*x3 before rescaling 24.08239976960457\n",
      "Scale of pi*x3 after rescaling 12.041200234262169\n"
     ]
    }
   ],
   "source": [
    "evaluator.multiply_inplace(x3_enc, x1_coeff3)\n",
    "evaluator.relinearize_inplace(x3_enc, relin_keys) # c * c 다음엔 relinearize\n",
    "print(\"Scale of pi*x3 before rescaling\", np.log10(x3_enc.scale()))\n",
    "evaluator.rescale_to_next_inplace(x3_enc)\n",
    "print(\"Scale of pi*x3 after rescaling\", np.log10(x3_enc.scale()))"
   ]
  },
  {
   "cell_type": "code",
   "execution_count": 11,
   "id": "9cbf75a4",
   "metadata": {},
   "outputs": [
    {
     "name": "stdout",
     "output_type": "stream",
     "text": [
      "Scale of 0.4x before rescaling 24.082399653118497\n",
      "Scale of 0.4x after rescaling 12.041199884802285\n"
     ]
    }
   ],
   "source": [
    "# 1차항 \n",
    "evaluator.multiply_plain_inplace(x_enc, p_coeff1) \n",
    "print(\"Scale of 0.4x before rescaling\", np.log10(x_enc.scale()))\n",
    "evaluator.rescale_to_next_inplace(x_enc)\n",
    "print(\"Scale of 0.4x after rescaling\", np.log10(x_enc.scale()))"
   ]
  },
  {
   "cell_type": "markdown",
   "id": "6b3f692e",
   "metadata": {},
   "source": [
    "#### summation / subtraction \n",
    "더하기 빼기 하려면 항들의 **scale**과 encryption parameter가 같아야함.  \n",
    "**하지만** rescale (modulus switching)을 하느라 서로 다른 mudulus를 사용했음.  (scale도 미묘하게 다름..)"
   ]
  },
  {
   "cell_type": "code",
   "execution_count": 13,
   "id": "9b43f36d",
   "metadata": {},
   "outputs": [
    {
     "name": "stdout",
     "output_type": "stream",
     "text": [
      "Parameters used by all three terms are different\n",
      "Modulus chain index for x3_enc: 0\n",
      "Modulus chain index for x_enc: 1\n",
      "Modulus chain index for p_coeff0: 2\n"
     ]
    }
   ],
   "source": [
    "print(\"Parameters used by all three terms are different\")\n",
    "print(\"Modulus chain index for x3_enc:\", \n",
    "     context.get_context_data(x3_enc.parms_id()).chain_index())\n",
    "print(\"Modulus chain index for x_enc:\", \n",
    "     context.get_context_data(x_enc.parms_id()).chain_index())\n",
    "print(\"Modulus chain index for p_coeff0:\", \n",
    "     context.get_context_data(p_coeff0.parms_id()).chain_index())"
   ]
  },
  {
   "cell_type": "markdown",
   "id": "294e9679",
   "metadata": {},
   "source": [
    "#### 지금까지 일어난 일 정리 \n",
    "- Product x^2 has scale 2^80 and is at level 2;\n",
    "- Product PI*x has scale 2^80 and is at level 2;\n",
    "- We rescaled both down to scale 2^80/P_2 and level 1;\n",
    "- Product PI*x^3 has scale (2^80/P_2)^2;\n",
    "- We rescaled it down to scale (2^80/P_2)^2/P_1 and level 0;\n",
    "- Product 0.4*x has scale 2^80;\n",
    "- We rescaled it down to scale 2^80/P_2 and level 1;\n",
    "- The contant term 1 has scale 2^40 and is at level 2.\n",
    "\n",
    "Although the scales of all three terms are approximately 2^40, ***their exact\n",
    "values are different**, hence they cannot be added together."
   ]
  },
  {
   "cell_type": "code",
   "execution_count": 13,
   "id": "b952d828",
   "metadata": {},
   "outputs": [
    {
     "name": "stdout",
     "output_type": "stream",
     "text": [
      "Exact scales of all three terms are different\n",
      "Exact sccle in PI*x^3 : 40.000001354\n",
      "Exact sccle in 0.4x : 40.000000193\n",
      "Exact sccle in 1 : 40.000000000\n"
     ]
    }
   ],
   "source": [
    "print(\"Exact scales of all three terms are different\")\n",
    "print(\"Exact scales in PI*x^3 : {:.9f}\".format(np.log2(x3_enc.scale())))\n",
    "print(\"Exact scales in 0.4x : {:.9f}\".format(np.log2(x_enc.scale())))\n",
    "print(\"Exact scales in 1 : {:.9f}\".format(np.log2(p_coeff0.scale())))"
   ]
  },
  {
   "cell_type": "markdown",
   "id": "df74a5a6",
   "metadata": {},
   "source": [
    "#### 우선 scale을 맞추려면\n",
    "1. 미묘하게 다른 scale을 하나로 통일하고, 그만큼의 에러를 감수 \n",
    "2. 1을 적절한 parameter로 encode하고 0.4x와 마찬가지로 2^80/P_2로 rescale해서 PI*x^3과 scale을 정확히 맞춰줌 (뭐래..?)\n",
    "\n",
    "여기선 1번 방법 사용 -- neural network도 저정도 에러 무시할 수 있으니 1번으로 하면 될 듯. "
   ]
  },
  {
   "cell_type": "code",
   "execution_count": 14,
   "id": "bcd76b00",
   "metadata": {},
   "outputs": [],
   "source": [
    "# Scale 강제로 맞추기.\n",
    "x3_enc.scale(2.**40)\n",
    "x_enc.scale(2.**40)"
   ]
  },
  {
   "cell_type": "code",
   "execution_count": 15,
   "id": "f93a9cbe",
   "metadata": {},
   "outputs": [
    {
     "name": "stdout",
     "output_type": "stream",
     "text": [
      " Normalize encryption parameters to the lowest level\n"
     ]
    }
   ],
   "source": [
    "# encryption parameter 문제 -> Rescale 없는 modulus switch\n",
    "print(\" Normalize encryption parameters to the lowest level\")\n",
    "last_parms_id = x3_enc.parms_id()\n",
    "evaluator.mod_switch_to_inplace(x_enc, last_parms_id)\n",
    "evaluator.mod_switch_to_inplace(p_coeff0, last_parms_id)"
   ]
  },
  {
   "cell_type": "code",
   "execution_count": 16,
   "id": "8f76536d",
   "metadata": {},
   "outputs": [
    {
     "name": "stdout",
     "output_type": "stream",
     "text": [
      "Compute PI*x^3 + 0.4*x + 1\n",
      "Decrypt the result\n",
      "[1.37068161 2.7374262  1.35776653 ... 1.13599606 4.19755745 1.48878392]\n"
     ]
    }
   ],
   "source": [
    "# Now all three cipher/plain texts are compatible.\n",
    "print(\"Compute PI*x^3 + 0.4*x + 1\")\n",
    "result = evaluator.add(x3_enc, x_enc)\n",
    "evaluator.add_plain_inplace(result, p_coeff0)\n",
    "\n",
    "print(\"Decrypt the result\")\n",
    "plain_result = decryptor.decrypt(result)\n",
    "decoded_result = encoder.decode(plain_result)\n",
    "print(decoded_result)"
   ]
  },
  {
   "cell_type": "code",
   "execution_count": 17,
   "id": "f8d26c64",
   "metadata": {},
   "outputs": [
    {
     "data": {
      "text/plain": [
       "array([1.37068139, 2.73742481, 1.35776632, ..., 1.13599601, 4.19755477,\n",
       "       1.48878361])"
      ]
     },
     "execution_count": 17,
     "metadata": {},
     "output_type": "execute_result"
    }
   ],
   "source": [
    "np.pi*vec**3 + 0.4*vec + 1"
   ]
  },
  {
   "cell_type": "code",
   "execution_count": null,
   "id": "feb7780d",
   "metadata": {},
   "outputs": [],
   "source": []
  }
 ],
 "metadata": {
  "kernelspec": {
   "display_name": "Python 3 (ipykernel)",
   "language": "python",
   "name": "python3"
  },
  "language_info": {
   "codemirror_mode": {
    "name": "ipython",
    "version": 3
   },
   "file_extension": ".py",
   "mimetype": "text/x-python",
   "name": "python",
   "nbconvert_exporter": "python",
   "pygments_lexer": "ipython3",
   "version": "3.9.7"
  }
 },
 "nbformat": 4,
 "nbformat_minor": 5
}
